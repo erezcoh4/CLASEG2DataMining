{
 "cells": [
  {
   "cell_type": "code",
   "execution_count": 1,
   "metadata": {},
   "outputs": [],
   "source": [
    "import numpy as np, pandas as pd, matplotlib.pyplot as plt\n",
    "import sys; sys.path.insert(0, '/Users/erezcohen/larlite/UserDev/mySoftware/MySoftwarePackage/mac/'); sys.path.insert(0, '../../EG2DataMiningPackage/')\n",
    "from my_tools import *\n",
    "from plot_tools import *\n",
    "from notebook_tools import *\n",
    "%matplotlib inline"
   ]
  },
  {
   "cell_type": "code",
   "execution_count": 2,
   "metadata": {},
   "outputs": [],
   "source": [
    "def print_output(particle=dict(), p=(1,1,1), v=(0,0,0), t_off=0 , flag=0):\n",
    "    '''\n",
    "    p is 3-momentum\n",
    "    '''\n",
    "    p_mag = np.sqrt( np.square(p[0]) + np.square(p[1]) + np.square(p[2]) ) \n",
    "    p_components = np.array(p)*1./p_mag\n",
    "    print '2'\n",
    "    print particle['pid'],' ',p_components[0],' ',p_components[1],' ',p_components[2],' ',p_mag\n",
    "    print particle['mass'],' ',particle['charge'],' '\n",
    "    print v[0],' ',v[1],' ',v[2],' ',t_off,' ',flag,' '\n",
    "    \n",
    "    \n",
    "def output2file(particle=dict(), p=(1,1,1), outputfile=None, v=(0,0,0), t_off=0 , flag=0):\n",
    "    '''\n",
    "    p is 3-momentum in cartesizan coordinates\n",
    "    '''\n",
    "    p_mag = np.sqrt( np.square(p[0]) + np.square(p[1]) + np.square(p[2]) ) \n",
    "    p_components = np.array(p)/p_mag\n",
    "    outputfile.write('%d'%particle['pid']+' %f'%p_components[0]+' %f'%p_components[1]+' %f'%p_components[2]+' %f'%p_mag+'\\n')\n",
    "    outputfile.write('%f'%particle['mass']+' %d'%particle['charge']+'\\n')\n",
    "    outputfile.write('%f'%v[0]+' %f'%v[1]+' %f'%v[2]+' %d'%t_off+' %d'%flag+'\\n')"
   ]
  },
  {
   "cell_type": "code",
   "execution_count": 3,
   "metadata": {},
   "outputs": [],
   "source": [
    "def print_event( Pe, Pprotons ):    \n",
    "    print_output( electron , Pe )\n",
    "    for Pp in Pprotons:\n",
    "        print_output( proton , Pp )  \n",
    "        \n",
    "def output_event( Pe=None, outputfile=None, Pprotons=None ):    \n",
    "    # momenta are in spherical coordinates\n",
    "    if Pprotons is not None:\n",
    "        Nparticles = 1 + len(Pprotons)\n",
    "    else:\n",
    "        Nparticles = 1 \n",
    "    outputfile.write('%d\\n'%Nparticles)\n",
    "    output2file( electron , Pe , outputfile)\n",
    "    if Pprotons is not None:\n",
    "        for Pp in Pprotons:\n",
    "            output2file( particle=proton , p=Pp , outputfile=outputfile)  "
   ]
  },
  {
   "cell_type": "markdown",
   "metadata": {},
   "source": [
    "# simulate $(e,e'p)$ with a electrons from data, and protons with uniformly distributed momentum in some range"
   ]
  },
  {
   "cell_type": "markdown",
   "metadata": {},
   "source": [
    "# run 5001: electron with a small angular and momentum range around the center of a sector: \n",
    "mom_tot[0] = gRandom->Uniform(2,2.5);     //Momentum Magnitude \n",
    "cost = gRandom->Uniform(0.7986,0.8387);  //Cosine of Theta \n",
    "phi = gRandom->Uniform(1.012,1.082);       //Phi"
   ]
  },
  {
   "cell_type": "code",
   "execution_count": 4,
   "metadata": {},
   "outputs": [],
   "source": [
    "hyperparameters = dict()\n",
    "hyperparameters['run'] = 5001"
   ]
  },
  {
   "cell_type": "code",
   "execution_count": 5,
   "metadata": {},
   "outputs": [
    {
     "name": "stdout",
     "output_type": "stream",
     "text": [
      "hyperparameters:\n",
      "{'min cos theta': 6.123233995736766e-17, 'run': 5001, 'min theta': 20, 'min phi rad': 0.0, 'max phi': 360, 'max p': 2.4, 'min p': 0.8, 'min phi': 0, 'min theta rad': 0.3490658503988659, 'max cos theta': 0.93969262078590843, 'max phi rad': 6.283185307179586, 'max theta rad': 1.5707963267948966, 'max theta': 90}\n"
     ]
    }
   ],
   "source": [
    "hyperparameters['min p'] = 0.8\n",
    "hyperparameters['max p'] = 2.4\n",
    "hyperparameters['min theta'] = 20 # deg.\n",
    "hyperparameters['max theta'] = 90 # deg.\n",
    "hyperparameters['min phi'] = 0 # deg.\n",
    "hyperparameters['max phi'] = 360 # deg.\n",
    "for angle in ['phi','theta']:\n",
    "    hyperparameters['min '+angle+' rad'] = (np.pi/180.)*hyperparameters['min '+angle]\n",
    "    hyperparameters['max '+angle+' rad'] = (np.pi/180.)*hyperparameters['max '+angle]\n",
    "hyperparameters['max cos theta'] = np.cos(hyperparameters['min theta rad']) \n",
    "hyperparameters['min cos theta'] = np.cos(hyperparameters['max theta rad']) \n",
    "print 'hyperparameters:\\n',hyperparameters"
   ]
  },
  {
   "cell_type": "code",
   "execution_count": 6,
   "metadata": {},
   "outputs": [],
   "source": [
    "electron = dict({'mass':0.000511,'charge':-1,'pid':11})\n",
    "proton = dict({'mass':0.938272,'charge':1,'pid':2212})"
   ]
  },
  {
   "cell_type": "code",
   "execution_count": 7,
   "metadata": {},
   "outputs": [
    {
     "name": "stdout",
     "output_type": "stream",
     "text": [
      "266 events in C12 data\n",
      "88 events in Al27 data\n",
      "227 events in Fe56 data\n",
      "45 events in Pb208 data\n"
     ]
    }
   ],
   "source": [
    "columns = ['Pe_P','Pe_theta','Pe_phi','Pe_x','Pe_y','Pe_z'\n",
    "           ,'DPePrec_x','DPePrec_y','DPePrec_z','DPePrec_phi','DPePrec_theta','DPePrec_P'\n",
    "           ,'Plead_P','Plead_theta','Plead_phi'\n",
    "           ,'Precoil_P','Precoil_theta','Precoil_phi','Prec_x','Prec_y','Prec_z']\n",
    "data=dict()\n",
    "N_data_events = 0\n",
    "for target in ['C12','Al27','Fe56','Pb208']:\n",
    "    data[target] = read_root(\"/Users/erezcohen/Desktop/DataMining/OrAnalysisTrees/AdjustedTrees/SRC_e2p_adjusted_300Pmiss600_%s_PrecFiducials.root\"%target, columns=columns )\n",
    "    print len(data[target]),'events in',target,'data'\n",
    "    N_data_events += len(data[target])\n",
    "dataset = pd.concat([data['C12'],data['Al27'],data['Fe56'],data['Pb208']])    "
   ]
  },
  {
   "cell_type": "code",
   "execution_count": 8,
   "metadata": {},
   "outputs": [
    {
     "data": {
      "text/plain": [
       "Index([u'Pe_P', u'Pe_theta', u'Pe_phi', u'Pe_x', u'Pe_y', u'Pe_z',\n",
       "       u'DPePrec_x', u'DPePrec_y', u'DPePrec_z', u'DPePrec_phi',\n",
       "       u'DPePrec_theta', u'DPePrec_P', u'Plead_P', u'Plead_theta',\n",
       "       u'Plead_phi', u'Precoil_P', u'Precoil_theta', u'Precoil_phi', u'Prec_x',\n",
       "       u'Prec_y', u'Prec_z'],\n",
       "      dtype='object')"
      ]
     },
     "execution_count": 8,
     "metadata": {},
     "output_type": "execute_result"
    }
   ],
   "source": [
    "A = 56\n",
    "events = data['Fe56']\n",
    "events.columns"
   ]
  },
  {
   "cell_type": "code",
   "execution_count": 9,
   "metadata": {},
   "outputs": [],
   "source": [
    "def MagThetaPhi_2_xyz( p , theta , phi ):\n",
    "    x = p*np.sin(theta)*np.cos(phi)\n",
    "    y = p*np.sin(theta)*np.sin(phi)\n",
    "    z = p*np.cos(theta)\n",
    "    return np.array([x,y,z])\n",
    "\n",
    "def xyz_2_MagThetaPhi( x, y, z ):\n",
    "    p = Mag3vec( ([x,y,z]) )\n",
    "    theta = np.arccos( z/p )\n",
    "    phi = np.arctan2( y, x )\n",
    "    return np.array([p,theta,phi])\n",
    "\n",
    "def Mag3vec( vect ):\n",
    "    return np.sqrt(np.sum(np.square(vect)))"
   ]
  },
  {
   "cell_type": "code",
   "execution_count": 13,
   "metadata": {},
   "outputs": [
    {
     "name": "stdout",
     "output_type": "stream",
     "text": [
      "\n",
      "done. wrote 1000 events into\n",
      "/Users/erezcohen/Desktop/DataMining/GSIM/eg_txtfiles/run5001.txt\n"
     ]
    }
   ],
   "source": [
    "hyperparameters['N events'] = 1000\n",
    "debug = 0 \n",
    "generated_df = pd.DataFrame()\n",
    "outputfile = open('/Users/erezcohen/Desktop/DataMining/GSIM/eg_txtfiles/run%d.txt'%hyperparameters['run'],'w')\n",
    "for i_event in range(hyperparameters['N events']):\n",
    "#     if i_event%(hyperparameters['N events']/10)==0: print '%.0f'%(100*float(i_event)/hyperparameters['N events'])+'%'\n",
    "    # (e,e'pp) from a random event in our pp-cm data\n",
    "    i_event = np.random.randint(0,len(events))\n",
    "    event = events.ix[i_event]\n",
    "    if debug>1: print event\n",
    "    Pe = np.array( [event['Pe_x'], event['Pe_y'] , event['Pe_z'] ] )\n",
    "    Ee = np.sqrt( np.square(511.e-6) + Mag3vec(Pe) )  \n",
    "    q = np.array( [- event['Pe_x'], - event['Pe_y'] , 5.014 - event['Pe_z'] ] )\n",
    "\n",
    "    \n",
    "    Plead = MagThetaPhi_2_xyz( event['Plead_P'], event['Plead_theta'] , event['Plead_phi'] )    \n",
    "    Pmiss = Plead - q\n",
    "    P2 = np.array( [event['Prec_x'], event['Prec_y'] , event['Prec_z'] ] )\n",
    "    [P2_P,P2_theta,P2_phi] = xyz_2_MagThetaPhi( event['Prec_x'], event['Prec_y'] , event['Prec_z'] )\n",
    "    \n",
    "    # third proton in box defined by Misak as case-I:\n",
    "    # low - Emiss and low - \\theta_23\n",
    "    # we take 0<Emiss<0.5 GeV, and 0 < \\theta_23 < 45\n",
    "    Emiss = np.random.uniform(0,0.5)\n",
    "    theta_23 = np.random.uniform(0,np.pi/4)\n",
    "    # Emiss = Ebeam - Ee - Plead - Mp - Pmiss^2/(2 Mp (A-1))\n",
    "    Emiss = 5.014 - Ee - Mag3vec(Plead) - 938.e-3 - np.square(Mag3vec(Pmiss))/(2*938.e-3*(A-1))\n",
    "    P3_P = P2_P\n",
    "    P3_phi = P2_phi\n",
    "    P3_theta = P2_theta + theta_23\n",
    "    P3 = MagThetaPhi_2_xyz( P3_P , P3_theta , P3_phi )\n",
    "\n",
    "    # output to text file\n",
    "    output_event( Pe=Pe, Pprotons=[Plead, P2, P3] , outputfile=outputfile )\n",
    "    \n",
    "    generated_df=generated_df.append({'Plead':Mag3vec(Plead),'Emiss':Emiss,'theta_23':theta_23\n",
    "                                      ,'P2_P':P2_P,'P2_theta':P2_theta,'P2_phi':P2_phi\n",
    "                                      ,'P3_P':P3_P,'P3_theta':P3_theta,'P3_phi':P3_phi\n",
    "                                      ,'Pe_P':Mag3vec(Pe)\n",
    "                                      ,'Pe_x':Pe[0],'Pe_y':Pe[1],'Pe_z':Pe[2]\n",
    "                                     },ignore_index=True)\n",
    "    \n",
    "print\n",
    "print 'done. wrote',len(generated_df),'events into'\n",
    "print '/Users/erezcohen/Desktop/DataMining/GSIM/eg_txtfiles/run%d.txt'%hyperparameters['run'] "
   ]
  },
  {
   "cell_type": "code",
   "execution_count": 14,
   "metadata": {},
   "outputs": [
    {
     "data": {
      "image/png": "[encoded data removed]",
      "text/plain": [
       "<matplotlib.figure.Figure at 0x122924b90>"
      ]
     },
     "metadata": {},
     "output_type": "display_data"
    }
   ],
   "source": [
    "# plt.hist(generated_df['Emiss'],bins=linspace(0,5,30));\n",
    "plot_2d_hist(generated_df['Emiss'],180./np.pi*generated_df['theta_23']\n",
    "             ,bins=(linspace(0,1,30),linspace(0,180,30)));"
   ]
  },
  {
   "cell_type": "code",
   "execution_count": null,
   "metadata": {
    "collapsed": true
   },
   "outputs": [],
   "source": []
  }
 ],
 "metadata": {
  "kernelspec": {
   "display_name": "Python 2",
   "language": "python",
   "name": "python2"
  },
  "language_info": {
   "codemirror_mode": {
    "name": "ipython",
    "version": 2
   },
   "file_extension": ".py",
   "mimetype": "text/x-python",
   "name": "python",
   "nbconvert_exporter": "python",
   "pygments_lexer": "ipython2",
   "version": "2.7.11"
  }
 },
 "nbformat": 4,
 "nbformat_minor": 2
}
