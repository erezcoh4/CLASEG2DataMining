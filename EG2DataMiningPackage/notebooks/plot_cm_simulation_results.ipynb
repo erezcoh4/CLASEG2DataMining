{
 "cells": [
  {
   "cell_type": "markdown",
   "metadata": {},
   "source": [
    "# analysis of pp-SRC c.m. momentum simulations"
   ]
  },
  {
   "cell_type": "markdown",
   "metadata": {},
   "source": [
    "# imports"
   ]
  },
  {
   "cell_type": "code",
   "execution_count": 1,
   "metadata": {
    "collapsed": false
   },
   "outputs": [],
   "source": [
    "from notebook_tools import *\n",
    "%matplotlib inline"
   ]
  },
  {
   "cell_type": "markdown",
   "metadata": {},
   "source": [
    "# read data"
   ]
  },
  {
   "cell_type": "markdown",
   "metadata": {},
   "source": [
    "runs 20,000-30,000"
   ]
  },
  {
   "cell_type": "markdown",
   "metadata": {},
   "source": [
    "sims0 = pd.read_csv( '/Users/erezcohen/Desktop/DataMining/Analysis_DATA/ppSRCcm/simulation/runs20000to30000_NsigmaT_10_NSigmaZa1_5_NSigmaZa2_8_NMeanZa1_5_NMeanZa2_5_NRand_10_simulationruns_results.csv')"
   ]
  },
  {
   "cell_type": "markdown",
   "metadata": {},
   "source": [
    "runs 50,000 to 68,746"
   ]
  },
  {
   "cell_type": "markdown",
   "metadata": {},
   "source": [
    "sims = pd.read_csv('/Users/erezcohen/Desktop/DataMining/Analysis_DATA/ppSRCcm/simulation/runs50000to68746_NsigmaT_15_NSigmaZa1_10_NSigmaZa2_5_NMeanZa1_5_NMeanZa2_5_NRand_10_simulationruns_results.csv')"
   ]
  },
  {
   "cell_type": "markdown",
   "metadata": {},
   "source": [
    "runs 100,000 to 200800"
   ]
  },
  {
   "cell_type": "markdown",
   "metadata": {
    "collapsed": false
   },
   "source": [
    "sims = pd.read_csv('/Users/erezcohen/Desktop/DataMining/Analysis_DATA/ppSRCcm/simulation/runs100000to200799_10SigmaT_10SigmaZa1_10SigmaZa2_10MeanZa1_10MeanZa2_10NRand_results.csv')"
   ]
  },
  {
   "cell_type": "code",
   "execution_count": 59,
   "metadata": {
    "collapsed": false
   },
   "outputs": [
    {
     "name": "stderr",
     "output_type": "stream",
     "text": [
      "/usr/local/lib/python2.7/site-packages/IPython/core/interactiveshell.py:2723: DtypeWarning: Columns (1,124,127,135,136,142,163,165,166) have mixed types. Specify dtype option on import or set low_memory=False.\n",
      "  interactivity=interactivity, compiler=compiler, result=result)\n"
     ]
    }
   ],
   "source": [
    "sims = pd.read_csv('/Users/erezcohen/Desktop/DataMining/Analysis_DATA/ppSRCcm/simulation/runs500000to5018543_30SigmaT_5SigmaZa1_5SigmaZa2_5MeanZa1_5MeanZa2_10NRand_results.csv',na_filter=0.0)"
   ]
  },
  {
   "cell_type": "code",
   "execution_count": 7,
   "metadata": {
    "collapsed": false
   },
   "outputs": [],
   "source": [
    "def draw_PvalWeighting_Fit2Gaussian(var='SigmaX',xlabel='',\n",
    "                                    bins=50,\n",
    "                                    legend_loc='bbox',\n",
    "                                    target='12C',\n",
    "                                    do_fit_gaussian=True,\n",
    "                                    x_range = None,\n",
    "                                    y_range = None,\n",
    "                                    xtext = None , ytext=None):\n",
    "    \n",
    "    weights=[sims.run/sims.run,sims['Pval'+var+'_unweighted_'+target],sims['PvalTotal_unweighted_'+target]]#,sims.KSxPval]\n",
    "    weighting_labels=['generated','$Pval$ weighted','$Pval_{tot}$ weighted']#,'$KS_{tot}$ weighted']\n",
    "    histograms , bins = plot_1d_withoutandwithweight(sims['gen'+var],\n",
    "                                                     weights=weights,\n",
    "                                                     weighting_labels = weighting_labels,\n",
    "                                                     bins=bins,\n",
    "                                                     legend_loc=legend_loc,\n",
    "                                                     fontsize=20,\n",
    "                                                     xlabel=xlabel,\n",
    "                                                     x_range=x_range,                                                    \n",
    "                                                     y_range=y_range);\n",
    "    do_show_gaussians = [False , True , True , False]\n",
    "    \n",
    "    for hw,weight,weighting_label,do_show_gaussian in zip(histograms,weights,weighting_labels,do_show_gaussians):\n",
    "        mu = np.average(sims['gen'+var] , weights=weight)\n",
    "        variance = np.average((sims['gen'+var]-mu)**2, weights=weight)\n",
    "        sigma = np.sqrt(variance)\n",
    "                                                                           \n",
    "        if do_fit_gaussian and do_show_gaussian:\n",
    "            x = np.linspace(bins.min(),bins.max(),100)\n",
    "            y = mlab.normpdf( x, mu, sigma) # bins\n",
    "            ynormed = y*(hw.max()/y.max())\n",
    "            plt.plot(x, ynormed, '--', linewidth=2)\n",
    "        print weighting_label + ': \\n mean=%.3f , stdev=%.3f'%(mu,sigma)\n",
    "        \n",
    "    \n",
    "def draw_PvalWeighting_2d( df , v1 , v2 , bins=40 , weights=None , cmap='Greys' ,\n",
    "                          xlabel=None,ylabel=None ,\n",
    "                         figsize=(10,10),title=None):\n",
    "    fig,ax=plt.subplots(figsize=figsize)\n",
    "    plt.hist2d(df[v1],df[v2],bins=bins,weights=weights,cmap=cmap);\n",
    "    plt.colorbar()\n",
    "    set_axes( ax , x_label , y_label )\n",
    "    ax.set_title(title)\n",
    "    \n",
    "    \n",
    "def draw_all_PvalWeighting_2d(v1='SigmaZa1' , v2='SigmaZa2' ,\n",
    "                              xlabel='$\\\\sigma_{z}-a_{1}$',ylabel='$\\\\sigma_{z}-a_{2}$ [GeV/c]' ,\n",
    "                              bins=40,\n",
    "                              figsize=(10,10),\n",
    "                              weights=None,\n",
    "                              cmaps=None):\n",
    "    \n",
    "    for weight,cmap in zip(weights,cmaps):\n",
    "        print weight , cmap\n",
    "        title=weight\n",
    "        weight=sims[weight] if weight is not None else None\n",
    "        draw_PvalWeighting_2d( sims , 'gen'+v1 , 'gen'+v2 , bins=bins , weights=weight  , cmap=cmap ,\n",
    "                              xlabel=xlabel,ylabel=ylabel, figsize=figsize , title=title);\n"
   ]
  },
  {
   "cell_type": "markdown",
   "metadata": {},
   "source": [
    "# histograms of generated, and generated+weighted"
   ]
  },
  {
   "cell_type": "code",
   "execution_count": 54,
   "metadata": {
    "collapsed": false
   },
   "outputs": [],
   "source": [
    "# sims['PvalSigmaY_unweighted_12C'] = sims.PvalSigmaY_weighted_12C\n",
    "# sims['PvalSigmaY_unweighted_27Al'] = sims.PvalSigmaY_weighted_27Al\n",
    "sims['PvalSigmaY_unweighted_56Fe'] = sims.PvalSigmaY_weighted_56Fe\n",
    "# sims['PvalSigmaY_unweighted_208Pb'] = sims.PvalSigmaY_weighted_208Pb\n",
    "\n",
    "\n",
    "sims.to_csv('/Users/erezcohen/Desktop/DataMining/Analysis_DATA/ppSRCcm/simulation/runs500000to5018543_30SigmaT_5SigmaZa1_5SigmaZa2_5MeanZa1_5MeanZa2_10NRand_results.csv')"
   ]
  },
  {
   "cell_type": "code",
   "execution_count": 60,
   "metadata": {
    "collapsed": false
   },
   "outputs": [
    {
     "data": {
      "text/plain": [
       "0         \n",
       "1         \n",
       "2         \n",
       "3         \n",
       "4         \n",
       "5         \n",
       "6         \n",
       "7         \n",
       "8         \n",
       "9         \n",
       "10        \n",
       "11        \n",
       "12        \n",
       "13        \n",
       "14        \n",
       "15        \n",
       "16        \n",
       "17        \n",
       "18        \n",
       "19        \n",
       "20        \n",
       "21        \n",
       "22        \n",
       "23        \n",
       "24        \n",
       "25        \n",
       "26        \n",
       "27        \n",
       "28        \n",
       "29        \n",
       "        ..\n",
       "18513     \n",
       "18514     \n",
       "18515     \n",
       "18516     \n",
       "18517     \n",
       "18518     \n",
       "18519     \n",
       "18520     \n",
       "18521     \n",
       "18522     \n",
       "18523     \n",
       "18524     \n",
       "18525     \n",
       "18526     \n",
       "18527     \n",
       "18528     \n",
       "18529     \n",
       "18530     \n",
       "18531     \n",
       "18532     \n",
       "18533     \n",
       "18534     \n",
       "18535     \n",
       "18536     \n",
       "18537     \n",
       "18538     \n",
       "18539     \n",
       "18540     \n",
       "18541     \n",
       "18542     \n",
       "Name: PvalTotal_unweighted_56Fe, dtype: object"
      ]
     },
     "execution_count": 60,
     "metadata": {},
     "output_type": "execute_result"
    }
   ],
   "source": [
    "sims.PvalTotal_unweighted_56Fe"
   ]
  },
  {
   "cell_type": "code",
   "execution_count": 52,
   "metadata": {
    "collapsed": false,
    "scrolled": false
   },
   "outputs": [
    {
     "name": "stdout",
     "output_type": "stream",
     "text": [
      "generated: \n",
      " mean=0.164 , stdev=0.030\n",
      "$Pval$ weighted: \n",
      " mean=nan , stdev=nan\n",
      "$Pval_{tot}$ weighted: \n",
      " mean=nan , stdev=nan\n",
      "generated: \n",
      " mean=0.164 , stdev=0.030\n",
      "$Pval$ weighted: \n",
      " mean=nan , stdev=nan\n",
      "$Pval_{tot}$ weighted: \n",
      " mean=nan , stdev=nan\n"
     ]
    },
    {
     "data": {
      "image/png": "[encoded data removed]",
      "text/plain": [
       "<matplotlib.figure.Figure at 0x12e359690>"
      ]
     },
     "metadata": {},
     "output_type": "display_data"
    },
    {
     "data": {
      "image/png": "[encoded data removed]",
      "text/plain": [
       "<matplotlib.figure.Figure at 0x12d8b9cd0>"
      ]
     },
     "metadata": {},
     "output_type": "display_data"
    }
   ],
   "source": [
    "draw_PvalWeighting_Fit2Gaussian(var='SigmaX',xlabel='$\\\\sigma_{x}$ [GeV/c]',bins=30,x_range=(0.1,0.22),target='56Fe')\n",
    "draw_PvalWeighting_Fit2Gaussian(var='SigmaY',xlabel='$\\\\sigma_{y}$ [GeV/c]',bins=30,x_range=(0.1,0.22),target='56Fe')"
   ]
  },
  {
   "cell_type": "code",
   "execution_count": 21,
   "metadata": {
    "collapsed": false
   },
   "outputs": [
    {
     "ename": "KeyError",
     "evalue": "'PvalMeanX_unweighted_12C'",
     "output_type": "error",
     "traceback": [
      "\u001b[0;31m---------------------------------------------------------------------------\u001b[0m",
      "\u001b[0;31mKeyError\u001b[0m                                  Traceback (most recent call last)",
      "\u001b[0;32m<ipython-input-21-9fbe3da27382>\u001b[0m in \u001b[0;36m<module>\u001b[0;34m()\u001b[0m\n\u001b[0;32m----> 1\u001b[0;31m \u001b[0mdraw_PvalWeighting_Fit2Gaussian\u001b[0m\u001b[0;34m(\u001b[0m\u001b[0mvar\u001b[0m\u001b[0;34m=\u001b[0m\u001b[0;34m'MeanX'\u001b[0m\u001b[0;34m,\u001b[0m\u001b[0mxlabel\u001b[0m\u001b[0;34m=\u001b[0m\u001b[0;34m'$\\\\mu_{x}$ [GeV/c]'\u001b[0m\u001b[0;34m,\u001b[0m\u001b[0mbins\u001b[0m\u001b[0;34m=\u001b[0m\u001b[0;36m30\u001b[0m\u001b[0;34m,\u001b[0m\u001b[0mx_range\u001b[0m\u001b[0;34m=\u001b[0m\u001b[0;34m(\u001b[0m\u001b[0;34m-\u001b[0m\u001b[0;36m0.1\u001b[0m\u001b[0;34m,\u001b[0m\u001b[0;36m0.1\u001b[0m\u001b[0;34m)\u001b[0m\u001b[0;34m)\u001b[0m\u001b[0;34m\u001b[0m\u001b[0m\n\u001b[0m\u001b[1;32m      2\u001b[0m \u001b[0mdraw_PvalWeighting_Fit2Gaussian\u001b[0m\u001b[0;34m(\u001b[0m\u001b[0mvar\u001b[0m\u001b[0;34m=\u001b[0m\u001b[0;34m'MeanY'\u001b[0m\u001b[0;34m,\u001b[0m\u001b[0mxlabel\u001b[0m\u001b[0;34m=\u001b[0m\u001b[0;34m'$\\\\mu_{y}$ [GeV/c]'\u001b[0m\u001b[0;34m,\u001b[0m\u001b[0mbins\u001b[0m\u001b[0;34m=\u001b[0m\u001b[0;36m30\u001b[0m\u001b[0;34m,\u001b[0m\u001b[0mx_range\u001b[0m\u001b[0;34m=\u001b[0m\u001b[0;34m(\u001b[0m\u001b[0;34m-\u001b[0m\u001b[0;36m0.1\u001b[0m\u001b[0;34m,\u001b[0m\u001b[0;36m0.1\u001b[0m\u001b[0;34m)\u001b[0m\u001b[0;34m)\u001b[0m\u001b[0;34m\u001b[0m\u001b[0m\n",
      "\u001b[0;32m<ipython-input-7-b7f411bf7c88>\u001b[0m in \u001b[0;36mdraw_PvalWeighting_Fit2Gaussian\u001b[0;34m(var, xlabel, bins, legend_loc, target, do_fit_gaussian, x_range, y_range, xtext, ytext)\u001b[0m\n\u001b[1;32m      8\u001b[0m                                     xtext = None , ytext=None):\n\u001b[1;32m      9\u001b[0m \u001b[0;34m\u001b[0m\u001b[0m\n\u001b[0;32m---> 10\u001b[0;31m     \u001b[0mweights\u001b[0m\u001b[0;34m=\u001b[0m\u001b[0;34m[\u001b[0m\u001b[0msims\u001b[0m\u001b[0;34m.\u001b[0m\u001b[0mrun\u001b[0m\u001b[0;34m/\u001b[0m\u001b[0msims\u001b[0m\u001b[0;34m.\u001b[0m\u001b[0mrun\u001b[0m\u001b[0;34m,\u001b[0m\u001b[0msims\u001b[0m\u001b[0;34m[\u001b[0m\u001b[0;34m'Pval'\u001b[0m\u001b[0;34m+\u001b[0m\u001b[0mvar\u001b[0m\u001b[0;34m+\u001b[0m\u001b[0;34m'_unweighted_'\u001b[0m\u001b[0;34m+\u001b[0m\u001b[0mtarget\u001b[0m\u001b[0;34m]\u001b[0m\u001b[0;34m,\u001b[0m\u001b[0msims\u001b[0m\u001b[0;34m[\u001b[0m\u001b[0;34m'PvalTotal_unweighted_'\u001b[0m\u001b[0;34m+\u001b[0m\u001b[0mtarget\u001b[0m\u001b[0;34m]\u001b[0m\u001b[0;34m]\u001b[0m\u001b[0;31m#,sims.KSxPval]\u001b[0m\u001b[0;34m\u001b[0m\u001b[0m\n\u001b[0m\u001b[1;32m     11\u001b[0m     \u001b[0mweighting_labels\u001b[0m\u001b[0;34m=\u001b[0m\u001b[0;34m[\u001b[0m\u001b[0;34m'generated'\u001b[0m\u001b[0;34m,\u001b[0m\u001b[0;34m'$Pval$ weighted'\u001b[0m\u001b[0;34m,\u001b[0m\u001b[0;34m'$Pval_{tot}$ weighted'\u001b[0m\u001b[0;34m]\u001b[0m\u001b[0;31m#,'$KS_{tot}$ weighted']\u001b[0m\u001b[0;34m\u001b[0m\u001b[0m\n\u001b[1;32m     12\u001b[0m     histograms , bins = plot_1d_withoutandwithweight(sims['gen'+var],\n",
      "\u001b[0;32m/usr/local/lib/python2.7/site-packages/pandas/core/frame.pyc\u001b[0m in \u001b[0;36m__getitem__\u001b[0;34m(self, key)\u001b[0m\n\u001b[1;32m   1995\u001b[0m             \u001b[0;32mreturn\u001b[0m \u001b[0mself\u001b[0m\u001b[0;34m.\u001b[0m\u001b[0m_getitem_multilevel\u001b[0m\u001b[0;34m(\u001b[0m\u001b[0mkey\u001b[0m\u001b[0;34m)\u001b[0m\u001b[0;34m\u001b[0m\u001b[0m\n\u001b[1;32m   1996\u001b[0m         \u001b[0;32melse\u001b[0m\u001b[0;34m:\u001b[0m\u001b[0;34m\u001b[0m\u001b[0m\n\u001b[0;32m-> 1997\u001b[0;31m             \u001b[0;32mreturn\u001b[0m \u001b[0mself\u001b[0m\u001b[0;34m.\u001b[0m\u001b[0m_getitem_column\u001b[0m\u001b[0;34m(\u001b[0m\u001b[0mkey\u001b[0m\u001b[0;34m)\u001b[0m\u001b[0;34m\u001b[0m\u001b[0m\n\u001b[0m\u001b[1;32m   1998\u001b[0m \u001b[0;34m\u001b[0m\u001b[0m\n\u001b[1;32m   1999\u001b[0m     \u001b[0;32mdef\u001b[0m \u001b[0m_getitem_column\u001b[0m\u001b[0;34m(\u001b[0m\u001b[0mself\u001b[0m\u001b[0;34m,\u001b[0m \u001b[0mkey\u001b[0m\u001b[0;34m)\u001b[0m\u001b[0;34m:\u001b[0m\u001b[0;34m\u001b[0m\u001b[0m\n",
      "\u001b[0;32m/usr/local/lib/python2.7/site-packages/pandas/core/frame.pyc\u001b[0m in \u001b[0;36m_getitem_column\u001b[0;34m(self, key)\u001b[0m\n\u001b[1;32m   2002\u001b[0m         \u001b[0;31m# get column\u001b[0m\u001b[0;34m\u001b[0m\u001b[0;34m\u001b[0m\u001b[0m\n\u001b[1;32m   2003\u001b[0m         \u001b[0;32mif\u001b[0m \u001b[0mself\u001b[0m\u001b[0;34m.\u001b[0m\u001b[0mcolumns\u001b[0m\u001b[0;34m.\u001b[0m\u001b[0mis_unique\u001b[0m\u001b[0;34m:\u001b[0m\u001b[0;34m\u001b[0m\u001b[0m\n\u001b[0;32m-> 2004\u001b[0;31m             \u001b[0;32mreturn\u001b[0m \u001b[0mself\u001b[0m\u001b[0;34m.\u001b[0m\u001b[0m_get_item_cache\u001b[0m\u001b[0;34m(\u001b[0m\u001b[0mkey\u001b[0m\u001b[0;34m)\u001b[0m\u001b[0;34m\u001b[0m\u001b[0m\n\u001b[0m\u001b[1;32m   2005\u001b[0m \u001b[0;34m\u001b[0m\u001b[0m\n\u001b[1;32m   2006\u001b[0m         \u001b[0;31m# duplicate columns & possible reduce dimensionality\u001b[0m\u001b[0;34m\u001b[0m\u001b[0;34m\u001b[0m\u001b[0m\n",
      "\u001b[0;32m/usr/local/lib/python2.7/site-packages/pandas/core/generic.pyc\u001b[0m in \u001b[0;36m_get_item_cache\u001b[0;34m(self, item)\u001b[0m\n\u001b[1;32m   1348\u001b[0m         \u001b[0mres\u001b[0m \u001b[0;34m=\u001b[0m \u001b[0mcache\u001b[0m\u001b[0;34m.\u001b[0m\u001b[0mget\u001b[0m\u001b[0;34m(\u001b[0m\u001b[0mitem\u001b[0m\u001b[0;34m)\u001b[0m\u001b[0;34m\u001b[0m\u001b[0m\n\u001b[1;32m   1349\u001b[0m         \u001b[0;32mif\u001b[0m \u001b[0mres\u001b[0m \u001b[0;32mis\u001b[0m \u001b[0mNone\u001b[0m\u001b[0;34m:\u001b[0m\u001b[0;34m\u001b[0m\u001b[0m\n\u001b[0;32m-> 1350\u001b[0;31m             \u001b[0mvalues\u001b[0m \u001b[0;34m=\u001b[0m \u001b[0mself\u001b[0m\u001b[0;34m.\u001b[0m\u001b[0m_data\u001b[0m\u001b[0;34m.\u001b[0m\u001b[0mget\u001b[0m\u001b[0;34m(\u001b[0m\u001b[0mitem\u001b[0m\u001b[0;34m)\u001b[0m\u001b[0;34m\u001b[0m\u001b[0m\n\u001b[0m\u001b[1;32m   1351\u001b[0m             \u001b[0mres\u001b[0m \u001b[0;34m=\u001b[0m \u001b[0mself\u001b[0m\u001b[0;34m.\u001b[0m\u001b[0m_box_item_values\u001b[0m\u001b[0;34m(\u001b[0m\u001b[0mitem\u001b[0m\u001b[0;34m,\u001b[0m \u001b[0mvalues\u001b[0m\u001b[0;34m)\u001b[0m\u001b[0;34m\u001b[0m\u001b[0m\n\u001b[1;32m   1352\u001b[0m             \u001b[0mcache\u001b[0m\u001b[0;34m[\u001b[0m\u001b[0mitem\u001b[0m\u001b[0;34m]\u001b[0m \u001b[0;34m=\u001b[0m \u001b[0mres\u001b[0m\u001b[0;34m\u001b[0m\u001b[0m\n",
      "\u001b[0;32m/usr/local/lib/python2.7/site-packages/pandas/core/internals.pyc\u001b[0m in \u001b[0;36mget\u001b[0;34m(self, item, fastpath)\u001b[0m\n\u001b[1;32m   3288\u001b[0m \u001b[0;34m\u001b[0m\u001b[0m\n\u001b[1;32m   3289\u001b[0m             \u001b[0;32mif\u001b[0m \u001b[0;32mnot\u001b[0m \u001b[0misnull\u001b[0m\u001b[0;34m(\u001b[0m\u001b[0mitem\u001b[0m\u001b[0;34m)\u001b[0m\u001b[0;34m:\u001b[0m\u001b[0;34m\u001b[0m\u001b[0m\n\u001b[0;32m-> 3290\u001b[0;31m                 \u001b[0mloc\u001b[0m \u001b[0;34m=\u001b[0m \u001b[0mself\u001b[0m\u001b[0;34m.\u001b[0m\u001b[0mitems\u001b[0m\u001b[0;34m.\u001b[0m\u001b[0mget_loc\u001b[0m\u001b[0;34m(\u001b[0m\u001b[0mitem\u001b[0m\u001b[0;34m)\u001b[0m\u001b[0;34m\u001b[0m\u001b[0m\n\u001b[0m\u001b[1;32m   3291\u001b[0m             \u001b[0;32melse\u001b[0m\u001b[0;34m:\u001b[0m\u001b[0;34m\u001b[0m\u001b[0m\n\u001b[1;32m   3292\u001b[0m                 \u001b[0mindexer\u001b[0m \u001b[0;34m=\u001b[0m \u001b[0mnp\u001b[0m\u001b[0;34m.\u001b[0m\u001b[0marange\u001b[0m\u001b[0;34m(\u001b[0m\u001b[0mlen\u001b[0m\u001b[0;34m(\u001b[0m\u001b[0mself\u001b[0m\u001b[0;34m.\u001b[0m\u001b[0mitems\u001b[0m\u001b[0;34m)\u001b[0m\u001b[0;34m)\u001b[0m\u001b[0;34m[\u001b[0m\u001b[0misnull\u001b[0m\u001b[0;34m(\u001b[0m\u001b[0mself\u001b[0m\u001b[0;34m.\u001b[0m\u001b[0mitems\u001b[0m\u001b[0;34m)\u001b[0m\u001b[0;34m]\u001b[0m\u001b[0;34m\u001b[0m\u001b[0m\n",
      "\u001b[0;32m/usr/local/lib/python2.7/site-packages/pandas/indexes/base.pyc\u001b[0m in \u001b[0;36mget_loc\u001b[0;34m(self, key, method, tolerance)\u001b[0m\n\u001b[1;32m   1945\u001b[0m                 \u001b[0;32mreturn\u001b[0m \u001b[0mself\u001b[0m\u001b[0;34m.\u001b[0m\u001b[0m_engine\u001b[0m\u001b[0;34m.\u001b[0m\u001b[0mget_loc\u001b[0m\u001b[0;34m(\u001b[0m\u001b[0mkey\u001b[0m\u001b[0;34m)\u001b[0m\u001b[0;34m\u001b[0m\u001b[0m\n\u001b[1;32m   1946\u001b[0m             \u001b[0;32mexcept\u001b[0m \u001b[0mKeyError\u001b[0m\u001b[0;34m:\u001b[0m\u001b[0;34m\u001b[0m\u001b[0m\n\u001b[0;32m-> 1947\u001b[0;31m                 \u001b[0;32mreturn\u001b[0m \u001b[0mself\u001b[0m\u001b[0;34m.\u001b[0m\u001b[0m_engine\u001b[0m\u001b[0;34m.\u001b[0m\u001b[0mget_loc\u001b[0m\u001b[0;34m(\u001b[0m\u001b[0mself\u001b[0m\u001b[0;34m.\u001b[0m\u001b[0m_maybe_cast_indexer\u001b[0m\u001b[0;34m(\u001b[0m\u001b[0mkey\u001b[0m\u001b[0;34m)\u001b[0m\u001b[0;34m)\u001b[0m\u001b[0;34m\u001b[0m\u001b[0m\n\u001b[0m\u001b[1;32m   1948\u001b[0m \u001b[0;34m\u001b[0m\u001b[0m\n\u001b[1;32m   1949\u001b[0m         \u001b[0mindexer\u001b[0m \u001b[0;34m=\u001b[0m \u001b[0mself\u001b[0m\u001b[0;34m.\u001b[0m\u001b[0mget_indexer\u001b[0m\u001b[0;34m(\u001b[0m\u001b[0;34m[\u001b[0m\u001b[0mkey\u001b[0m\u001b[0;34m]\u001b[0m\u001b[0;34m,\u001b[0m \u001b[0mmethod\u001b[0m\u001b[0;34m=\u001b[0m\u001b[0mmethod\u001b[0m\u001b[0;34m,\u001b[0m \u001b[0mtolerance\u001b[0m\u001b[0;34m=\u001b[0m\u001b[0mtolerance\u001b[0m\u001b[0;34m)\u001b[0m\u001b[0;34m\u001b[0m\u001b[0m\n",
      "\u001b[0;32mpandas/index.pyx\u001b[0m in \u001b[0;36mpandas.index.IndexEngine.get_loc (pandas/index.c:4154)\u001b[0;34m()\u001b[0m\n",
      "\u001b[0;32mpandas/index.pyx\u001b[0m in \u001b[0;36mpandas.index.IndexEngine.get_loc (pandas/index.c:4018)\u001b[0;34m()\u001b[0m\n",
      "\u001b[0;32mpandas/hashtable.pyx\u001b[0m in \u001b[0;36mpandas.hashtable.PyObjectHashTable.get_item (pandas/hashtable.c:12368)\u001b[0;34m()\u001b[0m\n",
      "\u001b[0;32mpandas/hashtable.pyx\u001b[0m in \u001b[0;36mpandas.hashtable.PyObjectHashTable.get_item (pandas/hashtable.c:12322)\u001b[0;34m()\u001b[0m\n",
      "\u001b[0;31mKeyError\u001b[0m: 'PvalMeanX_unweighted_12C'"
     ]
    }
   ],
   "source": [
    "draw_PvalWeighting_Fit2Gaussian(var='MeanX',xlabel='$\\\\mu_{x}$ [GeV/c]',bins=30,x_range=(-0.1,0.1))\n",
    "draw_PvalWeighting_Fit2Gaussian(var='MeanY',xlabel='$\\\\mu_{y}$ [GeV/c]',bins=30,x_range=(-0.1,0.1))"
   ]
  },
  {
   "cell_type": "code",
   "execution_count": null,
   "metadata": {
    "collapsed": false,
    "scrolled": true
   },
   "outputs": [],
   "source": [
    "draw_PvalWeighting_Fit2Gaussian(var='SigmaZa1',xlabel='$\\\\sigma_{z}-a_{1}$',\n",
    "                                bins=20,do_fit_gaussian=False,x_range=(-0.1,1.4),xtext=0.23)"
   ]
  },
  {
   "cell_type": "code",
   "execution_count": null,
   "metadata": {
    "collapsed": false,
    "scrolled": true
   },
   "outputs": [],
   "source": [
    "draw_PvalWeighting_Fit2Gaussian(var='SigmaZa2',xlabel='$\\\\sigma_{z}-a_{2}$ [GeV/c]',\n",
    "                                bins=20,do_fit_gaussian=False)"
   ]
  },
  {
   "cell_type": "code",
   "execution_count": null,
   "metadata": {
    "collapsed": false,
    "scrolled": true
   },
   "outputs": [],
   "source": [
    "draw_PvalWeighting_Fit2Gaussian(var='MeanZa1',xlabel='$\\\\mu_{z}-a_{1}$',\n",
    "                                bins=10,x_range=(0.35,0.85),xtext=0.82,do_fit_gaussian=False,legend_loc='none')"
   ]
  },
  {
   "cell_type": "code",
   "execution_count": null,
   "metadata": {
    "collapsed": false,
    "scrolled": true
   },
   "outputs": [],
   "source": [
    "draw_PvalWeighting_Fit2Gaussian(var='MeanZa2',xlabel='$\\\\mu_{z}-a_{2}$ [GeV/c]',\n",
    "                                bins=10,legend_loc='upper left',xtext=-0.34,ytext=0.23,do_fit_gaussian=False)"
   ]
  },
  {
   "cell_type": "markdown",
   "metadata": {},
   "source": [
    "# runs 100,000 to 200,7999"
   ]
  },
  {
   "cell_type": "code",
   "execution_count": null,
   "metadata": {
    "collapsed": false,
    "scrolled": true
   },
   "outputs": [],
   "source": [
    "draw_PvalWeighting_Fit2Gaussian(var='SigmaZa1',xlabel='$\\\\sigma_{z}-a_{1}$',\n",
    "                                bins=20,do_fit_gaussian=False,x_range=(-1,2.4),y_range=(0,1.7),xtext=0.23)\n",
    "draw_PvalWeighting_Fit2Gaussian(var='SigmaZa2',xlabel='$\\\\sigma_{z}-a_{2}$ [GeV/c]',\n",
    "                                bins=20,x_range=(-0.3,0.2),do_fit_gaussian=False)"
   ]
  },
  {
   "cell_type": "markdown",
   "metadata": {},
   "source": [
    "# runs 300,000 to 460,000"
   ]
  },
  {
   "cell_type": "code",
   "execution_count": null,
   "metadata": {
    "collapsed": false
   },
   "outputs": [],
   "source": [
    "sims = pd.read_csv('/Users/erezcohen/Desktop/DataMining/Analysis_DATA/ppSRCcm/simulation/runs300000to460000_NsigmaT_1_NSigmaZa1_20_NSigmaZa2_20_NMeanZa1_20_NMeanZa2_20_NRand_10_simulationruns_results.csv')"
   ]
  },
  {
   "cell_type": "markdown",
   "metadata": {},
   "source": [
    "sum up Pval for only two variables at a time"
   ]
  },
  {
   "cell_type": "code",
   "execution_count": null,
   "metadata": {
    "collapsed": false
   },
   "outputs": [],
   "source": [
    "PvalMeanZa1MeanZa2 , PvalSigmaZa1SigmaZa2 , PvalSigmaZa1MeanZa2 , PvalSigmaZa2MeanZa1 , PvalSigmaZa1MeanZa1 , PvalSigmaZa2MeanZa2 = [] , [] , [] , [], [], []\n",
    "for index, row in sims.iterrows():\n",
    "    if index%10000==0 : print index\n",
    "    PvalSigmaZa1SigmaZa2.append(Fisher_combination_Pvals( [ row.PvalSigmaZa1_unweighted , row.PvalSigmaZa2_unweighted ] ) ) \n",
    "    PvalMeanZa1MeanZa2.append(Fisher_combination_Pvals( [ row.PvalMeanZa1_unweighted , row.PvalMeanZa2_unweighted ] ) ) \n",
    "    \n",
    "    PvalSigmaZa1MeanZa1.append(Fisher_combination_Pvals( [ row.PvalSigmaZa1_unweighted , row.PvalMeanZa1_unweighted ] ) )    \n",
    "    PvalSigmaZa1MeanZa2.append(Fisher_combination_Pvals( [ row.PvalSigmaZa1_unweighted , row.PvalMeanZa2_unweighted ] ) )\n",
    "    \n",
    "    PvalSigmaZa2MeanZa1.append(Fisher_combination_Pvals( [ row.PvalSigmaZa2_unweighted , row.PvalMeanZa1_unweighted ] ) )\n",
    "    PvalSigmaZa2MeanZa2.append(Fisher_combination_Pvals( [ row.PvalSigmaZa2_unweighted , row.PvalMeanZa2_unweighted ] ) )\n",
    "print 'done.'"
   ]
  },
  {
   "cell_type": "code",
   "execution_count": null,
   "metadata": {
    "collapsed": true
   },
   "outputs": [],
   "source": [
    "sims['PvalSigmaZa1SigmaZa2'] = PvalSigmaZa1SigmaZa2\n",
    "sims['PvalMeanZa1MeanZa2'] = PvalMeanZa1MeanZa2\n",
    "sims['PvalSigmaZa1MeanZa1'] = PvalSigmaZa1MeanZa1\n",
    "sims['PvalSigmaZa1MeanZa2'] = PvalSigmaZa1MeanZa2\n",
    "sims['PvalSigmaZa2MeanZa1'] = PvalSigmaZa2MeanZa1\n",
    "sims['PvalSigmaZa2MeanZa2'] = PvalSigmaZa2MeanZa2"
   ]
  },
  {
   "cell_type": "code",
   "execution_count": null,
   "metadata": {
    "collapsed": true
   },
   "outputs": [],
   "source": [
    "sims = pd.read_csv('/Users/erezcohen/Desktop/DataMining/Analysis_DATA/ppSRCcm/simulation/runs300000to460000_1sT_20sZa1_20sZa2_20mZa1_20mZa2_10r_results.csv')"
   ]
  },
  {
   "cell_type": "code",
   "execution_count": null,
   "metadata": {
    "collapsed": false,
    "scrolled": true
   },
   "outputs": [],
   "source": [
    "draw_PvalWeighting_Fit2Gaussian(var='SigmaX',xlabel='$\\\\sigma_{x}$ [GeV/c]',bins=15)\n",
    "draw_PvalWeighting_Fit2Gaussian(var='SigmaY',xlabel='$\\\\sigma_{y}$ [GeV/c]',bins=15)"
   ]
  },
  {
   "cell_type": "code",
   "execution_count": null,
   "metadata": {
    "collapsed": false,
    "scrolled": true
   },
   "outputs": [],
   "source": [
    "draw_PvalWeighting_Fit2Gaussian(var='SigmaZa1',xlabel='$\\\\sigma_{z}-a_{1}$',\n",
    "                                bins=20,do_fit_gaussian=False,x_range=(-.1,2.4),y_range=(0,1.7),xtext=0.23)\n",
    "draw_PvalWeighting_Fit2Gaussian(var='SigmaZa2',xlabel='$\\\\sigma_{z}-a_{2}$ [GeV/c]',\n",
    "                                bins=20,x_range=(-0.55,0.55),do_fit_gaussian=False)"
   ]
  },
  {
   "cell_type": "code",
   "execution_count": null,
   "metadata": {
    "collapsed": false,
    "scrolled": true
   },
   "outputs": [],
   "source": [
    "draw_PvalWeighting_Fit2Gaussian(var='MeanZa1',xlabel='$\\\\mu_{z}-a_{1}$',\n",
    "                                bins=10,x_range=(0.,1.2),xtext=0.82,do_fit_gaussian=False,legend_loc='none')\n",
    "draw_PvalWeighting_Fit2Gaussian(var='MeanZa2',xlabel='$\\\\mu_{z}-a_{2}$',\n",
    "                                bins=10,x_range=(-0.55,0.55),xtext=0.82,do_fit_gaussian=False,legend_loc='none')"
   ]
  },
  {
   "cell_type": "code",
   "execution_count": null,
   "metadata": {
    "collapsed": false
   },
   "outputs": [],
   "source": [
    "cmaps = ['Blues' , 'Reds' , 'Greens' , 'Purples']"
   ]
  },
  {
   "cell_type": "code",
   "execution_count": null,
   "metadata": {
    "collapsed": false
   },
   "outputs": [],
   "source": [
    "weights = [None , 'PvalSigmaZa1SigmaZa2' , 'PvalTotal_unweighted' , 'KStPval_avg' ]\n",
    "draw_all_PvalWeighting_2d(v1='SigmaZa1' , v2='SigmaZa2', bins=41 ,\n",
    "                          xlabel='$\\\\sigma_{z}-a_{1}$',ylabel='$\\\\sigma_{z}-a_{2}$ [GeV/c]' ,\n",
    "                          weights=weights,cmaps=cmaps);"
   ]
  },
  {
   "cell_type": "code",
   "execution_count": null,
   "metadata": {
    "collapsed": false
   },
   "outputs": [],
   "source": [
    "weights = [None , 'PvalMeanZa1MeanZa2' , 'PvalTotal_unweighted' , 'KSPval_tot' ]\n",
    "draw_all_PvalWeighting_2d(v1='MeanZa1' , v2='MeanZa2', bins=41 ,\n",
    "                          xlabel='$\\\\mu_{z}-a_{1}$',ylabel='$\\\\mu_{z}-a_{2}$ [GeV/c]' ,\n",
    "                          weights=weights,cmaps=cmaps);"
   ]
  },
  {
   "cell_type": "code",
   "execution_count": null,
   "metadata": {
    "collapsed": false
   },
   "outputs": [],
   "source": [
    "weights = [None , 'PvalSigmaZa2MeanZa1' , 'PvalTotal_unweighted' , 'KSPval_tot' ]\n",
    "draw_all_PvalWeighting_2d(v1='MeanZa1' , v2='SigmaZa2', bins=41 ,\n",
    "                          xlabel='$\\\\mu_{z}-a_{1}$',ylabel='$\\\\sigma_{z}-a_{2}$ [GeV/c]' ,\n",
    "                          weights=weights,cmaps=cmaps);"
   ]
  },
  {
   "cell_type": "code",
   "execution_count": null,
   "metadata": {
    "collapsed": false
   },
   "outputs": [],
   "source": [
    "weights = [None , 'PvalSigmaZa2MeanZa2' , 'PvalTotal_unweighted' , 'KSPval_tot' ]\n",
    "draw_all_PvalWeighting_2d(v1='MeanZa2' , v2='SigmaZa2', bins=41 ,\n",
    "                          xlabel='$\\\\mu_{z}-a_{2}$',ylabel='$\\\\sigma_{z}-a_{2}$ [GeV/c]' ,\n",
    "                          weights=weights,cmaps=cmaps);"
   ]
  },
  {
   "cell_type": "code",
   "execution_count": null,
   "metadata": {
    "collapsed": false
   },
   "outputs": [],
   "source": [
    "weights = [None , 'PvalSigmaZa1MeanZa1' , 'PvalTotal_unweighted' , 'KSPval_tot' ]\n",
    "draw_all_PvalWeighting_2d(v1='MeanZa1' , v2='SigmaZa1', bins=41 ,\n",
    "                          xlabel='$\\\\mu_{z}-a_{1}$',ylabel='$\\\\sigma_{z}-a_{1}$ [GeV/c]' ,\n",
    "                          weights=weights,cmaps=cmaps);"
   ]
  },
  {
   "cell_type": "code",
   "execution_count": null,
   "metadata": {
    "collapsed": false
   },
   "outputs": [],
   "source": [
    "weights = [None , 'PvalSigmaZa1MeanZa2' , 'PvalTotal_unweighted' , 'KSPval_tot' ]\n",
    "draw_all_PvalWeighting_2d(v1='MeanZa2' , v2='SigmaZa1', bins=41 ,\n",
    "                          xlabel='$\\\\mu_{z}-a_{2}$',ylabel='$\\\\sigma_{z}-a_{1}$ [GeV/c]' ,\n",
    "                          weights=weights,cmaps=cmaps);"
   ]
  },
  {
   "cell_type": "code",
   "execution_count": null,
   "metadata": {
    "collapsed": true
   },
   "outputs": [],
   "source": []
  }
 ],
 "metadata": {
  "kernelspec": {
   "display_name": "Python 2",
   "language": "python",
   "name": "python2"
  },
  "language_info": {
   "codemirror_mode": {
    "name": "ipython",
    "version": 2
   },
   "file_extension": ".py",
   "mimetype": "text/x-python",
   "name": "python",
   "nbconvert_exporter": "python",
   "pygments_lexer": "ipython2",
   "version": "2.7.11"
  }
 },
 "nbformat": 4,
 "nbformat_minor": 1
}
