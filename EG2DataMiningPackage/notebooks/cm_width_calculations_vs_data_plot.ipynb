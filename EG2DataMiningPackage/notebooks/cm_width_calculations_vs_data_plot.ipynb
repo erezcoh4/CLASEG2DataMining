{
 "cells": [
  {
   "cell_type": "code",
   "execution_count": 2,
   "metadata": {
    "collapsed": true
   },
   "outputs": [],
   "source": [
    "from notebook_tools import *\n",
    "%matplotlib inline"
   ]
  },
  {
   "cell_type": "code",
   "execution_count": 25,
   "metadata": {
    "collapsed": false
   },
   "outputs": [
    {
     "data": {
      "text/html": [
       "<div>\n",
       "<table border=\"1\" class=\"dataframe\">\n",
       "  <thead>\n",
       "    <tr style=\"text-align: right;\">\n",
       "      <th></th>\n",
       "      <th>A</th>\n",
       "      <th>allpairs</th>\n",
       "      <th>nl00</th>\n",
       "    </tr>\n",
       "  </thead>\n",
       "  <tbody>\n",
       "    <tr>\n",
       "      <th>$^{4}$He</th>\n",
       "      <td>4</td>\n",
       "      <td>110</td>\n",
       "      <td>110</td>\n",
       "    </tr>\n",
       "    <tr>\n",
       "      <th>$^{12}$C</th>\n",
       "      <td>12</td>\n",
       "      <td>140</td>\n",
       "      <td>156</td>\n",
       "    </tr>\n",
       "    <tr>\n",
       "      <th>$^{27}$Al</th>\n",
       "      <td>27</td>\n",
       "      <td>144</td>\n",
       "      <td>164</td>\n",
       "    </tr>\n",
       "    <tr>\n",
       "      <th>$^{56}$Fe</th>\n",
       "      <td>56</td>\n",
       "      <td>146</td>\n",
       "      <td>172</td>\n",
       "    </tr>\n",
       "    <tr>\n",
       "      <th>$^{208}$Pb</th>\n",
       "      <td>208</td>\n",
       "      <td>145</td>\n",
       "      <td>178</td>\n",
       "    </tr>\n",
       "  </tbody>\n",
       "</table>\n",
       "</div>"
      ],
      "text/plain": [
       "              A  allpairs  nl00\n",
       "$^{4}$He      4       110   110\n",
       "$^{12}$C     12       140   156\n",
       "$^{27}$Al    27       144   164\n",
       "$^{56}$Fe    56       146   172\n",
       "$^{208}$Pb  208       145   178"
      ]
     },
     "execution_count": 25,
     "metadata": {},
     "output_type": "execute_result"
    }
   ],
   "source": [
    "ColleCalc = pd.DataFrame({'A':[4,12 , 27 , 56 , 208],\n",
    "                        'allpairs':[110,140,144,146,145],\n",
    "                        'nl00':[110,156,164,172,178]},\n",
    "                         index = ['$^{4}$He','$^{12}$C','$^{27}$Al','$^{56}$Fe','$^{208}$Pb'])\n",
    "ColleCalc"
   ]
  },
  {
   "cell_type": "code",
   "execution_count": 34,
   "metadata": {
    "collapsed": false
   },
   "outputs": [
    {
     "data": {
      "text/html": [
       "<div>\n",
       "<table border=\"1\" class=\"dataframe\">\n",
       "  <thead>\n",
       "    <tr style=\"text-align: right;\">\n",
       "      <th></th>\n",
       "      <th>A</th>\n",
       "      <th>s_t</th>\n",
       "    </tr>\n",
       "  </thead>\n",
       "  <tbody>\n",
       "    <tr>\n",
       "      <th>$^{4}$He</th>\n",
       "      <td>4</td>\n",
       "      <td>89.9</td>\n",
       "    </tr>\n",
       "    <tr>\n",
       "      <th>$^{12}$C</th>\n",
       "      <td>12</td>\n",
       "      <td>139.3</td>\n",
       "    </tr>\n",
       "    <tr>\n",
       "      <th>$^{16}$O</th>\n",
       "      <td>16</td>\n",
       "      <td>127.2</td>\n",
       "    </tr>\n",
       "    <tr>\n",
       "      <th>$^{40}$Ca</th>\n",
       "      <td>40</td>\n",
       "      <td>140.7</td>\n",
       "    </tr>\n",
       "    <tr>\n",
       "      <th>$^{56}$Fe</th>\n",
       "      <td>56</td>\n",
       "      <td>132.8</td>\n",
       "    </tr>\n",
       "    <tr>\n",
       "      <th>$^{208}$Pb</th>\n",
       "      <td>208</td>\n",
       "      <td>151.1</td>\n",
       "    </tr>\n",
       "  </tbody>\n",
       "</table>\n",
       "</div>"
      ],
      "text/plain": [
       "              A    s_t\n",
       "$^{4}$He      4   89.9\n",
       "$^{12}$C     12  139.3\n",
       "$^{16}$O     16  127.2\n",
       "$^{40}$Ca    40  140.7\n",
       "$^{56}$Fe    56  132.8\n",
       "$^{208}$Pb  208  151.1"
      ]
     },
     "execution_count": 34,
     "metadata": {},
     "output_type": "execute_result"
    }
   ],
   "source": [
    "CiofiCalc = pd.DataFrame({'A':[4 , 12 , 16 , 40 , 56 , 208], # 3 , \n",
    "                        's_t':[89.9 , 139.3 , 127.2 , 140.7 , 132.8 , 151.1]}, # 72.4 , \n",
    "                         index = ['$^{4}$He','$^{12}$C','$^{16}$O','$^{40}$Ca','$^{56}$Fe','$^{208}$Pb']) # '$^{3}$He',\n",
    "CiofiCalc"
   ]
  },
  {
   "cell_type": "code",
   "execution_count": 27,
   "metadata": {
    "collapsed": false
   },
   "outputs": [
    {
     "data": {
      "text/html": [
       "<div>\n",
       "<table border=\"1\" class=\"dataframe\">\n",
       "  <thead>\n",
       "    <tr style=\"text-align: right;\">\n",
       "      <th></th>\n",
       "      <th>3kF/4</th>\n",
       "      <th>A</th>\n",
       "    </tr>\n",
       "  </thead>\n",
       "  <tbody>\n",
       "    <tr>\n",
       "      <th>$^{12}$C</th>\n",
       "      <td>165.8</td>\n",
       "      <td>12</td>\n",
       "    </tr>\n",
       "    <tr>\n",
       "      <th>$^{40}$Ca</th>\n",
       "      <td>188.3</td>\n",
       "      <td>40</td>\n",
       "    </tr>\n",
       "    <tr>\n",
       "      <th>$^{208}$Pb</th>\n",
       "      <td>198.8</td>\n",
       "      <td>208</td>\n",
       "    </tr>\n",
       "  </tbody>\n",
       "</table>\n",
       "</div>"
      ],
      "text/plain": [
       "            3kF/4    A\n",
       "$^{12}$C    165.8   12\n",
       "$^{40}$Ca   188.3   40\n",
       "$^{208}$Pb  198.8  208"
      ]
     },
     "execution_count": 27,
     "metadata": {},
     "output_type": "execute_result"
    }
   ],
   "source": [
    "MonizCalc = pd.DataFrame({'A':[12 , 40 , 208],\n",
    "                        '3kF/4':[165.8 , 188.3 , 198.8]},\n",
    "                         index = ['$^{12}$C','$^{40}$Ca','$^{208}$Pb'])\n",
    "MonizCalc"
   ]
  },
  {
   "cell_type": "code",
   "execution_count": 28,
   "metadata": {
    "collapsed": false
   },
   "outputs": [
    {
     "data": {
      "text/html": [
       "<div>\n",
       "<table border=\"1\" class=\"dataframe\">\n",
       "  <thead>\n",
       "    <tr style=\"text-align: right;\">\n",
       "      <th></th>\n",
       "      <th>A</th>\n",
       "      <th>s_x</th>\n",
       "      <th>s_x_Err</th>\n",
       "      <th>s_y</th>\n",
       "      <th>s_y_Err</th>\n",
       "      <th>s_t</th>\n",
       "      <th>s_t_Err</th>\n",
       "      <th>s_t_final</th>\n",
       "      <th>s_t_final_Err</th>\n",
       "    </tr>\n",
       "  </thead>\n",
       "  <tbody>\n",
       "    <tr>\n",
       "      <th>$^{12}$C</th>\n",
       "      <td>12</td>\n",
       "      <td>165</td>\n",
       "      <td>7</td>\n",
       "      <td>179</td>\n",
       "      <td>12</td>\n",
       "      <td>172.0</td>\n",
       "      <td>6.046452</td>\n",
       "      <td>170.833252</td>\n",
       "      <td>7.845992</td>\n",
       "    </tr>\n",
       "    <tr>\n",
       "      <th>$^{27}$Al</th>\n",
       "      <td>27</td>\n",
       "      <td>155</td>\n",
       "      <td>21</td>\n",
       "      <td>179</td>\n",
       "      <td>20</td>\n",
       "      <td>167.0</td>\n",
       "      <td>14.482759</td>\n",
       "      <td>165.798070</td>\n",
       "      <td>15.321563</td>\n",
       "    </tr>\n",
       "    <tr>\n",
       "      <th>$^{56}$Fe</th>\n",
       "      <td>56</td>\n",
       "      <td>176</td>\n",
       "      <td>10</td>\n",
       "      <td>197</td>\n",
       "      <td>15</td>\n",
       "      <td>186.5</td>\n",
       "      <td>8.320503</td>\n",
       "      <td>185.424513</td>\n",
       "      <td>9.707253</td>\n",
       "    </tr>\n",
       "    <tr>\n",
       "      <th>$^{208}$Pb</th>\n",
       "      <td>208</td>\n",
       "      <td>202</td>\n",
       "      <td>11</td>\n",
       "      <td>177</td>\n",
       "      <td>15</td>\n",
       "      <td>189.5</td>\n",
       "      <td>8.870455</td>\n",
       "      <td>188.441636</td>\n",
       "      <td>10.182582</td>\n",
       "    </tr>\n",
       "  </tbody>\n",
       "</table>\n",
       "</div>"
      ],
      "text/plain": [
       "              A  s_x  s_x_Err  s_y  s_y_Err    s_t    s_t_Err   s_t_final  \\\n",
       "$^{12}$C     12  165        7  179       12  172.0   6.046452  170.833252   \n",
       "$^{27}$Al    27  155       21  179       20  167.0  14.482759  165.798070   \n",
       "$^{56}$Fe    56  176       10  197       15  186.5   8.320503  185.424513   \n",
       "$^{208}$Pb  208  202       11  177       15  189.5   8.870455  188.441636   \n",
       "\n",
       "            s_t_final_Err  \n",
       "$^{12}$C         7.845992  \n",
       "$^{27}$Al       15.321563  \n",
       "$^{56}$Fe        9.707253  \n",
       "$^{208}$Pb      10.182582  "
      ]
     },
     "execution_count": 28,
     "metadata": {},
     "output_type": "execute_result"
    }
   ],
   "source": [
    "NoAccCorr = pd.DataFrame({'A':[12 , 27 , 56 , 208],\n",
    "                        's_x':[165,155,176,202],\n",
    "                        's_x_Err':[7,21,10,11],\n",
    "                        's_y':[179,179,197,177],\n",
    "                        's_y_Err':[12,20,15,15]},\n",
    "                         index = ['$^{12}$C','$^{27}$Al','$^{56}$Fe','$^{208}$Pb'])\n",
    "\n",
    "NoAccCorr['s_t'] = 0.5*( NoAccCorr['s_x'] + NoAccCorr['s_y'] ) \n",
    "NoAccCorr['s_t_Err'] = 1./np.sqrt( 1./np.square(NoAccCorr['s_x_Err']) + 1./np.square(NoAccCorr['s_y_Err']) )\n",
    "\n",
    "# c.m. resolution correction\n",
    "NoAccCorr['s_t_final'] = np.sqrt( np.square(NoAccCorr['s_t']) - np.square(20))\n",
    "NoAccCorr['s_t_final_Err'] = np.sqrt( np.square(NoAccCorr['s_t_Err']) + np.square(5))\n",
    "\n",
    "NoAccCorr"
   ]
  },
  {
   "cell_type": "code",
   "execution_count": 29,
   "metadata": {
    "collapsed": false
   },
   "outputs": [
    {
     "data": {
      "text/html": [
       "<div>\n",
       "<table border=\"1\" class=\"dataframe\">\n",
       "  <thead>\n",
       "    <tr style=\"text-align: right;\">\n",
       "      <th></th>\n",
       "      <th>A</th>\n",
       "      <th>s_t_AccCorr</th>\n",
       "      <th>s_t_AccCorrErr</th>\n",
       "      <th>s_t_final</th>\n",
       "      <th>s_t_final_Err</th>\n",
       "    </tr>\n",
       "  </thead>\n",
       "  <tbody>\n",
       "    <tr>\n",
       "      <th>$^{12}$C</th>\n",
       "      <td>12</td>\n",
       "      <td>160</td>\n",
       "      <td>9</td>\n",
       "      <td>158.745079</td>\n",
       "      <td>10.295630</td>\n",
       "    </tr>\n",
       "    <tr>\n",
       "      <th>$^{27}$Al</th>\n",
       "      <td>27</td>\n",
       "      <td>157</td>\n",
       "      <td>18</td>\n",
       "      <td>155.720904</td>\n",
       "      <td>18.681542</td>\n",
       "    </tr>\n",
       "    <tr>\n",
       "      <th>$^{56}$Fe</th>\n",
       "      <td>56</td>\n",
       "      <td>182</td>\n",
       "      <td>9</td>\n",
       "      <td>180.897761</td>\n",
       "      <td>10.295630</td>\n",
       "    </tr>\n",
       "    <tr>\n",
       "      <th>$^{208}$Pb</th>\n",
       "      <td>208</td>\n",
       "      <td>175</td>\n",
       "      <td>15</td>\n",
       "      <td>173.853387</td>\n",
       "      <td>15.811388</td>\n",
       "    </tr>\n",
       "  </tbody>\n",
       "</table>\n",
       "</div>"
      ],
      "text/plain": [
       "              A  s_t_AccCorr  s_t_AccCorrErr   s_t_final  s_t_final_Err\n",
       "$^{12}$C     12          160               9  158.745079      10.295630\n",
       "$^{27}$Al    27          157              18  155.720904      18.681542\n",
       "$^{56}$Fe    56          182               9  180.897761      10.295630\n",
       "$^{208}$Pb  208          175              15  173.853387      15.811388"
      ]
     },
     "execution_count": 29,
     "metadata": {},
     "output_type": "execute_result"
    }
   ],
   "source": [
    "# runs 10,000 - 72,500\n",
    "ThisWork = pd.DataFrame({'A':[12 , 27 , 56 , 208],\n",
    "                        's_t_AccCorr':[160,157,182,175],\n",
    "                        's_t_AccCorrErr':[9,18,9,15]},index = ['$^{12}$C','$^{27}$Al','$^{56}$Fe','$^{208}$Pb'])\n",
    "# c.m. resolution correction\n",
    "ThisWork['s_t_final'] = np.sqrt( np.square(ThisWork['s_t_AccCorr']) - np.square(20))\n",
    "ThisWork['s_t_final_Err'] = np.sqrt( np.square(ThisWork['s_t_AccCorrErr']) + np.square(5))\n",
    "\n",
    "ThisWork"
   ]
  },
  {
   "cell_type": "code",
   "execution_count": 30,
   "metadata": {
    "collapsed": true
   },
   "outputs": [],
   "source": [
    "BNL_Data = pd.DataFrame({'A':[12],'s_t_final':[143],'s_t_final_Err':[17]},index = ['$^{12}$C'])\n",
    "HallA_Data = pd.DataFrame({'A':[12],'s_t_final':[136],'s_t_final_Err':[20]},index = ['$^{12}$C'])\n",
    "Korover_Data = pd.DataFrame({'A':[4],'s_t_final':[100],'s_t_final_Err':[20]},index = ['$^{4}$He'])"
   ]
  },
  {
   "cell_type": "code",
   "execution_count": 31,
   "metadata": {
    "collapsed": false
   },
   "outputs": [],
   "source": [
    "\n",
    "def plot_data(data , Ashift=0, fmt='o', marker='^',color='red',\n",
    "                       markersize=20, linewidth=4, \n",
    "                       vary=None , varyerr=None , label=None ):\n",
    "    ax.errorbar((data['A']+Ashift), data['s_t_final'], yerr=data['s_t_final_Err'],                \n",
    "                color=color, marker=marker,markersize=markersize,linewidth=linewidth, fmt=fmt,label=label)\n",
    "    \n",
    "def plot_calculation_line( data , varx='A',kind='nearest' , vary=None , color='blue' , label=None, linewidth=4):\n",
    "    x = data[varx]\n",
    "    y = data[vary]\n",
    "    itp = interp1d(x,y, kind='linear')\n",
    "\n",
    "    if kind is None:\n",
    "        f = interp1d( x , y )\n",
    "    else:\n",
    "        f = interp1d( x , y ,kind=kind)\n",
    "\n",
    "    window_size, poly_order = 101, 4\n",
    "    xnew = np.linspace(x.min(),x.max(), num=500, endpoint=True)\n",
    "    yy_sg = savgol_filter(itp(xnew), window_size, poly_order)\n",
    "    plt.plot( xnew, yy_sg, '--', color=color , label=label, linewidth=linewidth )\n"
   ]
  },
  {
   "cell_type": "code",
   "execution_count": 32,
   "metadata": {
    "collapsed": true
   },
   "outputs": [],
   "source": [
    "def do_line_check(A=12):\n",
    "    _min_ = float(ThisWork[ThisWork.A==A]['s_t_final']-ThisWork[ThisWork.A==A]['s_t_final_Err'])\n",
    "    _max_ = float(ThisWork[ThisWork.A==A]['s_t_final']+ThisWork[ThisWork.A==A]['s_t_final_Err'])\n",
    "\n",
    "    plt.plot(np.linspace(0,210,100) , np.ones(100)*_min_)\n",
    "    plt.plot(np.linspace(0,210,100) , np.ones(100)*_max_)"
   ]
  },
  {
   "cell_type": "code",
   "execution_count": 36,
   "metadata": {
    "collapsed": false,
    "scrolled": false
   },
   "outputs": [
    {
     "data": {
      "image/png": "[encoded data removed]",
      "text/plain": [
       "<matplotlib.figure.Figure at 0x12ecdb750>"
      ]
     },
     "metadata": {},
     "output_type": "display_data"
    }
   ],
   "source": [
    "do_line_checks = False\n",
    "s=30\n",
    "fig, ax = plt.subplots(figsize=(16,15))\n",
    "plot_calculation_line( kind='slinear',data=ColleCalc, varx='A' , vary='allpairs',color='purple' ,label='Colle et al., All pairs')\n",
    "plot_calculation_line( kind='slinear',data=ColleCalc, varx='A' , vary='nl00',label='Colle et al., $^1S_0$ pairs')\n",
    "ax.errorbar(CiofiCalc.A, CiofiCalc.s_t,color='green',fmt='--o',ms=10,linewidth=1,label='Ciofi and Simula')\n",
    "\n",
    "plot_data( data=BNL_Data, Ashift=1 , marker='s', label=None )\n",
    "plot_data( data=HallA_Data, Ashift=-1 , marker='s' , label='Hall-A/BNL' )\n",
    "plot_data( data=Korover_Data , marker='s' , label=None )\n",
    "\n",
    "ax.plot(0.97*NoAccCorr['A'], NoAccCorr['s_t_final'], \n",
    "        color='red', marker='s',mfc='none',lw = 2, mew = 2, ms = 10, linewidth=0, label='This work, no acceptance corr.')\n",
    "plot_data( data=ThisWork, label='This work' )\n",
    "\n",
    "\n",
    "# plt.grid(which='both')\n",
    "pt.set_axes(ax , 'A' , '$\\sigma$ [MeV/c]' , fontsize=35)\n",
    "ax.legend(fontsize=25,bbox_to_anchor=(1.05, 1), borderaxespad=0.,loc=2)\n",
    "ax.grid(b=True, which='major', color='b', linestyle='--',alpha=0.7)\n",
    "\n",
    "ax.set_xlim(2.5,250)\n",
    "ax.set_ylim(79,200)\n",
    "ax.set_xscale('log')\n",
    "# ax.text(4,122,'$^4$He',fontsize=25)\n",
    "# ax.text(10,175,'$^{12}$C',fontsize=25)\n",
    "# ax.text(21,185,'$^{27}$Al',fontsize=25)\n",
    "# ax.text(45,192,'$^{56}$Fe',fontsize=25)\n",
    "# ax.text(140,194,'$^{208}$Pb',fontsize=25)\n",
    "if do_line_checks:\n",
    "    do_line_check(12)\n",
    "    do_line_check(27)\n",
    "    do_line_check(56)\n",
    "    do_line_check(208)\n",
    "\n",
    "plt.savefig('/Users/erezcohen/Desktop/DataMining/AccCorr_ppSRCAnalysisNote/all_figures//WidthAdependence.pdf', dpi=300, bbox_inches='tight')\n"
   ]
  },
  {
   "cell_type": "code",
   "execution_count": 156,
   "metadata": {
    "collapsed": false
   },
   "outputs": [
    {
     "name": "stdout",
     "output_type": "stream",
     "text": [
      "$^{12}$C      148.449449\n",
      "$^{27}$Al     137.039362\n",
      "$^{56}$Fe     170.602131\n",
      "$^{208}$Pb    158.041998\n",
      "dtype: float64\n",
      "$^{12}$C      169.040709\n",
      "$^{27}$Al     174.402446\n",
      "$^{56}$Fe     191.193391\n",
      "$^{208}$Pb    189.664775\n",
      "dtype: float64\n"
     ]
    }
   ],
   "source": [
    "print ThisWork['s_t_final']-ThisWork['s_t_final_Err']\n",
    "print ThisWork['s_t_final']+ThisWork['s_t_final_Err']"
   ]
  },
  {
   "cell_type": "code",
   "execution_count": null,
   "metadata": {
    "collapsed": true
   },
   "outputs": [],
   "source": []
  },
  {
   "cell_type": "code",
   "execution_count": null,
   "metadata": {
    "collapsed": true
   },
   "outputs": [],
   "source": []
  }
 ],
 "metadata": {
  "kernelspec": {
   "display_name": "Python 2",
   "language": "python",
   "name": "python2"
  },
  "language_info": {
   "codemirror_mode": {
    "name": "ipython",
    "version": 2
   },
   "file_extension": ".py",
   "mimetype": "text/x-python",
   "name": "python",
   "nbconvert_exporter": "python",
   "pygments_lexer": "ipython2",
   "version": "2.7.11"
  }
 },
 "nbformat": 4,
 "nbformat_minor": 0
}
