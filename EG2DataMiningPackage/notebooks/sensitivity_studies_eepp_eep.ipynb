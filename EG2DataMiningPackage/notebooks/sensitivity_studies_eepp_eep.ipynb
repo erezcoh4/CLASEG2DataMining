{
 "cells": [
  {
   "cell_type": "markdown",
   "metadata": {},
   "source": [
    "# acceptance factor of (e,e'pp)/(e,e'p) ratio "
   ]
  },
  {
   "cell_type": "markdown",
   "metadata": {},
   "source": [
    "# imports"
   ]
  },
  {
   "cell_type": "code",
   "execution_count": 1,
   "metadata": {
    "collapsed": false
   },
   "outputs": [],
   "source": [
    "from notebook_tools import *\n",
    "from matplotlib.ticker import NullFormatter,MultipleLocator, FormatStrFormatter\n",
    "from pylab import *\n",
    "majorLocator   = MultipleLocator(0.01)\n",
    "%matplotlib inline"
   ]
  },
  {
   "cell_type": "markdown",
   "metadata": {},
   "source": [
    "# read data"
   ]
  },
  {
   "cell_type": "markdown",
   "metadata": {},
   "source": [
    "# histograms of fractions of lost events in each p(miss) bin"
   ]
  },
  {
   "cell_type": "code",
   "execution_count": 2,
   "metadata": {
    "collapsed": false
   },
   "outputs": [
    {
     "name": "stdout",
     "output_type": "stream",
     "text": [
      "pmiss_bin_center: [0.31875, 0.35625, 0.39375, 0.43125, 0.4625, 0.48750000000000004, 0.5125, 0.5375000000000001, 0.5625, 0.5875000000000001, 0.6125, 0.6375, 0.6625000000000001, 0.6875, 0.7124999999999999, 0.7375, 0.78125, 0.84375, 0.90625, 0.96875]\n",
      "pmiss_analysis_bins_center: [0.3375, 0.4125, 0.475, 0.525, 0.5750000000000001, 0.625, 0.675, 0.725, 0.8125, 0.9375]\n"
     ]
    }
   ],
   "source": [
    "PmissBins = [[0.3,0.45]  , [0.45,0.55] , [0.55,0.65] , [0.65,0.75] , [0.75,1.0]]\n",
    "pmiss_analysis_bins , pmiss_analysis_bins_center , pmiss_multiples_bins , pmiss_bin_center = [] , [] , [] , []\n",
    "for i in range(len(PmissBins)):\n",
    "    pmin , pmax = PmissBins[i][0] , PmissBins[i][1]\n",
    "    for j in range(4):\n",
    "        pmiss_multiples_bins.append( [ pmin + float(j*(pmax-pmin))/4 , pmin + float((j+1)*(pmax-pmin))/4 ])\n",
    "    for j in range(2):\n",
    "        pmiss_analysis_bins.append( [ pmin + float(j*(pmax-pmin))/2 , pmin + float((j+1)*(pmax-pmin))/2 ])\n",
    "\n",
    "for i in range( len(pmiss_multiples_bins) ):\n",
    "    pmin , pmax = pmiss_multiples_bins[i][0] , pmiss_multiples_bins[i][1]\n",
    "    pmiss_bin_center.append(0.5*(pmin+pmax))\n",
    "print 'pmiss_bin_center:',pmiss_bin_center\n",
    "for i in range( len(pmiss_analysis_bins) ):\n",
    "    pmin , pmax = pmiss_analysis_bins[i][0] , pmiss_analysis_bins[i][1]\n",
    "    pmiss_analysis_bins_center.append(0.5*(pmin+pmax))\n",
    "print 'pmiss_analysis_bins_center:',pmiss_analysis_bins_center"
   ]
  },
  {
   "cell_type": "markdown",
   "metadata": {},
   "source": [
    "# (e,e'pp)/(e,e'p) ratio from DATA with no acceptance correction"
   ]
  },
  {
   "cell_type": "code",
   "execution_count": null,
   "metadata": {
    "collapsed": false,
    "scrolled": true
   },
   "outputs": [],
   "source": [
    "def gen_eepp_eep_ratio(eep=TPlots() , eepp=TPlots(), cut_name='nominal_cuts',\n",
    "                        target = 'C12', target_name = '$^{12}$C',\n",
    "                        pmiss_bins=None, \n",
    "                        do_print = False,\n",
    "                        do_save_plots=True):\n",
    "    pmiss_bin_center = []\n",
    "    eep_in_bin , eepp_in_bin , ratio , ratio_err =  [] , [] , [] , []\n",
    "    for i in range( len(pmiss_bins) ):\n",
    "        pmin , pmax = pmiss_bins[i][0] , pmiss_bins[i][1]\n",
    "        pmiss_bin_center.append(0.5*(pmin+pmax))\n",
    "        eep_in_bin.append( eep.GetEntries(ROOT.TCut(\"%f<Pmiss3Mag && Pmiss3Mag<%f\"%(pmin , pmax))) )\n",
    "        eepp_in_bin.append( eepp.GetEntries(ROOT.TCut(\"%f<Pmiss3Mag && Pmiss3Mag<%f\"%(pmin , pmax))) )\n",
    "        ratio.append(100*float(eepp_in_bin[-1])/eep_in_bin[-1])\n",
    "        ratio_err.append(ratio[-1] * np.sqrt(1./eepp_in_bin[-1] + 1./eep_in_bin[-1]))\n",
    "    \n",
    "    eep.Close()\n",
    "    eepp.Close()\n",
    "    \n",
    "    fig,ax = plt.subplots(figsize=(15,10))\n",
    "    plt.errorbar(pmiss_bin_center,ratio,xerr=np.zeros(len(pmiss_bin_center)),yerr=ratio_err,fmt='ro', color='black',markersize=20)\n",
    "    set_axes(ax , x_label=r'$|\\vec{p}_{miss}|$ [GeV/c]',y_label= r\"%s ${\\frac{(e,e'pp)}{(e,e'p)}}$\"%target_name + ' [%]')\n",
    "    ax.grid()\n",
    "    ax.set_ylim(0,21)\n",
    "    ax.set_xlim(0.25,1.01)\n",
    "    \n",
    "    if do_save_plots:\n",
    "        fig.savefig('/Users/erezcohen/Desktop/DataMining/ppSRCAnalysisNote/chapter9/figures/sensitivity_studies/eeppeep_measured_%s_%s.pdf'%(cut_name,target))"
   ]
  },
  {
   "cell_type": "code",
   "execution_count": null,
   "metadata": {
    "collapsed": false
   },
   "outputs": [],
   "source": [
    "target = 'C12'\n",
    "target_name = '$^{12}$C'\n",
    "eep = TPlots('/Users/erezcohen/Desktop/DataMining/AnaFiles/Ana_eep_in_ppSRCCut_DATA_%s.root'%target , 'anaTree')\n",
    "eepp = TPlots('/Users/erezcohen/Desktop/DataMining/AnaFiles/Ana_ppSRCCut_DATA_%s.root'%target , 'anaTree')\n",
    "\n",
    "gen_eepp_eep_ratio(eep=eep , eepp=eepp, cut_name='nominal cuts',                      \n",
    "                   target=target, target_name=target_name,\n",
    "                   pmiss_bins=pmiss_analysis_bins,                  \n",
    "                   do_print = False, \n",
    "                   do_save_plots=False)"
   ]
  },
  {
   "cell_type": "code",
   "execution_count": null,
   "metadata": {
    "collapsed": true
   },
   "outputs": [],
   "source": []
  }
 ],
 "metadata": {
  "kernelspec": {
   "display_name": "Python 2",
   "language": "python",
   "name": "python2"
  },
  "language_info": {
   "codemirror_mode": {
    "name": "ipython",
    "version": 2
   },
   "file_extension": ".py",
   "mimetype": "text/x-python",
   "name": "python",
   "nbconvert_exporter": "python",
   "pygments_lexer": "ipython2",
   "version": "2.7.11"
  }
 },
 "nbformat": 4,
 "nbformat_minor": 1
}
