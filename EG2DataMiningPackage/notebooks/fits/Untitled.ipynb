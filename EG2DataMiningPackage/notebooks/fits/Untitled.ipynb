{
 "cells": [
  {
   "cell_type": "code",
   "execution_count": 7,
   "metadata": {
    "collapsed": false
   },
   "outputs": [
    {
     "name": "stdout",
     "output_type": "stream",
     "text": [
      "(2, 101)\n",
      "(101,)\n",
      "(array([  2.22724728e-18,  -1.94001882e+01,   2.02543307e+02]), array([[  1.07844988e-35,   2.58176168e-18,  -8.01413509e-18],\n",
      "       [  2.58176168e-18,   6.31279919e-01,  -1.90891944e+00],\n",
      "       [ -8.01413509e-18,  -1.90891944e+00,   6.01340660e+00]]))\n"
     ]
    },
    {
     "name": "stderr",
     "output_type": "stream",
     "text": [
      "/usr/local/lib/python2.7/site-packages/ipykernel/__main__.py:7: RuntimeWarning: invalid value encountered in log\n"
     ]
    }
   ],
   "source": [
    "import scipy\n",
    "import numpy as np\n",
    "from scipy.optimize import curve_fit\n",
    "\n",
    "\n",
    "def func(X, a, b, c):\n",
    "    x,y = X\n",
    "    return np.log(a) + b*np.log(x) + c*np.log(y) +c*log(z)\n",
    "\n",
    "# some artificially noisy data to fit\n",
    "x = np.linspace(0.1,1.1,101)\n",
    "y = np.linspace(1.,2., 101)\n",
    "z = np.linspace(1,100,101)\n",
    "a, b, c = 10., 4., 6.\n",
    "\n",
    "\n",
    "print np.array((x,y)).shape\n",
    "# z = func((x,y), a, b, c) * 1 + np.random.random(101) / 100\n",
    "print z.shape\n",
    "\n",
    "# initial guesses for a,b,c:\n",
    "p0 = 8., 2., 7.\n",
    "print curve_fit(func, (x,y), z, p0)"
   ]
  },
  {
   "cell_type": "code",
   "execution_count": 9,
   "metadata": {
    "collapsed": false
   },
   "outputs": [
    {
     "name": "stdout",
     "output_type": "stream",
     "text": [
      "[  0.           0.2020202    0.4040404    0.60606061   0.80808081\n",
      "   1.01010101   1.21212121   1.41414141   1.61616162   1.81818182\n",
      "   2.02020202   2.22222222   2.42424242   2.62626263   2.82828283\n",
      "   3.03030303   3.23232323   3.43434343   3.63636364   3.83838384\n",
      "   4.04040404   4.24242424   4.44444444   4.64646465   4.84848485\n",
      "   5.05050505   5.25252525   5.45454545   5.65656566   5.85858586\n",
      "   6.06060606   6.26262626   6.46464646   6.66666667   6.86868687\n",
      "   7.07070707   7.27272727   7.47474747   7.67676768   7.87878788\n",
      "   8.08080808   8.28282828   8.48484848   8.68686869   8.88888889\n",
      "   9.09090909   9.29292929   9.49494949   9.6969697    9.8989899\n",
      "  10.1010101   10.3030303   10.50505051  10.70707071  10.90909091\n",
      "  11.11111111  11.31313131  11.51515152  11.71717172  11.91919192\n",
      "  12.12121212  12.32323232  12.52525253  12.72727273  12.92929293\n",
      "  13.13131313  13.33333333  13.53535354  13.73737374  13.93939394\n",
      "  14.14141414  14.34343434  14.54545455  14.74747475  14.94949495\n",
      "  15.15151515  15.35353535  15.55555556  15.75757576  15.95959596\n",
      "  16.16161616  16.36363636  16.56565657  16.76767677  16.96969697\n",
      "  17.17171717  17.37373737  17.57575758  17.77777778  17.97979798\n",
      "  18.18181818  18.38383838  18.58585859  18.78787879  18.98989899\n",
      "  19.19191919  19.39393939  19.5959596   19.7979798   20.        ]\n"
     ]
    },
    {
     "data": {
      "text/plain": [
       "array([ 0,  0,  0,  0,  0,  1,  1,  1,  1,  1,  2,  2,  2,  2,  2,  3,  3,\n",
       "        3,  3,  3,  4,  4,  4,  4,  4,  5,  5,  5,  5,  5,  6,  6,  6,  6,\n",
       "        6,  7,  7,  7,  7,  7,  8,  8,  8,  8,  8,  9,  9,  9,  9,  9, 10,\n",
       "       10, 10, 10, 10, 11, 11, 11, 11, 11, 12, 12, 12, 12, 12, 13, 13, 13,\n",
       "       13, 13, 14, 14, 14, 14, 14, 15, 15, 15, 15, 15, 16, 16, 16, 16, 16,\n",
       "       17, 17, 17, 17, 17, 18, 18, 18, 18, 18, 19, 19, 19, 19, 20], dtype=int32)"
      ]
     },
     "execution_count": 9,
     "metadata": {},
     "output_type": "execute_result"
    }
   ],
   "source": [
    "data=np.linspace(0,20,100)\n",
    "print data\n",
    "data.astype(np.int32)\n"
   ]
  },
  {
   "cell_type": "code",
   "execution_count": null,
   "metadata": {
    "collapsed": true
   },
   "outputs": [],
   "source": []
  }
 ],
 "metadata": {
  "kernelspec": {
   "display_name": "Python 2",
   "language": "python",
   "name": "python2"
  },
  "language_info": {
   "codemirror_mode": {
    "name": "ipython",
    "version": 2
   },
   "file_extension": ".py",
   "mimetype": "text/x-python",
   "name": "python",
   "nbconvert_exporter": "python",
   "pygments_lexer": "ipython2",
   "version": "2.7.11"
  }
 },
 "nbformat": 4,
 "nbformat_minor": 0
}
