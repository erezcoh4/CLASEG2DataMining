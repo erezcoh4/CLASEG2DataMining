{
 "cells": [
  {
   "cell_type": "markdown",
   "metadata": {},
   "source": [
    "# analysis of pp-SRC c.m. momentum simulations"
   ]
  },
  {
   "cell_type": "markdown",
   "metadata": {},
   "source": [
    "# imports"
   ]
  },
  {
   "cell_type": "code",
   "execution_count": 5,
   "metadata": {
    "collapsed": false
   },
   "outputs": [],
   "source": [
    "from notebook_tools import *\n",
    "from my_tools import *\n",
    "%matplotlib inline"
   ]
  },
  {
   "cell_type": "markdown",
   "metadata": {},
   "source": [
    "# read data"
   ]
  },
  {
   "cell_type": "markdown",
   "metadata": {},
   "source": [
    "runs 20,000-30,000"
   ]
  },
  {
   "cell_type": "markdown",
   "metadata": {},
   "source": [
    "sims0 = pd.read_csv( '/Users/erezcohen/Desktop/DataMining/Analysis_DATA/ppSRCcm/simulation/runs20000to30000_NsigmaT_10_NSigmaZa1_5_NSigmaZa2_8_NMeanZa1_5_NMeanZa2_5_NRand_10_simulationruns_results.csv')"
   ]
  },
  {
   "cell_type": "markdown",
   "metadata": {},
   "source": [
    "runs 50,000 to 68,746"
   ]
  },
  {
   "cell_type": "markdown",
   "metadata": {},
   "source": [
    "sims = pd.read_csv('/Users/erezcohen/Desktop/DataMining/Analysis_DATA/ppSRCcm/simulation/runs50000to68746_NsigmaT_15_NSigmaZa1_10_NSigmaZa2_5_NMeanZa1_5_NMeanZa2_5_NRand_10_simulationruns_results.csv')"
   ]
  },
  {
   "cell_type": "markdown",
   "metadata": {},
   "source": [
    "runs 100,000 to 200800"
   ]
  },
  {
   "cell_type": "markdown",
   "metadata": {
    "collapsed": false
   },
   "source": [
    "sims = pd.read_csv('/Users/erezcohen/Desktop/DataMining/Analysis_DATA/ppSRCcm/simulation/runs100000to200799_10SigmaT_10SigmaZa1_10SigmaZa2_10MeanZa1_10MeanZa2_10NRand_results.csv')"
   ]
  },
  {
   "cell_type": "code",
   "execution_count": 2,
   "metadata": {
    "collapsed": true
   },
   "outputs": [],
   "source": [
    "sims = pd.read_csv('/Users/erezcohen/Desktop/DataMining/Analysis_DATA/ppSRCcm/simulation/runs500000to5018543_30SigmaT_5SigmaZa1_5SigmaZa2_5MeanZa1_5MeanZa2_10NRand_results.csv')"
   ]
  },
  {
   "cell_type": "code",
   "execution_count": 8,
   "metadata": {
    "collapsed": false
   },
   "outputs": [],
   "source": [
    "def draw_PvalWeighting_Fit2Gaussian(var='SigmaX',xlabel='',\n",
    "                                    bins=50,\n",
    "                                    legend_loc='bbox',\n",
    "                                    target='12C',\n",
    "                                    do_fit_gaussian=True,\n",
    "                                    x_range = None,\n",
    "                                    y_range = None,\n",
    "                                    xtext = None , ytext=None):\n",
    "    \n",
    "    weights=[sims.run/sims.run,sims['Pval'+var+'_unweighted_'+target],sims['PvalTotal_unweighted_'+target],sims.KSxPval]\n",
    "    weighting_labels=['generated','$Pval$ weighted','$Pval_{tot}$ weighted','$KS_{tot}$ weighted']\n",
    "    histograms , bins = plot_1d_withoutandwithweight(sims['gen'+var],\n",
    "                                                     weights=weights,\n",
    "                                                     weighting_labels = weighting_labels,\n",
    "                                                     bins=bins,\n",
    "                                                     legend_loc=legend_loc,\n",
    "                                                     fontsize=20,\n",
    "                                                     xlabel=xlabel,\n",
    "                                                     x_range=x_range,                                                    \n",
    "                                                     y_range=y_range);\n",
    "    do_show_gaussians = [False , True , True , False]\n",
    "    \n",
    "    for hw,weight,weighting_label,do_show_gaussian in zip(histograms,weights,weighting_labels,do_show_gaussians):\n",
    "        mu = np.average(sims['gen'+var] , weights=weight)\n",
    "        variance = np.average((sims['gen'+var]-mu)**2, weights=weight)\n",
    "        sigma = np.sqrt(variance)\n",
    "                                                                           \n",
    "        if do_fit_gaussian and do_show_gaussian:\n",
    "            x = np.linspace(bins.min(),bins.max(),100)\n",
    "            y = mlab.normpdf( x, mu, sigma) # bins\n",
    "            ynormed = y*(hw.max()/y.max())\n",
    "            plt.plot(x, ynormed, '--', linewidth=2)\n",
    "        print weighting_label + ': \\n mean=%.3f , stdev=%.3f'%(mu,sigma)\n",
    "        \n",
    "    \n",
    "def draw_PvalWeighting_2d( df , v1 , v2 , bins=40 , weights=None , cmap='Greys' ,\n",
    "                          xlabel=None,ylabel=None ,\n",
    "                         figsize=(10,10),title=None):\n",
    "    fig,ax=plt.subplots(figsize=figsize)\n",
    "    plt.hist2d(df[v1],df[v2],bins=bins,weights=weights,cmap=cmap);\n",
    "    plt.colorbar()\n",
    "    set_axes( ax , xlabel , ylabel )\n",
    "    ax.set_title(title)\n",
    "    \n",
    "    \n",
    "def draw_all_PvalWeighting_2d(v1='SigmaZa1' , v2='SigmaZa2' ,\n",
    "                              xlabel='$\\\\sigma_{z}-a_{1}$',ylabel='$\\\\sigma_{z}-a_{2}$ [GeV/c]' ,\n",
    "                              bins=40,\n",
    "                              figsize=(10,10),\n",
    "                              weights=None,\n",
    "                              cmaps=None):\n",
    "    \n",
    "    for weight,cmap in zip(weights,cmaps):\n",
    "        print weight , cmap\n",
    "        title=weight\n",
    "        weight=sims[weight] if weight is not None else None\n",
    "        draw_PvalWeighting_2d( sims , 'gen'+v1 , 'gen'+v2 , bins=bins , weights=weight  , cmap=cmap ,\n",
    "                              xlabel=xlabel,ylabel=ylabel, figsize=figsize , title=title);\n"
   ]
  },
  {
   "cell_type": "markdown",
   "metadata": {},
   "source": [
    "# histograms of generated, and generated+weighted"
   ]
  },
  {
   "cell_type": "code",
   "execution_count": 25,
   "metadata": {
    "collapsed": false
   },
   "outputs": [
    {
     "ename": "NameError",
     "evalue": "name 'LogNorm' is not defined",
     "output_type": "error",
     "traceback": [
      "\u001b[0;31m---------------------------------------------------------------------------\u001b[0m",
      "\u001b[0;31mNameError\u001b[0m                                 Traceback (most recent call last)",
      "\u001b[0;32m<ipython-input-25-617253b1e743>\u001b[0m in \u001b[0;36m<module>\u001b[0;34m()\u001b[0m\n\u001b[0;32m----> 1\u001b[0;31m \u001b[0mplt\u001b[0m\u001b[0;34m.\u001b[0m\u001b[0mhist2d\u001b[0m\u001b[0;34m(\u001b[0m\u001b[0msims\u001b[0m\u001b[0;34m.\u001b[0m\u001b[0mgenSigmaX\u001b[0m\u001b[0;34m,\u001b[0m\u001b[0msims\u001b[0m\u001b[0;34m.\u001b[0m\u001b[0mKSxPval\u001b[0m\u001b[0;34m+\u001b[0m\u001b[0msims\u001b[0m\u001b[0;34m.\u001b[0m\u001b[0mKSyPval\u001b[0m\u001b[0;34m+\u001b[0m\u001b[0msims\u001b[0m\u001b[0;34m.\u001b[0m\u001b[0mKSzPval\u001b[0m\u001b[0;34m,\u001b[0m\u001b[0mbins\u001b[0m\u001b[0;34m=\u001b[0m\u001b[0;34m[\u001b[0m\u001b[0mnp\u001b[0m\u001b[0;34m.\u001b[0m\u001b[0mlinspace\u001b[0m\u001b[0;34m(\u001b[0m\u001b[0;36m0.1\u001b[0m\u001b[0;34m,\u001b[0m\u001b[0;36m0.22\u001b[0m\u001b[0;34m,\u001b[0m\u001b[0;36m100\u001b[0m\u001b[0;34m)\u001b[0m\u001b[0;34m,\u001b[0m\u001b[0mnp\u001b[0m\u001b[0;34m.\u001b[0m\u001b[0mlinspace\u001b[0m\u001b[0;34m(\u001b[0m\u001b[0;36m0\u001b[0m\u001b[0;34m,\u001b[0m\u001b[0;36m1\u001b[0m\u001b[0;34m,\u001b[0m\u001b[0;36m10\u001b[0m\u001b[0;34m)\u001b[0m\u001b[0;34m]\u001b[0m\u001b[0;34m,\u001b[0m\u001b[0mnorm\u001b[0m\u001b[0;34m=\u001b[0m\u001b[0mLogNorm\u001b[0m\u001b[0;34m(\u001b[0m\u001b[0;34m)\u001b[0m\u001b[0;34m)\u001b[0m\u001b[0;34m;\u001b[0m\u001b[0;34m\u001b[0m\u001b[0m\n\u001b[0m",
      "\u001b[0;31mNameError\u001b[0m: name 'LogNorm' is not defined"
     ]
    }
   ],
   "source": [
    "plt.hist2d(sims.genSigmaX,sims.KSxPval+sims.KSyPval+sims.KSzPval,bins=[np.linspace(0.1,0.22,100),np.linspace(0,1,10)]);"
   ]
  },
  {
   "cell_type": "code",
   "execution_count": 7,
   "metadata": {
    "collapsed": false
   },
   "outputs": [
    {
     "data": {
      "image/png": "[encoded data removed]",
      "text/plain": [
       "<matplotlib.figure.Figure at 0x1283089d0>"
      ]
     },
     "metadata": {},
     "output_type": "display_data"
    }
   ],
   "source": [
    "plt.hist(sims.genSigmaX,weights=sims.KS3dHistPval,bins=30);\n",
    "# plt.hist(sims.KSxPval_tot,bins=np.linspace(0,0.002,100),range=(-0.1,0.1));\n",
    "# plt.hist2d(sims.genSigmaX,sims.KSxPval_tot,bins=[np.linspace(0.1,0.2,10),np.linspace(0.,0.03,10)],range=[(0.1,0.22),(0,0.1)],cmap='Greys');"
   ]
  },
  {
   "cell_type": "code",
   "execution_count": 6,
   "metadata": {
    "collapsed": false
   },
   "outputs": [
    {
     "name": "stdout",
     "output_type": "stream",
     "text": [
      "h: [ 1875.  1875.  1875.  1875.  1875.  1875.  1875.  1875.  1875.  1668.]\n"
     ]
    },
    {
     "ename": "AttributeError",
     "evalue": "'DataFrame' object has no attribute 'KSxPval_tot'",
     "output_type": "error",
     "traceback": [
      "\u001b[0;31m---------------------------------------------------------------------------\u001b[0m",
      "\u001b[0;31mAttributeError\u001b[0m                            Traceback (most recent call last)",
      "\u001b[0;32m<ipython-input-6-6a6f5f55eb60>\u001b[0m in \u001b[0;36m<module>\u001b[0;34m()\u001b[0m\n\u001b[1;32m      1\u001b[0m \u001b[0mh\u001b[0m \u001b[0;34m,\u001b[0m \u001b[0mbins\u001b[0m \u001b[0;34m,\u001b[0m \u001b[0mpatches\u001b[0m \u001b[0;34m=\u001b[0m \u001b[0mplt\u001b[0m\u001b[0;34m.\u001b[0m\u001b[0mhist\u001b[0m\u001b[0;34m(\u001b[0m\u001b[0msims\u001b[0m\u001b[0;34m.\u001b[0m\u001b[0mgenSigmaX\u001b[0m\u001b[0;34m,\u001b[0m\u001b[0mweights\u001b[0m\u001b[0;34m=\u001b[0m\u001b[0mNone\u001b[0m\u001b[0;34m,\u001b[0m\u001b[0mbins\u001b[0m\u001b[0;34m=\u001b[0m\u001b[0;36m10\u001b[0m\u001b[0;34m)\u001b[0m\u001b[0;34m\u001b[0m\u001b[0m\n\u001b[1;32m      2\u001b[0m \u001b[0;32mprint\u001b[0m \u001b[0;34m'h:'\u001b[0m\u001b[0;34m,\u001b[0m\u001b[0mh\u001b[0m\u001b[0;34m\u001b[0m\u001b[0m\n\u001b[0;32m----> 3\u001b[0;31m \u001b[0msims\u001b[0m\u001b[0;34m[\u001b[0m\u001b[0;34m'genSigmaXweightedKSxPval_tot'\u001b[0m\u001b[0;34m]\u001b[0m \u001b[0;34m=\u001b[0m \u001b[0msims\u001b[0m\u001b[0;34m.\u001b[0m\u001b[0mgenSigmaX\u001b[0m\u001b[0;34m*\u001b[0m\u001b[0msims\u001b[0m\u001b[0;34m.\u001b[0m\u001b[0mKSxPval_tot\u001b[0m\u001b[0;34m/\u001b[0m\u001b[0;36m0.0269804766953\u001b[0m\u001b[0;34m\u001b[0m\u001b[0m\n\u001b[0m\u001b[1;32m      4\u001b[0m \u001b[0;32mprint\u001b[0m \u001b[0;34m\"sims['genSigmaXweightedKSxPval_tot']:\"\u001b[0m\u001b[0;34m,\u001b[0m\u001b[0msims\u001b[0m\u001b[0;34m[\u001b[0m\u001b[0;34m'genSigmaXweightedKSxPval_tot'\u001b[0m\u001b[0;34m]\u001b[0m\u001b[0;34m\u001b[0m\u001b[0m\n\u001b[1;32m      5\u001b[0m \u001b[0mhw\u001b[0m \u001b[0;34m,\u001b[0m \u001b[0mbins\u001b[0m \u001b[0;34m,\u001b[0m \u001b[0mpatches\u001b[0m \u001b[0;34m=\u001b[0m \u001b[0mplt\u001b[0m\u001b[0;34m.\u001b[0m\u001b[0mhist\u001b[0m\u001b[0;34m(\u001b[0m\u001b[0msims\u001b[0m\u001b[0;34m.\u001b[0m\u001b[0mgenSigmaX\u001b[0m\u001b[0;34m,\u001b[0m\u001b[0mweights\u001b[0m\u001b[0;34m=\u001b[0m\u001b[0msims\u001b[0m\u001b[0;34m.\u001b[0m\u001b[0mgenSigmaXweightedKSxPval_tot\u001b[0m\u001b[0;34m,\u001b[0m\u001b[0mbins\u001b[0m\u001b[0;34m=\u001b[0m\u001b[0;36m10\u001b[0m\u001b[0;34m)\u001b[0m\u001b[0;34m\u001b[0m\u001b[0m\n",
      "\u001b[0;32m/usr/local/lib/python2.7/site-packages/pandas/core/generic.pyc\u001b[0m in \u001b[0;36m__getattr__\u001b[0;34m(self, name)\u001b[0m\n\u001b[1;32m   2670\u001b[0m             \u001b[0;32mif\u001b[0m \u001b[0mname\u001b[0m \u001b[0;32min\u001b[0m \u001b[0mself\u001b[0m\u001b[0;34m.\u001b[0m\u001b[0m_info_axis\u001b[0m\u001b[0;34m:\u001b[0m\u001b[0;34m\u001b[0m\u001b[0m\n\u001b[1;32m   2671\u001b[0m                 \u001b[0;32mreturn\u001b[0m \u001b[0mself\u001b[0m\u001b[0;34m[\u001b[0m\u001b[0mname\u001b[0m\u001b[0;34m]\u001b[0m\u001b[0;34m\u001b[0m\u001b[0m\n\u001b[0;32m-> 2672\u001b[0;31m             \u001b[0;32mreturn\u001b[0m \u001b[0mobject\u001b[0m\u001b[0;34m.\u001b[0m\u001b[0m__getattribute__\u001b[0m\u001b[0;34m(\u001b[0m\u001b[0mself\u001b[0m\u001b[0;34m,\u001b[0m \u001b[0mname\u001b[0m\u001b[0;34m)\u001b[0m\u001b[0;34m\u001b[0m\u001b[0m\n\u001b[0m\u001b[1;32m   2673\u001b[0m \u001b[0;34m\u001b[0m\u001b[0m\n\u001b[1;32m   2674\u001b[0m     \u001b[0;32mdef\u001b[0m \u001b[0m__setattr__\u001b[0m\u001b[0;34m(\u001b[0m\u001b[0mself\u001b[0m\u001b[0;34m,\u001b[0m \u001b[0mname\u001b[0m\u001b[0;34m,\u001b[0m \u001b[0mvalue\u001b[0m\u001b[0;34m)\u001b[0m\u001b[0;34m:\u001b[0m\u001b[0;34m\u001b[0m\u001b[0m\n",
      "\u001b[0;31mAttributeError\u001b[0m: 'DataFrame' object has no attribute 'KSxPval_tot'"
     ]
    },
    {
     "data": {
      "image/png": "[encoded data removed]",
      "text/plain": [
       "<matplotlib.figure.Figure at 0x127ce1790>"
      ]
     },
     "metadata": {},
     "output_type": "display_data"
    }
   ],
   "source": [
    "h , bins , patches = plt.hist(sims.genSigmaX,weights=None,bins=10)\n",
    "print 'h:',h\n",
    "sims['genSigmaXweightedKSxPval_tot'] = sims.genSigmaX*sims.KSxPval_tot/0.0269804766953\n",
    "print \"sims['genSigmaXweightedKSxPval_tot']:\",sims['genSigmaXweightedKSxPval_tot']\n",
    "hw , bins , patches = plt.hist(sims.genSigmaX,weights=sims.genSigmaXweightedKSxPval_tot,bins=10)\n",
    "print 'hw:',hw"
   ]
  },
  {
   "cell_type": "code",
   "execution_count": 7,
   "metadata": {
    "collapsed": false,
    "scrolled": false
   },
   "outputs": [
    {
     "ename": "NameError",
     "evalue": "global name 'set_axes' is not defined",
     "output_type": "error",
     "traceback": [
      "\u001b[0;31m---------------------------------------------------------------------------\u001b[0m",
      "\u001b[0;31mNameError\u001b[0m                                 Traceback (most recent call last)",
      "\u001b[0;32m<ipython-input-7-a04f9046874f>\u001b[0m in \u001b[0;36m<module>\u001b[0;34m()\u001b[0m\n\u001b[0;32m----> 1\u001b[0;31m \u001b[0mdraw_PvalWeighting_Fit2Gaussian\u001b[0m\u001b[0;34m(\u001b[0m\u001b[0mvar\u001b[0m\u001b[0;34m=\u001b[0m\u001b[0;34m'SigmaX'\u001b[0m\u001b[0;34m,\u001b[0m\u001b[0mxlabel\u001b[0m\u001b[0;34m=\u001b[0m\u001b[0;34m'$\\\\sigma_{x}$ [GeV/c]'\u001b[0m\u001b[0;34m,\u001b[0m\u001b[0mbins\u001b[0m\u001b[0;34m=\u001b[0m\u001b[0;36m15\u001b[0m\u001b[0;34m,\u001b[0m\u001b[0mx_range\u001b[0m\u001b[0;34m=\u001b[0m\u001b[0;34m(\u001b[0m\u001b[0;36m0.1\u001b[0m\u001b[0;34m,\u001b[0m\u001b[0;36m0.22\u001b[0m\u001b[0;34m)\u001b[0m\u001b[0;34m)\u001b[0m\u001b[0;34m\u001b[0m\u001b[0m\n\u001b[0m\u001b[1;32m      2\u001b[0m \u001b[0mdraw_PvalWeighting_Fit2Gaussian\u001b[0m\u001b[0;34m(\u001b[0m\u001b[0mvar\u001b[0m\u001b[0;34m=\u001b[0m\u001b[0;34m'SigmaY'\u001b[0m\u001b[0;34m,\u001b[0m\u001b[0mxlabel\u001b[0m\u001b[0;34m=\u001b[0m\u001b[0;34m'$\\\\sigma_{y}$ [GeV/c]'\u001b[0m\u001b[0;34m,\u001b[0m\u001b[0mbins\u001b[0m\u001b[0;34m=\u001b[0m\u001b[0;36m15\u001b[0m\u001b[0;34m,\u001b[0m\u001b[0mx_range\u001b[0m\u001b[0;34m=\u001b[0m\u001b[0;34m(\u001b[0m\u001b[0;36m0.1\u001b[0m\u001b[0;34m,\u001b[0m\u001b[0;36m0.22\u001b[0m\u001b[0;34m)\u001b[0m\u001b[0;34m)\u001b[0m\u001b[0;34m\u001b[0m\u001b[0m\n",
      "\u001b[0;32m<ipython-input-3-f1c010ff9c34>\u001b[0m in \u001b[0;36mdraw_PvalWeighting_Fit2Gaussian\u001b[0;34m(var, xlabel, bins, legend_loc, target, do_fit_gaussian, x_range, y_range, xtext, ytext)\u001b[0m\n\u001b[1;32m     18\u001b[0m                                                      \u001b[0mxlabel\u001b[0m\u001b[0;34m=\u001b[0m\u001b[0mxlabel\u001b[0m\u001b[0;34m,\u001b[0m\u001b[0;34m\u001b[0m\u001b[0m\n\u001b[1;32m     19\u001b[0m                                                      \u001b[0mx_range\u001b[0m\u001b[0;34m=\u001b[0m\u001b[0mx_range\u001b[0m\u001b[0;34m,\u001b[0m\u001b[0;34m\u001b[0m\u001b[0m\n\u001b[0;32m---> 20\u001b[0;31m                                                      y_range=y_range);\n\u001b[0m\u001b[1;32m     21\u001b[0m     \u001b[0mdo_show_gaussians\u001b[0m \u001b[0;34m=\u001b[0m \u001b[0;34m[\u001b[0m\u001b[0mFalse\u001b[0m \u001b[0;34m,\u001b[0m \u001b[0mTrue\u001b[0m \u001b[0;34m,\u001b[0m \u001b[0mTrue\u001b[0m \u001b[0;34m,\u001b[0m \u001b[0mFalse\u001b[0m\u001b[0;34m]\u001b[0m\u001b[0;34m\u001b[0m\u001b[0m\n\u001b[1;32m     22\u001b[0m \u001b[0;34m\u001b[0m\u001b[0m\n",
      "\u001b[0;32m/Users/erezcohen/larlite/UserDev/mySoftware/MySoftwarePackage/mac/plot_tools.pyc\u001b[0m in \u001b[0;36mplot_1d_withoutandwithweight\u001b[0;34m(x, weights, weighting_labels, bins, histtype, xlabel, ylabel, figsize, fontsize, alpha, legend_loc, x_range, y_range)\u001b[0m\n\u001b[1;32m     63\u001b[0m     \u001b[0mvars\u001b[0m \u001b[0;34m=\u001b[0m \u001b[0;34m[\u001b[0m\u001b[0mx\u001b[0m \u001b[0;32mfor\u001b[0m \u001b[0mi\u001b[0m \u001b[0;32min\u001b[0m \u001b[0mrange\u001b[0m\u001b[0;34m(\u001b[0m\u001b[0mlen\u001b[0m\u001b[0;34m(\u001b[0m\u001b[0mweights\u001b[0m\u001b[0;34m)\u001b[0m\u001b[0;34m)\u001b[0m\u001b[0;34m]\u001b[0m\u001b[0;34m\u001b[0m\u001b[0m\n\u001b[1;32m     64\u001b[0m     \u001b[0mhistograms\u001b[0m\u001b[0;34m,\u001b[0m \u001b[0mbins\u001b[0m\u001b[0;34m,\u001b[0m \u001b[0mpatches\u001b[0m \u001b[0;34m=\u001b[0m \u001b[0mplt\u001b[0m\u001b[0;34m.\u001b[0m\u001b[0mhist\u001b[0m\u001b[0;34m(\u001b[0m \u001b[0mvars\u001b[0m\u001b[0;34m,\u001b[0m \u001b[0mbins\u001b[0m\u001b[0;34m=\u001b[0m\u001b[0mbins\u001b[0m\u001b[0;34m,\u001b[0m \u001b[0mweights\u001b[0m\u001b[0;34m=\u001b[0m\u001b[0mweights\u001b[0m\u001b[0;34m,\u001b[0m \u001b[0mlabel\u001b[0m\u001b[0;34m=\u001b[0m\u001b[0mweighting_labels\u001b[0m \u001b[0;34m,\u001b[0m \u001b[0mhisttype\u001b[0m\u001b[0;34m=\u001b[0m\u001b[0;34m'bar'\u001b[0m \u001b[0;34m,\u001b[0m \u001b[0mnormed\u001b[0m\u001b[0;34m=\u001b[0m\u001b[0;36m1\u001b[0m\u001b[0;34m)\u001b[0m\u001b[0;34m\u001b[0m\u001b[0m\n\u001b[0;32m---> 65\u001b[0;31m     \u001b[0mset_axes\u001b[0m\u001b[0;34m(\u001b[0m \u001b[0max\u001b[0m \u001b[0;34m,\u001b[0m \u001b[0mxlabel\u001b[0m \u001b[0;34m,\u001b[0m \u001b[0mylabel\u001b[0m \u001b[0;34m,\u001b[0m \u001b[0mfontsize\u001b[0m\u001b[0;34m=\u001b[0m\u001b[0mfontsize\u001b[0m \u001b[0;34m)\u001b[0m\u001b[0;34m\u001b[0m\u001b[0m\n\u001b[0m\u001b[1;32m     66\u001b[0m     \u001b[0;32mif\u001b[0m \u001b[0mx_range\u001b[0m \u001b[0;32mis\u001b[0m \u001b[0;32mnot\u001b[0m \u001b[0mNone\u001b[0m\u001b[0;34m:\u001b[0m\u001b[0;34m\u001b[0m\u001b[0m\n\u001b[1;32m     67\u001b[0m         \u001b[0max\u001b[0m\u001b[0;34m.\u001b[0m\u001b[0mset_xlim\u001b[0m\u001b[0;34m(\u001b[0m\u001b[0mx_range\u001b[0m\u001b[0;34m)\u001b[0m\u001b[0;34m\u001b[0m\u001b[0m\n",
      "\u001b[0;31mNameError\u001b[0m: global name 'set_axes' is not defined"
     ]
    },
    {
     "data": {
      "image/png": "[encoded data removed]",
      "text/plain": [
       "<matplotlib.figure.Figure at 0x127d03890>"
      ]
     },
     "metadata": {},
     "output_type": "display_data"
    }
   ],
   "source": [
    "draw_PvalWeighting_Fit2Gaussian(var='SigmaX',xlabel='$\\\\sigma_{x}$ [GeV/c]',bins=15,x_range=(0.1,0.22))\n",
    "draw_PvalWeighting_Fit2Gaussian(var='SigmaY',xlabel='$\\\\sigma_{y}$ [GeV/c]',bins=15,x_range=(0.1,0.22))"
   ]
  },
  {
   "cell_type": "code",
   "execution_count": null,
   "metadata": {
    "collapsed": false,
    "scrolled": true
   },
   "outputs": [],
   "source": [
    "draw_PvalWeighting_Fit2Gaussian(var='SigmaZa1',xlabel='$\\\\sigma_{z}-a_{1}$',\n",
    "                                bins=20,do_fit_gaussian=False,x_range=(-0.1,1.4),xtext=0.23)"
   ]
  },
  {
   "cell_type": "code",
   "execution_count": null,
   "metadata": {
    "collapsed": false,
    "scrolled": true
   },
   "outputs": [],
   "source": [
    "draw_PvalWeighting_Fit2Gaussian(var='SigmaZa2',xlabel='$\\\\sigma_{z}-a_{2}$ [GeV/c]',\n",
    "                                bins=20,do_fit_gaussian=False)"
   ]
  },
  {
   "cell_type": "code",
   "execution_count": null,
   "metadata": {
    "collapsed": false,
    "scrolled": true
   },
   "outputs": [],
   "source": [
    "draw_PvalWeighting_Fit2Gaussian(var='MeanZa1',xlabel='$\\\\mu_{z}-a_{1}$',\n",
    "                                bins=10,x_range=(0.35,0.85),xtext=0.82,do_fit_gaussian=False,legend_loc='none')"
   ]
  },
  {
   "cell_type": "code",
   "execution_count": null,
   "metadata": {
    "collapsed": false,
    "scrolled": true
   },
   "outputs": [],
   "source": [
    "draw_PvalWeighting_Fit2Gaussian(var='MeanZa2',xlabel='$\\\\mu_{z}-a_{2}$ [GeV/c]',\n",
    "                                bins=10,legend_loc='upper left',xtext=-0.34,ytext=0.23,do_fit_gaussian=False)"
   ]
  },
  {
   "cell_type": "markdown",
   "metadata": {},
   "source": [
    "# runs 100,000 to 200,7999"
   ]
  },
  {
   "cell_type": "code",
   "execution_count": null,
   "metadata": {
    "collapsed": false,
    "scrolled": true
   },
   "outputs": [],
   "source": [
    "draw_PvalWeighting_Fit2Gaussian(var='SigmaZa1',xlabel='$\\\\sigma_{z}-a_{1}$',\n",
    "                                bins=20,do_fit_gaussian=False,x_range=(-1,2.4),y_range=(0,1.7),xtext=0.23)\n",
    "draw_PvalWeighting_Fit2Gaussian(var='SigmaZa2',xlabel='$\\\\sigma_{z}-a_{2}$ [GeV/c]',\n",
    "                                bins=20,x_range=(-0.3,0.2),do_fit_gaussian=False)"
   ]
  },
  {
   "cell_type": "markdown",
   "metadata": {},
   "source": [
    "# runs 300,000 to 460,000"
   ]
  },
  {
   "cell_type": "code",
   "execution_count": null,
   "metadata": {
    "collapsed": false
   },
   "outputs": [],
   "source": [
    "sims = pd.read_csv('/Users/erezcohen/Desktop/DataMining/Analysis_DATA/ppSRCcm/simulation/runs300000to460000_NsigmaT_1_NSigmaZa1_20_NSigmaZa2_20_NMeanZa1_20_NMeanZa2_20_NRand_10_simulationruns_results.csv')"
   ]
  },
  {
   "cell_type": "markdown",
   "metadata": {},
   "source": [
    "sum up Pval for only two variables at a time"
   ]
  },
  {
   "cell_type": "code",
   "execution_count": null,
   "metadata": {
    "collapsed": false
   },
   "outputs": [],
   "source": [
    "PvalMeanZa1MeanZa2 , PvalSigmaZa1SigmaZa2 , PvalSigmaZa1MeanZa2 , PvalSigmaZa2MeanZa1 , PvalSigmaZa1MeanZa1 , PvalSigmaZa2MeanZa2 = [] , [] , [] , [], [], []\n",
    "for index, row in sims.iterrows():\n",
    "    if index%10000==0 : print index\n",
    "    PvalSigmaZa1SigmaZa2.append(Fisher_combination_Pvals( [ row.PvalSigmaZa1_unweighted , row.PvalSigmaZa2_unweighted ] ) ) \n",
    "    PvalMeanZa1MeanZa2.append(Fisher_combination_Pvals( [ row.PvalMeanZa1_unweighted , row.PvalMeanZa2_unweighted ] ) ) \n",
    "    \n",
    "    PvalSigmaZa1MeanZa1.append(Fisher_combination_Pvals( [ row.PvalSigmaZa1_unweighted , row.PvalMeanZa1_unweighted ] ) )    \n",
    "    PvalSigmaZa1MeanZa2.append(Fisher_combination_Pvals( [ row.PvalSigmaZa1_unweighted , row.PvalMeanZa2_unweighted ] ) )\n",
    "    \n",
    "    PvalSigmaZa2MeanZa1.append(Fisher_combination_Pvals( [ row.PvalSigmaZa2_unweighted , row.PvalMeanZa1_unweighted ] ) )\n",
    "    PvalSigmaZa2MeanZa2.append(Fisher_combination_Pvals( [ row.PvalSigmaZa2_unweighted , row.PvalMeanZa2_unweighted ] ) )\n",
    "print 'done.'"
   ]
  },
  {
   "cell_type": "code",
   "execution_count": null,
   "metadata": {
    "collapsed": true
   },
   "outputs": [],
   "source": [
    "sims['PvalSigmaZa1SigmaZa2'] = PvalSigmaZa1SigmaZa2\n",
    "sims['PvalMeanZa1MeanZa2'] = PvalMeanZa1MeanZa2\n",
    "sims['PvalSigmaZa1MeanZa1'] = PvalSigmaZa1MeanZa1\n",
    "sims['PvalSigmaZa1MeanZa2'] = PvalSigmaZa1MeanZa2\n",
    "sims['PvalSigmaZa2MeanZa1'] = PvalSigmaZa2MeanZa1\n",
    "sims['PvalSigmaZa2MeanZa2'] = PvalSigmaZa2MeanZa2"
   ]
  },
  {
   "cell_type": "code",
   "execution_count": null,
   "metadata": {
    "collapsed": true
   },
   "outputs": [],
   "source": [
    "sims = pd.read_csv('/Users/erezcohen/Desktop/DataMining/Analysis_DATA/ppSRCcm/simulation/runs300000to460000_1sT_20sZa1_20sZa2_20mZa1_20mZa2_10r_results.csv')"
   ]
  },
  {
   "cell_type": "code",
   "execution_count": null,
   "metadata": {
    "collapsed": false,
    "scrolled": true
   },
   "outputs": [],
   "source": [
    "draw_PvalWeighting_Fit2Gaussian(var='SigmaX',xlabel='$\\\\sigma_{x}$ [GeV/c]',bins=15)\n",
    "draw_PvalWeighting_Fit2Gaussian(var='SigmaY',xlabel='$\\\\sigma_{y}$ [GeV/c]',bins=15)"
   ]
  },
  {
   "cell_type": "code",
   "execution_count": null,
   "metadata": {
    "collapsed": false,
    "scrolled": true
   },
   "outputs": [],
   "source": [
    "draw_PvalWeighting_Fit2Gaussian(var='SigmaZa1',xlabel='$\\\\sigma_{z}-a_{1}$',\n",
    "                                bins=20,do_fit_gaussian=False,x_range=(-.1,2.4),y_range=(0,1.7),xtext=0.23)\n",
    "draw_PvalWeighting_Fit2Gaussian(var='SigmaZa2',xlabel='$\\\\sigma_{z}-a_{2}$ [GeV/c]',\n",
    "                                bins=20,x_range=(-0.55,0.55),do_fit_gaussian=False)"
   ]
  },
  {
   "cell_type": "code",
   "execution_count": null,
   "metadata": {
    "collapsed": false,
    "scrolled": true
   },
   "outputs": [],
   "source": [
    "draw_PvalWeighting_Fit2Gaussian(var='MeanZa1',xlabel='$\\\\mu_{z}-a_{1}$',\n",
    "                                bins=10,x_range=(0.,1.2),xtext=0.82,do_fit_gaussian=False,legend_loc='none')\n",
    "draw_PvalWeighting_Fit2Gaussian(var='MeanZa2',xlabel='$\\\\mu_{z}-a_{2}$',\n",
    "                                bins=10,x_range=(-0.55,0.55),xtext=0.82,do_fit_gaussian=False,legend_loc='none')"
   ]
  },
  {
   "cell_type": "code",
   "execution_count": null,
   "metadata": {
    "collapsed": false
   },
   "outputs": [],
   "source": [
    "cmaps = ['Blues' , 'Reds' , 'Greens' , 'Purples']"
   ]
  },
  {
   "cell_type": "code",
   "execution_count": null,
   "metadata": {
    "collapsed": false
   },
   "outputs": [],
   "source": [
    "weights = [None , 'PvalSigmaZa1SigmaZa2' , 'PvalTotal_unweighted' , 'KStPval_avg' ]\n",
    "draw_all_PvalWeighting_2d(v1='SigmaZa1' , v2='SigmaZa2', bins=41 ,\n",
    "                          xlabel='$\\\\sigma_{z}-a_{1}$',ylabel='$\\\\sigma_{z}-a_{2}$ [GeV/c]' ,\n",
    "                          weights=weights,cmaps=cmaps);"
   ]
  },
  {
   "cell_type": "code",
   "execution_count": null,
   "metadata": {
    "collapsed": false
   },
   "outputs": [],
   "source": [
    "weights = [None , 'PvalMeanZa1MeanZa2' , 'PvalTotal_unweighted' , 'KSPval_tot' ]\n",
    "draw_all_PvalWeighting_2d(v1='MeanZa1' , v2='MeanZa2', bins=41 ,\n",
    "                          xlabel='$\\\\mu_{z}-a_{1}$',ylabel='$\\\\mu_{z}-a_{2}$ [GeV/c]' ,\n",
    "                          weights=weights,cmaps=cmaps);"
   ]
  },
  {
   "cell_type": "code",
   "execution_count": null,
   "metadata": {
    "collapsed": false
   },
   "outputs": [],
   "source": [
    "weights = [None , 'PvalSigmaZa2MeanZa1' , 'PvalTotal_unweighted' , 'KSPval_tot' ]\n",
    "draw_all_PvalWeighting_2d(v1='MeanZa1' , v2='SigmaZa2', bins=41 ,\n",
    "                          xlabel='$\\\\mu_{z}-a_{1}$',ylabel='$\\\\sigma_{z}-a_{2}$ [GeV/c]' ,\n",
    "                          weights=weights,cmaps=cmaps);"
   ]
  },
  {
   "cell_type": "code",
   "execution_count": null,
   "metadata": {
    "collapsed": false
   },
   "outputs": [],
   "source": [
    "weights = [None , 'PvalSigmaZa2MeanZa2' , 'PvalTotal_unweighted' , 'KSPval_tot' ]\n",
    "draw_all_PvalWeighting_2d(v1='MeanZa2' , v2='SigmaZa2', bins=41 ,\n",
    "                          xlabel='$\\\\mu_{z}-a_{2}$',ylabel='$\\\\sigma_{z}-a_{2}$ [GeV/c]' ,\n",
    "                          weights=weights,cmaps=cmaps);"
   ]
  },
  {
   "cell_type": "code",
   "execution_count": null,
   "metadata": {
    "collapsed": false
   },
   "outputs": [],
   "source": [
    "weights = [None , 'PvalSigmaZa1MeanZa1' , 'PvalTotal_unweighted' , 'KSPval_tot' ]\n",
    "draw_all_PvalWeighting_2d(v1='MeanZa1' , v2='SigmaZa1', bins=41 ,\n",
    "                          xlabel='$\\\\mu_{z}-a_{1}$',ylabel='$\\\\sigma_{z}-a_{1}$ [GeV/c]' ,\n",
    "                          weights=weights,cmaps=cmaps);"
   ]
  },
  {
   "cell_type": "code",
   "execution_count": null,
   "metadata": {
    "collapsed": false
   },
   "outputs": [],
   "source": [
    "weights = [None , 'PvalSigmaZa1MeanZa2' , 'PvalTotal_unweighted' , 'KSPval_tot' ]\n",
    "draw_all_PvalWeighting_2d(v1='MeanZa2' , v2='SigmaZa1', bins=41 ,\n",
    "                          xlabel='$\\\\mu_{z}-a_{2}$',ylabel='$\\\\sigma_{z}-a_{1}$ [GeV/c]' ,\n",
    "                          weights=weights,cmaps=cmaps);"
   ]
  },
  {
   "cell_type": "code",
   "execution_count": null,
   "metadata": {
    "collapsed": true
   },
   "outputs": [],
   "source": []
  }
 ],
 "metadata": {
  "kernelspec": {
   "display_name": "Python 2",
   "language": "python",
   "name": "python2"
  },
  "language_info": {
   "codemirror_mode": {
    "name": "ipython",
    "version": 2
   },
   "file_extension": ".py",
   "mimetype": "text/x-python",
   "name": "python",
   "nbconvert_exporter": "python",
   "pygments_lexer": "ipython2",
   "version": "2.7.11"
  }
 },
 "nbformat": 4,
 "nbformat_minor": 1
}
