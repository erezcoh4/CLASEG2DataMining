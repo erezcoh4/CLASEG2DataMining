{
 "cells": [
  {
   "cell_type": "code",
   "execution_count": 1,
   "metadata": {
    "collapsed": true
   },
   "outputs": [],
   "source": [
    "import ROOT , time , os, sys , math , datetime\n",
    "from ROOT import TPlots, TAnalysis, TAnalysisEG2 , TEG2dm , TCalcPhysVarsEG2 , TSchemeDATA ,GenerateEvents\n",
    "sys.path.insert(0, '/Users/erezcohen/larlite/UserDev/mySoftware/MySoftwarePackage/mac')\n",
    "sys.path.insert(0, '/home/erez/larlite/UserDev/mySoftware/MySoftwarePackage/mac')\n",
    "sys.path.insert(0, '../../GSIMulation')\n",
    "import matplotlib as mpl, pandas as pd , numpy as np\n",
    "from matplotlib import pyplot as plt\n",
    "dm = TEG2dm()"
   ]
  },
  {
   "cell_type": "code",
   "execution_count": 2,
   "metadata": {
    "collapsed": false
   },
   "outputs": [],
   "source": [
    "def draw_projection_theta_phi(h,name):\n",
    "    hProjYZ = h.Project3D(\"yz\")\n",
    "    hThetaPhi = hProjYZ.Clone(\"hThetaPhi\")\n",
    "    fig = plt.figure(figsize=[10,5])\n",
    "    fig, ax = plt.subplots(1,1, figsize=(10,10), subplot_kw={'aspect':'equal'})\n",
    "    NbinsTheta = hThetaPhi.GetXaxis().GetNbins()\n",
    "    NbinsPhi = hThetaPhi.GetYaxis().GetNbins()\n",
    "    H = np.ones((NbinsTheta, NbinsPhi))\n",
    "    for bin_theta in range(NbinsTheta):\n",
    "        for bin_phi in range(NbinsPhi):\n",
    "            bin_content = float(hThetaPhi.GetBinContent(bin_theta,bin_phi)) / (30*100)\n",
    "            H[bin_theta][bin_phi]= bin_content \n",
    "    extent = [0,120,-30,330]\n",
    "    im = plt.imshow(H,interpolation='none', cmap='hot_r',origin='lower', extent=extent)\n",
    "    im = ax.imshow(np.ma.masked_where(H == 0, H), cmap='hot_r', interpolation='none', origin='lower', extent=extent)\n",
    "    ax.set_xlabel('$\\\\theta$ [deg.]',fontsize=25)\n",
    "    ax.set_ylabel('$\\\\phi$ [deg.]',fontsize=25)\n",
    "    for tick in ax.xaxis.get_major_ticks():\n",
    "        tick.label.set_fontsize(25) \n",
    "    for tick in ax.yaxis.get_major_ticks():\n",
    "        tick.label.set_fontsize(25) \n",
    "    ax.set_aspect('auto')\n",
    "    cb = plt.colorbar()\n",
    "    for t in cb.ax.get_yticklabels():\n",
    "         t.set_fontsize(20)\n",
    "    outfile_name = \"/Users/erezcohen/Desktop/acceptance_theta_phi_%s.pdf\"%name\n",
    "    plt.savefig( outfile_name )"
   ]
  },
  {
   "cell_type": "code",
   "execution_count": 5,
   "metadata": {
    "collapsed": true
   },
   "outputs": [],
   "source": [
    "def draw_projection_mag(h):\n",
    "    hProjYZ = h.Project3D(\"yz\")\n",
    "    hThetaPhi = hProjYZ.Clone(\"hThetaPhi\")\n",
    "    fig = plt.figure(figsize=[10,5])\n",
    "    fig, ax = plt.subplots(1,1, figsize=(10,10), subplot_kw={'aspect':'equal'})\n",
    "    NbinsTheta = hThetaPhi.GetXaxis().GetNbins()\n",
    "    NbinsPhi = hThetaPhi.GetYaxis().GetNbins()\n",
    "    hProjX = h.Project3D(\"x\")\n",
    "    hMag = hProjX.Clone(\"hMag\")\n",
    "    fig = plt.figure(figsize=[10,5])\n",
    "    fig, ax = plt.subplots(1,1, figsize=(10,10), subplot_kw={'aspect':'equal'})\n",
    "    NbinsMag = hMag.GetXaxis().GetNbins()\n",
    "    H = np.ones(NbinsMag)\n",
    "    for bin_mag in range(NbinsMag):\n",
    "        bin_content = float(hMag.GetBinContent(bin_mag)) / (NbinsTheta*NbinsPhi)\n",
    "        H[bin_mag]= bin_content \n",
    "    im = plt.hist(H)\n",
    "    ax.set_xlabel('|p| [Gev/c]',fontsize=25)\n",
    "    ax.set_ylabel('acceptance [%]',fontsize=25)\n",
    "    for tick in ax.xaxis.get_major_ticks():\n",
    "        tick.label.set_fontsize(25) \n",
    "    for tick in ax.yaxis.get_major_ticks():\n",
    "        tick.label.set_fontsize(25) \n",
    "    ax.set_aspect('auto')"
   ]
  },
  {
   "cell_type": "code",
   "execution_count": 4,
   "metadata": {
    "collapsed": false
   },
   "outputs": [],
   "source": [
    "# acceptance with no fiducials...\n",
    "pAcceptacneFile = ROOT.TFile(\"/Users/erezcohen/Desktop/DataMining/GSIM_DATA/PrecoilAcceptance.root\")\n",
    "h = pAcceptacneFile.Get(\"hRescaled\")\n",
    "hAcceptanceAll = h.Clone(\"hAcceptanceAll\")\n",
    "hAcceptanceFiducial = h.Clone(\"hAcceptanceFiducial\")\n",
    "    \n",
    "p_recoil = ROOT.TVector3()\n",
    "for binx in range(h.GetXaxis().GetNbins()): # p(recoil) magnitude\n",
    "    p_recoil_mag = h.GetXaxis().GetBinCenter(binx)\n",
    "        \n",
    "    for biny in range(h.GetYaxis().GetNbins()): # p(recoil) theta\n",
    "        p_recoil_theta = h.GetYaxis().GetBinCenter(biny)\n",
    "            \n",
    "        for binz in range(h.GetZaxis().GetNbins()): # p(recoil) phi\n",
    "            p_recoil_phi = h.GetZaxis().GetBinCenter(binz)\n",
    "                \n",
    "            p_recoil.SetMagThetaPhi( p_recoil_mag , math.radians(p_recoil_theta) , math.radians(p_recoil_phi) )\n",
    "            fiducial = dm.protonFiducial ( p_recoil , 1 )\n",
    "            acceptance = h.GetBinContent(binx,biny,binz)\n",
    "            hAcceptanceFiducial.SetBinContent( binx, biny, binz, acceptance if fiducial else 0 )\n",
    "\n"
   ]
  },
  {
   "cell_type": "code",
   "execution_count": 3,
   "metadata": {
    "collapsed": false
   },
   "outputs": [
    {
     "ename": "NameError",
     "evalue": "name 'hAcceptanceAll' is not defined",
     "output_type": "error",
     "traceback": [
      "\u001b[0;31m---------------------------------------------------------------------------\u001b[0m",
      "\u001b[0;31mNameError\u001b[0m                                 Traceback (most recent call last)",
      "\u001b[0;32m<ipython-input-3-d795354c737c>\u001b[0m in \u001b[0;36m<module>\u001b[0;34m()\u001b[0m\n\u001b[0;32m----> 1\u001b[0;31m \u001b[0mdraw_projection_theta_phi\u001b[0m\u001b[0;34m(\u001b[0m \u001b[0mhAcceptanceAll\u001b[0m \u001b[0;34m,\u001b[0m \u001b[0;34m\"full_acceptance\"\u001b[0m \u001b[0;34m)\u001b[0m\u001b[0;34m\u001b[0m\u001b[0m\n\u001b[0m\u001b[1;32m      2\u001b[0m \u001b[0mdraw_projection_theta_phi\u001b[0m\u001b[0;34m(\u001b[0m \u001b[0mhAcceptanceFiducial\u001b[0m \u001b[0;34m,\u001b[0m \u001b[0;34m\"fiducial_region\"\u001b[0m \u001b[0;34m)\u001b[0m\u001b[0;34m\u001b[0m\u001b[0m\n",
      "\u001b[0;31mNameError\u001b[0m: name 'hAcceptanceAll' is not defined"
     ]
    }
   ],
   "source": [
    "draw_projection_theta_phi( hAcceptanceAll , \"full_acceptance\" )\n",
    "draw_projection_theta_phi( hAcceptanceFiducial , \"fiducial_region\" )"
   ]
  },
  {
   "cell_type": "code",
   "execution_count": null,
   "metadata": {
    "collapsed": true
   },
   "outputs": [],
   "source": [
    "draw_projection_theta_phi(hAcceptanceAll)"
   ]
  }
 ],
 "metadata": {
  "kernelspec": {
   "display_name": "Python 2",
   "language": "python",
   "name": "python2"
  },
  "language_info": {
   "codemirror_mode": {
    "name": "ipython",
    "version": 2
   },
   "file_extension": ".py",
   "mimetype": "text/x-python",
   "name": "python",
   "nbconvert_exporter": "python",
   "pygments_lexer": "ipython2",
   "version": "2.7.11"
  }
 },
 "nbformat": 4,
 "nbformat_minor": 0
}
