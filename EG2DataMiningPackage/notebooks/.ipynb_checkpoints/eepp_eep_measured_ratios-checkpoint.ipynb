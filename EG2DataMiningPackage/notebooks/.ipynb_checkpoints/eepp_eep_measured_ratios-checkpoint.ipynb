{
 "cells": [
  {
   "cell_type": "markdown",
   "metadata": {},
   "source": [
    "# sensitivity of (e,e'pp)/(e,e'p) ratio to selection cuts"
   ]
  },
  {
   "cell_type": "code",
   "execution_count": 1,
   "metadata": {
    "collapsed": false
   },
   "outputs": [
    {
     "data": {
      "application/javascript": [
       "require(['codemirror/mode/clike/clike'], function(Clike) { console.log('ROOTaaS - C++ CodeMirror module loaded'); });"
      ]
     },
     "metadata": {},
     "output_type": "display_data"
    },
    {
     "data": {
      "application/javascript": [
       "IPython.CodeCell.config_defaults.highlight_modes['magic_text/x-c++src'] = {'reg':[/^%%cpp/]};"
      ]
     },
     "metadata": {},
     "output_type": "display_data"
    },
    {
     "name": "stdout",
     "output_type": "stream",
     "text": [
      "Welcome to ROOTaaS 6.06/02\n",
      "\n",
      "\u001b[1mRooFit v3.60 -- Developed by Wouter Verkerke and David Kirkby\u001b[0m \n",
      "                Copyright (C) 2000-2013 NIKHEF, University of California & Stanford University\n",
      "                All rights reserved, please read http://roofit.sourceforge.net/license.txt\n",
      "\n"
     ]
    },
    {
     "name": "stderr",
     "output_type": "stream",
     "text": [
      "/usr/local/lib/python2.7/site-packages/IPython/html.py:14: ShimWarning: The `IPython.html` package has been deprecated. You should import from `notebook` instead. `IPython.html.widgets` has moved to `ipywidgets`.\n",
      "  \"`IPython.html.widgets` has moved to `ipywidgets`.\", ShimWarning)\n"
     ]
    }
   ],
   "source": [
    "from notebook_tools import *\n",
    "from matplotlib.ticker import NullFormatter,MultipleLocator, FormatStrFormatter\n",
    "from pylab import *\n",
    "majorLocator   = MultipleLocator(0.01)\n",
    "%matplotlib inline"
   ]
  },
  {
   "cell_type": "code",
   "execution_count": 2,
   "metadata": {
    "collapsed": false
   },
   "outputs": [
    {
     "name": "stdout",
     "output_type": "stream",
     "text": [
      "pmiss_bin_center: [0.31875, 0.35625, 0.39375, 0.43125, 0.4625, 0.48750000000000004, 0.5125, 0.5375000000000001, 0.5625, 0.5875000000000001, 0.6125, 0.6375, 0.6625000000000001, 0.6875, 0.7124999999999999, 0.7375, 0.78125, 0.84375, 0.90625, 0.96875]\n",
      "pmiss_analysis_bins_center: [0.3375, 0.4125, 0.475, 0.525, 0.5750000000000001, 0.625, 0.675, 0.725, 0.8125, 0.9375]\n"
     ]
    }
   ],
   "source": [
    "PmissBins = [[0.3,0.45]  , [0.45,0.55] , [0.55,0.65] , [0.65,0.75] , [0.75,1.0]]\n",
    "pmiss_analysis_bins , pmiss_analysis_bins_center , pmiss_multiples_bins , pmiss_bin_center = [] , [] , [] , []\n",
    "for i in range(len(PmissBins)):\n",
    "    pmin , pmax = PmissBins[i][0] , PmissBins[i][1]\n",
    "    for j in range(4):\n",
    "        pmiss_multiples_bins.append( [ pmin + float(j*(pmax-pmin))/4 , pmin + float((j+1)*(pmax-pmin))/4 ])\n",
    "    for j in range(2):\n",
    "        pmiss_analysis_bins.append( [ pmin + float(j*(pmax-pmin))/2 , pmin + float((j+1)*(pmax-pmin))/2 ])\n",
    "\n",
    "for i in range( len(pmiss_multiples_bins) ):\n",
    "    pmin , pmax = pmiss_multiples_bins[i][0] , pmiss_multiples_bins[i][1]\n",
    "    pmiss_bin_center.append(0.5*(pmin+pmax))\n",
    "print 'pmiss_bin_center:',pmiss_bin_center\n",
    "for i in range( len(pmiss_analysis_bins) ):\n",
    "    pmin , pmax = pmiss_analysis_bins[i][0] , pmiss_analysis_bins[i][1]\n",
    "    pmiss_analysis_bins_center.append(0.5*(pmin+pmax))\n",
    "print 'pmiss_analysis_bins_center:',pmiss_analysis_bins_center"
   ]
  },
  {
   "cell_type": "markdown",
   "metadata": {},
   "source": [
    "# (e,e'pp)/(e,e'p) ratio from DATA with no acceptance correction"
   ]
  },
  {
   "cell_type": "code",
   "execution_count": 7,
   "metadata": {
    "collapsed": false
   },
   "outputs": [],
   "source": [
    "def eepp_eep_in_pmiss_bins(eep=TPlots() , eepp=TPlots(),                 \n",
    "                               cut='',\n",
    "                               cut_name='nominal_cuts',                      \n",
    "                               target = 'C12',\n",
    "                               pmiss_bins=None,                    \n",
    "                              ):\n",
    "    \n",
    "    pmiss_bin_center , eep_in_pmiss_bins , eepp_in_pmiss_bins = [] , [] , []\n",
    "    for i in range( len(pmiss_bins) ):\n",
    "        pmin , pmax = pmiss_bins[i][0] , pmiss_bins[i][1]\n",
    "        pmiss_bin_center.append(0.5*(pmin+pmax))\n",
    "        if 'nominal' in cut_name:\n",
    "            selection_cut = ROOT.TCut(\"(%f<Pmiss3Mag && Pmiss3Mag<%f)\"%(pmin , pmax))\n",
    "        else:\n",
    "            selection_cut = ROOT.TCut(\"(%f<Pmiss3Mag && Pmiss3Mag<%f) && (%s)\"%(pmin , pmax , cut))\n",
    "        \n",
    "        eep_in_pmiss_bins.append( eep.GetEntries(selection_cut) )\n",
    "        eepp_in_pmiss_bins.append( eepp.GetEntries(selection_cut) )\n",
    "    \n",
    "    return pmiss_bin_center , np.array(eep_in_pmiss_bins) , np.array(eepp_in_pmiss_bins)\n",
    "\n"
   ]
  },
  {
   "cell_type": "code",
   "execution_count": 9,
   "metadata": {
    "collapsed": false
   },
   "outputs": [
    {
     "name": "stderr",
     "output_type": "stream",
     "text": [
      "\r\n",
      "variable \"pd\" not defined.\r\n",
      "\r\n",
      "variable \"pd.DataFrame(colu)\" not defined.\r\n"
     ]
    }
   ],
   "source": [
    "def eepp_eep_in_pmiss_bin(eep=TPlots() , eepp=TPlots(),                                                \n",
    "                          target = 'C12',                               \n",
    "                          pmin = None,\n",
    "                          pmax = None,                                                  \n",
    "                         ):\n",
    "    \n",
    "        selection_cut = ROOT.TCut(\"(%f<Pmiss3Mag && Pmiss3Mag<%f)\"%(pmin , pmax))\n",
    "        Neep = eep.GetEntries(selection_cut) \n",
    "        Neepp = eepp.GetEntries(selection_cut) \n",
    "        return Neep , Neepp"
   ]
  },
  {
   "cell_type": "code",
   "execution_count": null,
   "metadata": {
    "collapsed": true
   },
   "outputs": [],
   "source": [
    "def ratios_in_pmiss_bin( pmin , pmax ):\n",
    "    "
   ]
  },
  {
   "cell_type": "code",
   "execution_count": 8,
   "metadata": {
    "collapsed": true
   },
   "outputs": [],
   "source": [
    "def eepp_eep_ratio(eep=TPlots() , eepp=TPlots(), \n",
    "                   cut='',\n",
    "                   cut_name='nominal_cuts',                      \n",
    "                   target = 'C12', target_name = '$^{12}$C',                   \n",
    "                   pmiss_bins=None,                    \n",
    "                   do_plot=True,\n",
    "                   do_save_plots=True):\n",
    "    \n",
    "    bins, Neep, Neepp = eepp_eep_in_pmiss_bins(eep=eep , eepp=eepp,                 \n",
    "                                               cut=cut,\n",
    "                                               cut_name=cut_name,                      \n",
    "                                               target=target,\n",
    "                                               pmiss_bins=pmiss_bins)\n",
    "    ratio , ratio_err =  [] , [] \n",
    "    for i in range(len(bins)):\n",
    "        ratio.append(100*float(Neepp[i])/Neep[i])\n",
    "        ratio_err.append(ratio[-1] * np.sqrt(1./Neepp[i] + 1./Neep[i]))\n",
    "     \n",
    "    if do_plot:\n",
    "        fig,ax = plt.subplots(figsize=(15,10))\n",
    "        plt.errorbar(pmiss_bin_center,ratio,xerr=np.zeros(len(pmiss_bin_center)),yerr=ratio_err,fmt='ro', color='black',markersize=20)\n",
    "        set_axes(ax , x_label=r'$|\\vec{p}_{miss}|$ [GeV/c]',y_label= r\"%s ${\\frac{(e,e'pp)}{(e,e'p)}}$\"%target_name + ' [%]')\n",
    "        ax.grid()\n",
    "        ax.set_ylim(0,1.02*np.max(ratio)+np.max(ratio_err))\n",
    "        ax.set_xlim(0.25,1.01)\n",
    "        \n",
    "        if do_save_plots:\n",
    "            fig.savefig('/Users/erezcohen/Desktop/DataMining/AccCorr_ppSRCAnalysisNote/all_figures/eeppeep_sensitivity_studies/eeppeep_measured_%s_%s.pdf'%(cut_name,target))\n",
    "\n",
    "    return bins , ratio , ratio_err"
   ]
  },
  {
   "cell_type": "code",
   "execution_count": null,
   "metadata": {
    "collapsed": true
   },
   "outputs": [],
   "source": [
    "ratio , r_err = [] , []\n",
    "df_ratio = pd.DataFrame(columns=['target',\"(e,e'pp)/(e,e'p)\"])\n",
    "for i in pmiss_analysis_bins:\n",
    "    pmin , pmax = pmiss_analysis_bins[i][0] , pmiss_analysis_bins[i][1]\n",
    "    df_ratio_bin = ratios_in_pmiss_bin( pmin , pmax )\n",
    "    df_ratio = df_ratio.append( df_ratio_bin )\n",
    "for target,name in zip(['C12','Al27','Fe56','Pb208'],\n",
    "                       ['$^{12}C$','$^{27}$Al','$^{56}$Fe','$^{208}$Pb']):\n",
    "\n",
    "    pmiss_bin_center , eep_in_pmiss_bins , eepp_in_pmiss_bins = [] , [] , []\n",
    "    for i in range( len(pmiss_bins) ):\n",
    "        pmin , pmax = pmiss_bins[i][0] , pmiss_bins[i][1]\n",
    "        pmiss_bin_center.append(0.5*(pmin+pmax))\n",
    "        if 'nominal' in cut_name:\n",
    "            selection_cut = ROOT.TCut(\"(%f<Pmiss3Mag && Pmiss3Mag<%f)\"%(pmin , pmax))\n",
    "        else:\n",
    "            selection_cut = ROOT.TCut(\"(%f<Pmiss3Mag && Pmiss3Mag<%f) && (%s)\"%(pmin , pmax , cut))\n",
    "        \n",
    "        eep_in_pmiss_bins.append( eep.GetEntries(selection_cut) )\n",
    "        eepp_in_pmiss_bins.append( eepp.GetEntries(selection_cut) )\n",
    "\n"
   ]
  }
 ],
 "metadata": {
  "kernelspec": {
   "display_name": "Python 2",
   "language": "python",
   "name": "python2"
  },
  "language_info": {
   "codemirror_mode": {
    "name": "ipython",
    "version": 2
   },
   "file_extension": ".py",
   "mimetype": "text/x-python",
   "name": "python",
   "nbconvert_exporter": "python",
   "pygments_lexer": "ipython2",
   "version": "2.7.11"
  }
 },
 "nbformat": 4,
 "nbformat_minor": 1
}
