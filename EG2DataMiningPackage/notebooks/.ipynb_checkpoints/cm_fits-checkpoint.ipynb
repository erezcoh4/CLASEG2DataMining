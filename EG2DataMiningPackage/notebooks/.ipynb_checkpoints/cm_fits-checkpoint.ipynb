{
 "cells": [
  {
   "cell_type": "code",
   "execution_count": 3,
   "metadata": {
    "collapsed": false
   },
   "outputs": [
    {
     "name": "stderr",
     "output_type": "stream",
     "text": [
      "/Users/erezcohen/larlite/UserDev/CLASEG2DataMining/EG2DataMiningPackage/mac/cm_tools.py:624: SyntaxWarning: import * only allowed at module level\n",
      "  def generate_runs_with_different_parameters( option,\n",
      "usage: __main__.py [-h] [-v VERBOSE] [-p PRINT_MOD] [-evf EVNTS_FRAC]\n",
      "                   [-ff FILES_FRAC] [-w WORKER] [-A ATOMIC_MASS] [-o OPTION]\n",
      "                   [-var VARIABLE] [-data DATATYPE] [-scheme SCHEMEDTYPE]\n",
      "                   [--cut CUT] [--Nbins NBINS] [--Ev EV] [-r RUN]\n",
      "                   [-nruns NUMBEROFRUNS] [-core I_CORE]\n",
      "__main__.py: error: argument -ff/--files_frac: invalid float value: '/Users/erezcohen/Library/Jupyter/runtime/kernel-11e4d6f5-7475-402d-8d92-d8c5f4e650e6.json'\n"
     ]
    },
    {
     "ename": "SystemExit",
     "evalue": "2",
     "output_type": "error",
     "traceback": [
      "An exception has occurred, use %tb to see the full traceback.\n",
      "\u001b[0;31mSystemExit\u001b[0m\u001b[0;31m:\u001b[0m 2\n"
     ]
    },
    {
     "name": "stderr",
     "output_type": "stream",
     "text": [
      "To exit: use 'exit', 'quit', or Ctrl-D.\n"
     ]
    }
   ],
   "source": [
    "from notebook_tools import *\n",
    "# from definitions import *\n",
    "from cm_tools import *\n",
    "%matplotlib inline"
   ]
  },
  {
   "cell_type": "markdown",
   "metadata": {},
   "source": [
    "# pp-SRC c.m. fits"
   ]
  },
  {
   "cell_type": "code",
   "execution_count": 2,
   "metadata": {
    "collapsed": false
   },
   "outputs": [],
   "source": [
    "# (A) calc cm parameters of data\n",
    "ana_data = TAnalysisEG2( path+\"/AnaFiles\" , \"Ana_ppSRCCut_DATA_%s\"% dm.Target(A) )\n",
    "cm_parameters = calc_cm_parameters( ana_data  , PmissBins , CMRooFitsName( ppPath + '/DATA/unweighted' ) , CMRooFitsName( ppPath + '/DATA/weighted' ) , DoSaveCanvas = True )\n",
    "cm_parameters.to_csv( CMParsFname(ppPath+'/DATA/data') , header=True , index = False)\n",
    "print_filename( CMParsFname(ppPath+'/DATA/data')  ,\"data c.m. parameters for different p(miss) bins at\")\n",
    "\n"
   ]
  },
  {
   "cell_type": "code",
   "execution_count": null,
   "metadata": {
    "collapsed": true
   },
   "outputs": [],
   "source": [
    "# (B) plot cm parameters\n",
    "fits = fit_cm_parameters( 'data' , cm_parameters , FigureFName(ppPath+'/DATA/data') , DoPlot = True )\n",
    "fits.to_csv( CMfitsFname(ppPath+'/DATA/data') , header=True , index = False)\n",
    "print_filename( CMfitsFname(ppPath+'/DATA/data')  ,\"data c.m. fits at\")"
   ]
  }
 ],
 "metadata": {
  "kernelspec": {
   "display_name": "Python 2",
   "language": "python",
   "name": "python2"
  },
  "language_info": {
   "codemirror_mode": {
    "name": "ipython",
    "version": 2
   },
   "file_extension": ".py",
   "mimetype": "text/x-python",
   "name": "python",
   "nbconvert_exporter": "python",
   "pygments_lexer": "ipython2",
   "version": "2.7.11"
  }
 },
 "nbformat": 4,
 "nbformat_minor": 0
}
