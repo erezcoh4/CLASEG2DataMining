{
 "cells": [
  {
   "cell_type": "markdown",
   "metadata": {},
   "source": [
    "# analysis of pp-SRC c.m. momentum simulations"
   ]
  },
  {
   "cell_type": "markdown",
   "metadata": {},
   "source": [
    "# imports"
   ]
  },
  {
   "cell_type": "code",
   "execution_count": 1,
   "metadata": {
    "collapsed": false
   },
   "outputs": [],
   "source": [
    "from notebook_tools import *\n",
    "%matplotlib inline"
   ]
  },
  {
   "cell_type": "markdown",
   "metadata": {},
   "source": [
    "# read data"
   ]
  },
  {
   "cell_type": "markdown",
   "metadata": {},
   "source": [
    "runs 20,000-30,000"
   ]
  },
  {
   "cell_type": "markdown",
   "metadata": {},
   "source": [
    "sims0 = pd.read_csv( '/Users/erezcohen/Desktop/DataMining/Analysis_DATA/ppSRCcm/simulation/runs20000to30000_NsigmaT_10_NSigmaZa1_5_NSigmaZa2_8_NMeanZa1_5_NMeanZa2_5_NRand_10_simulationruns_results.csv')"
   ]
  },
  {
   "cell_type": "markdown",
   "metadata": {},
   "source": [
    "runs 50,000 to 68,746"
   ]
  },
  {
   "cell_type": "markdown",
   "metadata": {},
   "source": [
    "sims = pd.read_csv('/Users/erezcohen/Desktop/DataMining/Analysis_DATA/ppSRCcm/simulation/runs50000to68746_NsigmaT_15_NSigmaZa1_10_NSigmaZa2_5_NMeanZa1_5_NMeanZa2_5_NRand_10_simulationruns_results.csv')"
   ]
  },
  {
   "cell_type": "markdown",
   "metadata": {},
   "source": [
    "runs 100,000 to 200800"
   ]
  },
  {
   "cell_type": "markdown",
   "metadata": {
    "collapsed": false
   },
   "source": [
    "sims = pd.read_csv('/Users/erezcohen/Desktop/DataMining/Analysis_DATA/ppSRCcm/simulation/runs100000to200799_10SigmaT_10SigmaZa1_10SigmaZa2_10MeanZa1_10MeanZa2_10NRand_results.csv')"
   ]
  },
  {
   "cell_type": "code",
   "execution_count": 2,
   "metadata": {
    "collapsed": false
   },
   "outputs": [
    {
     "name": "stderr",
     "output_type": "stream",
     "text": [
      "/usr/local/lib/python2.7/site-packages/IPython/core/interactiveshell.py:2723: DtypeWarning: Columns (94,95) have mixed types. Specify dtype option on import or set low_memory=False.\n",
      "  interactivity=interactivity, compiler=compiler, result=result)\n"
     ]
    }
   ],
   "source": [
    "sims = pd.read_csv('/Users/erezcohen/Desktop/DataMining/Analysis_DATA/ppSRCcm/simulation/runs500000to5018543_30SigmaT_5SigmaZa1_5SigmaZa2_5MeanZa1_5MeanZa2_10NRand_results.csv',na_filter=0.0)"
   ]
  },
  {
   "cell_type": "code",
   "execution_count": 27,
   "metadata": {
    "collapsed": false
   },
   "outputs": [],
   "source": [
    "def draw_PvalWeighting(var='SigmaX', xlabel='',bins=50,target='12C',\n",
    "                       PvalTotWeight=None,legend_loc='bbox',                       \n",
    "                       x_range = None,                       \n",
    "                       y_range = None,                       \n",
    "                       xtext = None , ytext=None,                       \n",
    "                       do_save_fig=False,\n",
    "                       figsize=(10,10),                       \n",
    "                       fontsize=20):\n",
    "    weights=[sims.run/sims.run,sims['Pval'+var+'_weighted_'+target],sims['PvalTotal_%s'%target]]    \n",
    "    weighting_labels=['generated','weighted by $Pval(\\\\sigma_{x})$','weighted by $Pval(total)$']   \n",
    "\n",
    "    if target=='12C' : \n",
    "        weights.append(sims.KStPval)\n",
    "        weighting_labels.append('$KS-p_t$ weighted')\n",
    "        \n",
    "    histograms , bins = plot_1d_withoutandwithweight(sims['gen'+var],\n",
    "                                                     weights=weights,\n",
    "                                                     weighting_labels = weighting_labels,\n",
    "                                                     bins=bins,\n",
    "                                                     legend_loc=legend_loc,\n",
    "                                                     xlabel=xlabel,\n",
    "                                                     ylabel='1k runs weighted [a.u.]',\n",
    "                                                     x_range=x_range,                                                    \n",
    "                                                     y_range=y_range,\n",
    "                                                    figsize=figsize,\n",
    "                                                    fontsize=fontsize);\n",
    "    do_show_gaussians = [False , True , True , False]\n",
    "    \n",
    "    for hw,weight,weighting_label,do_show_gaussian in zip(histograms,weights,weighting_labels,do_show_gaussians):\n",
    "        mu = np.average(sims['gen'+var] , weights=weight)\n",
    "        variance = np.average((sims['gen'+var]-mu)**2, weights=weight)\n",
    "        sigma = np.sqrt(variance)                                                                           \n",
    "        print weighting_label + ': \\n mean=%.3f , stdev=%.3f'%(mu,sigma)\n",
    "    \n",
    "    if do_save_fig: \n",
    "        plt.tight_layout()\n",
    "        plt.savefig('/Users/erezcohen/Desktop/DataMining/ppSRCAnalysisNote/chapter9/figures/AcceptanceCorrection'+var+'_'+target+'.pdf')\n",
    "    \n",
    "def draw_PvalWeighting_2d( df , v1 , v2 , bins=40 , weights=None , cmap='Greys' ,\n",
    "                          xlabel=None,ylabel=None ,\n",
    "                         figsize=(10,10),title=None):\n",
    "    fig,ax=plt.subplots(figsize=figsize)\n",
    "    plt.hist2d(df[v1],df[v2],bins=bins,weights=weights,cmap=cmap);\n",
    "    plt.colorbar()\n",
    "    set_axes( ax , x_label , y_label )\n",
    "    ax.set_title(title)\n",
    "    \n",
    "    \n",
    "def draw_all_PvalWeighting_2d(v1='SigmaZa1' , v2='SigmaZa2' ,\n",
    "                              xlabel='$\\\\sigma_{z}-a_{1}$',ylabel='$\\\\sigma_{z}-a_{2}$ [GeV/c]' ,\n",
    "                              bins=40,\n",
    "                              figsize=(10,10),\n",
    "                              weights=None,\n",
    "                              cmaps=None):\n",
    "    \n",
    "    for weight,cmap in zip(weights,cmaps):\n",
    "        print weight , cmap\n",
    "        title=weight\n",
    "        weight=sims[weight] if weight is not None else None\n",
    "        draw_PvalWeighting_2d( sims , 'gen'+v1 , 'gen'+v2 , bins=bins , weights=weight  , cmap=cmap ,\n",
    "                              xlabel=xlabel,ylabel=ylabel, figsize=figsize , title=title);\n"
   ]
  },
  {
   "cell_type": "markdown",
   "metadata": {},
   "source": [
    "# histograms of generated, and generated+weighted"
   ]
  },
  {
   "cell_type": "code",
   "execution_count": 19,
   "metadata": {
    "collapsed": false
   },
   "outputs": [],
   "source": [
    "for target in ['12C','27Al','56Fe','208Pb']:\n",
    "    sims['PvalTotal_%s'%target]  = Fisher_combination_Pvals_pandas([sims['PvalSigmaX_unweighted_%s'%target]\n",
    "                                                                    ,sims['PvalSigmaY_unweighted_%s'%target]                                                           \n",
    "                                                                    ,sims['PvalMeanZa1_unweighted_%s'%target]                                                           \n",
    "                                                                    ,sims['PvalMeanZa2_unweighted_%s'%target]]);\n",
    "#                                                                     ,sims['PvalSigmaZa2_unweighted_%s'%target]]);"
   ]
  },
  {
   "cell_type": "code",
   "execution_count": 26,
   "metadata": {
    "collapsed": false,
    "scrolled": false
   },
   "outputs": [
    {
     "name": "stdout",
     "output_type": "stream",
     "text": [
      "generated: \n",
      " mean=0.164 , stdev=0.030\n",
      "weighted by $Pval(\\sigma_{x})$: \n",
      " mean=0.186 , stdev=0.017\n",
      "weighted by $Pval(total)$: \n",
      " mean=0.175 , stdev=0.016\n"
     ]
    },
    {
     "data": {
      "image/png": "[encoded data removed]",
      "text/plain": [
       "<matplotlib.figure.Figure at 0x12d400dd0>"
      ]
     },
     "metadata": {},
     "output_type": "display_data"
    }
   ],
   "source": [
    "draw_PvalWeighting(var='SigmaX',xlabel='$\\\\sigma_{x}$ [GeV/c]',bins=30,x_range=(0.1,0.22),target='208Pb',\n",
    "                                legend_loc='upper left',do_save_fig=True)"
   ]
  },
  {
   "cell_type": "code",
   "execution_count": null,
   "metadata": {
    "collapsed": true
   },
   "outputs": [],
   "source": [
    "# draw_PvalWeighting_Fit2Gaussian(var='SigmaY',xlabel='$\\\\sigma_{y}$ [GeV/c]',bins=30,x_range=(0.1,0.22),target='12C')"
   ]
  },
  {
   "cell_type": "markdown",
   "metadata": {
    "collapsed": false
   },
   "source": [
    "draw_PvalWeighting_Fit2Gaussian(var='MeanX',xlabel='$\\\\mu_{x}$ [GeV/c]',bins=30,x_range=(-0.1,0.1))\n",
    "draw_PvalWeighting_Fit2Gaussian(var='MeanY',xlabel='$\\\\mu_{y}$ [GeV/c]',bins=30,x_range=(-0.1,0.1))"
   ]
  },
  {
   "cell_type": "code",
   "execution_count": null,
   "metadata": {
    "collapsed": false,
    "scrolled": true
   },
   "outputs": [],
   "source": [
    "draw_PvalWeighting_Fit2Gaussian(var='SigmaZa1',xlabel='$\\\\sigma_{z}-a_{1}$',\n",
    "                                bins=20,do_fit_gaussian=False,x_range=(-0.1,1.4),xtext=0.23)"
   ]
  },
  {
   "cell_type": "code",
   "execution_count": null,
   "metadata": {
    "collapsed": false,
    "scrolled": true
   },
   "outputs": [],
   "source": [
    "draw_PvalWeighting_Fit2Gaussian(var='SigmaZa2',xlabel='$\\\\sigma_{z}-a_{2}$ [GeV/c]',\n",
    "                                bins=20,do_fit_gaussian=False)"
   ]
  },
  {
   "cell_type": "code",
   "execution_count": null,
   "metadata": {
    "collapsed": false,
    "scrolled": true
   },
   "outputs": [],
   "source": [
    "draw_PvalWeighting_Fit2Gaussian(var='MeanZa1',xlabel='$\\\\mu_{z}-a_{1}$',\n",
    "                                bins=10,x_range=(0.35,0.85),xtext=0.82,do_fit_gaussian=False,legend_loc='none')"
   ]
  },
  {
   "cell_type": "code",
   "execution_count": null,
   "metadata": {
    "collapsed": false,
    "scrolled": true
   },
   "outputs": [],
   "source": [
    "draw_PvalWeighting_Fit2Gaussian(var='MeanZa2',xlabel='$\\\\mu_{z}-a_{2}$ [GeV/c]',\n",
    "                                bins=10,legend_loc='upper left',xtext=-0.34,ytext=0.23,do_fit_gaussian=False)"
   ]
  },
  {
   "cell_type": "code",
   "execution_count": 29,
   "metadata": {
    "collapsed": false
   },
   "outputs": [
    {
     "data": {
      "text/plain": [
       "(array([  4.94363860e-01,   3.15884927e-01,   4.82446166e-01,\n",
       "          1.42780670e+00,   5.12125225e+00,   1.13054514e+01,\n",
       "          9.82378907e+00,   2.61632613e+00,   2.64878319e-01,\n",
       "          4.91688457e-03]),\n",
       " array([ 0.1135,  0.1238,  0.1341,  0.1444,  0.1547,  0.165 ,  0.1753,\n",
       "         0.1856,  0.1959,  0.2062,  0.2165]),\n",
       " <a list of 10 Patch objects>)"
      ]
     },
     "execution_count": 29,
     "metadata": {},
     "output_type": "execute_result"
    },
    {
     "data": {
      "image/png": "[encoded data removed]",
      "text/plain": [
       "<matplotlib.figure.Figure at 0x11f0c87d0>"
      ]
     },
     "metadata": {},
     "output_type": "display_data"
    }
   ],
   "source": [
    "pvalues_array=[\n",
    "    sims.PvalMeanZa1_unweighted_56Fe,\n",
    "               \n",
    "               \n",
    "               sims.PvalMeanZa2_unweighted_56Fe,\n",
    "               \n",
    "#                sims.PvalSigmaZa2_unweighted_56Fe,\n",
    "               \n",
    "#                sims.PvalSigmaZa1_unweighted_56Fe,\n",
    "               \n",
    "               sims.PvalSigmaX_unweighted_56Fe,\n",
    "               \n",
    "               sims.PvalSigmaY_unweighted_56Fe]\n",
    "\n",
    "plt.hist(sims.genSigmaX,weights=Fisher_combination_Pvals(pvalues_array=pvalues_array))"
   ]
  },
  {
   "cell_type": "markdown",
   "metadata": {},
   "source": [
    "# runs 100,000 to 200,7999"
   ]
  },
  {
   "cell_type": "code",
   "execution_count": null,
   "metadata": {
    "collapsed": false,
    "scrolled": true
   },
   "outputs": [],
   "source": [
    "draw_PvalWeighting_Fit2Gaussian(var='SigmaZa1',xlabel='$\\\\sigma_{z}-a_{1}$',\n",
    "                                bins=20,do_fit_gaussian=False,x_range=(-1,2.4),y_range=(0,1.7),xtext=0.23)\n",
    "draw_PvalWeighting_Fit2Gaussian(var='SigmaZa2',xlabel='$\\\\sigma_{z}-a_{2}$ [GeV/c]',\n",
    "                                bins=20,x_range=(-0.3,0.2),do_fit_gaussian=False)"
   ]
  },
  {
   "cell_type": "markdown",
   "metadata": {},
   "source": [
    "# runs 300,000 to 460,000"
   ]
  },
  {
   "cell_type": "code",
   "execution_count": null,
   "metadata": {
    "collapsed": false
   },
   "outputs": [],
   "source": [
    "sims = pd.read_csv('/Users/erezcohen/Desktop/DataMining/Analysis_DATA/ppSRCcm/simulation/runs300000to460000_NsigmaT_1_NSigmaZa1_20_NSigmaZa2_20_NMeanZa1_20_NMeanZa2_20_NRand_10_simulationruns_results.csv')"
   ]
  },
  {
   "cell_type": "markdown",
   "metadata": {},
   "source": [
    "sum up Pval for only two variables at a time"
   ]
  },
  {
   "cell_type": "code",
   "execution_count": null,
   "metadata": {
    "collapsed": false
   },
   "outputs": [],
   "source": [
    "PvalMeanZa1MeanZa2 , PvalSigmaZa1SigmaZa2 , PvalSigmaZa1MeanZa2 , PvalSigmaZa2MeanZa1 , PvalSigmaZa1MeanZa1 , PvalSigmaZa2MeanZa2 = [] , [] , [] , [], [], []\n",
    "for index, row in sims.iterrows():\n",
    "    if index%10000==0 : print index\n",
    "    PvalSigmaZa1SigmaZa2.append(Fisher_combination_Pvals( [ row.PvalSigmaZa1_unweighted , row.PvalSigmaZa2_unweighted ] ) ) \n",
    "    PvalMeanZa1MeanZa2.append(Fisher_combination_Pvals( [ row.PvalMeanZa1_unweighted , row.PvalMeanZa2_unweighted ] ) ) \n",
    "    \n",
    "    PvalSigmaZa1MeanZa1.append(Fisher_combination_Pvals( [ row.PvalSigmaZa1_unweighted , row.PvalMeanZa1_unweighted ] ) )    \n",
    "    PvalSigmaZa1MeanZa2.append(Fisher_combination_Pvals( [ row.PvalSigmaZa1_unweighted , row.PvalMeanZa2_unweighted ] ) )\n",
    "    \n",
    "    PvalSigmaZa2MeanZa1.append(Fisher_combination_Pvals( [ row.PvalSigmaZa2_unweighted , row.PvalMeanZa1_unweighted ] ) )\n",
    "    PvalSigmaZa2MeanZa2.append(Fisher_combination_Pvals( [ row.PvalSigmaZa2_unweighted , row.PvalMeanZa2_unweighted ] ) )\n",
    "print 'done.'"
   ]
  },
  {
   "cell_type": "code",
   "execution_count": null,
   "metadata": {
    "collapsed": true
   },
   "outputs": [],
   "source": [
    "sims['PvalSigmaZa1SigmaZa2'] = PvalSigmaZa1SigmaZa2\n",
    "sims['PvalMeanZa1MeanZa2'] = PvalMeanZa1MeanZa2\n",
    "sims['PvalSigmaZa1MeanZa1'] = PvalSigmaZa1MeanZa1\n",
    "sims['PvalSigmaZa1MeanZa2'] = PvalSigmaZa1MeanZa2\n",
    "sims['PvalSigmaZa2MeanZa1'] = PvalSigmaZa2MeanZa1\n",
    "sims['PvalSigmaZa2MeanZa2'] = PvalSigmaZa2MeanZa2"
   ]
  },
  {
   "cell_type": "code",
   "execution_count": null,
   "metadata": {
    "collapsed": true
   },
   "outputs": [],
   "source": [
    "sims = pd.read_csv('/Users/erezcohen/Desktop/DataMining/Analysis_DATA/ppSRCcm/simulation/runs300000to460000_1sT_20sZa1_20sZa2_20mZa1_20mZa2_10r_results.csv')"
   ]
  },
  {
   "cell_type": "code",
   "execution_count": null,
   "metadata": {
    "collapsed": false,
    "scrolled": true
   },
   "outputs": [],
   "source": [
    "draw_PvalWeighting_Fit2Gaussian(var='SigmaX',xlabel='$\\\\sigma_{x}$ [GeV/c]',bins=15)\n",
    "draw_PvalWeighting_Fit2Gaussian(var='SigmaY',xlabel='$\\\\sigma_{y}$ [GeV/c]',bins=15)"
   ]
  },
  {
   "cell_type": "code",
   "execution_count": null,
   "metadata": {
    "collapsed": false,
    "scrolled": true
   },
   "outputs": [],
   "source": [
    "draw_PvalWeighting_Fit2Gaussian(var='SigmaZa1',xlabel='$\\\\sigma_{z}-a_{1}$',\n",
    "                                bins=20,do_fit_gaussian=False,x_range=(-.1,2.4),y_range=(0,1.7),xtext=0.23)\n",
    "draw_PvalWeighting_Fit2Gaussian(var='SigmaZa2',xlabel='$\\\\sigma_{z}-a_{2}$ [GeV/c]',\n",
    "                                bins=20,x_range=(-0.55,0.55),do_fit_gaussian=False)"
   ]
  },
  {
   "cell_type": "code",
   "execution_count": null,
   "metadata": {
    "collapsed": false,
    "scrolled": true
   },
   "outputs": [],
   "source": [
    "draw_PvalWeighting_Fit2Gaussian(var='MeanZa1',xlabel='$\\\\mu_{z}-a_{1}$',\n",
    "                                bins=10,x_range=(0.,1.2),xtext=0.82,do_fit_gaussian=False,legend_loc='none')\n",
    "draw_PvalWeighting_Fit2Gaussian(var='MeanZa2',xlabel='$\\\\mu_{z}-a_{2}$',\n",
    "                                bins=10,x_range=(-0.55,0.55),xtext=0.82,do_fit_gaussian=False,legend_loc='none')"
   ]
  },
  {
   "cell_type": "code",
   "execution_count": null,
   "metadata": {
    "collapsed": false
   },
   "outputs": [],
   "source": [
    "cmaps = ['Blues' , 'Reds' , 'Greens' , 'Purples']"
   ]
  },
  {
   "cell_type": "code",
   "execution_count": null,
   "metadata": {
    "collapsed": false
   },
   "outputs": [],
   "source": [
    "weights = [None , 'PvalSigmaZa1SigmaZa2' , 'PvalTotal_unweighted' , 'KStPval_avg' ]\n",
    "draw_all_PvalWeighting_2d(v1='SigmaZa1' , v2='SigmaZa2', bins=41 ,\n",
    "                          xlabel='$\\\\sigma_{z}-a_{1}$',ylabel='$\\\\sigma_{z}-a_{2}$ [GeV/c]' ,\n",
    "                          weights=weights,cmaps=cmaps);"
   ]
  },
  {
   "cell_type": "code",
   "execution_count": null,
   "metadata": {
    "collapsed": false
   },
   "outputs": [],
   "source": [
    "weights = [None , 'PvalMeanZa1MeanZa2' , 'PvalTotal_unweighted' , 'KSPval_tot' ]\n",
    "draw_all_PvalWeighting_2d(v1='MeanZa1' , v2='MeanZa2', bins=41 ,\n",
    "                          xlabel='$\\\\mu_{z}-a_{1}$',ylabel='$\\\\mu_{z}-a_{2}$ [GeV/c]' ,\n",
    "                          weights=weights,cmaps=cmaps);"
   ]
  },
  {
   "cell_type": "code",
   "execution_count": null,
   "metadata": {
    "collapsed": false
   },
   "outputs": [],
   "source": [
    "weights = [None , 'PvalSigmaZa2MeanZa1' , 'PvalTotal_unweighted' , 'KSPval_tot' ]\n",
    "draw_all_PvalWeighting_2d(v1='MeanZa1' , v2='SigmaZa2', bins=41 ,\n",
    "                          xlabel='$\\\\mu_{z}-a_{1}$',ylabel='$\\\\sigma_{z}-a_{2}$ [GeV/c]' ,\n",
    "                          weights=weights,cmaps=cmaps);"
   ]
  },
  {
   "cell_type": "code",
   "execution_count": null,
   "metadata": {
    "collapsed": false
   },
   "outputs": [],
   "source": [
    "weights = [None , 'PvalSigmaZa2MeanZa2' , 'PvalTotal_unweighted' , 'KSPval_tot' ]\n",
    "draw_all_PvalWeighting_2d(v1='MeanZa2' , v2='SigmaZa2', bins=41 ,\n",
    "                          xlabel='$\\\\mu_{z}-a_{2}$',ylabel='$\\\\sigma_{z}-a_{2}$ [GeV/c]' ,\n",
    "                          weights=weights,cmaps=cmaps);"
   ]
  },
  {
   "cell_type": "code",
   "execution_count": null,
   "metadata": {
    "collapsed": false
   },
   "outputs": [],
   "source": [
    "weights = [None , 'PvalSigmaZa1MeanZa1' , 'PvalTotal_unweighted' , 'KSPval_tot' ]\n",
    "draw_all_PvalWeighting_2d(v1='MeanZa1' , v2='SigmaZa1', bins=41 ,\n",
    "                          xlabel='$\\\\mu_{z}-a_{1}$',ylabel='$\\\\sigma_{z}-a_{1}$ [GeV/c]' ,\n",
    "                          weights=weights,cmaps=cmaps);"
   ]
  },
  {
   "cell_type": "code",
   "execution_count": null,
   "metadata": {
    "collapsed": false
   },
   "outputs": [],
   "source": [
    "weights = [None , 'PvalSigmaZa1MeanZa2' , 'PvalTotal_unweighted' , 'KSPval_tot' ]\n",
    "draw_all_PvalWeighting_2d(v1='MeanZa2' , v2='SigmaZa1', bins=41 ,\n",
    "                          xlabel='$\\\\mu_{z}-a_{2}$',ylabel='$\\\\sigma_{z}-a_{1}$ [GeV/c]' ,\n",
    "                          weights=weights,cmaps=cmaps);"
   ]
  },
  {
   "cell_type": "code",
   "execution_count": null,
   "metadata": {
    "collapsed": true
   },
   "outputs": [],
   "source": []
  }
 ],
 "metadata": {
  "kernelspec": {
   "display_name": "Python 2",
   "language": "python",
   "name": "python2"
  },
  "language_info": {
   "codemirror_mode": {
    "name": "ipython",
    "version": 2
   },
   "file_extension": ".py",
   "mimetype": "text/x-python",
   "name": "python",
   "nbconvert_exporter": "python",
   "pygments_lexer": "ipython2",
   "version": "2.7.11"
  }
 },
 "nbformat": 4,
 "nbformat_minor": 1
}
