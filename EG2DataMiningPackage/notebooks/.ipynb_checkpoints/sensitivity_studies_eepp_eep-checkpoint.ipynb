{
 "cells": [
  {
   "cell_type": "markdown",
   "metadata": {},
   "source": [
    "# sensitivity of (e,e'pp)/(e,e'p) ratio to selection cuts"
   ]
  },
  {
   "cell_type": "code",
   "execution_count": 1,
   "metadata": {
    "collapsed": false
   },
   "outputs": [],
   "source": [
    "from notebook_tools import *\n",
    "from matplotlib.ticker import NullFormatter,MultipleLocator, FormatStrFormatter\n",
    "from pylab import *\n",
    "majorLocator   = MultipleLocator(0.01)\n",
    "%matplotlib inline"
   ]
  },
  {
   "cell_type": "code",
   "execution_count": 2,
   "metadata": {
    "collapsed": false
   },
   "outputs": [
    {
     "name": "stdout",
     "output_type": "stream",
     "text": [
      "pmiss_bin_center: [0.31875, 0.35625, 0.39375, 0.43125, 0.4625, 0.48750000000000004, 0.5125, 0.5375000000000001, 0.5625, 0.5875000000000001, 0.6125, 0.6375, 0.6625000000000001, 0.6875, 0.7124999999999999, 0.7375, 0.78125, 0.84375, 0.90625, 0.96875]\n",
      "pmiss_analysis_bins_center: [0.3375, 0.4125, 0.475, 0.525, 0.5750000000000001, 0.625, 0.675, 0.725, 0.8125, 0.9375]\n"
     ]
    }
   ],
   "source": [
    "PmissBins = [[0.3,0.45]  , [0.45,0.55] , [0.55,0.65] , [0.65,0.75] , [0.75,1.0]]\n",
    "pmiss_analysis_bins , pmiss_analysis_bins_center , pmiss_multiples_bins , pmiss_bin_center = [] , [] , [] , []\n",
    "for i in range(len(PmissBins)):\n",
    "    pmin , pmax = PmissBins[i][0] , PmissBins[i][1]\n",
    "    for j in range(4):\n",
    "        pmiss_multiples_bins.append( [ pmin + float(j*(pmax-pmin))/4 , pmin + float((j+1)*(pmax-pmin))/4 ])\n",
    "    for j in range(2):\n",
    "        pmiss_analysis_bins.append( [ pmin + float(j*(pmax-pmin))/2 , pmin + float((j+1)*(pmax-pmin))/2 ])\n",
    "\n",
    "for i in range( len(pmiss_multiples_bins) ):\n",
    "    pmin , pmax = pmiss_multiples_bins[i][0] , pmiss_multiples_bins[i][1]\n",
    "    pmiss_bin_center.append(0.5*(pmin+pmax))\n",
    "print 'pmiss_bin_center:',pmiss_bin_center\n",
    "for i in range( len(pmiss_analysis_bins) ):\n",
    "    pmin , pmax = pmiss_analysis_bins[i][0] , pmiss_analysis_bins[i][1]\n",
    "    pmiss_analysis_bins_center.append(0.5*(pmin+pmax))\n",
    "print 'pmiss_analysis_bins_center:',pmiss_analysis_bins_center"
   ]
  },
  {
   "cell_type": "markdown",
   "metadata": {},
   "source": [
    "# (e,e'pp)/(e,e'p) ratio from DATA with no acceptance correction"
   ]
  },
  {
   "cell_type": "code",
   "execution_count": 3,
   "metadata": {
    "collapsed": true
   },
   "outputs": [],
   "source": [
    "def eepp_eep_in_pmiss_bins(eep=TPlots() , eepp=TPlots(),                 \n",
    "                               cut='',\n",
    "                               cut_name='nominal_cuts',                      \n",
    "                               target = 'C12',\n",
    "                               pmiss_bins=None,                    \n",
    "                              ):\n",
    "    \n",
    "    pmiss_bin_center , eep_in_pmiss_bins , eepp_in_pmiss_bins = [] , [] , []\n",
    "    for i in range( len(pmiss_bins) ):\n",
    "        pmin , pmax = pmiss_bins[i][0] , pmiss_bins[i][1]\n",
    "        pmiss_bin_center.append(0.5*(pmin+pmax))\n",
    "        if 'nominal' in cut_name:\n",
    "            selection_cut = ROOT.TCut(\"(%f<Pmiss3Mag && Pmiss3Mag<%f)\"%(pmin , pmax))\n",
    "        else:\n",
    "            selection_cut = ROOT.TCut(\"(%f<Pmiss3Mag && Pmiss3Mag<%f) && (%s)\"%(pmin , pmax , cut))\n",
    "        \n",
    "        eep_in_pmiss_bins.append( eep.GetEntries(selection_cut) )\n",
    "        eepp_in_pmiss_bins.append( eepp.GetEntries(selection_cut) )\n",
    "    \n",
    "    return pmiss_bin_center , eep_in_pmiss_bins , eepp_in_pmiss_bins\n"
   ]
  },
  {
   "cell_type": "code",
   "execution_count": 4,
   "metadata": {
    "collapsed": false,
    "scrolled": true
   },
   "outputs": [],
   "source": [
    "def eepp_eep_ratio(eep=TPlots() , eepp=TPlots(), \n",
    "                   cut='',\n",
    "                   cut_name='nominal_cuts',                      \n",
    "                   target = 'C12', target_name = '$^{12}$C',                   \n",
    "                   pmiss_bins=None,                    \n",
    "                   do_plot=True,\n",
    "                   do_save_plots=True):\n",
    "    \n",
    "    bins, Neep, Neepp = eepp_eep_in_pmiss_bins(eep=eep , eepp=eepp,                 \n",
    "                                               cut=cut,\n",
    "                                               cut_name=cut_name,                      \n",
    "                                               target=target,\n",
    "                                               pmiss_bins=pmiss_bins)\n",
    "    ratio , ratio_err =  [] , [] \n",
    "    for i in range(len(bins)):\n",
    "        ratio.append(100*float(Neepp[i])/Neep[i])\n",
    "        ratio_err.append(ratio[-1] * np.sqrt(1./Neepp[i] + 1./Neep[i]))\n",
    "     \n",
    "    if do_plot:\n",
    "        fig,ax = plt.subplots(figsize=(15,10))\n",
    "        plt.errorbar(pmiss_bin_center,ratio,xerr=np.zeros(len(pmiss_bin_center)),yerr=ratio_err,fmt='ro', color='black',markersize=20)\n",
    "        set_axes(ax , x_label=r'$|\\vec{p}_{miss}|$ [GeV/c]',y_label= r\"%s ${\\frac{(e,e'pp)}{(e,e'p)}}$\"%target_name + ' [%]')\n",
    "        ax.grid()\n",
    "        ax.set_ylim(0,1.02*np.max(ratio)+np.max(ratio_err))\n",
    "        ax.set_xlim(0.25,1.01)\n",
    "        \n",
    "        if do_save_plots:\n",
    "            fig.savefig('/Users/erezcohen/Desktop/DataMining/AccCorr_ppSRCAnalysisNote/all_figures/eeppeep_sensitivity_studies/eeppeep_measured_%s_%s.pdf'%(cut_name,target))\n",
    "\n",
    "    return bins , ratio , ratio_err"
   ]
  },
  {
   "cell_type": "code",
   "execution_count": 28,
   "metadata": {
    "collapsed": false
   },
   "outputs": [],
   "source": [
    "def modeified_cut_eepp_eep_ratio(modified_cut_name='Xb' ,\n",
    "                                 nominal_and_modified_cut_names=['$x_B>1.2$','$x_B>1.15$'],\n",
    "                                 cutXb = '1.2<Xb' , \n",
    "                                 target='C12',\n",
    "                                 target_name='$^{12}$C',\n",
    "                                 cut_theta_pq = 'theta_pq<25',\n",
    "                                 cut_p_over_q ='fabs(p_over_q-0.79) < 0.17',\n",
    "                                 cut_m_miss = 'Mmiss < 1.100',\n",
    "                                 do_make_plots=False,\n",
    "                                 do_save_plots=False,\n",
    "                                 ytext=None,\n",
    "                                 pmiss_bins=None\n",
    "                                ):\n",
    "    \n",
    "    # nominal ratio and modified ratio\n",
    "    eep_nominal = TPlots('/Users/erezcohen/Desktop/DataMining/AnaFiles/Ana_eep_in_ppSRCCut_DATA_%s.root'%target , 'anaTree')\n",
    "    eepp_nominal = TPlots('/Users/erezcohen/Desktop/DataMining/AnaFiles/Ana_ppSRCCut_DATA_%s.root'%target , 'anaTree')\n",
    "    bins , ratio , ratio_err = eepp_eep_ratio(eep=eep_nominal , eepp=eepp_nominal,\n",
    "                                                          cut_name='nominal_cuts',\n",
    "                                                          target=target, target_name=target_name,\n",
    "                                                          pmiss_bins=pmiss_bins,                                                                        \n",
    "                                                          do_plot=False)\n",
    "\n",
    "    eep_relaxed = TPlots('/Users/erezcohen/Desktop/DataMining/AnaFiles/Ana_eep_in_relaxed_ppSRCCut_DATA_%s.root'%target , 'anaTree')\n",
    "    eepp_relaxed = TPlots('/Users/erezcohen/Desktop/DataMining/AnaFiles/Ana_relaxed_ppSRCCut_DATA_%s.root'%target , 'anaTree')\n",
    "    cut = '(%s) && (%s) && (%s) && (%s)'%(cutXb,cut_theta_pq,cut_p_over_q,cut_m_miss)\n",
    "    bins , r_mod , r_mod_err = eepp_eep_ratio(eep=eep_relaxed , eepp=eepp_relaxed,\n",
    "                                                          cut=cut,\n",
    "                                                          cut_name=modified_cut_name, \n",
    "                                                          target=target, \n",
    "                                                          target_name=target_name,                                                                    \n",
    "                                                          pmiss_bins=pmiss_bins,                                                                                      \n",
    "                                                          do_plot=False)\n",
    "\n",
    "    x = bins\n",
    "\n",
    "    if do_make_plots:\n",
    "\n",
    "        fig = plt.figure(figsize=(20,20))\n",
    "        ax = fig.add_subplot(211)\n",
    "        ax.errorbar(x-0.001*np.ones(len(x)) , ratio , yerr=ratio_err , label=nominal_and_modified_cut_names[0] , fmt='o',markersize=20)\n",
    "        ax.errorbar(x , r_mod , yerr=r_mod_err , label=nominal_and_modified_cut_names[1] , fmt='o', markersize=20)\n",
    "        ax.xaxis.set_major_formatter( NullFormatter() )\n",
    "        set_axes(ax,x_label='',y_label=r\"%s ${\\frac{(e,e'pp)}{(e,e'p)}}$\"%target_name + ' [%]',fontsize=30)\n",
    "        ax.legend(fontsize=25,loc='top left')#,bbox_to_anchor=(1.05, 1), loc=2, borderaxespad=0.)\n",
    "        ax.grid()\n",
    "        start, end = ax.get_ylim()\n",
    "        ax.yaxis.set_ticks(np.arange(start+5, end, 5))\n",
    "\n",
    "    # excess of events in ratios\n",
    "    bins, Neep_nominal, Neepp_nominal = eepp_eep_in_pmiss_bins(eep=eep_nominal , eepp=eepp_nominal,                 \n",
    "                                               cut=cut, cut_name='nominal_cuts',                      \n",
    "                                               target=target, pmiss_bins=pmiss_bins)\n",
    "    bins, Neep_relaxed, Neepp_relaxed = eepp_eep_in_pmiss_bins(eep=eep_relaxed , eepp=eepp_relaxed,                 \n",
    "                                               cut=cut, cut_name=modified_cut_name,                      \n",
    "                                               target=target,pmiss_bins=pmiss_bins)\n",
    "    excess_eep = [np.abs(Neep_relaxed[i] - Neep_nominal[i]) for i in range(len(x))]\n",
    "    excess_eep_err = [np.sqrt(excess_eep[i]) for i in range(len(x))]\n",
    "\n",
    "    excess_eepp = [np.abs(Neepp_relaxed[i]  - Neepp_nominal[i]) for i in range(len(x))]\n",
    "    excess_eepp_err = [np.sqrt(excess_eepp[i]) for i in range(len(x))]\n",
    "\n",
    "    eta = [100*(r_mod[i]/ratio[i] - 1) for i in range(len(x))]\n",
    "    rel_err_eep = [excess_eep_err[i]/Neep_nominal[i] if Neep_nominal[i]>0 else 0 for i in range(len(x))]\n",
    "    rel_err_eepp = [excess_eepp_err[i]/Neepp_nominal[i] if Neepp_nominal[i]>0 else 0 for i in range(len(x))]\n",
    "    eta_err = [eta[i]*np.sqrt(np.square(rel_err_eep[i]) + np.square(rel_err_eepp[i])) for i in range(len(x))]\n",
    "\n",
    "#     eta_eep = [float(Neep_relaxed[i] - Neep_nominal[i])/(0.5*(Neep_relaxed[i] + Neep_nominal[i])) for i in range(len(x))]\n",
    "#     eta_eep_err = [np.sqrt(np.abs(Neep_relaxed[i] - Neep_nominal[i]))/(0.5*(Neep_relaxed[i] + Neep_nominal[i])) for i in range(len(x))]\n",
    "\n",
    "#     eta_eepp = [float(Neepp_relaxed[i] - Neepp_nominal[i])/(0.5*(Neepp_relaxed[i] + Neepp_nominal[i])) for i in range(len(x))]\n",
    "#     eta_eepp_err = [np.sqrt(np.abs(Neepp_relaxed[i] - Neepp_nominal[i]))/(0.5*(Neepp_relaxed[i] + Neepp_nominal[i])) for i in range(len(x))]\n",
    "\n",
    "#     eta = [100*eta_eepp[i]/eta_eep[i] for i in range(len(x))]\n",
    "#     eta_err = [eta[i]*np.sqrt(np.square(eta_eepp_err[i]/eta_eepp[i]) + np.square(eta_eep_err[i]/eta_eep[i]))  for i in range(len(x))]\n",
    "\n",
    "#     y = [r_mod[i]/ratio[i] for i in range(len(x))]\n",
    "#     y_err = [y[i] * np.sqrt(np.square(ratio_err[i]/ratio[i])\n",
    "#                             +np.square(r_mod_err[i]/r_mod[i])) for i in range(len(x)) ]\n",
    "\n",
    "\n",
    "    y , y_err = eta , eta_err\n",
    "    simga_inverse = [1./y_err[i] if y_err[i]>1.e-7 else 1.e+7 for i in range(len(x[1:-1]))]\n",
    "    p1,v1 = np.polyfit( x[1:-1] , y[1:-1] , deg=0 , cov=True , w=simga_inverse)\n",
    "    p1,v1 = float(p1[0]) , float(np.sqrt(v1[0,0])) \n",
    "#     simga2_inverse = [1./(y_err[i]*y_err[i]) if y_err[i]>1.e-9 else 1.e+9 for i in range(len(x))]\n",
    "#     mean = np.average(y,weights=simga2_inverse)\n",
    "#     sigma = np.sqrt(np.average(np.square(y-mean),weights=simga2_inverse))\n",
    "#     p1,v1=mean,sigma\n",
    "\n",
    "    if do_make_plots:\n",
    "        ax = fig.add_subplot(212)\n",
    "        ax.errorbar(x , y , yerr=y_err , fmt='o',markersize=10 , color='black')\n",
    "        ax.grid()\n",
    "        start, end = ax.get_ylim()\n",
    "\n",
    "        y , yerr = p1*np.ones(len(x)) , np.sqrt(float(v1))*np.ones(len(x))  \n",
    "        plt.plot( x , y , 'r-')\n",
    "        plt.fill_between( x , y-yerr , y+yerr , color='red' , alpha=0.1) \n",
    "\n",
    "        if ytext is None: \n",
    "            ytext = p1 + 2.*np.sqrt(v1) if p1>0 else p1 - 2.*np.sqrt(v1)\n",
    "        plt.text(0.5 , ytext , '$%.3f \\\\pm %.3f $'%(p1,np.sqrt(v1)) , color='red' , fontsize=35)\n",
    "\n",
    "        set_axes(ax,x_label=r'$|\\vec{p}_{miss}|$ [GeV/c]',y_label=r\"$\\eta$ [%]\", fontsize=30)\n",
    "\n",
    "        subplots_adjust(wspace=0.12,hspace=0)\n",
    "        if do_save_plots:\n",
    "            fig.savefig('/Users/erezcohen/Desktop/DataMining/AccCorr_ppSRCAnalysisNote/all_figures/eepp_eep_modifiedcut_%s_%s.pdf'%(modified_cut_name,target))\n",
    "        \n",
    "    eep_nominal.Close()\n",
    "    eepp_nominal.Close()\n",
    "    eep_relaxed.Close()\n",
    "    eepp_relaxed.Close()\n",
    "    \n",
    "    return p1 , v1 #, float(np.sqrt(v1[0,0])) # float(p1[0])"
   ]
  },
  {
   "cell_type": "markdown",
   "metadata": {},
   "source": [
    "# all targets"
   ]
  },
  {
   "cell_type": "code",
   "execution_count": 29,
   "metadata": {
    "collapsed": false,
    "scrolled": false
   },
   "outputs": [
    {
     "name": "stdout",
     "output_type": "stream",
     "text": [
      "\n",
      "C12 \n",
      "-------------\n",
      "[3.809523848031941, -5.281434127373359, 0.00014262762458870616, 3.061599563817027]\n",
      "xB>1.2 cut sensitivity: 5.3%\n",
      "[-0.518188569807268, -3.1381094544124433, 0.24850987613106001, 1.4283212440570423]\n",
      "theta_pq<25 cut sensitivity: 3.1%\n",
      "[6.91063269973865, -2.5899386647802474, 3.3465509092441152, 2.909956482236546]\n",
      "p/q<25 cut sensitivity: 6.9%\n",
      "[-7.823805195699406, 2.74699301499072, 2.184433772545154, 0.09294823680863605]\n",
      "Mmiss < 1.1 cut sensitivity: 7.8%\n"
     ]
    }
   ],
   "source": [
    "do_make_plots=False\n",
    "do_save_plots=False\n",
    "for target,target_name in zip(['C12']#,'Al27','Fe56','Pb208']\n",
    "                              ,['$^{12}$C']#,'$^{27}$Al','$^{56}$Fe','$^{208}$Pb']\n",
    "                             ):\n",
    "    print '\\n',target,'\\n-------------'\n",
    "    a,a_err = modeified_cut_eepp_eep_ratio(modified_cut_name='Xb115' ,\n",
    "                                 nominal_and_modified_cut_names=['$x_B>1.2$','$x_B>1.15$'],  \n",
    "                                 cutXb = '(1.15<Xb)' , target=target,target_name=target_name,\n",
    "                                 do_save_plots=do_save_plots,do_make_plots=do_make_plots,                              \n",
    "                                 pmiss_bins=pmiss_analysis_bins)\n",
    "    b,b_err = modeified_cut_eepp_eep_ratio(modified_cut_name='Xb125' , \n",
    "                                 nominal_and_modified_cut_names=['$x_B>1.2$','$x_B>1.25$'],\n",
    "                                 cutXb = '(1.25<Xb)' ,  target=target,target_name=target_name,\n",
    "                                 do_save_plots=do_save_plots,do_make_plots=do_make_plots,                               \n",
    "                                 pmiss_bins=pmiss_analysis_bins)\n",
    "    print [a,b,a_err,b_err]\n",
    "    print 'xB>1.2 cut sensitivity: %.1f'%np.max(np.abs([a,b,a_err,b_err])) + '%'\n",
    "    \n",
    "    a,a_err = modeified_cut_eepp_eep_ratio(modified_cut_name='theta_pq_20' , \n",
    "                                 nominal_and_modified_cut_names=['$\\\\theta_{pq}<25^{0}$','$\\\\theta_{pq}<20^{0}$'],\n",
    "                                 cut_theta_pq = '(theta_pq<20)', target=target,target_name=target_name,\n",
    "                                 ytext=None,                                \n",
    "                                 do_save_plots=do_save_plots,do_make_plots=do_make_plots,                               \n",
    "                                 pmiss_bins=pmiss_analysis_bins)\n",
    "    b,b_err = modeified_cut_eepp_eep_ratio(modified_cut_name='theta_pq_30' , \n",
    "                                 nominal_and_modified_cut_names=['$\\\\theta_{pq}<25^{0}$','$\\\\theta_{pq}<30^{0}$'],\n",
    "                                 cut_theta_pq = '(theta_pq<30)', target=target,\n",
    "#                                  ytext=0.72,                                \n",
    "                                 do_save_plots=do_save_plots,do_make_plots=do_make_plots,                               \n",
    "                                 pmiss_bins=pmiss_analysis_bins)\n",
    "    print [a,b,a_err,b_err]\n",
    "    print 'theta_pq<25 cut sensitivity: %.1f'%np.max(np.abs([a,b,a_err,b_err])) + '%'\n",
    "\n",
    "    a,a_err = modeified_cut_eepp_eep_ratio(modified_cut_name='p_over_q_057_091' , \n",
    "                                 nominal_and_modified_cut_names=['$0.62<|p|/|q|<0.96$','$0.57<|p|/|q|<0.91$'],\n",
    "                                 cut_p_over_q = '(0.57<p_over_q && p_over_q<0.91)', target=target,target_name=target_name,\n",
    "#                                  ytext=1.3,                                \n",
    "                                 do_save_plots=do_save_plots,do_make_plots=do_make_plots,                               \n",
    "                                 pmiss_bins=pmiss_analysis_bins)\n",
    "    b,b_err = modeified_cut_eepp_eep_ratio(modified_cut_name='p_over_q_067_101' , \n",
    "                                 nominal_and_modified_cut_names=['$0.62<|p|/|q|<0.96$','$0.67<|p|/|q|<1.01$'],\n",
    "                                 cut_p_over_q = '(0.67<p_over_q && p_over_q<1.01)', target=target,target_name=target_name,\n",
    "#                              ytext=1.3,                                \n",
    "                                 do_save_plots=do_save_plots,do_make_plots=do_make_plots,                               \n",
    "                                 pmiss_bins=pmiss_analysis_bins)\n",
    "    print [a,b,a_err,b_err]\n",
    "    print 'p/q<25 cut sensitivity: %.1f'%np.max(np.abs([a,b,a_err,b_err])) + '%'\n",
    "\n",
    "\n",
    "    a,a_err = modeified_cut_eepp_eep_ratio(modified_cut_name='mmiss1050' , \n",
    "                                 nominal_and_modified_cut_names=['$M_{miss}<1.1$ GeV/c$^2$','$M_{miss}<1.05$ GeV/c$^2$'],\n",
    "                                 cut_m_miss = 'Mmiss < 1.050', target=target,target_name=target_name,\n",
    "                                 do_save_plots=do_save_plots,do_make_plots=do_make_plots,                               \n",
    "                                 pmiss_bins=pmiss_analysis_bins)\n",
    "    b,b_err = modeified_cut_eepp_eep_ratio(modified_cut_name='mmiss1150' , \n",
    "                                 nominal_and_modified_cut_names=['$M_{miss}<1.1$ GeV/c$^2$','$M_{miss}<1.15$ GeV/c$^2$'],\n",
    "                                 cut_m_miss = 'Mmiss < 1.150', target=target,target_name=target_name,\n",
    "                                 do_save_plots=do_save_plots,do_make_plots=do_make_plots,                               \n",
    "                                 pmiss_bins=pmiss_analysis_bins)\n",
    "    print [a,b,a_err,b_err]\n",
    "    print 'Mmiss < 1.1 cut sensitivity: %.1f'%np.max(np.abs([a,b,a_err,b_err])) + '%'\n",
    "\n"
   ]
  },
  {
   "cell_type": "code",
   "execution_count": null,
   "metadata": {
    "collapsed": true
   },
   "outputs": [],
   "source": []
  },
  {
   "cell_type": "code",
   "execution_count": null,
   "metadata": {
    "collapsed": true
   },
   "outputs": [],
   "source": []
  }
 ],
 "metadata": {
  "kernelspec": {
   "display_name": "Python 2",
   "language": "python",
   "name": "python2"
  },
  "language_info": {
   "codemirror_mode": {
    "name": "ipython",
    "version": 2
   },
   "file_extension": ".py",
   "mimetype": "text/x-python",
   "name": "python",
   "nbconvert_exporter": "python",
   "pygments_lexer": "ipython2",
   "version": "2.7.11"
  }
 },
 "nbformat": 4,
 "nbformat_minor": 1
}
