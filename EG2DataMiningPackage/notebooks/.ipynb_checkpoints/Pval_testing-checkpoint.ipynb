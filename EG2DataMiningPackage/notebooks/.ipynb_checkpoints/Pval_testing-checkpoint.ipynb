{
 "cells": [
  {
   "cell_type": "code",
   "execution_count": null,
   "metadata": {
    "collapsed": false
   },
   "outputs": [],
   "source": [
    "from notebook_tools import *\n",
    "%matplotlib inline"
   ]
  },
  {
   "cell_type": "markdown",
   "metadata": {},
   "source": [
    "# pp-SRC analysis"
   ]
  },
  {
   "cell_type": "code",
   "execution_count": null,
   "metadata": {
    "collapsed": true
   },
   "outputs": [],
   "source": [
    "genpars = pd.read_csv('/Users/erezcohen/Desktop/DataMining/Analysis_DATA/ppSRCcm/simulation/GeneratedParameters.csv')"
   ]
  },
  {
   "cell_type": "code",
   "execution_count": null,
   "metadata": {
    "collapsed": true
   },
   "outputs": [],
   "source": [
    "nom_vals=dict({'SigmaT':0.167,'SigmaT_err':0.006,\n",
    "              'a1':0.143,'a1_err':0.075,'a2':0.158,'a2_err':0.009,              \n",
    "              'b1':0.562,'b1_err':0.078,'b2':0.159,'b2_err':0.009})"
   ]
  },
  {
   "cell_type": "code",
   "execution_count": null,
   "metadata": {
    "collapsed": false
   },
   "outputs": [],
   "source": [
    "genpars = genpars[genpars.run>1400000]"
   ]
  },
  {
   "cell_type": "code",
   "execution_count": null,
   "metadata": {
    "collapsed": false
   },
   "outputs": [],
   "source": [
    "gen = genpars[(np.abs(genpars.genSigmaX-nom_vals['SigmaT']+0.01)<0.01) \n",
    "        & (np.abs(genpars.genSigmaZa1-nom_vals['a1'])<0.01)\n",
    "        & (np.abs(genpars.genSigmaZa2-nom_vals['a2'])<0.01)\n",
    "        & (np.abs(genpars.genMeanZa1-nom_vals['b1'])<0.01)\n",
    "        & (np.abs(genpars.genMeanZa2-nom_vals['b2'])<0.01)\n",
    "       ]\n",
    "gen"
   ]
  },
  {
   "cell_type": "code",
   "execution_count": null,
   "metadata": {
    "collapsed": true
   },
   "outputs": [],
   "source": []
  }
 ],
 "metadata": {
  "kernelspec": {
   "display_name": "Python 2",
   "language": "python",
   "name": "python2"
  },
  "language_info": {
   "codemirror_mode": {
    "name": "ipython",
    "version": 2
   },
   "file_extension": ".py",
   "mimetype": "text/x-python",
   "name": "python",
   "nbconvert_exporter": "python",
   "pygments_lexer": "ipython2",
   "version": "2.7.11"
  }
 },
 "nbformat": 4,
 "nbformat_minor": 0
}
