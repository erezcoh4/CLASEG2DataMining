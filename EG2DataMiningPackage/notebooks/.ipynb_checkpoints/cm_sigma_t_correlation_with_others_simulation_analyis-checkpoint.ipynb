{
 "cells": [
  {
   "cell_type": "markdown",
   "metadata": {},
   "source": [
    "# analysis of pp-SRC c.m. momentum simulations"
   ]
  },
  {
   "cell_type": "markdown",
   "metadata": {},
   "source": [
    "# imports"
   ]
  },
  {
   "cell_type": "code",
   "execution_count": 1,
   "metadata": {
    "collapsed": false
   },
   "outputs": [],
   "source": [
    "from notebook_tools import *\n",
    "import ast ,matplotlib.patches as patches\n",
    "%matplotlib inline"
   ]
  },
  {
   "cell_type": "code",
   "execution_count": 2,
   "metadata": {
    "collapsed": true
   },
   "outputs": [],
   "source": [
    "nominal_values=dict({'SigmaT_C12':0.167,'SigmaT_err_C12':0.006,\n",
    "                     'a1_C12':0.143,'a1_err_C12':0.075,'a2_C12':0.158,'a2_err_C12':0.009,\n",
    "                     'b1_C12':0.562,'b1_err_C12':0.078,'b2_C12':0.159,'b2_err_C12':0.009})"
   ]
  },
  {
   "cell_type": "markdown",
   "metadata": {},
   "source": [
    "# read data"
   ]
  },
  {
   "cell_type": "code",
   "execution_count": 3,
   "metadata": {
    "collapsed": false
   },
   "outputs": [],
   "source": [
    "sims = pd.read_csv('/Users/erezcohen/Desktop/DataMining/Analysis_DATA/ppSRCcm/results/runs1600000to1760000_results.csv')"
   ]
  },
  {
   "cell_type": "code",
   "execution_count": 4,
   "metadata": {
    "collapsed": false
   },
   "outputs": [
    {
     "name": "stdout",
     "output_type": "stream",
     "text": [
      "average PvalTotal 12C: 0.000625622272196\n",
      "average PvalTotal 27Al: 0.00101101287582\n",
      "average PvalTotal 56Fe: 5.14922614291e-07\n",
      "average PvalTotal 208Pb: 0.000228247408284\n"
     ]
    }
   ],
   "source": [
    "# PvalTotal\n",
    "for target in ['12C','27Al','56Fe','208Pb']:\n",
    "    sims['PvalTotal_%s'%target] = Fisher_combination_Pvals_pandas([sims['PvalSigmaX_unweighted_%s'%target],\n",
    "                                                                   sims['PvalSigmaY_unweighted_%s'%target],\n",
    "                                                                   sims['PvalSigmaZa1_unweighted_%s'%target],\n",
    "                                                                   sims['PvalSigmaZa2_unweighted_%s'%target], \n",
    "                                                                   sims['PvalMeanZa1_unweighted_%s'%target],\n",
    "                                                                   sims['PvalMeanZa2_unweighted_%s'%target]         \n",
    "                                                                  ])\n",
    "    print 'average PvalTotal %s:'%target,np.average(sims['PvalTotal_%s'%target])"
   ]
  },
  {
   "cell_type": "code",
   "execution_count": 5,
   "metadata": {
    "collapsed": false
   },
   "outputs": [],
   "source": [
    "def draw_PvalWeighting_2d( df , v1 , v2 , bins=40 ,\n",
    "                          weights=None, w_label=None , cmap='Greys' ,\n",
    "                          xlabel=None , ylabel=None ,                         \n",
    "                          figsize=(10,10), title=None, do_save_fig=False,\n",
    "                          do_add_nominal_values=False, suffix='',      \n",
    "                          nominal_v1=None,nominal_v1_err=None,                       \n",
    "                          nominal_v2=None,nominal_v2_err=None,\n",
    "                          x_ranges=None,y_ranges=None):\n",
    "    \n",
    "    fig,ax=plt.subplots(figsize=figsize)\n",
    "    sum_weights = len(df)*np.average(df[v1],weights=weights)\n",
    "    print 'sum_weights:',sum_weights\n",
    "    plt.hist2d(df[v1],df[v2],bins=bins,weights=weights/sum_weights,cmap=cmap); # 0.01 offset to draw the plot nicely\n",
    "    ax.add_patch( patches.Rectangle((np.min(df[v1]), np.min(df[v2])),\n",
    "                                     np.max(df[v1])-np.min(df[v1]) ,\n",
    "                                     np.max(df[v2])-np.min(df[v2]),        \n",
    "                                     fill=True, linewidth=3 , color='green', alpha=0.1\n",
    "                                    ))\n",
    "#     print 'min of ',v1,'is',np.min(df[v1])\n",
    "#     print 'max of ',v1,'is',np.max(df[v1])\n",
    "#     print 'min of ',v2,'is',np.min(df[v2])\n",
    "#     print 'max of ',v2,'is',np.max(df[v2])\n",
    "    if y_ranges is None:\n",
    "        ax.set_ylim(np.min(df[v2])-0.1*np.abs(np.min(df[v2])),np.max(df[v2])+0.1*np.abs(np.max(df[v2])))\n",
    "    else: \n",
    "        ax.set_ylim(y_ranges)\n",
    "    if x_ranges is None:\n",
    "        ax.set_xlim(np.min(df[v1])-0.1*np.abs(np.min(df[v1])),np.max(df[v1])+0.1*np.abs(np.max(df[v1])))\n",
    "    else: \n",
    "        ax.set_xlim(x_ranges)\n",
    "\n",
    "\n",
    "    cb=plt.colorbar()\n",
    "    cb.ax.tick_params(labelsize=30)\n",
    "    set_axes( ax , xlabel , ylabel , fontsize=30)\n",
    "    if do_add_nominal_values:\n",
    "           \n",
    "        ax.add_patch( patches.Rectangle((nominal_v1-nominal_v1_err, nominal_v2-nominal_v2_err),\n",
    "                                        2*nominal_v1_err,\n",
    "                                        2*nominal_v2_err,        \n",
    "                                        fill=False, linewidth=3 , color='blue'\n",
    "                                       ))\n",
    "\n",
    "    if do_save_fig: \n",
    "        plt.savefig('/Users/erezcohen/Desktop/DataMining/AccCorr_ppSRCAnalysisNote/all_figures/AccCorr_'+v1+'_'+v2+'_'+w_label+suffix+'.pdf')\n",
    "    \n",
    "\n"
   ]
  },
  {
   "cell_type": "code",
   "execution_count": 6,
   "metadata": {
    "collapsed": true
   },
   "outputs": [],
   "source": [
    "def draw_all_PvalWeighting_2d(v1='SigmaZa1' , v2='SigmaZa2' ,\n",
    "                              xlabel='$\\\\sigma_{z}-a_{1}$',ylabel='$\\\\sigma_{z}-a_{2}$ [GeV/c]' ,\n",
    "                              bins=40,\n",
    "                              figsize=(10,10),\n",
    "                              weights=None,\n",
    "                              w_labels=None,\n",
    "                              do_save_fig=False,\n",
    "                              draw_generated=False,\n",
    "                              do_add_nominal_values=False, \n",
    "                              nominal_v1=None,nominal_v1_err=None,                                                            \n",
    "                              nominal_v2=None,nominal_v2_err=None,\n",
    "                              do_draw=None,suffix='',\n",
    "                              x_ranges=None,y_ranges=None):\n",
    "    \n",
    "    for weight,w_label,do_showplot in zip(weights,w_labels,do_draw):\n",
    "        \n",
    "        if weight is None:\n",
    "            if draw_generated and do_showplot:\n",
    "                draw_PvalWeighting_2d( sims , 'gen'+v1 , 'gen'+v2 , bins=bins , weights=weight, w_label=w_label  , cmap='hot_r' ,\n",
    "                                  xlabel=xlabel,ylabel=ylabel, figsize=figsize , title='no weighting' , do_save_fig=do_save_fig);\n",
    "        elif do_showplot:\n",
    "            print 'ploting histogram weighted by',weight\n",
    "            title=weight\n",
    "            weight=sims[weight]\n",
    "            draw_PvalWeighting_2d( sims , 'gen'+v1 , 'gen'+v2 , bins=bins , weights=weight, w_label=w_label  , cmap='hot_r' ,\n",
    "                                  xlabel=xlabel,ylabel=ylabel, figsize=figsize , title=title , do_save_fig=do_save_fig,\n",
    "                                  do_add_nominal_values=do_add_nominal_values,\n",
    "                                  nominal_v1=nominal_v1,\n",
    "                                  nominal_v1_err=nominal_v1_err,\n",
    "                                  nominal_v2=nominal_v2,\n",
    "                                  nominal_v2_err=nominal_v2_err,\n",
    "                                  suffix=suffix,x_ranges=x_ranges,y_ranges=y_ranges);\n",
    "\n"
   ]
  },
  {
   "cell_type": "code",
   "execution_count": 7,
   "metadata": {
    "collapsed": true
   },
   "outputs": [],
   "source": [
    "def plot_SigmaT_correlationWithOthers(v2='SigmaZa1',ylabel='$\\\\sigma_{z}-a_{2}$ [GeV/c]',binsy=30,\n",
    "                                      v1='SigmaX',xlabel='$\\\\sigma_{x}$ [Gev/c]', binsx=30,\n",
    "                                      target='12C',do_save_fig=False,\n",
    "                                      do_add_nominal_values=False,\n",
    "                                      nominal_v1=None,nominal_v1_err=None,\n",
    "                                      nominal_v2=None,nominal_v2_err=None,\n",
    "                                      do_draw=None,suffix='',                             \n",
    "                                      x_ranges=None,y_ranges=None): \n",
    "    \n",
    "    weights = [None , 'PvalSigmaT%s_%s'%(v2,target) , 'PvalTotal_unweighted_%s'%target, 'Pvaltot_pandas_%s'%target, 'PvalTotal'  ]\n",
    "    w_labels = ['NoWeights','PvalSigmaT%s_%s'%(v2,target),'PvalTotal_%s'%target,'Pvaltot_pandas_%s'%target ,'PvalTotal_%s'%target]\n",
    "    \n",
    "    draw_all_PvalWeighting_2d(v1=v1 , v2=v2 ,\n",
    "                              xlabel=xlabel,ylabel=ylabel ,\n",
    "                              bins=(binsx,binsy),\n",
    "                              figsize=(15,10),\n",
    "                              weights=weights, \n",
    "                              w_labels=w_labels,\n",
    "                              do_add_nominal_values=do_add_nominal_values,\n",
    "                              do_save_fig=do_save_fig,\n",
    "                              nominal_v1=nominal_v1,\n",
    "                              nominal_v1_err=nominal_v1_err,\n",
    "                              nominal_v2=nominal_v2,\n",
    "                              nominal_v2_err=nominal_v2_err,\n",
    "                              do_draw=do_draw,\n",
    "                              suffix=suffix,x_ranges=x_ranges,y_ranges=y_ranges)\n",
    "\n"
   ]
  },
  {
   "cell_type": "code",
   "execution_count": 8,
   "metadata": {
    "collapsed": true
   },
   "outputs": [],
   "source": [
    "def plot_correlation(v2='SigmaZa1',ylabel='$\\\\sigma_{z}-a_{2}$ [GeV/c]',binsy=30,\n",
    "                     v1='SigmaX',xlabel='$\\\\sigma_{x}$ [Gev/c]', binsx=30,\n",
    "                     target='12C',do_save_fig=False,\n",
    "                     do_add_nominal_values=False,\n",
    "                     nominal_v1=None,nominal_v1_err=None,\n",
    "                     nominal_v2=None,nominal_v2_err=None,\n",
    "                     do_draw=None,suffix='',                             \n",
    "                     x_ranges=None,y_ranges=None): \n",
    "    \n",
    "    weights = [None , 'Pval%s%s_%s'%(v1,v2,target) , 'PvalTotal_unweighted_%s'%target, 'Pvaltot_pandas_%s'%target, 'PvalTotal_%s'%target  ]\n",
    "    w_labels = ['NoWeights','Pval%s%s_%s'%(v1,v2,target),'PvalTotal_%s'%target,'Pvaltot_pandas_%s'%target ,'PvalTotal_%s'%target]\n",
    "    \n",
    "    draw_all_PvalWeighting_2d(v1=v1 , v2=v2 ,\n",
    "                              xlabel=xlabel,ylabel=ylabel ,\n",
    "                              bins=(binsx,binsy),\n",
    "                              figsize=(15,10),\n",
    "                              weights=weights, \n",
    "                              w_labels=w_labels,\n",
    "                              do_add_nominal_values=do_add_nominal_values,\n",
    "                              do_save_fig=do_save_fig,\n",
    "                              nominal_v1=nominal_v1,\n",
    "                              nominal_v1_err=nominal_v1_err,\n",
    "                              nominal_v2=nominal_v2,\n",
    "                              nominal_v2_err=nominal_v2_err,\n",
    "                              do_draw=do_draw,\n",
    "                              suffix=suffix,x_ranges=x_ranges,y_ranges=y_ranges)\n",
    "\n",
    "\n"
   ]
  },
  {
   "cell_type": "code",
   "execution_count": null,
   "metadata": {
    "collapsed": false,
    "scrolled": true
   },
   "outputs": [
    {
     "name": "stdout",
     "output_type": "stream",
     "text": [
      "ploting histogram weighted by PvalSigmaTSigmaZa1_12C\n",
      "sum_weights: 24800.0\n",
      "ploting histogram weighted by PvalTotal\n"
     ]
    },
    {
     "ename": "KeyError",
     "evalue": "'PvalTotal'",
     "output_type": "error",
     "traceback": [
      "\u001b[0;31m---------------------------------------------------------------------------\u001b[0m",
      "\u001b[0;31mKeyError\u001b[0m                                  Traceback (most recent call last)",
      "\u001b[0;32m<ipython-input-9-9dd65f566971>\u001b[0m in \u001b[0;36m<module>\u001b[0;34m()\u001b[0m\n\u001b[1;32m      9\u001b[0m                                   \u001b[0mnominal_v2\u001b[0m\u001b[0;34m=\u001b[0m\u001b[0mnominal_values\u001b[0m\u001b[0;34m[\u001b[0m\u001b[0;34m'a1_%s'\u001b[0m\u001b[0;34m%\u001b[0m\u001b[0mtarget\u001b[0m\u001b[0;34m]\u001b[0m\u001b[0;34m,\u001b[0m\u001b[0mnominal_v2_err\u001b[0m\u001b[0;34m=\u001b[0m\u001b[0mnominal_values\u001b[0m\u001b[0;34m[\u001b[0m\u001b[0;34m'a1_err_%s'\u001b[0m\u001b[0;34m%\u001b[0m\u001b[0mtarget\u001b[0m\u001b[0;34m]\u001b[0m\u001b[0;34m,\u001b[0m\u001b[0;34m\u001b[0m\u001b[0m\n\u001b[1;32m     10\u001b[0m                                   \u001b[0mdo_add_nominal_values\u001b[0m\u001b[0;34m=\u001b[0m\u001b[0mdo_add_nominal_values\u001b[0m\u001b[0;34m,\u001b[0m\u001b[0mdo_save_fig\u001b[0m\u001b[0;34m=\u001b[0m\u001b[0mdo_save_fig\u001b[0m\u001b[0;34m,\u001b[0m\u001b[0mbinsx\u001b[0m\u001b[0;34m=\u001b[0m\u001b[0mbinsx\u001b[0m\u001b[0;34m,\u001b[0m\u001b[0mbinsy\u001b[0m\u001b[0;34m=\u001b[0m\u001b[0mbinsy\u001b[0m\u001b[0;34m,\u001b[0m\u001b[0;34m\u001b[0m\u001b[0m\n\u001b[0;32m---> 11\u001b[0;31m                                   do_draw=do_draw)\n\u001b[0m\u001b[1;32m     12\u001b[0m plot_SigmaT_correlationWithOthers(v2='SigmaZa2',ylabel='$a_{2}$ [GeV/c]',          \n\u001b[1;32m     13\u001b[0m                                   \u001b[0mnominal_v1\u001b[0m\u001b[0;34m=\u001b[0m\u001b[0mnominal_values\u001b[0m\u001b[0;34m[\u001b[0m\u001b[0;34m'SigmaT_%s'\u001b[0m\u001b[0;34m%\u001b[0m\u001b[0mtarget\u001b[0m\u001b[0;34m]\u001b[0m\u001b[0;34m,\u001b[0m\u001b[0mnominal_v1_err\u001b[0m\u001b[0;34m=\u001b[0m\u001b[0mnominal_values\u001b[0m\u001b[0;34m[\u001b[0m\u001b[0;34m'SigmaT_err_%s'\u001b[0m\u001b[0;34m%\u001b[0m\u001b[0mtarget\u001b[0m\u001b[0;34m]\u001b[0m\u001b[0;34m,\u001b[0m\u001b[0;34m\u001b[0m\u001b[0m\n",
      "\u001b[0;32m<ipython-input-7-6fb4791a39af>\u001b[0m in \u001b[0;36mplot_SigmaT_correlationWithOthers\u001b[0;34m(v2, ylabel, binsy, v1, xlabel, binsx, target, do_save_fig, do_add_nominal_values, nominal_v1, nominal_v1_err, nominal_v2, nominal_v2_err, do_draw, suffix, x_ranges, y_ranges)\u001b[0m\n\u001b[1;32m     24\u001b[0m                               \u001b[0mnominal_v2_err\u001b[0m\u001b[0;34m=\u001b[0m\u001b[0mnominal_v2_err\u001b[0m\u001b[0;34m,\u001b[0m\u001b[0;34m\u001b[0m\u001b[0m\n\u001b[1;32m     25\u001b[0m                               \u001b[0mdo_draw\u001b[0m\u001b[0;34m=\u001b[0m\u001b[0mdo_draw\u001b[0m\u001b[0;34m,\u001b[0m\u001b[0;34m\u001b[0m\u001b[0m\n\u001b[0;32m---> 26\u001b[0;31m                               suffix=suffix,x_ranges=x_ranges,y_ranges=y_ranges)\n\u001b[0m\u001b[1;32m     27\u001b[0m \u001b[0;34m\u001b[0m\u001b[0m\n",
      "\u001b[0;32m<ipython-input-6-03e714aaec40>\u001b[0m in \u001b[0;36mdraw_all_PvalWeighting_2d\u001b[0;34m(v1, v2, xlabel, ylabel, bins, figsize, weights, w_labels, do_save_fig, draw_generated, do_add_nominal_values, nominal_v1, nominal_v1_err, nominal_v2, nominal_v2_err, do_draw, suffix, x_ranges, y_ranges)\u001b[0m\n\u001b[1;32m     22\u001b[0m             \u001b[0;32mprint\u001b[0m \u001b[0;34m'ploting histogram weighted by'\u001b[0m\u001b[0;34m,\u001b[0m\u001b[0mweight\u001b[0m\u001b[0;34m\u001b[0m\u001b[0m\n\u001b[1;32m     23\u001b[0m             \u001b[0mtitle\u001b[0m\u001b[0;34m=\u001b[0m\u001b[0mweight\u001b[0m\u001b[0;34m\u001b[0m\u001b[0m\n\u001b[0;32m---> 24\u001b[0;31m             \u001b[0mweight\u001b[0m\u001b[0;34m=\u001b[0m\u001b[0msims\u001b[0m\u001b[0;34m[\u001b[0m\u001b[0mweight\u001b[0m\u001b[0;34m]\u001b[0m\u001b[0;34m\u001b[0m\u001b[0m\n\u001b[0m\u001b[1;32m     25\u001b[0m             draw_PvalWeighting_2d( sims , 'gen'+v1 , 'gen'+v2 , bins=bins , weights=weight, w_label=w_label  , cmap='hot_r' ,\n\u001b[1;32m     26\u001b[0m                                   \u001b[0mxlabel\u001b[0m\u001b[0;34m=\u001b[0m\u001b[0mxlabel\u001b[0m\u001b[0;34m,\u001b[0m\u001b[0mylabel\u001b[0m\u001b[0;34m=\u001b[0m\u001b[0mylabel\u001b[0m\u001b[0;34m,\u001b[0m \u001b[0mfigsize\u001b[0m\u001b[0;34m=\u001b[0m\u001b[0mfigsize\u001b[0m \u001b[0;34m,\u001b[0m \u001b[0mtitle\u001b[0m\u001b[0;34m=\u001b[0m\u001b[0mtitle\u001b[0m \u001b[0;34m,\u001b[0m \u001b[0mdo_save_fig\u001b[0m\u001b[0;34m=\u001b[0m\u001b[0mdo_save_fig\u001b[0m\u001b[0;34m,\u001b[0m\u001b[0;34m\u001b[0m\u001b[0m\n",
      "\u001b[0;32m/usr/local/lib/python2.7/site-packages/pandas/core/frame.pyc\u001b[0m in \u001b[0;36m__getitem__\u001b[0;34m(self, key)\u001b[0m\n\u001b[1;32m   1995\u001b[0m             \u001b[0;32mreturn\u001b[0m \u001b[0mself\u001b[0m\u001b[0;34m.\u001b[0m\u001b[0m_getitem_multilevel\u001b[0m\u001b[0;34m(\u001b[0m\u001b[0mkey\u001b[0m\u001b[0;34m)\u001b[0m\u001b[0;34m\u001b[0m\u001b[0m\n\u001b[1;32m   1996\u001b[0m         \u001b[0;32melse\u001b[0m\u001b[0;34m:\u001b[0m\u001b[0;34m\u001b[0m\u001b[0m\n\u001b[0;32m-> 1997\u001b[0;31m             \u001b[0;32mreturn\u001b[0m \u001b[0mself\u001b[0m\u001b[0;34m.\u001b[0m\u001b[0m_getitem_column\u001b[0m\u001b[0;34m(\u001b[0m\u001b[0mkey\u001b[0m\u001b[0;34m)\u001b[0m\u001b[0;34m\u001b[0m\u001b[0m\n\u001b[0m\u001b[1;32m   1998\u001b[0m \u001b[0;34m\u001b[0m\u001b[0m\n\u001b[1;32m   1999\u001b[0m     \u001b[0;32mdef\u001b[0m \u001b[0m_getitem_column\u001b[0m\u001b[0;34m(\u001b[0m\u001b[0mself\u001b[0m\u001b[0;34m,\u001b[0m \u001b[0mkey\u001b[0m\u001b[0;34m)\u001b[0m\u001b[0;34m:\u001b[0m\u001b[0;34m\u001b[0m\u001b[0m\n",
      "\u001b[0;32m/usr/local/lib/python2.7/site-packages/pandas/core/frame.pyc\u001b[0m in \u001b[0;36m_getitem_column\u001b[0;34m(self, key)\u001b[0m\n\u001b[1;32m   2002\u001b[0m         \u001b[0;31m# get column\u001b[0m\u001b[0;34m\u001b[0m\u001b[0;34m\u001b[0m\u001b[0m\n\u001b[1;32m   2003\u001b[0m         \u001b[0;32mif\u001b[0m \u001b[0mself\u001b[0m\u001b[0;34m.\u001b[0m\u001b[0mcolumns\u001b[0m\u001b[0;34m.\u001b[0m\u001b[0mis_unique\u001b[0m\u001b[0;34m:\u001b[0m\u001b[0;34m\u001b[0m\u001b[0m\n\u001b[0;32m-> 2004\u001b[0;31m             \u001b[0;32mreturn\u001b[0m \u001b[0mself\u001b[0m\u001b[0;34m.\u001b[0m\u001b[0m_get_item_cache\u001b[0m\u001b[0;34m(\u001b[0m\u001b[0mkey\u001b[0m\u001b[0;34m)\u001b[0m\u001b[0;34m\u001b[0m\u001b[0m\n\u001b[0m\u001b[1;32m   2005\u001b[0m \u001b[0;34m\u001b[0m\u001b[0m\n\u001b[1;32m   2006\u001b[0m         \u001b[0;31m# duplicate columns & possible reduce dimensionality\u001b[0m\u001b[0;34m\u001b[0m\u001b[0;34m\u001b[0m\u001b[0m\n",
      "\u001b[0;32m/usr/local/lib/python2.7/site-packages/pandas/core/generic.pyc\u001b[0m in \u001b[0;36m_get_item_cache\u001b[0;34m(self, item)\u001b[0m\n\u001b[1;32m   1348\u001b[0m         \u001b[0mres\u001b[0m \u001b[0;34m=\u001b[0m \u001b[0mcache\u001b[0m\u001b[0;34m.\u001b[0m\u001b[0mget\u001b[0m\u001b[0;34m(\u001b[0m\u001b[0mitem\u001b[0m\u001b[0;34m)\u001b[0m\u001b[0;34m\u001b[0m\u001b[0m\n\u001b[1;32m   1349\u001b[0m         \u001b[0;32mif\u001b[0m \u001b[0mres\u001b[0m \u001b[0;32mis\u001b[0m \u001b[0mNone\u001b[0m\u001b[0;34m:\u001b[0m\u001b[0;34m\u001b[0m\u001b[0m\n\u001b[0;32m-> 1350\u001b[0;31m             \u001b[0mvalues\u001b[0m \u001b[0;34m=\u001b[0m \u001b[0mself\u001b[0m\u001b[0;34m.\u001b[0m\u001b[0m_data\u001b[0m\u001b[0;34m.\u001b[0m\u001b[0mget\u001b[0m\u001b[0;34m(\u001b[0m\u001b[0mitem\u001b[0m\u001b[0;34m)\u001b[0m\u001b[0;34m\u001b[0m\u001b[0m\n\u001b[0m\u001b[1;32m   1351\u001b[0m             \u001b[0mres\u001b[0m \u001b[0;34m=\u001b[0m \u001b[0mself\u001b[0m\u001b[0;34m.\u001b[0m\u001b[0m_box_item_values\u001b[0m\u001b[0;34m(\u001b[0m\u001b[0mitem\u001b[0m\u001b[0;34m,\u001b[0m \u001b[0mvalues\u001b[0m\u001b[0;34m)\u001b[0m\u001b[0;34m\u001b[0m\u001b[0m\n\u001b[1;32m   1352\u001b[0m             \u001b[0mcache\u001b[0m\u001b[0;34m[\u001b[0m\u001b[0mitem\u001b[0m\u001b[0;34m]\u001b[0m \u001b[0;34m=\u001b[0m \u001b[0mres\u001b[0m\u001b[0;34m\u001b[0m\u001b[0m\n",
      "\u001b[0;32m/usr/local/lib/python2.7/site-packages/pandas/core/internals.pyc\u001b[0m in \u001b[0;36mget\u001b[0;34m(self, item, fastpath)\u001b[0m\n\u001b[1;32m   3288\u001b[0m \u001b[0;34m\u001b[0m\u001b[0m\n\u001b[1;32m   3289\u001b[0m             \u001b[0;32mif\u001b[0m \u001b[0;32mnot\u001b[0m \u001b[0misnull\u001b[0m\u001b[0;34m(\u001b[0m\u001b[0mitem\u001b[0m\u001b[0;34m)\u001b[0m\u001b[0;34m:\u001b[0m\u001b[0;34m\u001b[0m\u001b[0m\n\u001b[0;32m-> 3290\u001b[0;31m                 \u001b[0mloc\u001b[0m \u001b[0;34m=\u001b[0m \u001b[0mself\u001b[0m\u001b[0;34m.\u001b[0m\u001b[0mitems\u001b[0m\u001b[0;34m.\u001b[0m\u001b[0mget_loc\u001b[0m\u001b[0;34m(\u001b[0m\u001b[0mitem\u001b[0m\u001b[0;34m)\u001b[0m\u001b[0;34m\u001b[0m\u001b[0m\n\u001b[0m\u001b[1;32m   3291\u001b[0m             \u001b[0;32melse\u001b[0m\u001b[0;34m:\u001b[0m\u001b[0;34m\u001b[0m\u001b[0m\n\u001b[1;32m   3292\u001b[0m                 \u001b[0mindexer\u001b[0m \u001b[0;34m=\u001b[0m \u001b[0mnp\u001b[0m\u001b[0;34m.\u001b[0m\u001b[0marange\u001b[0m\u001b[0;34m(\u001b[0m\u001b[0mlen\u001b[0m\u001b[0;34m(\u001b[0m\u001b[0mself\u001b[0m\u001b[0;34m.\u001b[0m\u001b[0mitems\u001b[0m\u001b[0;34m)\u001b[0m\u001b[0;34m)\u001b[0m\u001b[0;34m[\u001b[0m\u001b[0misnull\u001b[0m\u001b[0;34m(\u001b[0m\u001b[0mself\u001b[0m\u001b[0;34m.\u001b[0m\u001b[0mitems\u001b[0m\u001b[0;34m)\u001b[0m\u001b[0;34m]\u001b[0m\u001b[0;34m\u001b[0m\u001b[0m\n",
      "\u001b[0;32m/usr/local/lib/python2.7/site-packages/pandas/indexes/base.pyc\u001b[0m in \u001b[0;36mget_loc\u001b[0;34m(self, key, method, tolerance)\u001b[0m\n\u001b[1;32m   1945\u001b[0m                 \u001b[0;32mreturn\u001b[0m \u001b[0mself\u001b[0m\u001b[0;34m.\u001b[0m\u001b[0m_engine\u001b[0m\u001b[0;34m.\u001b[0m\u001b[0mget_loc\u001b[0m\u001b[0;34m(\u001b[0m\u001b[0mkey\u001b[0m\u001b[0;34m)\u001b[0m\u001b[0;34m\u001b[0m\u001b[0m\n\u001b[1;32m   1946\u001b[0m             \u001b[0;32mexcept\u001b[0m \u001b[0mKeyError\u001b[0m\u001b[0;34m:\u001b[0m\u001b[0;34m\u001b[0m\u001b[0m\n\u001b[0;32m-> 1947\u001b[0;31m                 \u001b[0;32mreturn\u001b[0m \u001b[0mself\u001b[0m\u001b[0;34m.\u001b[0m\u001b[0m_engine\u001b[0m\u001b[0;34m.\u001b[0m\u001b[0mget_loc\u001b[0m\u001b[0;34m(\u001b[0m\u001b[0mself\u001b[0m\u001b[0;34m.\u001b[0m\u001b[0m_maybe_cast_indexer\u001b[0m\u001b[0;34m(\u001b[0m\u001b[0mkey\u001b[0m\u001b[0;34m)\u001b[0m\u001b[0;34m)\u001b[0m\u001b[0;34m\u001b[0m\u001b[0m\n\u001b[0m\u001b[1;32m   1948\u001b[0m \u001b[0;34m\u001b[0m\u001b[0m\n\u001b[1;32m   1949\u001b[0m         \u001b[0mindexer\u001b[0m \u001b[0;34m=\u001b[0m \u001b[0mself\u001b[0m\u001b[0;34m.\u001b[0m\u001b[0mget_indexer\u001b[0m\u001b[0;34m(\u001b[0m\u001b[0;34m[\u001b[0m\u001b[0mkey\u001b[0m\u001b[0;34m]\u001b[0m\u001b[0;34m,\u001b[0m \u001b[0mmethod\u001b[0m\u001b[0;34m=\u001b[0m\u001b[0mmethod\u001b[0m\u001b[0;34m,\u001b[0m \u001b[0mtolerance\u001b[0m\u001b[0;34m=\u001b[0m\u001b[0mtolerance\u001b[0m\u001b[0;34m)\u001b[0m\u001b[0;34m\u001b[0m\u001b[0m\n",
      "\u001b[0;32mpandas/index.pyx\u001b[0m in \u001b[0;36mpandas.index.IndexEngine.get_loc (pandas/index.c:4154)\u001b[0;34m()\u001b[0m\n",
      "\u001b[0;32mpandas/index.pyx\u001b[0m in \u001b[0;36mpandas.index.IndexEngine.get_loc (pandas/index.c:4018)\u001b[0;34m()\u001b[0m\n",
      "\u001b[0;32mpandas/hashtable.pyx\u001b[0m in \u001b[0;36mpandas.hashtable.PyObjectHashTable.get_item (pandas/hashtable.c:12368)\u001b[0;34m()\u001b[0m\n",
      "\u001b[0;32mpandas/hashtable.pyx\u001b[0m in \u001b[0;36mpandas.hashtable.PyObjectHashTable.get_item (pandas/hashtable.c:12322)\u001b[0;34m()\u001b[0m\n",
      "\u001b[0;31mKeyError\u001b[0m: 'PvalTotal'"
     ]
    }
   ],
   "source": [
    "do_save_fig=False\n",
    "do_add_nominal_values=True\n",
    "target='C12'\n",
    "do_draw = [False , True , False , False , True ]\n",
    "binsx=np.linspace(0,0.36,36)#np.linspace(0.04,0.26,31)\n",
    "binsy=20\n",
    "plot_SigmaT_correlationWithOthers(v2='SigmaZa1',ylabel='$a_{1}$',\n",
    "                                  nominal_v1=nominal_values['SigmaT_%s'%target],nominal_v1_err=nominal_values['SigmaT_err_%s'%target],\n",
    "                                  nominal_v2=nominal_values['a1_%s'%target],nominal_v2_err=nominal_values['a1_err_%s'%target],\n",
    "                                  do_add_nominal_values=do_add_nominal_values,do_save_fig=do_save_fig,binsx=binsx,binsy=binsy,\n",
    "                                  do_draw=do_draw)\n",
    "plot_SigmaT_correlationWithOthers(v2='SigmaZa2',ylabel='$a_{2}$ [GeV/c]',          \n",
    "                                  nominal_v1=nominal_values['SigmaT_%s'%target],nominal_v1_err=nominal_values['SigmaT_err_%s'%target],\n",
    "                                  nominal_v2=nominal_values['a2_%s'%target],nominal_v2_err=nominal_values['a2_err_%s'%target],\n",
    "                                  do_add_nominal_values=do_add_nominal_values,do_save_fig=do_save_fig,binsx=binsx,binsy=binsy,\n",
    "                                  do_draw=do_draw)\n",
    "plot_SigmaT_correlationWithOthers(v2='MeanZa1',ylabel='$b_{1}$',\n",
    "                                  nominal_v1=nominal_values['SigmaT_%s'%target],nominal_v1_err=nominal_values['SigmaT_err_%s'%target],\n",
    "                                  nominal_v2=nominal_values['b1_%s'%target],nominal_v2_err=nominal_values['b1_err_%s'%target],\n",
    "                                  do_add_nominal_values=do_add_nominal_values,do_save_fig=do_save_fig,binsx=binsx,binsy=binsy,\n",
    "                                  do_draw=do_draw)\n",
    "plot_SigmaT_correlationWithOthers(v2='MeanZa2',ylabel='$b_{2}$ [GeV/c]',\n",
    "                                  nominal_v1=nominal_values['SigmaT_%s'%target],nominal_v1_err=nominal_values['SigmaT_err_%s'%target],\n",
    "                                  nominal_v2=nominal_values['b2_%s'%target],nominal_v2_err=nominal_values['b2_err_%s'%target],\n",
    "                                  do_add_nominal_values=do_add_nominal_values,do_save_fig=do_save_fig,binsx=binsx,binsy=binsy,\n",
    "                                  do_draw=do_draw)"
   ]
  },
  {
   "cell_type": "code",
   "execution_count": 3,
   "metadata": {
    "collapsed": false,
    "scrolled": false
   },
   "outputs": [
    {
     "name": "stdout",
     "output_type": "stream",
     "text": [
      "adding  runs1000000to1100000_20SigmaT_10SigmaZa1_10SigmaZa2_10MeanZa1_10MeanZa2_10NRand_results.csv\n",
      "adding  runs1100000to1400000_30SigmaT_10SigmaZa1_10SigmaZa2_10MeanZa1_10MeanZa2_10NRand_results.csv\n",
      "adding  runs1400000to1500000_results.csv\n",
      "adding  runs1500000to1501000_NsigmaT_1_NSigmaZa1_1_NSigmaZa2_1_NMeanZa1_1_NMeanZa2_1000_NRand_10_simulationruns_results.csv\n",
      "adding  runs1501000to1502000_NsigmaT_1_NSigmaZa1_1_NSigmaZa2_1_NMeanZa1_1_NMeanZa2_1000_NRand_10_simulationruns_results.csv\n",
      "adding  runs1502000to1503000_NsigmaT_1_NSigmaZa1_1_NSigmaZa2_1_NMeanZa1_1_NMeanZa2_1000_NRand_10_simulationruns_results.csv\n",
      "adding  runs1503000to1504000_NsigmaT_1_NSigmaZa1_1_NSigmaZa2_1_NMeanZa1_1_NMeanZa2_1000_NRand_10_simulationruns_results.csv\n",
      "adding  runs1504000to1505000_NsigmaT_1_NSigmaZa1_1000_NSigmaZa2_1_NMeanZa1_1_NMeanZa2_1_NRand_10_simulationruns_results.csv\n",
      "adding  runs1505000to1506000_NsigmaT_1_NSigmaZa1_1_NSigmaZa2_1000_NMeanZa1_1_NMeanZa2_1_NRand_10_simulationruns_results.csv\n",
      "adding  runs1506000to1507000_NsigmaT_1_NSigmaZa1_1_NSigmaZa2_1_NMeanZa1_1_NMeanZa2_1000_NRand_10_simulationruns_results.csv\n",
      "adding  runs1507000to1508000_NsigmaT_1_NSigmaZa1_1_NSigmaZa2_1_NMeanZa1_1_NMeanZa2_1000_NRand_10_simulationruns_results.csv\n",
      "adding  runs1510000to1517776_results.csv\n",
      "adding  runs1520000to1563200_results.csv\n",
      "adding  runs1600000to1760000_results.csv\n",
      "adding  runs600000to6018605_30SigmaT_5SigmaZa1_5SigmaZa2_5MeanZa1_5MeanZa2_10NRand_results.csv\n",
      "adding  runs700000to756268_100SigmaT_5SigmaZa1_5SigmaZa2_5MeanZa1_5MeanZa2_10NRand_results.csv\n",
      "len: 796440\n"
     ]
    }
   ],
   "source": [
    "# read all our runs results\n",
    "sims_files = []\n",
    "sims_list , sims_files = os.listdir('/Users/erezcohen/Desktop/DataMining/Analysis_DATA/ppSRCcm/results/') , [] \n",
    "for file in sims_list:                                                                                        \n",
    "    print 'adding ',file\n",
    "    sims_files.append(pd.read_csv(('/Users/erezcohen/Desktop/DataMining/Analysis_DATA/ppSRCcm/results/'+file)))\n",
    "\n",
    "sims=pd.concat(sims_files)\n",
    "sims.fillna(0.0,inplace=True)\n",
    "print 'len:',len(sims) "
   ]
  },
  {
   "cell_type": "code",
   "execution_count": 138,
   "metadata": {
    "collapsed": true
   },
   "outputs": [],
   "source": [
    "# the originak plot that works is: \n",
    "# sims70=pd.read_csv('/Users/erezcohen/Desktop/DataMining/Analysis_DATA/ppSRCcm/results/runs700000to756268_100SigmaT_5SigmaZa1_5SigmaZa2_5MeanZa1_5MeanZa2_10NRand_results.csv')\n",
    "# sims = pd.read_csv('/Users/erezcohen/Desktop/DataMining/Analysis_DATA/ppSRCcm/results/runs1000000to1400000_results.csv')\n",
    "# sims=sims[sims.run>1100000]\n",
    "for target in ['12C','27Al','56Fe','208Pb']:\n",
    "    sims['PvalTotal_%s'%target] = Fisher_combination_Pvals_pandas([sims['PvalSigmaX_unweighted_%s'%target],\n",
    "                                                                   sims['PvalSigmaY_unweighted_%s'%target],\n",
    "                                                                   sims['PvalSigmaZa1_unweighted_%s'%target],\n",
    "                                                                   sims['PvalSigmaZa2_unweighted_%s'%target], \n",
    "                                                                   sims['PvalMeanZa1_unweighted_%s'%target],\n",
    "                                                                   sims['PvalMeanZa2_unweighted_%s'%target]         \n",
    "                                                                  ])\n",
    "\n",
    "    sims['PvalTot_tw_%s'%target] = Fisher_combination_Pvals_pandas([sims['PvalSigmaX_tw_%s'%target],\n",
    "                                                                   sims['PvalSigmaY_tw_%s'%target],\n",
    "                                                                   sims['PvalSigmaZa1_tw_%s'%target],\n",
    "                                                                   sims['PvalSigmaZa2_tw_%s'%target], \n",
    "                                                                   sims['PvalMeanZa1_tw_%s'%target],\n",
    "                                                                   sims['PvalMeanZa2_tw_%s'%target]         \n",
    "                                                                  ])\n",
    "\n",
    "\n"
   ]
  },
  {
   "cell_type": "code",
   "execution_count": null,
   "metadata": {
    "collapsed": true
   },
   "outputs": [],
   "source": []
  }
 ],
 "metadata": {
  "kernelspec": {
   "display_name": "Python 2",
   "language": "python",
   "name": "python2"
  },
  "language_info": {
   "codemirror_mode": {
    "name": "ipython",
    "version": 2
   },
   "file_extension": ".py",
   "mimetype": "text/x-python",
   "name": "python",
   "nbconvert_exporter": "python",
   "pygments_lexer": "ipython2",
   "version": "2.7.11"
  }
 },
 "nbformat": 4,
 "nbformat_minor": 1
}
