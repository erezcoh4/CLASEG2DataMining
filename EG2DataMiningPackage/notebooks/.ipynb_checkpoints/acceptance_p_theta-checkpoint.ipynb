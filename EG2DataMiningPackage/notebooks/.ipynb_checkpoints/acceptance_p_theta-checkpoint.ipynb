{
 "cells": [
  {
   "cell_type": "code",
   "execution_count": 267,
   "metadata": {
    "collapsed": false
   },
   "outputs": [],
   "source": [
    "import ROOT ,os, sys , math\n",
    "from ROOT import  TPlots\n",
    "from matplotlib import pyplot as plt\n",
    "from matplotlib.colors import LogNorm\n",
    "%matplotlib inline\n",
    "import numpy as np , pandas as pd\n",
    "from root_numpy import root2array, tree2array , hist2array"
   ]
  },
  {
   "cell_type": "code",
   "execution_count": 369,
   "metadata": {
    "collapsed": true
   },
   "outputs": [],
   "source": [
    "runs = [80 , 68 , 72 , 74]"
   ]
  },
  {
   "cell_type": "code",
   "execution_count": 370,
   "metadata": {
    "collapsed": false
   },
   "outputs": [],
   "source": [
    "Path = \"/Users/erezcohen/Desktop/DataMining/AnaFiles\"\n",
    "chain = ROOT.TChain(\"anaTree\")\n",
    "for run in runs:\n",
    "    chain.Add(Path + \"/Ana_GSIM_run%04d_eep.root\"%run)\n",
    "T = tree2array(chain,branches=['Np_g','Np','protons[0].Theta()','protons[0].P()','protons_g[0].Theta()','protons_g[0].P()'])\n",
    "# ana = TPlots( Path + \"/\" + FileName + \".root\" , \"anaTree\" )"
   ]
  },
  {
   "cell_type": "code",
   "execution_count": 371,
   "metadata": {
    "collapsed": false
   },
   "outputs": [],
   "source": [
    "Np = T['Np']\n",
    "Np_g = T['Np_g']\n",
    "pMag_acc, pTheta_acc = T['protons_g[0].P()'][T['Np']==1]  , T['protons_g[0].Theta()'][T['Np']==1]\n",
    "pMag_acc, pTheta_acc = pMag_acc.astype('float') ,  pTheta_acc.astype('float')\n",
    "pMag_gen, pTheta_gen = T['protons_g[0].P()'][T['Np_g']==1], T['protons_g[0].Theta()'][T['Np_g']==1]\n",
    "pMag_gen, pTheta_gen = pMag_gen.astype('float'),  pTheta_gen.astype('float')\n",
    "p_accepted = np.ones(len(T))*[1 if Np[i]==1 else 0 for i in range(len(T))]\n",
    "data = {'pMag_gen':pMag_gen, 'pTheta_gen':pTheta_gen,'p_accepted':p_accepted}\n",
    "df = pd.DataFrame(data,columns = ['pMag_gen', 'pTheta_gen', 'p_accepted'])"
   ]
  },
  {
   "cell_type": "code",
   "execution_count": 382,
   "metadata": {
    "collapsed": false
   },
   "outputs": [
    {
     "data": {
      "image/png": "[encoded data removed]",
      "text/plain": [
       "<matplotlib.figure.Figure at 0x138ad0dd0>"
      ]
     },
     "metadata": {},
     "output_type": "display_data"
    }
   ],
   "source": [
    "fig= plt.figure(figsize=(10,8))\n",
    "ax = plt.subplot(1,1,1)\n",
    "hGenerated,xedges,yedges=np.histogram2d( df.pMag_gen , (180./3.1415)*df.pTheta_gen, bins=bins )\n",
    "hAccepted,xedges,yedges=np.histogram2d( df.pMag_gen , (180./3.1415)*df.pTheta_gen, weights=df.p_accepted, bins=bins )\n",
    "hAcceptance = 100*hAccepted/hGenerated\n",
    "extent = [xedges.min(),xedges.max(),yedges.min(),yedges.max()]\n",
    "im = ax.imshow(np.ma.masked_where(hAcceptance==0,hAcceptance).T\n",
    "               , interpolation='none', origin='lower'\n",
    "               , extent=extent, aspect='auto')\n",
    "divider = make_axes_locatable(ax)\n",
    "cbar = fig.colorbar(im)\n",
    "plt.title('acceptance [%]',fontsize=25)\n",
    "plt.xlabel(r'|$\\vec{p}$| [GeV/c]',fontsize=25)\n",
    "plt.ylabel(r'$\\theta_{p}$ [deg]',fontsize=25)\n",
    "plt.savefig('/Users/erezcohen/Desktop/acceptance_pTheta_pMag.png')"
   ]
  },
  {
   "cell_type": "code",
   "execution_count": 373,
   "metadata": {
    "collapsed": false
   },
   "outputs": [
    {
     "name": "stdout",
     "output_type": "stream",
     "text": [
      "df:          pMag_gen  pTheta_gen  p_accepted\n",
      "0        0.124727    1.604573         0.0\n",
      "1        0.365991    1.725986         0.0\n",
      "2        0.849792    2.094362         1.0\n",
      "3        0.722777    1.879005         0.0\n",
      "4        0.839077    0.941699         1.0\n",
      "5        0.876198    0.917625         1.0\n",
      "6        0.181843    1.294262         0.0\n",
      "7        0.501177    1.058950         1.0\n",
      "8        0.140778    1.864351         0.0\n",
      "9        0.932362    1.575392         1.0\n",
      "10       1.096930    1.164318         0.0\n",
      "11       0.946860    1.962517         1.0\n",
      "12       0.806421    0.913425         1.0\n",
      "13       0.121545    1.494499         0.0\n",
      "14       0.907284    1.866619         1.0\n",
      "15       0.880848    1.529368         1.0\n",
      "16       0.525855    1.726971         1.0\n",
      "17       0.654841    2.027950         0.0\n",
      "18       0.748339    1.334919         1.0\n",
      "19       0.985354    1.062616         1.0\n",
      "20       0.530301    2.047563         1.0\n",
      "21       0.567188    1.409409         0.0\n",
      "22       0.378510    1.211325         1.0\n",
      "23       1.068510    1.855373         0.0\n",
      "24       0.348551    2.029839         1.0\n",
      "25       0.774049    1.416002         1.0\n",
      "26       0.931763    0.898332         1.0\n",
      "27       0.990206    0.986471         1.0\n",
      "28       0.654040    1.980661         0.0\n",
      "29       0.632969    1.869049         1.0\n",
      "...           ...         ...         ...\n",
      "1313854  0.910366    0.184120         1.0\n",
      "1313855  0.910366    0.184120         0.0\n",
      "1313856  0.910366    0.184119         1.0\n",
      "1313857  0.910366    0.184119         1.0\n",
      "1313858  0.910366    0.184120         0.0\n",
      "1313859  0.910366    0.184120         1.0\n",
      "1313860  0.910366    0.184119         0.0\n",
      "1313861  0.910366    0.184120         1.0\n",
      "1313862  0.910366    0.184119         0.0\n",
      "1313863  0.910366    0.184120         0.0\n",
      "1313864  0.910366    0.184120         0.0\n",
      "1313865  0.910366    0.184119         1.0\n",
      "1313866  0.910366    0.184119         1.0\n",
      "1313867  0.910366    0.184119         0.0\n",
      "1313868  0.910366    0.184120         0.0\n",
      "1313869  0.910366    0.184119         1.0\n",
      "1313870  0.910366    0.184119         1.0\n",
      "1313871  0.910366    0.184119         1.0\n",
      "1313872  0.910366    0.184119         0.0\n",
      "1313873  0.910366    0.184120         0.0\n",
      "1313874  0.910366    0.184120         0.0\n",
      "1313875  0.910366    0.184120         1.0\n",
      "1313876  0.910366    0.184119         0.0\n",
      "1313877  0.910366    0.184120         1.0\n",
      "1313878  0.910366    0.184119         1.0\n",
      "1313879  0.910366    0.184119         0.0\n",
      "1313880  0.910366    0.184120         0.0\n",
      "1313881  0.910366    0.184120         0.0\n",
      "1313882  0.910366    0.184119         1.0\n",
      "1313883  0.910366    0.184120         1.0\n",
      "\n",
      "[1313884 rows x 3 columns]\n"
     ]
    }
   ],
   "source": [
    "df.to_csv('accpetance_p_theta.csv')\n",
    "print \"df:\",df;"
   ]
  },
  {
   "cell_type": "code",
   "execution_count": null,
   "metadata": {
    "collapsed": true
   },
   "outputs": [],
   "source": []
  }
 ],
 "metadata": {
  "kernelspec": {
   "display_name": "Python 2",
   "language": "python",
   "name": "python2"
  },
  "language_info": {
   "codemirror_mode": {
    "name": "ipython",
    "version": 2
   },
   "file_extension": ".py",
   "mimetype": "text/x-python",
   "name": "python",
   "nbconvert_exporter": "python",
   "pygments_lexer": "ipython2",
   "version": "2.7.11"
  }
 },
 "nbformat": 4,
 "nbformat_minor": 0
}
