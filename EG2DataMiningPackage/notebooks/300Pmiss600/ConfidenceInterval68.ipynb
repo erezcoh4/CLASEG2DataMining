{
 "cells": [
  {
   "cell_type": "code",
   "execution_count": 3,
   "metadata": {
    "collapsed": true
   },
   "outputs": [],
   "source": [
    "import sys ; sys.path.insert(0, '../')\n",
    "from notebook_tools import *\n",
    "import matplotlib.mlab as mlab\n",
    "import matplotlib.ticker as ticker\n",
    "%matplotlib inline"
   ]
  },
  {
   "cell_type": "code",
   "execution_count": 6,
   "metadata": {
    "collapsed": false
   },
   "outputs": [],
   "source": [
    "import scipy.stats as st"
   ]
  },
  {
   "cell_type": "code",
   "execution_count": 128,
   "metadata": {
    "collapsed": true
   },
   "outputs": [],
   "source": [
    "a = np.random.normal(0.053,0.015,5000) +np.random.normal(0.053,0.025,5000) + np.random.normal(.014,0.0012,5000) + np.random.uniform(0.015,0.0154,5000)"
   ]
  },
  {
   "cell_type": "code",
   "execution_count": 129,
   "metadata": {
    "collapsed": false
   },
   "outputs": [],
   "source": [
    "def interval_68_from_start_point( start_x = -np.inf, dx=0.001 , debug=0):\n",
    "    '''\n",
    "    return the end point of the 68% interval starting at start_x\n",
    "    '''\n",
    "    end_x = start_x\n",
    "    frac = 0\n",
    "    N_tot = len(a[a<np.inf])\n",
    "    step = 0\n",
    "    while( frac < 0.68 ):#{\n",
    "        end_x = end_x + dx\n",
    "        N_start_end = len(a[(a>start_x)&(a<end_x)])\n",
    "        frac = float(N_start_end)/N_tot\n",
    "        step += 1\n",
    "        if step>1000: break\n",
    "    #}\n",
    "    if debug: print 'frac:',frac\n",
    "    return end_x\n",
    "\n",
    "def find_smallest_interval( a=None, dx=0.001 ):\n",
    "    l_interval = 10000\n",
    "    for start_x in np.arange(np.min(a),np.mean(a)+np.std(a),dx):\n",
    "        end_x = interval_68_from_start_point(start_x,dx=dx)\n",
    "\n",
    "        if ((end_x-start_x) < l_interval):\n",
    "            l_interval = end_x-start_x\n",
    "            interval = [start_x,end_x]\n",
    "    return interval"
   ]
  },
  {
   "cell_type": "code",
   "execution_count": 130,
   "metadata": {
    "collapsed": false,
    "scrolled": false
   },
   "outputs": [],
   "source": [
    "interval = find_smallest_interval(a=a,dx=0.001)"
   ]
  },
  {
   "cell_type": "code",
   "execution_count": 131,
   "metadata": {
    "collapsed": false
   },
   "outputs": [
    {
     "data": {
      "text/plain": [
       "[<matplotlib.lines.Line2D at 0x129b5c2d0>]"
      ]
     },
     "execution_count": 131,
     "metadata": {},
     "output_type": "execute_result"
    },
    {
     "data": {
      "image/png": "[encoded data removed]",
      "text/plain": [
       "<matplotlib.figure.Figure at 0x12a326310>"
      ]
     },
     "metadata": {},
     "output_type": "display_data"
    }
   ],
   "source": [
    "fig,ax = plt.subplots(figsize=(10,6))\n",
    "plt.hist(a,bins=100);\n",
    "plt.plot([interval[0],interval[0]],ax.get_ylim(),'-',color='red')\n",
    "plt.plot([interval[1],interval[1]],ax.get_ylim(),'-',color='red')"
   ]
  },
  {
   "cell_type": "code",
   "execution_count": null,
   "metadata": {
    "collapsed": true
   },
   "outputs": [],
   "source": []
  }
 ],
 "metadata": {
  "kernelspec": {
   "display_name": "Python 2",
   "language": "python",
   "name": "python2"
  },
  "language_info": {
   "codemirror_mode": {
    "name": "ipython",
    "version": 2
   },
   "file_extension": ".py",
   "mimetype": "text/x-python",
   "name": "python",
   "nbconvert_exporter": "python",
   "pygments_lexer": "ipython2",
   "version": "2.7.11"
  }
 },
 "nbformat": 4,
 "nbformat_minor": 0
}
