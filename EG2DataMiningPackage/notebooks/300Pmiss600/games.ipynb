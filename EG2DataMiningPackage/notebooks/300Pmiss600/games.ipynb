{
 "cells": [
  {
   "cell_type": "markdown",
   "metadata": {},
   "source": [
    "# internal note v 3.3 Aug-20, 2017"
   ]
  },
  {
   "cell_type": "code",
   "execution_count": 1,
   "metadata": {
    "collapsed": false
   },
   "outputs": [],
   "source": [
    "import sys ; sys.path.insert(0, '../')\n",
    "from notebook_tools import *\n",
    "import matplotlib.mlab as mlab\n",
    "%matplotlib inline"
   ]
  },
  {
   "cell_type": "markdown",
   "metadata": {},
   "source": [
    "# pp-SRC c.m. analysis"
   ]
  },
  {
   "cell_type": "code",
   "execution_count": 2,
   "metadata": {
    "collapsed": false,
    "scrolled": false
   },
   "outputs": [],
   "source": [
    "columns = ['Pmiss3Mag','pcmX','pcmY','pcmZ','rooWeight'] # ,'Mott','DipoleFF2'\n",
    "data_allPmiss_PrecFid , data300Pmiss600_PrecFid = dict() , dict()\n",
    "for target in ['C12','Al27','Fe56','Pb208']:\n",
    "    data_allPmiss_PrecFid[target] = read_root( path+\"/OrAnalysisTrees/AdjustedTrees/SRC_e2p_adjusted_300Pmiss600_%s_PrecFiducials.root\"%target, columns=columns )\n",
    "    data300Pmiss600_PrecFid[target] = data_allPmiss_PrecFid[target][data_allPmiss_PrecFid[target]['Pmiss3Mag']<0.6]"
   ]
  },
  {
   "cell_type": "code",
   "execution_count": 3,
   "metadata": {
    "collapsed": false
   },
   "outputs": [],
   "source": [
    "cm_parameters = dict()\n",
    "cm_parameters_with_correction = dict()\n",
    "for Fiducials in [\"PrecFiducials\",\"NoPrecFiducials\"]:\n",
    "    cm_pars = pd.read_csv('/Users/erezcohen/Desktop/DataMining/Analysis_DATA/ppSRCcm/300Pmiss600/alltargets_'+Fiducials+'_dataCMparameters.csv')\n",
    "    cm_pars['sigma_x_before_acc_corr'] = np.sqrt(np.square(cm_pars['sigma_x_unweighted']) - np.square(0.02))\n",
    "    cm_pars['sigma_x_before_acc_corr_err'] = cm_pars['sigma_xErr_unweighted']\n",
    "    cm_pars['sigma_y_before_acc_corr'] = np.sqrt(np.square(cm_pars['sigma_y_unweighted']) - np.square(0.02))\n",
    "    cm_pars['sigma_y_before_acc_corr_err'] = cm_pars['sigma_yErr_unweighted']\n",
    "    cm_pars['sigma_t_before_acc_corr'] = 0.5*(cm_pars['sigma_x_unweighted']+cm_pars['sigma_y_unweighted'])\n",
    "    cm_pars['sigma_t_before_acc_corr_err'] = 0.5*np.sqrt(np.square(cm_pars['sigma_x_before_acc_corr_err'])+np.square(cm_pars['sigma_y_before_acc_corr_err']))\n",
    "    cm_parameters[Fiducials] = cm_pars\n",
    "    cm_parameters_with_correction[Fiducials] = cm_pars"
   ]
  },
  {
   "cell_type": "markdown",
   "metadata": {},
   "source": [
    "## cm_parameters['PrecFiducials']"
   ]
  },
  {
   "cell_type": "code",
   "execution_count": 4,
   "metadata": {
    "collapsed": true
   },
   "outputs": [],
   "source": [
    "targets = ['C','Al','Fe','Pb']\n",
    "As = [12,27,56,208]"
   ]
  },
  {
   "cell_type": "code",
   "execution_count": 30,
   "metadata": {
    "collapsed": false
   },
   "outputs": [
    {
     "name": "stdout",
     "output_type": "stream",
     "text": [
      "3883 events in  simulations_C\n"
     ]
    }
   ],
   "source": [
    "simulation_results = dict()\n",
    "for Fiducials in [\"PrecFiducials\"]:\n",
    "    for A,target in zip([As[0]],targets):#{\n",
    "            test_name = \"simulations_\"+target\n",
    "            simulation_results[test_name] = pd.concat([pd.read_csv(\"/Users/erezcohen/Desktop/DataMining/Analysis_DATA/ppSRCcm/simulation_300Pmiss600/simulation_300Pmiss600_\"+target+\"_runs_0_10runs_results.csv\")\n",
    "                                                       ,pd.read_csv(\"/Users/erezcohen/Desktop/DataMining/Analysis_DATA/ppSRCcm/simulation_300Pmiss600/PrecFiducialsNominal_\"+target+\".csv\")\n",
    "                                                       ,pd.read_csv(\"/Users/erezcohen/Desktop/DataMining/Analysis_DATA/ppSRCcm/simulation_300Pmiss600/simulation_300Pmiss600_\"+target+\"_runs_0_100runs_results.csv\")\n",
    "                                                       ,pd.read_csv(\"/Users/erezcohen/Desktop/DataMining/Analysis_DATA/ppSRCcm/simulation_300Pmiss600/simulation_300Pmiss600_\"+target+\"_runs_0_200runs_results.csv\")])\n",
    "            simulation_results[test_name].fillna(-1,inplace=True)\n",
    "            print len(simulation_results[test_name]),'events in ',test_name"
   ]
  },
  {
   "cell_type": "code",
   "execution_count": 31,
   "metadata": {
    "collapsed": false,
    "scrolled": false
   },
   "outputs": [
    {
     "ename": "KeyError",
     "evalue": "'simulations_Al'",
     "output_type": "error",
     "traceback": [
      "\u001b[0;31m---------------------------------------------------------------------------\u001b[0m",
      "\u001b[0;31mKeyError\u001b[0m                                  Traceback (most recent call last)",
      "\u001b[0;32m<ipython-input-31-a31b6aad7535>\u001b[0m in \u001b[0;36m<module>\u001b[0;34m()\u001b[0m\n\u001b[1;32m      5\u001b[0m \u001b[0;32mfor\u001b[0m \u001b[0mi\u001b[0m\u001b[0;34m,\u001b[0m\u001b[0;34m(\u001b[0m\u001b[0mA\u001b[0m\u001b[0;34m,\u001b[0m\u001b[0mtarget\u001b[0m\u001b[0;34m)\u001b[0m \u001b[0;32min\u001b[0m \u001b[0menumerate\u001b[0m\u001b[0;34m(\u001b[0m\u001b[0mzip\u001b[0m\u001b[0;34m(\u001b[0m\u001b[0mAs\u001b[0m\u001b[0;34m,\u001b[0m\u001b[0mtargets\u001b[0m\u001b[0;34m)\u001b[0m\u001b[0;34m)\u001b[0m\u001b[0;34m:\u001b[0m\u001b[0;31m#{\u001b[0m\u001b[0;34m\u001b[0m\u001b[0m\n\u001b[1;32m      6\u001b[0m     \u001b[0mtest_name\u001b[0m \u001b[0;34m=\u001b[0m \u001b[0;34m\"simulations_\"\u001b[0m\u001b[0;34m+\u001b[0m\u001b[0mtarget\u001b[0m\u001b[0;34m\u001b[0m\u001b[0m\n\u001b[0;32m----> 7\u001b[0;31m     \u001b[0msims\u001b[0m\u001b[0;34m=\u001b[0m\u001b[0msimulation_results\u001b[0m\u001b[0;34m[\u001b[0m\u001b[0mtest_name\u001b[0m\u001b[0;34m]\u001b[0m\u001b[0;34m\u001b[0m\u001b[0m\n\u001b[0m\u001b[1;32m      8\u001b[0m     \u001b[0max\u001b[0m\u001b[0;34m=\u001b[0m\u001b[0mfig\u001b[0m\u001b[0;34m.\u001b[0m\u001b[0madd_subplot\u001b[0m\u001b[0;34m(\u001b[0m\u001b[0;36m2\u001b[0m\u001b[0;34m,\u001b[0m\u001b[0;36m2\u001b[0m\u001b[0;34m,\u001b[0m\u001b[0mi\u001b[0m\u001b[0;34m+\u001b[0m\u001b[0;36m1\u001b[0m\u001b[0;34m)\u001b[0m\u001b[0;34m\u001b[0m\u001b[0m\n\u001b[1;32m      9\u001b[0m     \u001b[0mplt\u001b[0m\u001b[0;34m.\u001b[0m\u001b[0mscatter\u001b[0m\u001b[0;34m(\u001b[0m\u001b[0msims\u001b[0m\u001b[0;34m[\u001b[0m\u001b[0;34m'gen_MeanZ'\u001b[0m\u001b[0;34m]\u001b[0m\u001b[0;34m,\u001b[0m\u001b[0msims\u001b[0m\u001b[0;34m[\u001b[0m\u001b[0;34m'chi2red_x'\u001b[0m\u001b[0;34m]\u001b[0m\u001b[0;34m)\u001b[0m\u001b[0;34m\u001b[0m\u001b[0m\n",
      "\u001b[0;31mKeyError\u001b[0m: 'simulations_Al'"
     ]
    },
    {
     "data": {
      "image/png": "[encoded data removed]",
      "text/plain": [
       "<matplotlib.figure.Figure at 0x12e0dac10>"
      ]
     },
     "metadata": {},
     "output_type": "display_data"
    }
   ],
   "source": [
    "poly_degree = 3 # fit polynomial degree\n",
    "confidence_interval = 0.68 # band around fit\n",
    "Fiducials = \"PrecFiducials\"\n",
    "fig=plt.figure(figsize=(16,12))\n",
    "for i,(A,target) in enumerate(zip(As,targets)):#{\n",
    "    test_name = \"simulations_\"+target\n",
    "    sims=simulation_results[test_name]\n",
    "    ax=fig.add_subplot(2,2,i+1)\n",
    "    plt.scatter(sims['gen_MeanZ'],sims['chi2red_x'])    \n",
    "    set_axes(ax,r'$\\mu_z^{gen}$ [GeV/c]' if i>=2 else ''\n",
    "             ,r'$\\chi^2_{red} \\left( p_{cm}^x \\right)$' if i==0 or i==2 else ''\n",
    "             ,title=target,xlim=(-0.1,0.8),ylim=(-0.1,60),do_add_grid=True)    \n",
    "plt.tight_layout()\n",
    "\n",
    "# fig=plt.figure(figsize=(16,12))\n",
    "# for i,(A,target) in enumerate(zip(As,targets)):#{\n",
    "#     test_name = \"simulations_\"+target\n",
    "#     sims=simulation_results[test_name]\n",
    "#     ax=fig.add_subplot(2,2,i+1)\n",
    "#     plt.scatter(sims['gen_MeanZ'],sims['chi2red_y'])    \n",
    "#     set_axes(ax,r'$\\mu_z^{gen}$ [GeV/c]' if i>=2 else ''\n",
    "#              ,r'$\\chi^2_{red} \\left( p_{cm}^y \\right)$' if i==0 or i==2 else ''\n",
    "#              ,title=target,xlim=(-0.1,0.8),ylim=(-0.1,60),do_add_grid=True)    \n",
    "# plt.tight_layout()\n",
    "\n",
    "# fig=plt.figure(figsize=(16,12))\n",
    "# for i,(A,target) in enumerate(zip(As,targets)):#{\n",
    "#     test_name = \"simulations_\"+target\n",
    "#     sims=simulation_results[test_name]\n",
    "#     ax=fig.add_subplot(2,2,i+1)\n",
    "#     plt.scatter(sims['gen_MeanZ'],sims['chi2red_z'])    \n",
    "#     set_axes(ax,r'$\\mu_z^{gen}$ [GeV/c]' if i>=2 else ''\n",
    "#              ,r'$\\chi^2_{red} \\left( p_{cm}^z \\right)$' if i==0 or i==2 else ''\n",
    "#              ,title=target,xlim=(-0.1,0.8),ylim=(-0.1,60),do_add_grid=True)    \n",
    "# plt.tight_layout()"
   ]
  },
  {
   "cell_type": "code",
   "execution_count": null,
   "metadata": {
    "collapsed": true
   },
   "outputs": [],
   "source": []
  },
  {
   "cell_type": "code",
   "execution_count": null,
   "metadata": {
    "collapsed": true
   },
   "outputs": [],
   "source": []
  },
  {
   "cell_type": "code",
   "execution_count": 19,
   "metadata": {
    "collapsed": true
   },
   "outputs": [],
   "source": [
    "def find_x_poly(poly,y0,xmin=0,xmax=0.3):\n",
    "    p = np.poly1d(poly)\n",
    "    roots = (p - y0).roots\n",
    "    for root in roots:\n",
    "        if xmin<root and root<xmax:\n",
    "            x_poly = root\n",
    "    return x_poly"
   ]
  },
  {
   "cell_type": "code",
   "execution_count": 11,
   "metadata": {
    "collapsed": false
   },
   "outputs": [],
   "source": [
    "def plot_cm_direction(simulations_results=None\n",
    "                      ,Fiducials='PrecFiducials'\n",
    "                      ,extraname=\"\"\n",
    "                      ,ax=None,A=12\n",
    "                      ,poly_degree=3\n",
    "                      ,confidence_interval = 0.68\n",
    "                      ,direction='x',colors=['blue','royalblue'],s=50\n",
    "                      ,debug=0):\n",
    "\n",
    "    gen,rec = simulations_results['gen_Sigma_t'],simulations_results['rec_sigma_'+direction]\n",
    "    plt.scatter(gen,rec,color=colors[1],label='generated vs. reconstructed',s=s)\n",
    "    if debug:  print \"plt.scatter()\"\n",
    "    # fit a polynomial of order 2\n",
    "    popt,cov = np.polyfit( gen,rec , poly_degree , cov=True)\n",
    "    perr = np.sqrt(np.diag(cov))\n",
    "    if debug: print \"popt:\",popt,\"\\nperr:\",perr\n",
    "    \n",
    "    x = np.linspace(np.min(ax.get_xlim()),np.max(ax.get_xlim()),1000)\n",
    "    poly = np.poly1d(popt)\n",
    "    ax.plot(x,poly(x),'-',color='black',linewidth=2,label='best fit')    \n",
    "    \n",
    "    # Convert to percentile point of the normal distribution [https://en.wikipedia.org/wiki/Standard_score]\n",
    "    pp = (1. + confidence_interval) / 2.\n",
    "    # Convert to number of standard deviations.\n",
    "    nstd = stats.norm.ppf(pp)\n",
    "    \n",
    "    # Add nstd standard deviations to parameters to obtain the upper confidence interval\n",
    "    poly_up = np.poly1d(popt + nstd * perr)\n",
    "    ax.plot(x,poly_up(x),'-',color='gray',linewidth=2)\n",
    "    poly_dw = np.poly1d(popt - nstd * perr)\n",
    "    ax.plot(x,poly_dw(x),'-',color='gray',linewidth=2)\n",
    "    \n",
    "    cm_pars = cm_parameters[Fiducials]    \n",
    "    cm_pars_target = cm_pars[cm_pars['A']==A]\n",
    "    index = cm_pars[cm_pars['A']==A].index\n",
    "    # reconstructed \\sigma in data\n",
    "    if debug:  print cm_pars_target\n",
    "    sigma_meas, sigma_meas_err = float(cm_pars_target['sigma_'+direction+'_before_acc_corr']), float(cm_pars_target['sigma_'+direction+'_before_acc_corr_err'])\n",
    "    y =  np.ones(len(x)) * sigma_meas\n",
    "    yErr =  np.ones(len(x)) * sigma_meas_err\n",
    "\n",
    "    # corrected value\n",
    "    # --- - - -- -- - -- - -- -- - -- -- -- - -- --- \n",
    "    corr_value =  find_x_poly(poly , sigma_meas)\n",
    "    label_corr = '$%.3f$'%(corr_value)\n",
    "    plt.plot( np.linspace(np.min(ax.get_xlim()),corr_value,1000) , y , color=colors[1],label='measured: $%.3f\\\\pm%.3f$'%(sigma_meas, sigma_meas_err))\n",
    "    # --- - - -- -- - -- - -- -- - -- -- -- - -- --- \n",
    "\n",
    "    # only statistical uncertainty\n",
    "    # --- - - -- -- - -- - -- -- - -- -- -- - -- --- \n",
    "    x_poly_up_stat = find_x_poly(poly,sigma_meas+sigma_meas_err)\n",
    "    x_poly_dw_stat = find_x_poly(poly,sigma_meas-sigma_meas_err)\n",
    "    corr_val_up_err_stat = x_poly_up_stat - corr_value\n",
    "    corr_val_dw_err_stat = corr_value - x_poly_dw_stat\n",
    "    label_unc_stat = '$(^{+%.0f}_{-%.0f})_{stat.}$'%(1000*corr_val_up_err_stat,1000*corr_val_dw_err_stat)\n",
    "    \n",
    "    plt.plot( [x_poly_up_stat,x_poly_up_stat] , [np.min(ax.get_ylim()),sigma_meas+sigma_meas_err] , color='black' ,linestyle='--')\n",
    "    plt.plot( [x_poly_dw_stat,x_poly_dw_stat] , [np.min(ax.get_ylim()),sigma_meas-sigma_meas_err] , color='black' ,linestyle='--' )\n",
    "    # --- - - -- -- - -- - -- -- - -- -- -- - -- --- \n",
    "\n",
    "    # systematical uncertainty\n",
    "    # --- - - -- -- - -- - -- -- - -- -- -- - -- --- \n",
    "    x_poly_up_sys = find_x_poly(poly_dw,sigma_meas+sigma_meas_err)\n",
    "    x_poly_dw_sys = find_x_poly(poly_up,sigma_meas-sigma_meas_err)\n",
    "    corr_val_up_err_sys = x_poly_up_sys - x_poly_up_stat\n",
    "    corr_val_dw_err_sys = x_poly_dw_stat - x_poly_dw_sys\n",
    "    label_unc_sys = '$(^{+%.0f}_{-%.0f})_{sys.}$'%(1000*corr_val_up_err_sys,1000*corr_val_dw_err_sys)\n",
    "\n",
    "\n",
    "\n",
    "    if debug:  print \"plt.plot( np.linspace(np.min(ax.get_xlim()),corr_value,1000)...\"   \n",
    "    # projection of the measured uncertainties\n",
    "    plt.plot( np.linspace(np.min(ax.get_xlim()),x_poly_up_sys,1000) , y+yErr , color=colors[0],linestyle='-',alpha=0.35)\n",
    "    plt.plot( np.linspace(np.min(ax.get_xlim()),x_poly_dw_sys,1000) , y-yErr , color=colors[0],linestyle='-',alpha=0.35)\n",
    "\n",
    "    # projection of the systematical uncertainties\n",
    "    plt.plot( [x_poly_up_sys,x_poly_up_sys] , [np.min(ax.get_ylim()),sigma_meas+sigma_meas_err] , color='grey' ,linestyle='-')\n",
    "    plt.plot( [x_poly_dw_sys,x_poly_dw_sys] , [np.min(ax.get_ylim()),sigma_meas-sigma_meas_err] , color='grey' ,linestyle='-' )\n",
    "    # --- - - -- -- - -- - -- -- - -- -- -- - -- --- \n",
    "    if debug:  print \"plugging\",'sigma_'+direction+'_corrected'+extraname\n",
    "    \n",
    "    # corrected value\n",
    "    # --- - - -- -- - -- - -- -- - -- -- -- - -- --- \n",
    "    corr_val_up_err_tot = np.sqrt(np.square(corr_val_up_err_stat) + np.square(corr_val_up_err_sys))\n",
    "    corr_val_dw_err_tot = np.sqrt(np.square(corr_val_dw_err_stat) + np.square(corr_val_dw_err_sys))\n",
    "    \n",
    "    plt.plot( [corr_value,corr_value] , [np.min(ax.get_ylim()),sigma_meas] , color=colors[0]\n",
    "             ,label='corrected:'+label_corr+label_unc_stat+label_unc_sys)\n",
    "    # --- - - -- -- - -- - -- -- - -- -- -- - -- --- \n",
    "        \n",
    "    cm_parameters_with_correction[Fiducials].set_value(index,'sigma_'+direction+'_corrected'+extraname,corr_value)\n",
    "    \n",
    "    cm_parameters_with_correction[Fiducials].set_value(index,'sigma_'+direction+'_corrected_up_err_stat'+extraname,corr_val_up_err_stat)\n",
    "    cm_parameters_with_correction[Fiducials].set_value(index,'sigma_'+direction+'_corrected_dw_err_stat'+extraname,corr_val_dw_err_stat)\n",
    "             \n",
    "    cm_parameters_with_correction[Fiducials].set_value(index,'sigma_'+direction+'_corrected_up_err_sys'+extraname,corr_val_up_err_sys)\n",
    "    cm_parameters_with_correction[Fiducials].set_value(index,'sigma_'+direction+'_corrected_dw_err_sys'+extraname,corr_val_dw_err_sys)\n",
    "\n",
    "    cm_parameters_with_correction[Fiducials].set_value(index,'sigma_'+direction+'_corrected_up_err_tot'+extraname,corr_val_up_err_tot)\n",
    "    cm_parameters_with_correction[Fiducials].set_value(index,'sigma_'+direction+'_corrected_dw_err_tot'+extraname,corr_val_dw_err_tot)             \n",
    "             \n",
    "    set_axes(ax,'gen. $\\\\sigma$ [GeV/c]','rec. $\\\\sigma_'+direction+'$ [GeV/c]'    \n",
    "             , xticks=[0,0.05,0.1,0.15,0.2,0.25,0.3] , yticks=[0,0.05,0.1,0.15,0.2,0.25,0.3] , do_add_grid=True \n",
    "             ,title = cm_pars_target['target'].to_string(index=False) + ', $'+direction+'-direction$ ('+Fiducials+')')\n",
    "\n",
    "    ax.legend(loc='upper left',fontsize=20,scatterpoints=3,markerscale=2)\n",
    "    ax.set_xlim(0,0.3);ax.set_ylim(0,0.3);\n",
    "    return corr_value, corr_val_up_err_tot , corr_val_dw_err_tot"
   ]
  },
  {
   "cell_type": "code",
   "execution_count": 32,
   "metadata": {
    "collapsed": false
   },
   "outputs": [],
   "source": [
    "for Fiducials in ['PrecFiducials']:#,'NoPrecFiducials']:\n",
    "    sample = cm_parameters_with_correction[Fiducials]\n",
    "    for direction in ['x','y']:\n",
    "        sample['sigma_'+direction+'_final'] = sample['sigma_'+direction+'_corrected']\n",
    "        for updw in ['up','dw']:\n",
    "            sample['sigma_'+direction+'_final_'+updw+'_err_tot'] = sample['sigma_'+direction+'_corrected_'+updw+'_err_tot']\n",
    "            sample['sigma_'+direction+'_final_'+updw+'_err'] = sample['sigma_'+direction+'_final_'+updw+'_err_tot']\n",
    "\n",
    "    sample['sigma_t_corrected'] = 0.5*(sample['sigma_x_corrected']+sample['sigma_y_corrected'])\n",
    "    sample['sigma_t_final'] = 0.5*(sample['sigma_x_corrected']+sample['sigma_y_corrected'])\n",
    "\n",
    "    for err_label in ['stat','sys','tot']:\n",
    "        for updw in ['up','dw']:\n",
    "            sample['sigma_t_final_'+updw+'_err_'+err_label] = 0.5*np.sqrt(np.square(sample['sigma_x_corrected_'+updw+'_err_'+err_label])                                                                              \n",
    "                                                                          +np.square(sample['sigma_y_corrected_'+updw+'_err_'+err_label]))\n",
    "    for updw in ['up','dw']:\n",
    "        sample['sigma_t_final_'+updw+'_err'] = sample['sigma_t_final_'+updw+'_err_tot']\n",
    "\n",
    "Fiducials = \"PrecFiducials\"\n",
    "sample = cm_parameters_with_correction[Fiducials]\n",
    "for extraname in [\"_MeanZlinearInPmiss_SigmaZ5stdSroundMeasured\",\"_mean75MeVc_sigma50MeVc\"]:\n",
    "    for direction in ['x','y']:\n",
    "        sample['sigma_'+direction+extraname+'_final'] = sample['sigma_'+direction+'_corrected'+extraname]\n",
    "        for updw in ['up','dw']:\n",
    "            sample['sigma_'+direction+extraname+'_final_'+updw+'_err_tot'] = sample['sigma_'+direction+'_corrected_'+updw+'_err_tot'+extraname]\n",
    "            sample['sigma_'+direction+extraname+'_final_'+updw+'_err'] = sample['sigma_'+direction+extraname+'_final_'+updw+'_err_tot']\n",
    "\n",
    "    sample['sigma_t'+extraname+'_corrected'] = 0.5*(sample['sigma_x_corrected'+extraname]+sample['sigma_y_corrected'+extraname])\n",
    "    sample['sigma_t'+extraname+'_final'] = 0.5*(sample['sigma_x_corrected'+extraname]+sample['sigma_y_corrected'+extraname])\n",
    "\n",
    "    for err_label in ['stat','sys','tot']:\n",
    "        for updw in ['up','dw']:\n",
    "            sample['sigma_t'+extraname+'_final_'+updw+'_err_'+err_label] = 0.5*np.sqrt(np.square(sample['sigma_x_corrected_'+updw+'_err_'+err_label+extraname])                                                                         \n",
    "                                                                                       +np.square(sample['sigma_y_corrected_'+updw+'_err_'+err_label+extraname]))\n",
    "    for updw in ['up','dw']:\n",
    "        sample['sigma_t'+extraname+'_final_'+updw+'_err'] = sample['sigma_t_final_'+updw+'_err_tot']"
   ]
  },
  {
   "cell_type": "code",
   "execution_count": null,
   "metadata": {
    "collapsed": true
   },
   "outputs": [],
   "source": []
  }
 ],
 "metadata": {
  "celltoolbar": "Raw Cell Format",
  "kernelspec": {
   "display_name": "Python 2",
   "language": "python",
   "name": "python2"
  },
  "language_info": {
   "codemirror_mode": {
    "name": "ipython",
    "version": 2
   },
   "file_extension": ".py",
   "mimetype": "text/x-python",
   "name": "python",
   "nbconvert_exporter": "python",
   "pygments_lexer": "ipython2",
   "version": "2.7.11"
  }
 },
 "nbformat": 4,
 "nbformat_minor": 0
}
