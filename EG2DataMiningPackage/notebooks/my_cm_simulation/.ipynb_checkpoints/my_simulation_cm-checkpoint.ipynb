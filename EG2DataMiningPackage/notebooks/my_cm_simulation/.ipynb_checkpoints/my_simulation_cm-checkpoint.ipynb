{
 "cells": [
  {
   "cell_type": "code",
   "execution_count": 9,
   "metadata": {
    "collapsed": false
   },
   "outputs": [],
   "source": [
    "import sys; sys.path.insert(0, '../'); \n",
    "from notebook_tools import *\n",
    "%matplotlib inline"
   ]
  },
  {
   "cell_type": "code",
   "execution_count": 2,
   "metadata": {
    "collapsed": true
   },
   "outputs": [],
   "source": [
    "# parameters\n",
    "sigma = 0.160\n",
    "path='/Users/erezcohen/Desktop/DataMining/Analysis_DATA/ppSRCcm/'"
   ]
  },
  {
   "cell_type": "code",
   "execution_count": 3,
   "metadata": {
    "collapsed": true
   },
   "outputs": [],
   "source": [
    "def generate_a_eepp_run( gen_events , run=0):\n",
    "    gen_events.DoGenerateRun_eepp( run )                            \n",
    "    ana_sim = TAnalysisEG2( path + '/eg_rootfiles', 'run%d'%run , ROOT.TCut('') )\n",
    "    scheme.SchemeOnTCut( path + '/eg_rootfiles' , 'run%d.root'%run , \"anaTree\", 'run%d.root'%run , ana_sim.EGppSRCCut + ana_sim.PrecFiducial + main_cut )    \n",
    "    ana_sim.CloseFile()"
   ]
  },
  {
   "cell_type": "code",
   "execution_count": 10,
   "metadata": {
    "collapsed": false
   },
   "outputs": [],
   "source": [
    "def define_generator(debug=2 , Nrand=10):\n",
    "    pAcceptacneFile = ROOT.TFile(path+\"/GSIM_DATA/PrecoilAcceptance.root\")\n",
    "    h = pAcceptacneFile.Get(\"hRescaled\")\n",
    "    h.Draw()\n",
    "    gen_events = GenerateEvents( path , 0 , debug - 2 )\n",
    "    gen_events.SetNRand( Nrand ) \n",
    "    gen_events.Use_protonAcceptacne( True )\n",
    "    gen_events.Set_protonAcceptacne( h )\n",
    "    gen_events.SetInputChain_eep()\n",
    "    return gen_events"
   ]
  },
  {
   "cell_type": "code",
   "execution_count": null,
   "metadata": {
    "collapsed": false
   },
   "outputs": [],
   "source": [
    "gen_events = define_generator()\n",
    "generate_a_eepp_run( gen_events , run=0)"
   ]
  },
  {
   "cell_type": "code",
   "execution_count": null,
   "metadata": {
    "collapsed": true
   },
   "outputs": [],
   "source": []
  }
 ],
 "metadata": {
  "kernelspec": {
   "display_name": "Python 2",
   "language": "python",
   "name": "python2"
  },
  "language_info": {
   "codemirror_mode": {
    "name": "ipython",
    "version": 2
   },
   "file_extension": ".py",
   "mimetype": "text/x-python",
   "name": "python",
   "nbconvert_exporter": "python",
   "pygments_lexer": "ipython2",
   "version": "2.7.11"
  }
 },
 "nbformat": 4,
 "nbformat_minor": 1
}
