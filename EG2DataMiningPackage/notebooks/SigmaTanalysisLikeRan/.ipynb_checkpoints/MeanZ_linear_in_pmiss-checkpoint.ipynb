{
 "cells": [
  {
   "cell_type": "code",
   "execution_count": 1,
   "metadata": {
    "collapsed": false
   },
   "outputs": [
    {
     "data": {
      "application/javascript": [
       "require(['codemirror/mode/clike/clike'], function(Clike) { console.log('ROOTaaS - C++ CodeMirror module loaded'); });"
      ]
     },
     "metadata": {},
     "output_type": "display_data"
    },
    {
     "data": {
      "application/javascript": [
       "IPython.CodeCell.config_defaults.highlight_modes['magic_text/x-c++src'] = {'reg':[/^%%cpp/]};"
      ]
     },
     "metadata": {},
     "output_type": "display_data"
    },
    {
     "name": "stdout",
     "output_type": "stream",
     "text": [
      "Welcome to ROOTaaS 6.06/02\n",
      "\n",
      "\u001b[1mRooFit v3.60 -- Developed by Wouter Verkerke and David Kirkby\u001b[0m \n",
      "                Copyright (C) 2000-2013 NIKHEF, University of California & Stanford University\n",
      "                All rights reserved, please read http://roofit.sourceforge.net/license.txt\n",
      "\n"
     ]
    },
    {
     "name": "stderr",
     "output_type": "stream",
     "text": [
      "Error in <TProtoClass::FindDataMember>: data member with index 0 is not found in class locale\r\n",
      "Error in <CreateRealData>: Cannot find data member # 0 of class locale for parent GenerateEvents!\r\n",
      "Error in <TProtoClass::FindDataMember>: data member with index 0 is not found in class locale\r\n",
      "Error in <CreateRealData>: Cannot find data member # 0 of class locale for parent GenerateEvents!\r\n",
      "Error in <TProtoClass::FindDataMember>: data member with index 0 is not found in class locale\r\n",
      "Error in <CreateRealData>: Cannot find data member # 0 of class locale for parent GenerateEvents!\r\n"
     ]
    }
   ],
   "source": [
    "import sys ; sys.path.insert(0, '../')\n",
    "from notebook_tools import *\n",
    "import matplotlib.mlab as mlab\n",
    "from scipy.optimize import curve_fit\n",
    "%matplotlib inline"
   ]
  },
  {
   "cell_type": "code",
   "execution_count": 2,
   "metadata": {
    "collapsed": true
   },
   "outputs": [],
   "source": [
    "figures_path=\"/Users/erezcohen/Desktop/Projects/2NSRC/alaHallAppSRCAnalysisNote/Figures/mean_z_linear_in_pmiss/\""
   ]
  },
  {
   "cell_type": "code",
   "execution_count": 3,
   "metadata": {
    "collapsed": true
   },
   "outputs": [],
   "source": [
    "PmissBins = [[0.3,0.45]  , [0.45,0.55] , [0.55,0.65]  , [0.65,0.75] , [0.75,1.0]]"
   ]
  },
  {
   "cell_type": "code",
   "execution_count": 4,
   "metadata": {
    "collapsed": true
   },
   "outputs": [],
   "source": [
    "targets = ['C12','Al27','Fe56','Pb208']\n",
    "target_names = ['$^{12}$C','$^{27}$Al','$^{56}$Fe','$^{208}$Pb']\n",
    "colors = ['blue','red','orange','teal']"
   ]
  },
  {
   "cell_type": "markdown",
   "metadata": {},
   "source": [
    "# data"
   ]
  },
  {
   "cell_type": "code",
   "execution_count": 5,
   "metadata": {
    "collapsed": false,
    "scrolled": false
   },
   "outputs": [],
   "source": [
    "columns = ['Pmiss3Mag','pcmX','pcmY','pcmZ','rooWeight'] # ,'Mott','DipoleFF2'\n",
    "data_allPmiss_noPrecFid = dict()\n",
    "fana = dict()\n",
    "for A,target in zip([12,27,56,208],targets):\n",
    "    rootfname=path+\"/OrAnalysisTrees/AdjustedTrees/SRC_e2p_adjusted_%s_PrecFiducials.root\"%target\n",
    "    data_allPmiss_noPrecFid[target] = read_root( rootfname, columns=columns )\n",
    "    fana[target] = TAnalysisEG2( A, rootfname , ROOT.TString('anaTree') )"
   ]
  },
  {
   "cell_type": "code",
   "execution_count": 6,
   "metadata": {
    "collapsed": true
   },
   "outputs": [],
   "source": [
    "# plot p(c.m.) in p(miss) direction as a fucntion of the p(miss)"
   ]
  },
  {
   "cell_type": "code",
   "execution_count": 7,
   "metadata": {
    "collapsed": false
   },
   "outputs": [],
   "source": [
    "def linear_06(x, slope, intercept):\n",
    "    return slope * ( x - 0.6 ) + intercept\n",
    "\n",
    "def linear_03(x, slope):\n",
    "    return slope * ( x - 0.3 ) \n",
    "\n",
    "def fit_as_a_function_of_pmiss( x , y , yerr , fittype='vanish at 0.3'):\n",
    "    if fittype=='vanish at 0.3':\n",
    "        f = linear_03\n",
    "        p, v = curve_fit(f, xdata=x, ydata=y,sigma=yerr)# fit data using SciPy's Levenberg-Marquart method            \n",
    "        return p , sqrt(v)\n",
    "    elif fittype=='centered around 0.6':\n",
    "        f = linear_06\n",
    "        p, v = curve_fit(f, xdata=x, ydata=y,sigma=yerr)# fit data using SciPy's Levenberg-Marquart method            \n",
    "        return p[0] , sqrt(v[0][0]) , p[1] , sqrt(v[1][1]) "
   ]
  },
  {
   "cell_type": "code",
   "execution_count": null,
   "metadata": {
    "collapsed": false,
    "scrolled": false
   },
   "outputs": [],
   "source": [
    "fittype='vanish at 0.3'\n",
    "p_miss , pcm_z_mean , pcm_z_mean_err = dict() , dict() , dict()\n",
    "for target,target_name,color in zip(targets,target_names,colors):\n",
    "\n",
    "    data = data_allPmiss_noPrecFid[target]\n",
    "    fig = plt.figure(figsize=(12,12))\n",
    "    ax = fig.add_subplot(2,1,1)\n",
    "    plot_2d_hist( data['Pmiss3Mag'], data['pcmZ']\n",
    "                 ,bins=(np.linspace(0.3,1.,35),np.linspace(-0.2,0.9,35)),ax=ax);\n",
    "    set_axes(ax,x_label='',y_label='$p_{cm}^{\\\\vec{p}_{miss}}$ [GeV/c]',xticks=[0.4,0.5,0.6,0.7,0.8,0.9])\n",
    "    ax.xaxis.set_major_formatter( NullFormatter() )\n",
    "    p_miss_target , pcm_z_mean_target , pcm_z_mean_err_target = [] , [] , []\n",
    "    for bin in range(len(PmissBins)):\n",
    "        Pm_min,Pm_max = PmissBins[bin][0],PmissBins[bin][1]\n",
    "        ax.plot([Pm_min,Pm_min],ax.get_ylim(),'--',color='black')\n",
    "        reduced_data = data[(Pm_min<data['Pmiss3Mag'])&(data['Pmiss3Mag']<Pm_max)]\n",
    "        p_miss_target.append(0.5*(Pm_min+Pm_max))\n",
    "\n",
    "        # roofit\n",
    "        results = fana[target].RooFitCM_1bin( Pm_min , Pm_max , False , False , 10)\n",
    "        #print 'len(reduced_data):',len(reduced_data),',mean:',results.at(8),'+/-',results.at(9)\n",
    "        pcm_z_mean_target.append(results.at(8))\n",
    "        pcm_z_mean_err_target.append(results.at(9))\n",
    "    ax.set_xlim(0.3,1);ax.set_ylim(-0.2,0.9)\n",
    "\n",
    "    p_miss[target]=p_miss_target \n",
    "    pcm_z_mean[target]=pcm_z_mean_target\n",
    "    pcm_z_mean_err[target] = pcm_z_mean_err_target\n",
    "    \n",
    "    ax = fig.add_subplot(2,1,2)\n",
    "    ax.errorbar( p_miss[target]  , pcm_z_mean[target] , yerr=pcm_z_mean_err[target] , xerr=0, fmt='o', markersize=10, color=color , ecolor='black', capthick=2)\n",
    "    x = np.linspace(0.3,1,100)\n",
    "    fit_results = fit_as_a_function_of_pmiss( x=p_miss[target] , y=pcm_z_mean[target],  yerr=pcm_z_mean_err[target] , fittype=fittype)\n",
    "    if fittype=='centered around 0.6':\n",
    "        a1 , a1err , a2 , a2err  = fit_results\n",
    "        ax.plot( x , a1*(x-0.6) + a2 , color = color ,label=\"$\\\\mu^{\\\\vec{p}_{miss}}=(%.3f)(p_{miss}-0.6)+(%.3f)$\"%( a1 , a2 ) )\n",
    "        ax.fill_between( x , (a1-a1err)*(x-0.6) + a2 , (a1+a1err)*(x-0.6) + a2 , color = color , alpha=0.9)\n",
    "    elif fittype=='vanish at 0.3':\n",
    "        slope , slope_err  = fit_results\n",
    "        ax.plot( x , slope*(x-0.3) , color = color ,label=target_name+\" $\\\\mu^{\\\\vec{p}_{miss}}=(%.3f)(p_{miss}-0.3)$\"%( slope ) )\n",
    "        ax.fill_between( x , (slope-5*slope_err)*(x-0.3) , (slope+5*slope_err)*(x-0.3) , color = color , alpha=0.3 ,label='$5\\\\Delta$ around slope')\n",
    "\n",
    "\n",
    "    ax.legend(fontsize=25,loc='best')\n",
    "\n",
    "    set_axes(ax,x_label='$p_{miss}$ [GeV/c]',y_label='$p_{cm}^{\\\\vec{p}_{miss}}$ [GeV/c]')\n",
    "    ax.set_xlim(0.3,1);ax.set_ylim(0.,0.5);\n",
    "\n",
    "    plt.tight_layout()\n",
    "    plt.savefig(figures_path+'PcmZ_vs_Pmiss_'+target+'.pdf')"
   ]
  },
  {
   "cell_type": "code",
   "execution_count": null,
   "metadata": {
    "collapsed": false
   },
   "outputs": [],
   "source": [
    "fig,ax = plt.subplots(figsize=(12,8))\n",
    "fittype='vanish at 0.3'\n",
    "\n",
    "maximal_slope_band = 0 \n",
    "minimal_slope_band = 10\n",
    "\n",
    "for i,(target,target_name,color) in enumerate(zip(targets,target_names,colors)):\n",
    "    x = np.linspace(0.3,1,100)\n",
    "    fit_results = fit_as_a_function_of_pmiss( x=p_miss[target] , y=pcm_z_mean[target],  yerr=pcm_z_mean_err[target] , fittype=fittype)\n",
    "    slope , slope_err  = fit_results\n",
    "    ax.plot( x , slope*(x-0.3) , color = color )\n",
    "    ax.fill_between( x , (slope-5*slope_err)*(x-0.3) , (slope+5*slope_err)*(x-0.3) , color=color , alpha=0.2 )\n",
    "    if (slope-5*slope_err < minimal_slope_band):\n",
    "        minimal_slope_band = slope-5*slope_err \n",
    "    if (slope+5*slope_err > maximal_slope_band):\n",
    "        maximal_slope_band = slope+5*slope_err \n",
    "\n",
    "    \n",
    "for i,(target,target_name,color) in enumerate(zip(targets,target_names,colors)):\n",
    "    ax.errorbar( p_miss[target]+i*0.005*np.ones(len(p_miss[target]))  , pcm_z_mean[target] , yerr=pcm_z_mean_err[target] , label=target_name\n",
    "                , xerr=0, fmt='o', markersize=10, color=color , ecolor='black', capthick=2)\n",
    "ax.plot( x , minimal_slope_band*(x-0.3) , color = 'black' , linewidth=3 , label='$%.3f<$ gen. slope $<%.3f$'%(minimal_slope_band,maximal_slope_band))\n",
    "ax.plot( x , maximal_slope_band*(x-0.3) , color = 'black' , linewidth=3 )\n",
    "\n",
    "\n",
    "\n",
    "set_axes(ax,x_label='$p_{miss}$ [GeV/c]',y_label='$p_{cm}^{\\\\vec{p}_{miss}}$ [GeV/c]',do_add_grid=True)\n",
    "ax.set_xlim(0.3,1);ax.set_ylim(-0.05,0.5);\n",
    "ax.legend(fontsize=25,loc='best')    \n",
    "plt.savefig(figures_path+'generation_slope_limits.pdf')"
   ]
  },
  {
   "cell_type": "code",
   "execution_count": null,
   "metadata": {
    "collapsed": true
   },
   "outputs": [],
   "source": []
  },
  {
   "cell_type": "code",
   "execution_count": null,
   "metadata": {
    "collapsed": true
   },
   "outputs": [],
   "source": []
  },
  {
   "cell_type": "code",
   "execution_count": null,
   "metadata": {
    "collapsed": true
   },
   "outputs": [],
   "source": []
  }
 ],
 "metadata": {
  "kernelspec": {
   "display_name": "Python 2",
   "language": "python",
   "name": "python2"
  },
  "language_info": {
   "codemirror_mode": {
    "name": "ipython",
    "version": 2
   },
   "file_extension": ".py",
   "mimetype": "text/x-python",
   "name": "python",
   "nbconvert_exporter": "python",
   "pygments_lexer": "ipython2",
   "version": "2.7.11"
  }
 },
 "nbformat": 4,
 "nbformat_minor": 0
}
