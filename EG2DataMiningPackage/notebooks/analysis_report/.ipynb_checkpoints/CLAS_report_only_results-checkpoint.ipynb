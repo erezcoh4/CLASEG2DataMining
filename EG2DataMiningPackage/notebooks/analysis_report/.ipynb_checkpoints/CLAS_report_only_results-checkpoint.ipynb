{
 "cells": [
  {
   "cell_type": "code",
   "execution_count": null,
   "metadata": {
    "collapsed": false
   },
   "outputs": [],
   "source": [
    "import sys ; sys.path.insert(0, '../')\n",
    "from notebook_tools import *\n",
    "import matplotlib.mlab as mlab\n",
    "import matplotlib.ticker as ticker\n",
    "%matplotlib inline\n",
    "from scipy.interpolate import interp1d"
   ]
  },
  {
   "cell_type": "code",
   "execution_count": null,
   "metadata": {
    "collapsed": true
   },
   "outputs": [],
   "source": [
    "figures_path = '/Users/erezcohen/Desktop/Projects/2NSRC/CLASppCMnote/Figures/'"
   ]
  },
  {
   "cell_type": "code",
   "execution_count": null,
   "metadata": {
    "collapsed": false
   },
   "outputs": [],
   "source": [
    "nominal_results = pd.read_csv('/Users/erezcohen/Desktop/DataMining/Analysis_DATA/ppSRCcm/final_results/nominal_results.csv')\n",
    "nominal_results"
   ]
  },
  {
   "cell_type": "code",
   "execution_count": null,
   "metadata": {
    "collapsed": false
   },
   "outputs": [],
   "source": [
    "modified_results = dict()\n",
    "for extraname in ['MeanZLinearInPmiss','mean_rms','ConstBandAroundMeasuredValues']:\n",
    "    modified_results[extraname] = pd.read_csv('/Users/erezcohen/Desktop/DataMining/Analysis_DATA/ppSRCcm/final_results/'+extraname+'.csv')\n",
    "    modified_results[extraname]['A'] = [12,27,56,208]\n",
    "modified_results['ConstBandAroundMeasuredValues']    "
   ]
  },
  {
   "cell_type": "code",
   "execution_count": null,
   "metadata": {
    "collapsed": false
   },
   "outputs": [],
   "source": [
    "NoPrecFiducials_results = pd.read_csv('/Users/erezcohen/Desktop/DataMining/Analysis_DATA/ppSRCcm/final_results/NoPrecFiducials.csv')\n",
    "NoPrecFiducials_results['A'] = [12,27,56,208]\n",
    "NoPrecFiducials_results"
   ]
  },
  {
   "cell_type": "code",
   "execution_count": null,
   "metadata": {
    "collapsed": false
   },
   "outputs": [],
   "source": [
    "def plot_needed_for_A_depdendence_sigma_t(ax=None,figsize=(16,15),s=30,\n",
    "                                          xlim=(2.5,250), ylim=(0,200), #79\n",
    "                                          labels=dict({'$^4$He':(3.5,122),\n",
    "                                                '$^{12}$C':(9,165),\n",
    "                                                '$^{27}$Al':(21,182),\n",
    "                                                '$^{56}$Fe':(45,185),\n",
    "                                                '$^{208}$Pb':(140,184),                                               \n",
    "                                                      }),\n",
    "                                          fontsize=55,\n",
    "                                          do_Ciofi=True):\n",
    "    from scipy.interpolate import interp1d\n",
    "\n",
    "    if ax is None:\n",
    "        fig, ax = plt.subplots(figsize=figsize)\n",
    "    # for all plots\n",
    "    plot_calculation_line( kind='slinear',data=ColleCalc, varx='A' , vary='allpairs',color='black' ,label='Colle et al., All pairs')\n",
    "    plot_calculation_line( kind='slinear',data=ColleCalc, varx='A' ,linestyle='-',color='black', vary='nl00',label='Colle et al., $^1S_0$ pairs')\n",
    "    if do_Ciofi: ax.errorbar(CiofiCalc.A, CiofiCalc.s_t,markeredgecolor='black',marker='*',ms=30,mfc='none',linewidth=0, markeredgewidth=2,label='Ciofi and Simula')\n",
    "    plot_data( data=BNL_Data, ax=ax, Ashift=1 , color='blue', marker='s', label=None )\n",
    "    plot_data( data=HallA_Data, ax=ax, Ashift=-1 , color='blue' , marker='s' , label='Hall-A/BNL' )\n",
    "    plot_data( data=Korover_Data , ax=ax, marker='s' , color='blue', label=None )\n",
    "    \n",
    "    ax.set_xscale('log')\n",
    "    set_axes(ax , 'A' , '$\\sigma_{c.m.}$ [GeV/c]' , fontsize=fontsize \n",
    "             ,xticks=[4,12,27,56,208]\n",
    "             ,yticks=[100,125,150,175,200])\n",
    "    ax.grid(b=True, which='major', color='b', linestyle='--',alpha=0.25)    \n",
    "    if xlim is not None:    ax.set_xlim(xlim);\n",
    "    if ylim is not None:    ax.set_ylim(ylim);\n",
    "    # target name labels\n",
    "    for label in list(labels.keys()):\n",
    "        ax.text(labels[label][0],labels[label][1],label,fontsize=35)\n",
    "    return ax\n",
    "\n",
    "def plot_A_depdendence_sigma_t(data=None,\n",
    "                               figsize=(16,15),s=30,fontsize=55,\n",
    "                               xlim=(2.5,250), ylim=(79,200),  #79\n",
    "                               do_save_fig=True, filename='corrected_sigma_t_with_calculations',\n",
    "                               labels=dict({'$^4$He':(3.5,122), '$^{12}$C':(9,165), '$^{27}$Al':(21,182),\n",
    "                                            '$^{56}$Fe':(45,185), '$^{208}$Pb':(140,184), }),\n",
    "                               do_Ciofi=True,do_measured=True,\n",
    "                               do_stat_uncertainties=False,do_sys_uncertainties=False,do_tot_uncertainties=True):\n",
    "    \n",
    "    fig,ax = plt.subplots(figsize=figsize)\n",
    "    ax=plot_needed_for_A_depdendence_sigma_t(ax=ax,figsize=figsize,fontsize=fontsize,s=s,xlim=xlim, ylim=ylim,labels=labels,do_Ciofi=do_Ciofi)\n",
    "    # measured\n",
    "    if do_measured: ax.plot(cm_pars['A'], 1000*cm_pars['sigma_t_before_acc_corr'] ,mec='red' , marker='^' ,mfc='none',lw = 2, mew = 2, ms = 20, linewidth=0, label='This work, no acceptance corr.')\n",
    "    # corrected\n",
    "    if do_tot_uncertainties:\n",
    "        plot_data_assymetric( data=data, ax=ax, label='This work', markersize=20 ,color='red' , marker='o')\n",
    "        \n",
    "    # seperated statistical uncertainty\n",
    "    if do_stat_uncertainties: \n",
    "        A,st,sterr = cm_pars['A'], 1000*data['sigma_t_final'], 1000*data['sigma_t_final_Err_stat']\n",
    "        if do_tot_uncertainties:\n",
    "            ax.errorbar(A,st,sterr ,ecolor='purple',elinewidth=2 , capsize=15, capthick=3 , linestyle='none'\n",
    "                        ,linewidth=3, label='stat. uncertainties')\n",
    "        else: \n",
    "            ax.errorbar(A,st,sterr ,ecolor='red',color='red', marker='o', markersize=20 ,elinewidth=2 , capsize=15, capthick=3 , linestyle='none'\n",
    "                        ,linewidth=3, label='stat. uncertainties')\n",
    "\n",
    "#     ax.legend(fontsize=25,loc='lower right')\n",
    "    # add a band of systematical uncertaintes\n",
    "    if do_sys_uncertainties:\n",
    "        ax.fill_between(cm_pars['A']\n",
    "                        , np.min(ax.get_ylim())\n",
    "                        , np.min(ax.get_ylim()) + 1000*data['sigma_t_final_up_err_sys'] \n",
    "                        , color='purple' , alpha=0.5 ,  label='sys. uncertainties')\n",
    "    ax.legend(fontsize=25,loc='upper left')"
   ]
  },
  {
   "cell_type": "markdown",
   "metadata": {},
   "source": [
    "# generated vs. reconstructed in bins of generated"
   ]
  },
  {
   "cell_type": "code",
   "execution_count": null,
   "metadata": {
    "collapsed": false,
    "scrolled": false
   },
   "outputs": [],
   "source": [
    "columns = ['Pmiss3Mag','pcmX','pcmY','pcmZ','rooWeight'] # ,'Mott','DipoleFF2'\n",
    "data_allPmiss_PrecFid , data300Pmiss600_PrecFid = dict() , dict()\n",
    "for target in ['C12','Al27','Fe56','Pb208']:\n",
    "    data_allPmiss_PrecFid[target] = read_root( path+\"/OrAnalysisTrees/AdjustedTrees/SRC_e2p_adjusted_300Pmiss600_%s_PrecFiducials.root\"%target, columns=columns )\n",
    "    data300Pmiss600_PrecFid[target] = data_allPmiss_PrecFid[target][data_allPmiss_PrecFid[target]['Pmiss3Mag']<0.6]"
   ]
  },
  {
   "cell_type": "code",
   "execution_count": null,
   "metadata": {
    "collapsed": false
   },
   "outputs": [],
   "source": [
    "cm_parameters = dict()\n",
    "cm_parameters_with_correction = dict()\n",
    "for Fiducials in [\"NoPrecFiducials\",\"PrecFiducials\"]:\n",
    "    cm_pars = pd.read_csv('/Users/erezcohen/Desktop/DataMining/Analysis_DATA/ppSRCcm/300Pmiss600/alltargets_'+Fiducials+'_dataCMparameters.csv')\n",
    "    cm_pars['sigma_x_before_acc_corr'] = np.sqrt(np.square(cm_pars['sigma_x_unweighted']) - np.square(0.02))\n",
    "    cm_pars['sigma_x_before_acc_corr_err'] = cm_pars['sigma_xErr_unweighted']\n",
    "    cm_pars['sigma_y_before_acc_corr'] = np.sqrt(np.square(cm_pars['sigma_y_unweighted']) - np.square(0.02))\n",
    "    cm_pars['sigma_y_before_acc_corr_err'] = cm_pars['sigma_yErr_unweighted']\n",
    "    \n",
    "    \n",
    "    # weighted average\n",
    "    sigma_x, Dsigma_x = cm_pars['sigma_x_before_acc_corr'], cm_pars['sigma_x_before_acc_corr_err']\n",
    "    sigma_y, Dsigma_y = cm_pars['sigma_y_before_acc_corr'], cm_pars['sigma_y_before_acc_corr_err']\n",
    "    sigma_t = (sigma_x/np.square(Dsigma_x)+sigma_y/np.square(Dsigma_y))/( 1./np.square(Dsigma_x) + 1./np.square(Dsigma_y))\n",
    "    cm_pars['sigma_t_before_acc_corr'] = sigma_t    \n",
    "    Dsigma_t = np.sqrt(1./( 1./np.square(Dsigma_x) + 1./np.square(Dsigma_y) ))\n",
    "    cm_pars['sigma_t_before_acc_corr_err'] = Dsigma_t\n",
    "    cm_parameters[Fiducials] = cm_pars\n",
    "    cm_parameters_with_correction[Fiducials] = cm_pars\n",
    "cm_parameters[Fiducials]"
   ]
  },
  {
   "cell_type": "code",
   "execution_count": null,
   "metadata": {
    "collapsed": false
   },
   "outputs": [],
   "source": [
    "cm_parameters[Fiducials][['sigma_x_before_acc_corr','sigma_x_before_acc_corr_err','sigma_y_before_acc_corr','sigma_y_before_acc_corr_err','sigma_t_before_acc_corr','sigma_t_before_acc_corr_err']]"
   ]
  },
  {
   "cell_type": "markdown",
   "metadata": {},
   "source": [
    "## cm_parameters['PrecFiducials']"
   ]
  },
  {
   "cell_type": "code",
   "execution_count": null,
   "metadata": {
    "collapsed": true
   },
   "outputs": [],
   "source": [
    "targets = ['C','Al','Fe','Pb']\n",
    "target_names = [r'$^{12}$C',r'$^{27}$Al',r'$^{56}$Fe',r'$^{208}$Pb']\n",
    "colors = ['red','blue','forestgreen','purple']\n",
    "As = [12,27,56,208]\n",
    "Neep = [7598,2573,8558,2635]\n",
    "Neepp = [266,88,227,45]"
   ]
  },
  {
   "cell_type": "markdown",
   "metadata": {},
   "source": [
    "# the simulation assumes a Gaussian distribution around the meas. values with 5 standard deviations as width"
   ]
  },
  {
   "cell_type": "code",
   "execution_count": null,
   "metadata": {
    "collapsed": false,
    "scrolled": false
   },
   "outputs": [],
   "source": [
    "fig = plt.figure(figsize=(16,12))\n",
    "ax = fig.add_subplot(2,1,1)\n",
    "ax.errorbar(x=cm_pars['A'],y=cm_pars['mean_z_unweighted'],yerr=cm_pars['mean_zErr_unweighted'],fmt='s'\n",
    "            ,color='blue',label='measured $\\\\mu_{\\\\vec{p}_{miss}}$')\n",
    "ax.fill_between(cm_pars['A']\n",
    "                ,cm_pars['mean_z_unweighted']-5*cm_pars['mean_zErr_unweighted']\n",
    "                ,cm_pars['mean_z_unweighted']+5*cm_pars['mean_zErr_unweighted']\n",
    "                ,color='royalblue',alpha=0.2,label='5$\\\\sigma$ around measured value')\n",
    "plt.plot(cm_pars['A'],cm_pars['mean_z_unweighted']-5*cm_pars['mean_zErr_unweighted'],'-',linewidth=3,color='royalblue')\n",
    "plt.plot(cm_pars['A'],cm_pars['mean_z_unweighted']+5*cm_pars['mean_zErr_unweighted'],'-',linewidth=3,color='royalblue')\n",
    "\n",
    "plt.plot(cm_pars['A'],cm_pars['mean_z_unweighted']-cm_pars['mean_zErr_unweighted'],'--',linewidth=3,color='red' \n",
    "         , label= r'$1\\sigma$ around the measured values')\n",
    "plt.plot(cm_pars['A'],cm_pars['mean_z_unweighted']+cm_pars['mean_zErr_unweighted'],'--',linewidth=3,color='red')\n",
    "\n",
    "\n",
    "set_axes(ax,'','$\\\\mu_{miss}$ [GeV/c]')\n",
    "ax.xaxis.set_ticks([12,27,56,208]);ax.yaxis.set_ticks([0.05,0.15,0.25,0.35]);\n",
    "ax.grid(linestyle='--',alpha=0.8)\n",
    "ax.legend(fontsize=25,loc='upper left')\n",
    "ax.xaxis.set_major_formatter(NullFormatter())\n",
    "\n",
    "\n",
    "ax = fig.add_subplot(2,1,2)\n",
    "ax.errorbar(x=cm_pars['A'],y=cm_pars['sigma_z_unweighted'],yerr=cm_pars['sigma_zErr_unweighted'],fmt='s'\n",
    "            ,color='blue',label='measured $\\\\sigma_{\\\\vec{p}_{miss}}$')\n",
    "ax.fill_between(cm_pars['A']\n",
    "                ,cm_pars['sigma_z_unweighted']-5*cm_pars['sigma_zErr_unweighted']\n",
    "                ,cm_pars['sigma_z_unweighted']+5*cm_pars['sigma_zErr_unweighted']\n",
    "                ,color='royalblue',alpha=0.2,label='5$\\\\sigma$ around measured value')\n",
    "plt.plot(cm_pars['A'],cm_pars['sigma_z_unweighted']-5*cm_pars['sigma_zErr_unweighted'],'-',linewidth=3,color='royalblue')\n",
    "plt.plot(cm_pars['A'],cm_pars['sigma_z_unweighted']+5*cm_pars['sigma_zErr_unweighted'],'-',linewidth=3,color='royalblue')\n",
    "\n",
    "plt.plot(cm_pars['A'],cm_pars['sigma_z_unweighted']-cm_pars['sigma_zErr_unweighted'],'--',linewidth=3,color='red' \n",
    "         , label= r'$1\\sigma$ around the measured values')\n",
    "plt.plot(cm_pars['A'],cm_pars['sigma_z_unweighted']+cm_pars['sigma_zErr_unweighted'],'--',linewidth=3,color='red')\n",
    "\n",
    "\n",
    "set_axes(ax,'A','$\\\\sigma_{c.m.}$ [GeV/c]')\n",
    "ax.xaxis.set_ticks([12,27,56,208]);ax.yaxis.set_ticks([0.08,0.12,0.16,0.20,0.24]);\n",
    "ax.grid(linestyle='--',alpha=0.8)\n",
    "ax.legend(fontsize=25,loc='upper left')\n",
    "\n",
    "plt.tight_layout()\n",
    "outfilename = figures_path + 'mean_sigma_z_Adependence_band_5std_around_measured.pdf'\n",
    "print 'saved',outfilename\n",
    "plt.savefig(outfilename)"
   ]
  },
  {
   "cell_type": "code",
   "execution_count": null,
   "metadata": {
    "collapsed": true
   },
   "outputs": [],
   "source": [
    "nominal_results['A']=[12,27,56,208]"
   ]
  },
  {
   "cell_type": "code",
   "execution_count": null,
   "metadata": {
    "collapsed": false
   },
   "outputs": [],
   "source": [
    "nominal_results[['sigma_t_before_acc_corr','sigma_t_before_acc_corr_err'\n",
    "                                                ,'sigma_t_final'\n",
    "                                                ,'sigma_t_final_up_err_tot','sigma_t_final_dw_err_tot']].astype(float)"
   ]
  },
  {
   "cell_type": "markdown",
   "metadata": {},
   "source": [
    "# $x$ and $y$ directions seperately"
   ]
  },
  {
   "cell_type": "code",
   "execution_count": null,
   "metadata": {
    "collapsed": false
   },
   "outputs": [],
   "source": [
    "nominal_results['sigma_x_final_up_err_tot'] = nominal_results['sigma_x_final_up_err']\n",
    "nominal_results['sigma_y_final_up_err_tot'] = nominal_results['sigma_y_final_up_err']\n",
    "nominal_results['sigma_x_final_dw_err_tot'] = nominal_results['sigma_x_final_dw_err']\n",
    "nominal_results['sigma_y_final_dw_err_tot'] = nominal_results['sigma_y_final_dw_err']"
   ]
  },
  {
   "cell_type": "code",
   "execution_count": null,
   "metadata": {
    "collapsed": false,
    "scrolled": false
   },
   "outputs": [],
   "source": [
    "ax = plot_needed_for_A_depdendence_sigma_t(ylim=(79,210),labels=dict({'$^4$He':(3.5,122),\n",
    "                                            '$^{12}$C':(9,165),\n",
    "                                            '$^{27}$Al':(21,188),\n",
    "                                            '$^{56}$Fe':(45,188),\n",
    "                                            '$^{208}$Pb':(132,184),\n",
    "                                           }))\n",
    "ax.plot(cm_pars['A']+[-0.5,-0.7,-2,-3], 1000*cm_pars['sigma_x_unweighted'] ,mec='blue' , marker='^' ,mfc='none',lw = 2, mew = 2, ms = 20, linewidth=0, label='$x$ no acceptance corr.')\n",
    "plot_data_assymetric( data=nominal_results, ax=ax, Ashift=[-0.5,-0.7,-2,-3] , direction='x', label='This work, x-direction', color='royalblue',markersize=20 )\n",
    "ax.plot(cm_pars['A']+[0.5,0.7,2,3], 1000*cm_pars['sigma_y_unweighted'] ,mec='red' , marker='^' ,mfc='none',lw = 2, mew = 2, ms = 20, linewidth=0, label='$y$ no acceptance corr.')\n",
    "plot_data_assymetric( data=nominal_results, ax=ax, Ashift=[0.5,0.7,2,3] ,direction='y', label='This work, y-direction', color='salmon', markersize=20 )\n",
    "ax.legend(fontsize=25,loc='lower right')\n",
    "plt.tight_layout()\n",
    "plt.savefig( figures_path + 'corrected_sigma_xy_with_calculations.pdf')"
   ]
  },
  {
   "cell_type": "markdown",
   "metadata": {},
   "source": [
    "## final plot"
   ]
  },
  {
   "cell_type": "code",
   "execution_count": null,
   "metadata": {
    "collapsed": false,
    "scrolled": false
   },
   "outputs": [],
   "source": [
    "extraname=''\n",
    "ax = plot_needed_for_A_depdendence_sigma_t(ylim=(79,205),labels=dict({'$^4$He':(3.5,122),\n",
    "                                            '$^{12}$C':(9,165), '$^{27}$Al':(21,182),\n",
    "                                            '$^{56}$Fe':(45,192), '$^{208}$Pb':(158,188), }),do_Ciofi=True)\n",
    "\n",
    "plot_data_assymetric( data=nominal_results,direction='t',ax=ax, label=\"This work\" , marker='o', markersize=20 , capthick=2, capsize=14 )\n",
    "plt.legend(fontsize=20,loc='upper left')\n",
    "# measured\n",
    "ax.plot(cm_pars['A'], 1000*cm_pars['sigma_t_before_acc_corr'] ,mec='red' , marker='^' ,mfc='none',lw = 2, mew = 2, ms = 20, linewidth=0, label='This work, no acceptance corr.')\n",
    "plot_data_assymetric( data=nominal_results ,direction='t', unc_name='stat' , ax=ax , marker='o', markersize=20 , capthick=2 , capsize=14)\n",
    "\n",
    "ax.legend(fontsize=25,loc='lower right')\n",
    "plt.tight_layout()\n",
    "plt.savefig(figures_path +'results.pdf')    "
   ]
  },
  {
   "cell_type": "markdown",
   "metadata": {},
   "source": [
    "# compare with previous results presented in WI"
   ]
  },
  {
   "cell_type": "code",
   "execution_count": null,
   "metadata": {
    "collapsed": false
   },
   "outputs": [],
   "source": [
    "ax = plot_needed_for_A_depdendence_sigma_t(ylim=(79,210),labels=dict({'$^4$He':(3.5,122),\n",
    "                                            '$^{12}$C':(9,165), '$^{27}$Al':(21,182),\n",
    "                                            '$^{56}$Fe':(45,192), '$^{208}$Pb':(135,184), }))\n",
    "ax.plot(cm_pars['A'], 1000*cm_pars['sigma_t_before_acc_corr'] ,mec='red' , marker='^' ,mfc='none',lw = 2, mew = 2, ms = 20, linewidth=0, label='This work, no acceptance corr.')\n",
    "plot_data( data=WI_Data, ax=ax,label='results in WI',Ashift=[2,2,3,10],  markersize=20 , marker='s', color='black')\n",
    "plot_data_assymetric( data=nominal_results,ax=ax, label='results $0.3<p_{miss}<0.6$ GeV/c', marker='o', markersize=20 )\n",
    "ax.legend(fontsize=25, loc='lower right')\n",
    "plt.tight_layout()\n",
    "plt.savefig( figures_path + 'corrected_sigma_t_vs_WI_results.pdf')"
   ]
  },
  {
   "cell_type": "markdown",
   "metadata": {},
   "source": [
    "# Fiducial cuts vs. no Fiducial cuts"
   ]
  },
  {
   "cell_type": "code",
   "execution_count": null,
   "metadata": {
    "collapsed": false
   },
   "outputs": [],
   "source": [
    "extraname='NoPrecFiducials'\n",
    "label=\"no fiducial cuts\"\n",
    "ax = plot_needed_for_A_depdendence_sigma_t(ylim=(79,205),labels=dict({'$^4$He':(3.5,122),\n",
    "                                            '$^{12}$C':(9,165), '$^{27}$Al':(21,182),\n",
    "                                            '$^{56}$Fe':(45,192), '$^{208}$Pb':(158,188), }),do_Ciofi=True)\n",
    "plot_data_assymetric( data=nominal_results,direction='t',ax=ax, label=r\"This work (fiducial cuts)\" , marker='o', markersize=20 )\n",
    "plot_data_assymetric( data=NoPrecFiducials_results,Ashift=[0.5,2,3,10], direction='t'+extraname,ax=ax, label=label , marker='s', markersize=20 , color='forestgreen')\n",
    "plt.legend(fontsize=20,loc='upper left')\n",
    "# measured\n",
    "ax.plot(cm_pars['A'], 1000*cm_pars['sigma_t_before_acc_corr'] ,mec='red' , marker='^' ,mfc='none',lw = 2, mew = 2, ms = 20, linewidth=0, label='This work, no acceptance corr.')\n",
    "ax.legend(fontsize=25,loc='lower right')\n",
    "plt.tight_layout()\n",
    "plt.savefig(figures_path +'results_compare_'+extraname+'.pdf')"
   ]
  },
  {
   "cell_type": "markdown",
   "metadata": {},
   "source": [
    "# compare constant band around mean(z) & \\sigma(z) with 5  ×Δmeasured "
   ]
  },
  {
   "cell_type": "code",
   "execution_count": null,
   "metadata": {
    "collapsed": false,
    "scrolled": false
   },
   "outputs": [],
   "source": [
    "fig = plt.figure(figsize=(16,12))\n",
    "ax = fig.add_subplot(2,1,1)\n",
    "ax.errorbar(x=cm_pars['A'],y=cm_pars['mean_z_unweighted'],yerr=cm_pars['mean_zErr_unweighted'],fmt='s'\n",
    "            ,color='blue',label='measured $\\\\mu_{\\\\vec{p}_{miss}}$')\n",
    "ax.fill_between(cm_pars['A']\n",
    "                ,cm_pars['mean_z_unweighted']-0.075\n",
    "                ,cm_pars['mean_z_unweighted']+0.075\n",
    "                ,color='royalblue',alpha=0.2,label='75 MeV/c around measured value')\n",
    "\n",
    "set_axes(ax,'','$\\\\mu_{miss}$ [GeV/c]',fontsize=45)\n",
    "ax.xaxis.set_ticks([12,27,56,208]);ax.yaxis.set_ticks([0.05,0.15,0.25,0.35]);\n",
    "ax.grid(linestyle='--',alpha=0.8)\n",
    "plt.plot(cm_pars['A'],cm_pars['mean_z_unweighted']-5*cm_pars['mean_zErr_unweighted'],'--',linewidth=3,color='royalblue',label='5$\\\\sigma$ around measured value')\n",
    "plt.plot(cm_pars['A'],cm_pars['mean_z_unweighted']-cm_pars['mean_zErr_unweighted'],'--',linewidth=3,color='red' \n",
    "         , label= r'$1\\sigma$ around the measured values')\n",
    "plt.plot(cm_pars['A'],cm_pars['mean_z_unweighted']+cm_pars['mean_zErr_unweighted'],'--',linewidth=3,color='red')\n",
    "\n",
    "\n",
    "ax.legend(fontsize=25,loc='upper left')\n",
    "plt.plot(cm_pars['A'],cm_pars['mean_z_unweighted']-0.075,'-',linewidth=3,color='royalblue')\n",
    "plt.plot(cm_pars['A'],cm_pars['mean_z_unweighted']+0.075,'-',linewidth=3,color='royalblue')\n",
    "plt.plot(cm_pars['A'],cm_pars['mean_z_unweighted']+5*cm_pars['mean_zErr_unweighted'],'--',linewidth=3,color='royalblue')\n",
    "\n",
    "\n",
    "ax.xaxis.set_major_formatter(NullFormatter())\n",
    "ax.set_xlim(0,250);ax.set_ylim(0.02,0.4);\n",
    "\n",
    "ax = fig.add_subplot(2,1,2)\n",
    "ax.errorbar(x=cm_pars['A'],y=cm_pars['sigma_z_unweighted'],yerr=cm_pars['sigma_zErr_unweighted'],fmt='s'\n",
    "            ,color='blue',label='measured $\\\\sigma_{\\\\vec{p}_{miss}}$')\n",
    "ax.fill_between(cm_pars['A'] ,cm_pars['sigma_z_unweighted']-0.05 ,cm_pars['sigma_z_unweighted']+0.05\n",
    "                ,color='royalblue',alpha=0.2,label='50 MeV/c around measured value')\n",
    "\n",
    "set_axes(ax,'A','$\\\\sigma_{c.m.}$ [GeV/c]',fontsize=45)\n",
    "ax.xaxis.set_ticks([12,27,56,208]);ax.yaxis.set_ticks([0.08,0.12,0.16,0.20,0.24]);\n",
    "ax.grid(linestyle='--',alpha=0.8)\n",
    "plt.plot(cm_pars['A'],cm_pars['sigma_z_unweighted']-5*cm_pars['sigma_zErr_unweighted'],'--',linewidth=3,color='royalblue',label='5$\\\\sigma$ around measured value')\n",
    "plt.plot(cm_pars['A'],cm_pars['sigma_z_unweighted']-cm_pars['sigma_zErr_unweighted'],'--',linewidth=3,color='red' \n",
    "         , label= r'$1\\sigma$ around the measured values')\n",
    "plt.plot(cm_pars['A'],cm_pars['sigma_z_unweighted']+cm_pars['sigma_zErr_unweighted'],'--',linewidth=3,color='red')\n",
    "\n",
    "ax.legend(fontsize=25,loc='upper left')\n",
    "plt.plot(cm_pars['A'],cm_pars['sigma_z_unweighted']-0.05,'-',linewidth=3,color='royalblue')\n",
    "plt.plot(cm_pars['A'],cm_pars['sigma_z_unweighted']+0.05,'-',linewidth=3,color='royalblue')\n",
    "plt.plot(cm_pars['A'],cm_pars['sigma_z_unweighted']+5*cm_pars['sigma_zErr_unweighted'],'--',linewidth=3,color='royalblue')\n",
    "\n",
    "ax.set_xlim(0,250);ax.set_ylim(0.07,0.3);\n",
    "\n",
    "plt.tight_layout()\n",
    "outfilename = figures_path + 'mean_sigma_z_Adependence_constant_band_around_measured.pdf'\n",
    "print 'saved',outfilename\n",
    "plt.savefig(outfilename)"
   ]
  },
  {
   "cell_type": "code",
   "execution_count": null,
   "metadata": {
    "collapsed": false
   },
   "outputs": [],
   "source": [
    "extraname='ConstBandAroundMeasuredValues'\n",
    "label=r\"Constant band around $\\sigma_z,\\mu_z$\"\n",
    "ax = plot_needed_for_A_depdendence_sigma_t(figsize=(16,12),ylim=(79,205),labels=dict({'$^4$He':(3.5,122),\n",
    "                                            '$^{12}$C':(9,165), '$^{27}$Al':(21,182),\n",
    "                                            '$^{56}$Fe':(45,192), '$^{208}$Pb':(158,188), }),do_Ciofi=True)\n",
    "plot_data_assymetric( data=nominal_results,direction='t',ax=ax, label=r\"This work (5$\\sigma$ around measured $\\sigma_z,\\mu_z$)\" , marker='o', markersize=20 )\n",
    "plot_data_assymetric( data=modified_results[extraname],Ashift=[0.5,2,3,10], direction='t'+extraname,ax=ax, label=label , marker='s', markersize=20 , color='forestgreen')\n",
    "plt.legend(fontsize=20,loc='upper left')\n",
    "# measured\n",
    "ax.plot(cm_pars['A'], 1000*cm_pars['sigma_t_before_acc_corr'] ,mec='red' , marker='^' ,mfc='none',lw = 2, mew = 2, ms = 20, linewidth=0, label='This work, no acceptance corr.')\n",
    "ax.legend(fontsize=25,loc='lower right')\n",
    "plt.tight_layout()\n",
    "plt.savefig(figures_path +'results_compare_'+extraname+'.pdf')"
   ]
  },
  {
   "cell_type": "markdown",
   "metadata": {},
   "source": [
    "# compare mean(z) linear in $p_{miss}$ (slope$\\times(p_{miss}-0.3)$) with 5 $\\times \\Delta_{measured}$"
   ]
  },
  {
   "cell_type": "code",
   "execution_count": null,
   "metadata": {
    "collapsed": false,
    "scrolled": false
   },
   "outputs": [],
   "source": [
    "extraname='MeanZLinearInPmiss'\n",
    "label=r\"$\\mu_{z}=a(p_{miss}-0.3)$\"\n",
    "ax = plot_needed_for_A_depdendence_sigma_t(ylim=(79,205),labels=dict({'$^4$He':(3.5,122),\n",
    "                                            '$^{12}$C':(9,165), '$^{27}$Al':(21,182),\n",
    "                                            '$^{56}$Fe':(45,192), '$^{208}$Pb':(158,188), }),do_Ciofi=True)\n",
    "plot_data_assymetric( data=nominal_results,direction='t',ax=ax, label=r\"This work (5$\\sigma$ around measured $\\mu_z$)\" , marker='o', markersize=20 )\n",
    "plot_data_assymetric( data=modified_results[extraname],Ashift=[0.5,2,3,10], direction='t'+extraname,ax=ax, label=label , marker='s', markersize=20 , color='forestgreen')\n",
    "plt.legend(fontsize=20,loc='upper left')\n",
    "# measured\n",
    "ax.plot(cm_pars['A'], 1000*cm_pars['sigma_t_before_acc_corr'] ,mec='red' , marker='^' ,mfc='none',lw = 2, mew = 2, ms = 20, linewidth=0, label='This work, no acceptance corr.')\n",
    "ax.legend(fontsize=25,loc='lower right')\n",
    "plt.tight_layout()\n",
    "plt.savefig(figures_path +'results_compare_'+extraname+'.pdf')"
   ]
  },
  {
   "cell_type": "markdown",
   "metadata": {},
   "source": [
    "# compare the method that looks for the minimal window with 68% confidence integral in each bin to the method of mean and rms\n",
    "The quasi-data point would be the mean value of $\\sigma_{gen}$ in this bin,\n",
    "and the uncertaintly would be the distance from the right and left sides of the 68% interval"
   ]
  },
  {
   "cell_type": "code",
   "execution_count": null,
   "metadata": {
    "collapsed": false
   },
   "outputs": [],
   "source": [
    "extraname='mean_rms'\n",
    "ax = plot_needed_for_A_depdendence_sigma_t(ylim=(79,205),labels=dict({'$^4$He':(3.5,122),\n",
    "                                            '$^{12}$C':(9,165), '$^{27}$Al':(21,182),\n",
    "                                            '$^{56}$Fe':(45,192), '$^{208}$Pb':(158,188), }),do_Ciofi=True)\n",
    "\n",
    "plot_data_assymetric( data=nominal_results,direction='t',ax=ax, label=\"This work\" , marker='o', markersize=20 )\n",
    "plot_data_assymetric( data=modified_results[extraname],Ashift=[0.5,2,3,10], direction='t'+extraname,ax=ax, label=\"mean/std\" , marker='s', markersize=20 , color='forestgreen')\n",
    "plt.legend(fontsize=20,loc='upper left')\n",
    "# measured\n",
    "ax.plot(cm_pars['A'], 1000*cm_pars['sigma_t_before_acc_corr'] ,mec='red' , marker='^' ,mfc='none',lw = 2, mew = 2, ms = 20, linewidth=0, label='This work, no acceptance corr.')\n",
    "\n",
    "ax.legend(fontsize=25,loc='lower right')\n",
    "plt.tight_layout()\n",
    "plt.savefig(figures_path +'results_compare_mean_rms.pdf')"
   ]
  },
  {
   "cell_type": "markdown",
   "metadata": {
    "collapsed": true
   },
   "source": [
    "# compare alltogether"
   ]
  },
  {
   "cell_type": "code",
   "execution_count": null,
   "metadata": {
    "collapsed": false
   },
   "outputs": [],
   "source": [
    "ax = plot_needed_for_A_depdendence_sigma_t(ylim=(79,205),labels=dict({'$^4$He':(3.5,122),\n",
    "                                            '$^{12}$C':(9,165), '$^{27}$Al':(21,182),\n",
    "                                            '$^{56}$Fe':(45,196), '$^{208}$Pb':(128,188), }),do_Ciofi=False)\n",
    "\n",
    "ax.errorbar(WI_Data['A']+[1.5,3,3,15], 1000*WI_Data['sigma_t_final'], 1000*WI_Data['sigma_t_final_err'] ,mec='black', linestyle='none', marker='s',mfc='none'\n",
    "            ,lw = 3, mew = 2, ms = 20, linewidth=2, label='previous report, Feb. 2017')\n",
    "plot_data_assymetric( data=nominal_results,ax=ax, label='nominal (5$\\\\sigma$ around measured values)', marker='o', markersize=20 )\n",
    "ax.plot(cm_pars['A'], 1000*cm_pars['sigma_t_before_acc_corr'] ,mec='red' , marker='^' ,mfc='none',lw = 2, mew = 2, ms = 20, linewidth=0, label='This work, no acceptance corr.')\n",
    "\n",
    "for extraname,label,Ashift,color in zip(['MeanZLinearInPmiss','ConstBandAroundMeasuredValues'] #'mean_rms',\n",
    "                                        ,[r'with $p_{miss}$ dependence $\\mu_{z}=a(p_{miss}-0.3)$',r'Constant band around $\\sigma_z,\\mu_z$'] #'mean/std',\n",
    "                                        ,[[0.5,2,3,10],[-0.5,-2,-3,-10]]\n",
    "                                        ,['forestgreen','purple']):\n",
    "    plot_data_assymetric( data=modified_results[extraname],Ashift=Ashift, direction='t'+extraname,ax=ax, label=label , marker='s', markersize=20 , color=color)\n",
    "\n",
    "\n",
    "ax.legend(fontsize=25, loc='lower right')\n",
    "plt.tight_layout()\n",
    "plt.savefig( figures_path + 'results_compare_alltogether.pdf')"
   ]
  }
 ],
 "metadata": {
  "celltoolbar": "Raw Cell Format",
  "kernelspec": {
   "display_name": "Python 2",
   "language": "python",
   "name": "python2"
  },
  "language_info": {
   "codemirror_mode": {
    "name": "ipython",
    "version": 2
   },
   "file_extension": ".py",
   "mimetype": "text/x-python",
   "name": "python",
   "nbconvert_exporter": "python",
   "pygments_lexer": "ipython2",
   "version": "2.7.11"
  }
 },
 "nbformat": 4,
 "nbformat_minor": 0
}
