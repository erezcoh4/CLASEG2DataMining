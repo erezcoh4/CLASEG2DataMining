{
 "cells": [
  {
   "cell_type": "code",
   "execution_count": 1,
   "metadata": {
    "collapsed": true
   },
   "outputs": [],
   "source": [
    "import numpy as np, matplotlib as plt\n",
    "%matplotlib inline"
   ]
  },
  {
   "cell_type": "code",
   "execution_count": 20,
   "metadata": {
    "collapsed": true
   },
   "outputs": [],
   "source": [
    "def f( X0 , A , B ):\n",
    "    '''\n",
    "    return the function X0(A * B)\n",
    "    X is a matrix (2x2)\n",
    "    A is a matrix (1x6)\n",
    "    B is a matrix (6x1)\n",
    "    '''\n",
    "    AB = np.dot(A,B)\n",
    "    return X0 * AB"
   ]
  },
  {
   "cell_type": "code",
   "execution_count": 21,
   "metadata": {
    "collapsed": false
   },
   "outputs": [],
   "source": [
    "A = np.full((1,6) , 1) + 0.1*np.random.rand(1,6)\n",
    "B = np.full((6,1) , 2) + 0.1*np.random.rand(6,1)\n",
    "X0 = np.full((2,2) , 4)"
   ]
  },
  {
   "cell_type": "code",
   "execution_count": 24,
   "metadata": {
    "collapsed": false
   },
   "outputs": [
    {
     "data": {
      "text/plain": [
       "array([[ 53.16869898,  52.58812902],\n",
       "       [ 52.58801698,  53.14370763]])"
      ]
     },
     "execution_count": 24,
     "metadata": {},
     "output_type": "execute_result"
    }
   ],
   "source": [
    "N_observations = 100\n",
    "X_observations = [ f( X0 + 0.1*np.random.rand(2,2) , A , B ) for i in range(N_observations) ]\n",
    "X_observations[0]"
   ]
  },
  {
   "cell_type": "code",
   "execution_count": null,
   "metadata": {
    "collapsed": true
   },
   "outputs": [],
   "source": []
  },
  {
   "cell_type": "code",
   "execution_count": null,
   "metadata": {
    "collapsed": true
   },
   "outputs": [],
   "source": []
  }
 ],
 "metadata": {
  "kernelspec": {
   "display_name": "Python 2",
   "language": "python",
   "name": "python2"
  },
  "language_info": {
   "codemirror_mode": {
    "name": "ipython",
    "version": 2
   },
   "file_extension": ".py",
   "mimetype": "text/x-python",
   "name": "python",
   "nbconvert_exporter": "python",
   "pygments_lexer": "ipython2",
   "version": "2.7.11"
  }
 },
 "nbformat": 4,
 "nbformat_minor": 0
}
