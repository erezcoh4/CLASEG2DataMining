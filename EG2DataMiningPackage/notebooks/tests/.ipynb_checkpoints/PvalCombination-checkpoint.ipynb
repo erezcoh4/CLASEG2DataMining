{
 "cells": [
  {
   "cell_type": "code",
   "execution_count": 1,
   "metadata": {
    "collapsed": false
   },
   "outputs": [],
   "source": [
    "import sys; sys.path.insert(0,'../')\n",
    "from notebook_tools import *\n",
    "%matplotlib inline"
   ]
  },
  {
   "cell_type": "markdown",
   "metadata": {},
   "source": [
    "# Test Pvalue combinations"
   ]
  },
  {
   "cell_type": "code",
   "execution_count": null,
   "metadata": {
    "collapsed": true
   },
   "outputs": [],
   "source": [
    "N = 100\n",
    "Pval_1 , Pval_2 , Pval_Fisher = [] , [] , [] \n",
    "for i in range(N):\n",
    "    Pval_1 = np.random.normal(mean=0.1,sigma=0.01)\n",
    "    Pval_2 = np.random.normal(mean=0.3,sigma=0.01)\n",
    "    Pval_Fisher = FisherCombinationLargePvals"
   ]
  }
 ],
 "metadata": {
  "kernelspec": {
   "display_name": "Python 2",
   "language": "python",
   "name": "python2"
  },
  "language_info": {
   "codemirror_mode": {
    "name": "ipython",
    "version": 2
   },
   "file_extension": ".py",
   "mimetype": "text/x-python",
   "name": "python",
   "nbconvert_exporter": "python",
   "pygments_lexer": "ipython2",
   "version": "2.7.11"
  }
 },
 "nbformat": 4,
 "nbformat_minor": 0
}
