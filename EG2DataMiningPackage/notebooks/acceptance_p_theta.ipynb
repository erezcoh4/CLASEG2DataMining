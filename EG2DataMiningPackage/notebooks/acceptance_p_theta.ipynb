{
 "cells": [
  {
   "cell_type": "code",
   "execution_count": 8,
   "metadata": {
    "collapsed": false
   },
   "outputs": [],
   "source": [
    "import ROOT ,os, sys , math\n",
    "from ROOT import  TPlots\n",
    "from matplotlib import pyplot as plt\n",
    "from matplotlib.colors import LogNorm\n",
    "%matplotlib inline\n",
    "import numpy as np , pandas as pd\n",
    "from root_numpy import root2array, tree2array , hist2array"
   ]
  },
  {
   "cell_type": "code",
   "execution_count": 2,
   "metadata": {
    "collapsed": true
   },
   "outputs": [],
   "source": [
    "runs = [93]#80 , 68 , 72 , 74]"
   ]
  },
  {
   "cell_type": "code",
   "execution_count": 3,
   "metadata": {
    "collapsed": false
   },
   "outputs": [],
   "source": [
    "Path = \"/Users/erezcohen/Desktop/DataMining/AnaFiles\"\n",
    "chain = ROOT.TChain(\"anaTree\")\n",
    "for run in runs:\n",
    "    chain.Add(Path + \"/Ana_GSIM_run%04d_eep.root\"%run)\n",
    "T = tree2array(chain,branches=['Np_g','Np','protons[0].Theta()','protons[0].P()','protons_g[0].Theta()','protons_g[0].P()'])\n",
    "# ana = TPlots( Path + \"/\" + FileName + \".root\" , \"anaTree\" )"
   ]
  },
  {
   "cell_type": "code",
   "execution_count": 4,
   "metadata": {
    "collapsed": false
   },
   "outputs": [],
   "source": [
    "Np = T['Np']\n",
    "Np_g = T['Np_g']\n",
    "pMag_acc, pTheta_acc = T['protons_g[0].P()'][T['Np']==1]  , T['protons_g[0].Theta()'][T['Np']==1]\n",
    "pMag_acc, pTheta_acc = pMag_acc.astype('float') ,  pTheta_acc.astype('float')\n",
    "pMag_gen, pTheta_gen = T['protons_g[0].P()'][T['Np_g']==1], T['protons_g[0].Theta()'][T['Np_g']==1]\n",
    "pMag_gen, pTheta_gen = pMag_gen.astype('float'),  pTheta_gen.astype('float')\n",
    "p_accepted = np.ones(len(T))*[1 if Np[i]==1 else 0 for i in range(len(T))]\n",
    "data = {'pMag_gen':pMag_gen, 'pTheta_gen':pTheta_gen,'p_accepted':p_accepted}\n",
    "df = pd.DataFrame(data,columns = ['pMag_gen', 'pTheta_gen', 'p_accepted'])"
   ]
  },
  {
   "cell_type": "code",
   "execution_count": 13,
   "metadata": {
    "collapsed": false
   },
   "outputs": [
    {
     "data": {
      "image/png": "[encoded data removed]",
      "text/plain": [
       "<matplotlib.figure.Figure at 0x13c5238d0>"
      ]
     },
     "metadata": {},
     "output_type": "display_data"
    }
   ],
   "source": [
    "bins=10\n",
    "fig= plt.figure(figsize=(10,8))\n",
    "ax = plt.subplot(1,1,1)\n",
    "hGenerated,xedges,yedges=np.histogram2d( df.pMag_gen , (180./3.1415)*df.pTheta_gen, bins=bins )\n",
    "hAccepted,xedges,yedges=np.histogram2d( df.pMag_gen , (180./3.1415)*df.pTheta_gen, weights=df.p_accepted, bins=bins )\n",
    "hAcceptance = 100*hAccepted/hGenerated\n",
    "extent = [xedges.min(),xedges.max(),yedges.min(),yedges.max()]\n",
    "im = ax.imshow(np.ma.masked_where(hAcceptance==0,hAcceptance).T\n",
    "               , interpolation='none'\n",
    "               , origin='lower'\n",
    "               , extent=extent, aspect='auto')\n",
    "# divider = make_axes_locatable(ax)\n",
    "cbar = fig.colorbar(im)\n",
    "plt.title('acceptance [%]',fontsize=25)\n",
    "plt.xlabel(r'|$\\vec{p}$| [GeV/c]',fontsize=25)\n",
    "plt.ylabel(r'$\\theta_{p}$ [deg]',fontsize=25)\n",
    "plt.savefig('/Users/erezcohen/Desktop/acceptance_pTheta_pMag.png')"
   ]
  },
  {
   "cell_type": "code",
   "execution_count": 14,
   "metadata": {
    "collapsed": false
   },
   "outputs": [
    {
     "name": "stdout",
     "output_type": "stream",
     "text": [
      "df:         pMag_gen  pTheta_gen  p_accepted\n",
      "0       0.846740    2.144486         0.0\n",
      "1       0.299619    0.872878         1.0\n",
      "2       0.821660    0.430405         1.0\n",
      "3       0.629404    2.670461         0.0\n",
      "4       0.497360    2.810350         0.0\n",
      "5       0.972925    2.428045         0.0\n",
      "6       0.987491    2.483249         0.0\n",
      "7       0.909559    0.409018         1.0\n",
      "8       0.892324    2.078762         1.0\n",
      "9       0.223167    1.504951         0.0\n",
      "10      0.913564    2.459114         0.0\n",
      "11      0.817405    0.907239         0.0\n",
      "12      0.851035    2.515676         0.0\n",
      "13      0.249295    2.132753         0.0\n",
      "14      0.274316    2.421469         0.0\n",
      "15      0.926482    1.532824         1.0\n",
      "16      0.345717    2.886270         0.0\n",
      "17      0.641686    0.471951         1.0\n",
      "18      0.902930    2.941108         0.0\n",
      "19      0.681584    2.201734         1.0\n",
      "20      0.932220    0.731407         1.0\n",
      "21      0.808962    1.050632         0.0\n",
      "22      0.837818    2.692063         0.0\n",
      "23      0.350877    1.965850         1.0\n",
      "24      0.884336    1.828501         0.0\n",
      "25      0.295369    1.512479         1.0\n",
      "26      0.654295    2.970105         0.0\n",
      "27      0.835252    0.347239         1.0\n",
      "28      0.761238    2.423624         1.0\n",
      "29      0.240949    2.676310         0.0\n",
      "...          ...         ...         ...\n",
      "903636  0.812222    1.697312         1.0\n",
      "903637  0.842688    1.872158         1.0\n",
      "903638  0.753694    0.954202         0.0\n",
      "903639  0.745991    0.530061         0.0\n",
      "903640  0.817473    0.294686         1.0\n",
      "903641  0.636743    0.744710         1.0\n",
      "903642  0.734706    0.366429         1.0\n",
      "903643  0.714584    3.012388         0.0\n",
      "903644  0.360421    0.989885         0.0\n",
      "903645  0.301376    0.311978         1.0\n",
      "903646  0.999945    0.066356         0.0\n",
      "903647  0.398771    1.079093         1.0\n",
      "903648  0.791378    3.026295         0.0\n",
      "903649  0.642729    3.106273         0.0\n",
      "903650  0.544945    2.096988         1.0\n",
      "903651  0.911507    1.618073         1.0\n",
      "903652  0.727320    1.340088         1.0\n",
      "903653  0.278317    0.714679         1.0\n",
      "903654  0.780029    1.116852         1.0\n",
      "903655  0.694093    1.117267         1.0\n",
      "903656  0.994169    1.450356         1.0\n",
      "903657  0.550689    3.016410         0.0\n",
      "903658  0.870584    1.774756         1.0\n",
      "903659  0.802023    3.043788         0.0\n",
      "903660  0.253667    2.369984         0.0\n",
      "903661  0.695195    1.585747         1.0\n",
      "903662  0.897122    2.595888         0.0\n",
      "903663  0.706290    0.494577         1.0\n",
      "903664  0.391920    1.628730         1.0\n",
      "903665  0.657457    1.987765         1.0\n",
      "\n",
      "[903666 rows x 3 columns]\n"
     ]
    }
   ],
   "source": [
    "df.to_csv('accpetance_p_theta.csv')\n",
    "print \"df:\",df;"
   ]
  },
  {
   "cell_type": "code",
   "execution_count": null,
   "metadata": {
    "collapsed": true
   },
   "outputs": [],
   "source": []
  }
 ],
 "metadata": {
  "kernelspec": {
   "display_name": "Python 2",
   "language": "python",
   "name": "python2"
  },
  "language_info": {
   "codemirror_mode": {
    "name": "ipython",
    "version": 2
   },
   "file_extension": ".py",
   "mimetype": "text/x-python",
   "name": "python",
   "nbconvert_exporter": "python",
   "pygments_lexer": "ipython2",
   "version": "2.7.11"
  }
 },
 "nbformat": 4,
 "nbformat_minor": 0
}
