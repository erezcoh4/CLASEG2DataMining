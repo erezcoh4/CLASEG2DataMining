{
 "cells": [
  {
   "cell_type": "code",
   "execution_count": 267,
   "metadata": {
    "collapsed": false
   },
   "outputs": [],
   "source": [
    "import ROOT ,os, sys , math\n",
    "from ROOT import  TPlots\n",
    "from matplotlib import pyplot as plt\n",
    "from matplotlib.colors import LogNorm\n",
    "%matplotlib inline\n",
    "import numpy as np , pandas as pd\n",
    "from root_numpy import root2array, tree2array , hist2array"
   ]
  },
  {
   "cell_type": "code",
   "execution_count": 268,
   "metadata": {
    "collapsed": true
   },
   "outputs": [],
   "source": [
    "run = 80"
   ]
  },
  {
   "cell_type": "code",
   "execution_count": 269,
   "metadata": {
    "collapsed": false
   },
   "outputs": [],
   "source": [
    "FileName = \"Ana_GSIM_run%04d_eep\"%run\n",
    "Path = \"/Users/erezcohen/Desktop/DataMining/AnaFiles\"\n",
    "ana = TPlots( Path + \"/\" + FileName + \".root\" , \"anaTree\" )\n",
    "T = tree2array(ana.GetTree(),branches=['Np_g','Np','protons[0].Theta()','protons[0].P()','protons_g[0].Theta()','protons_g[0].P()'])"
   ]
  },
  {
   "cell_type": "code",
   "execution_count": 325,
   "metadata": {
    "collapsed": false
   },
   "outputs": [],
   "source": [
    "Np = T['Np']\n",
    "Np_g = T['Np_g']\n",
    "pMag_acc, pTheta_acc = T['protons_g[0].P()'][T['Np']==1]  , T['protons_g[0].Theta()'][T['Np']==1]\n",
    "pMag_acc, pTheta_acc = pMag_acc.astype('float') ,  pTheta_acc.astype('float')\n",
    "pMag_gen, pTheta_gen = T['protons_g[0].P()'][T['Np_g']==1], T['protons_g[0].Theta()'][T['Np_g']==1]\n",
    "pMag_gen, pTheta_gen = pMag_gen.astype('float'),  pTheta_gen.astype('float')\n",
    "p_accepted = np.ones(len(T))*[1 if Np[i]==1 else 0 for i in range(len(T))]\n",
    "data = {'pMag_gen':pMag_gen, 'pTheta_gen':pTheta_gen,'p_accepted':p_accepted}\n",
    "df = pd.DataFrame(data,columns = ['pMag_gen', 'pTheta_gen', 'p_accepted'])"
   ]
  },
  {
   "cell_type": "code",
   "execution_count": 366,
   "metadata": {
    "collapsed": false
   },
   "outputs": [
    {
     "data": {
      "text/plain": [
       "<matplotlib.text.Text at 0x138a8c5d0>"
      ]
     },
     "execution_count": 366,
     "metadata": {},
     "output_type": "execute_result"
    },
    {
     "data": {
      "image/png": "[encoded data removed]",
      "text/plain": [
       "<matplotlib.figure.Figure at 0x141759d50>"
      ]
     },
     "metadata": {},
     "output_type": "display_data"
    }
   ],
   "source": [
    "fig= plt.figure()\n",
    "ax = plt.subplot(1,1,1)\n",
    "hGenerated,xedges,yedges=np.histogram2d( df.pMag_gen , (180./3.1415)*df.pTheta_gen, bins=bins )\n",
    "hAccepted,xedges,yedges=np.histogram2d( df.pMag_gen , (180./3.1415)*df.pTheta_gen, weights=df.p_accepted, bins=bins )\n",
    "hAcceptance = 100*hAccepted/hGenerated\n",
    "extent = [xedges.min(),xedges.max(),yedges.min(),yedges.max()]\n",
    "im = ax.imshow(np.ma.masked_where(hAcceptance==0,hAcceptance).T\n",
    "               , interpolation='none', origin='lower'\n",
    "               , extent=extent, aspect='auto')\n",
    "divider = make_axes_locatable(ax)\n",
    "cbar = fig.colorbar(im)\n",
    "plt.title('acceptance [%]')\n",
    "plt.xlabel(r'|$\\vec{p}$| [GeV/c]')\n",
    "plt.ylabel(r'$\\theta_{p}$ [deg]')"
   ]
  },
  {
   "cell_type": "code",
   "execution_count": 367,
   "metadata": {
    "collapsed": false
   },
   "outputs": [
    {
     "name": "stdout",
     "output_type": "stream",
     "text": [
      "df:         pMag_gen  pTheta_gen  p_accepted\n",
      "0       0.124727    1.604573         0.0\n",
      "1       0.365991    1.725986         0.0\n",
      "2       0.849792    2.094362         1.0\n",
      "3       0.722777    1.879005         0.0\n",
      "4       0.839077    0.941699         1.0\n",
      "5       0.876198    0.917625         1.0\n",
      "6       0.181843    1.294262         0.0\n",
      "7       0.501177    1.058950         1.0\n",
      "8       0.140778    1.864351         0.0\n",
      "9       0.932362    1.575392         1.0\n",
      "10      1.096930    1.164318         0.0\n",
      "11      0.946860    1.962517         1.0\n",
      "12      0.806421    0.913425         1.0\n",
      "13      0.121545    1.494499         0.0\n",
      "14      0.907284    1.866619         1.0\n",
      "15      0.880848    1.529368         1.0\n",
      "16      0.525855    1.726971         1.0\n",
      "17      0.654841    2.027950         0.0\n",
      "18      0.748339    1.334919         1.0\n",
      "19      0.985354    1.062616         1.0\n",
      "20      0.530301    2.047563         1.0\n",
      "21      0.567188    1.409409         0.0\n",
      "22      0.378510    1.211325         1.0\n",
      "23      1.068510    1.855373         0.0\n",
      "24      0.348551    2.029839         1.0\n",
      "25      0.774049    1.416002         1.0\n",
      "26      0.931763    0.898332         1.0\n",
      "27      0.990206    0.986471         1.0\n",
      "28      0.654040    1.980661         0.0\n",
      "29      0.632969    1.869049         1.0\n",
      "...          ...         ...         ...\n",
      "438465  0.656791    1.410045         1.0\n",
      "438466  0.798913    1.939659         1.0\n",
      "438467  1.034400    1.108269         1.0\n",
      "438468  0.513220    1.888092         1.0\n",
      "438469  0.410073    1.140227         1.0\n",
      "438470  1.088190    1.860282         0.0\n",
      "438471  0.511707    1.204876         1.0\n",
      "438472  0.677634    1.621323         1.0\n",
      "438473  0.516369    2.027550         0.0\n",
      "438474  0.235098    1.311871         0.0\n",
      "438475  1.073290    1.345650         1.0\n",
      "438476  0.466951    0.886261         1.0\n",
      "438477  1.086910    1.021467         1.0\n",
      "438478  0.441322    1.303618         1.0\n",
      "438479  0.267114    1.758679         0.0\n",
      "438480  0.721706    1.165044         0.0\n",
      "438481  0.618824    1.913190         1.0\n",
      "438482  0.663229    1.558776         1.0\n",
      "438483  0.977333    0.993646         1.0\n",
      "438484  0.888429    1.111889         1.0\n",
      "438485  0.629941    1.230752         1.0\n",
      "438486  0.691212    2.078820         0.0\n",
      "438487  0.554745    1.906747         1.0\n",
      "438488  0.972054    1.729300         0.0\n",
      "438489  0.406253    1.469506         0.0\n",
      "438490  0.130220    1.153168         0.0\n",
      "438491  0.529797    1.325716         1.0\n",
      "438492  0.512814    0.934048         1.0\n",
      "438493  0.248277    1.127197         1.0\n",
      "438494  0.203171    1.359527         0.0\n",
      "\n",
      "[438495 rows x 3 columns]\n"
     ]
    }
   ],
   "source": [
    "df.to_csv('accpetance_p_theta.csv')\n",
    "print \"df:\",df;"
   ]
  },
  {
   "cell_type": "code",
   "execution_count": null,
   "metadata": {
    "collapsed": true
   },
   "outputs": [],
   "source": []
  }
 ],
 "metadata": {
  "kernelspec": {
   "display_name": "Python 2",
   "language": "python",
   "name": "python2"
  },
  "language_info": {
   "codemirror_mode": {
    "name": "ipython",
    "version": 2
   },
   "file_extension": ".py",
   "mimetype": "text/x-python",
   "name": "python",
   "nbconvert_exporter": "python",
   "pygments_lexer": "ipython2",
   "version": "2.7.11"
  }
 },
 "nbformat": 4,
 "nbformat_minor": 0
}
