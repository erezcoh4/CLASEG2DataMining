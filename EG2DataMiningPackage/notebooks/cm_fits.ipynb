{
 "cells": [
  {
   "cell_type": "code",
   "execution_count": 37,
   "metadata": {
    "collapsed": false
   },
   "outputs": [
    {
     "name": "stderr",
     "output_type": "stream",
     "text": [
      "/Users/erezcohen/larlite/UserDev/CLASEG2DataMining/EG2DataMiningPackage/mac/cm_tools.py:624: SyntaxWarning: import * only allowed at module level\n",
      "  def generate_runs_with_different_parameters( option,\n"
     ]
    },
    {
     "ename": "NameError",
     "evalue": "name 'ROOT' is not defined",
     "output_type": "error",
     "traceback": [
      "\u001b[0;31m---------------------------------------------------------------------------\u001b[0m",
      "\u001b[0;31mNameError\u001b[0m                                 Traceback (most recent call last)",
      "\u001b[0;32m<ipython-input-37-074a6e4374d0>\u001b[0m in \u001b[0;36m<module>\u001b[0;34m()\u001b[0m\n\u001b[1;32m     12\u001b[0m \u001b[0mpath\u001b[0m \u001b[0;34m=\u001b[0m \u001b[0;34m\"/Users/erezcohen/Desktop/DataMining\"\u001b[0m\u001b[0;34m\u001b[0m\u001b[0m\n\u001b[1;32m     13\u001b[0m \u001b[0mppPath\u001b[0m \u001b[0;34m=\u001b[0m \u001b[0mpath\u001b[0m \u001b[0;34m+\u001b[0m \u001b[0;34m\"/Analysis_DATA/ppSRCcm\"\u001b[0m\u001b[0;34m\u001b[0m\u001b[0m\n\u001b[0;32m---> 14\u001b[0;31m \u001b[0;32mfrom\u001b[0m \u001b[0mcm_tools\u001b[0m \u001b[0;32mimport\u001b[0m \u001b[0mCMParsFname\u001b[0m\u001b[0;31m#, CMRooFitsName#, fit_cm_parameters\u001b[0m\u001b[0;34m\u001b[0m\u001b[0m\n\u001b[0m\u001b[1;32m     15\u001b[0m \u001b[0;31m# %matplotlib inline\u001b[0m\u001b[0;34m\u001b[0m\u001b[0;34m\u001b[0m\u001b[0m\n\u001b[1;32m     16\u001b[0m \u001b[0;31m# %tb\u001b[0m\u001b[0;34m\u001b[0m\u001b[0;34m\u001b[0m\u001b[0m\n",
      "\u001b[0;32m/Users/erezcohen/root6/root-6.04.10/lib/ROOT.pyc\u001b[0m in \u001b[0;36m_importhook\u001b[0;34m(name, *args, **kwds)\u001b[0m\n\u001b[1;32m    299\u001b[0m       \u001b[0;32mexcept\u001b[0m \u001b[0mException\u001b[0m\u001b[0;34m:\u001b[0m\u001b[0;34m\u001b[0m\u001b[0m\n\u001b[1;32m    300\u001b[0m          \u001b[0;32mpass\u001b[0m\u001b[0;34m\u001b[0m\u001b[0m\n\u001b[0;32m--> 301\u001b[0;31m    \u001b[0;32mreturn\u001b[0m \u001b[0m_orig_ihook\u001b[0m\u001b[0;34m(\u001b[0m \u001b[0mname\u001b[0m\u001b[0;34m,\u001b[0m \u001b[0;34m*\u001b[0m\u001b[0margs\u001b[0m\u001b[0;34m,\u001b[0m \u001b[0;34m**\u001b[0m\u001b[0mkwds\u001b[0m \u001b[0;34m)\u001b[0m\u001b[0;34m\u001b[0m\u001b[0m\n\u001b[0m\u001b[1;32m    302\u001b[0m \u001b[0;34m\u001b[0m\u001b[0m\n\u001b[1;32m    303\u001b[0m \u001b[0m__builtin__\u001b[0m\u001b[0;34m.\u001b[0m\u001b[0m__import__\u001b[0m \u001b[0;34m=\u001b[0m \u001b[0m_importhook\u001b[0m\u001b[0;34m\u001b[0m\u001b[0m\n",
      "\u001b[0;32m/Users/erezcohen/larlite/UserDev/CLASEG2DataMining/EG2DataMiningPackage/mac/cm_tools.py\u001b[0m in \u001b[0;36m<module>\u001b[0;34m()\u001b[0m\n\u001b[1;32m     66\u001b[0m \u001b[0;34m\u001b[0m\u001b[0m\n\u001b[1;32m     67\u001b[0m \u001b[0;31m# ------------------------------------------------------------------------------- #\u001b[0m\u001b[0;34m\u001b[0m\u001b[0;34m\u001b[0m\u001b[0m\n\u001b[0;32m---> 68\u001b[0;31m \u001b[0;32mdef\u001b[0m \u001b[0mKStest\u001b[0m\u001b[0;34m(\u001b[0m \u001b[0mPmissBins\u001b[0m \u001b[0;34m,\u001b[0m \u001b[0mana_sim\u001b[0m \u001b[0;34m,\u001b[0m \u001b[0mana_data\u001b[0m \u001b[0;34m,\u001b[0m \u001b[0mvar\u001b[0m \u001b[0;34m,\u001b[0m \u001b[0mcut\u001b[0m\u001b[0;34m=\u001b[0m\u001b[0mROOT\u001b[0m\u001b[0;34m.\u001b[0m\u001b[0mTCut\u001b[0m\u001b[0;34m(\u001b[0m\u001b[0;34m)\u001b[0m \u001b[0;34m,\u001b[0m \u001b[0mdebug\u001b[0m\u001b[0;34m=\u001b[0m\u001b[0;36m2\u001b[0m \u001b[0;34m,\u001b[0m \u001b[0mNbins\u001b[0m\u001b[0;34m=\u001b[0m\u001b[0;36m20\u001b[0m\u001b[0;34m)\u001b[0m\u001b[0;34m:\u001b[0m\u001b[0;34m\u001b[0m\u001b[0m\n\u001b[0m\u001b[1;32m     69\u001b[0m     \u001b[0;31m# [http://docs.scipy.org/doc/scipy-0.15.1/reference/generated/scipy.stats.ks_2samp.html]\u001b[0m\u001b[0;34m\u001b[0m\u001b[0;34m\u001b[0m\u001b[0m\n\u001b[1;32m     70\u001b[0m     \u001b[0mdata\u001b[0m \u001b[0;34m=\u001b[0m \u001b[0mtree2array\u001b[0m\u001b[0;34m(\u001b[0m \u001b[0mana_data\u001b[0m\u001b[0;34m.\u001b[0m\u001b[0mGetTree\u001b[0m\u001b[0;34m(\u001b[0m\u001b[0;34m)\u001b[0m \u001b[0;34m,\u001b[0m \u001b[0mbranches\u001b[0m\u001b[0;34m=\u001b[0m\u001b[0mvar\u001b[0m \u001b[0;34m)\u001b[0m\u001b[0;34m\u001b[0m\u001b[0m\n",
      "\u001b[0;31mNameError\u001b[0m: name 'ROOT' is not defined"
     ]
    }
   ],
   "source": [
    "from notebook_tools import *\n",
    "import ROOT , time , os, sys , math , datetime\n",
    "import matplotlib as mpl, pandas as pd , numpy as np\n",
    "import seaborn as sns ; sns.set(style=\"white\", color_codes=True , font_scale=1)\n",
    "from ROOT import TPlots, TAnalysis, TAnalysisEG2 , TEG2dm , TCalcPhysVarsEG2 , TSchemeDATA ,GenerateEvents\n",
    "from matplotlib import pyplot as plt\n",
    "from my_tools import *\n",
    "from calc_tools import *\n",
    "from root_pandas import read_root\n",
    "\n",
    "debug=0\n",
    "path = \"/Users/erezcohen/Desktop/DataMining\"\n",
    "ppPath = path + \"/Analysis_DATA/ppSRCcm\"\n",
    "from cm_tools import CMParsFname#, CMRooFitsName#, fit_cm_parameters\n",
    "# %matplotlib inline\n",
    "# %tb"
   ]
  },
  {
   "cell_type": "markdown",
   "metadata": {},
   "source": [
    "# pp-SRC c.m. fits"
   ]
  },
  {
   "cell_type": "code",
   "execution_count": 7,
   "metadata": {
    "collapsed": true
   },
   "outputs": [],
   "source": [
    "A=12\n",
    "PmissBins   = [[0.3,0.45]  , [0.45,0.55] , [0.55,0.65]  , [0.65,0.75] , [0.75,1.0]]"
   ]
  },
  {
   "cell_type": "code",
   "execution_count": 6,
   "metadata": {
    "collapsed": false
   },
   "outputs": [
    {
     "ename": "NameError",
     "evalue": "name 'calc_cm_parameters' is not defined",
     "output_type": "error",
     "traceback": [
      "\u001b[0;31m---------------------------------------------------------------------------\u001b[0m",
      "\u001b[0;31mNameError\u001b[0m                                 Traceback (most recent call last)",
      "\u001b[0;32m<ipython-input-6-bd16b0681c0b>\u001b[0m in \u001b[0;36m<module>\u001b[0;34m()\u001b[0m\n\u001b[1;32m      1\u001b[0m \u001b[0;31m# (A) calc cm parameters of data\u001b[0m\u001b[0;34m\u001b[0m\u001b[0;34m\u001b[0m\u001b[0m\n\u001b[1;32m      2\u001b[0m \u001b[0mana_data\u001b[0m \u001b[0;34m=\u001b[0m \u001b[0mTAnalysisEG2\u001b[0m\u001b[0;34m(\u001b[0m \u001b[0mpath\u001b[0m\u001b[0;34m+\u001b[0m\u001b[0;34m\"/AnaFiles\"\u001b[0m \u001b[0;34m,\u001b[0m \u001b[0;34m\"Ana_ppSRCCut_DATA_%s\"\u001b[0m\u001b[0;34m%\u001b[0m \u001b[0mdm\u001b[0m\u001b[0;34m.\u001b[0m\u001b[0mTarget\u001b[0m\u001b[0;34m(\u001b[0m\u001b[0mA\u001b[0m\u001b[0;34m)\u001b[0m \u001b[0;34m)\u001b[0m\u001b[0;34m\u001b[0m\u001b[0m\n\u001b[0;32m----> 3\u001b[0;31m \u001b[0mcm_parameters\u001b[0m \u001b[0;34m=\u001b[0m \u001b[0mcalc_cm_parameters\u001b[0m\u001b[0;34m(\u001b[0m \u001b[0mana_data\u001b[0m  \u001b[0;34m,\u001b[0m \u001b[0mPmissBins\u001b[0m \u001b[0;34m,\u001b[0m \u001b[0mCMRooFitsName\u001b[0m\u001b[0;34m(\u001b[0m \u001b[0mppPath\u001b[0m \u001b[0;34m+\u001b[0m \u001b[0;34m'/DATA/unweighted'\u001b[0m \u001b[0;34m)\u001b[0m \u001b[0;34m,\u001b[0m \u001b[0mCMRooFitsName\u001b[0m\u001b[0;34m(\u001b[0m \u001b[0mppPath\u001b[0m \u001b[0;34m+\u001b[0m \u001b[0;34m'/DATA/weighted'\u001b[0m \u001b[0;34m)\u001b[0m \u001b[0;34m,\u001b[0m \u001b[0mDoSaveCanvas\u001b[0m \u001b[0;34m=\u001b[0m \u001b[0mTrue\u001b[0m \u001b[0;34m)\u001b[0m\u001b[0;34m\u001b[0m\u001b[0m\n\u001b[0m\u001b[1;32m      4\u001b[0m \u001b[0mcm_parameters\u001b[0m\u001b[0;34m.\u001b[0m\u001b[0mto_csv\u001b[0m\u001b[0;34m(\u001b[0m \u001b[0mCMParsFname\u001b[0m\u001b[0;34m(\u001b[0m\u001b[0mppPath\u001b[0m\u001b[0;34m+\u001b[0m\u001b[0;34m'/DATA/data'\u001b[0m\u001b[0;34m)\u001b[0m \u001b[0;34m,\u001b[0m \u001b[0mheader\u001b[0m\u001b[0;34m=\u001b[0m\u001b[0mTrue\u001b[0m \u001b[0;34m,\u001b[0m \u001b[0mindex\u001b[0m \u001b[0;34m=\u001b[0m \u001b[0mFalse\u001b[0m\u001b[0;34m)\u001b[0m\u001b[0;34m\u001b[0m\u001b[0m\n\u001b[1;32m      5\u001b[0m \u001b[0mprint_filename\u001b[0m\u001b[0;34m(\u001b[0m \u001b[0mCMParsFname\u001b[0m\u001b[0;34m(\u001b[0m\u001b[0mppPath\u001b[0m\u001b[0;34m+\u001b[0m\u001b[0;34m'/DATA/data'\u001b[0m\u001b[0;34m)\u001b[0m  \u001b[0;34m,\u001b[0m\u001b[0;34m\"data c.m. parameters for different p(miss) bins at\"\u001b[0m\u001b[0;34m)\u001b[0m\u001b[0;34m\u001b[0m\u001b[0m\n",
      "\u001b[0;31mNameError\u001b[0m: name 'calc_cm_parameters' is not defined"
     ]
    }
   ],
   "source": [
    "# (A) calc cm parameters of data\n",
    "ana_data = TAnalysisEG2( path+\"/AnaFiles\" , \"Ana_ppSRCCut_DATA_%s\"% dm.Target(A) )\n",
    "cm_parameters = calc_cm_parameters( ana_data  , PmissBins , CMRooFitsName( ppPath + '/DATA/unweighted' ) , CMRooFitsName( ppPath + '/DATA/weighted' ) , DoSaveCanvas = True )\n",
    "cm_parameters.to_csv( CMParsFname(ppPath+'/DATA/data') , header=True , index = False)\n",
    "print_filename( CMParsFname(ppPath+'/DATA/data')  ,\"data c.m. parameters for different p(miss) bins at\")"
   ]
  },
  {
   "cell_type": "code",
   "execution_count": null,
   "metadata": {
    "collapsed": true
   },
   "outputs": [],
   "source": [
    "# (B) plot cm parameters\n",
    "fits = fit_cm_parameters( 'data' , cm_parameters , FigureFName(ppPath+'/DATA/data') , DoPlot = True )\n",
    "fits.to_csv( CMfitsFname(ppPath+'/DATA/data') , header=True , index = False)\n",
    "print_filename( CMfitsFname(ppPath+'/DATA/data')  ,\"data c.m. fits at\")"
   ]
  }
 ],
 "metadata": {
  "kernelspec": {
   "display_name": "Python 2",
   "language": "python",
   "name": "python2"
  },
  "language_info": {
   "codemirror_mode": {
    "name": "ipython",
    "version": 2
   },
   "file_extension": ".py",
   "mimetype": "text/x-python",
   "name": "python",
   "nbconvert_exporter": "python",
   "pygments_lexer": "ipython2",
   "version": "2.7.11"
  }
 },
 "nbformat": 4,
 "nbformat_minor": 0
}
