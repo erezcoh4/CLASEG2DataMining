{
 "cells": [
  {
   "cell_type": "code",
   "execution_count": 1,
   "metadata": {
    "collapsed": false
   },
   "outputs": [],
   "source": [
    "from notebook_tools import *\n",
    "%matplotlib inline"
   ]
  },
  {
   "cell_type": "markdown",
   "metadata": {},
   "source": [
    "# pp-SRC analysis"
   ]
  },
  {
   "cell_type": "code",
   "execution_count": 2,
   "metadata": {
    "collapsed": true
   },
   "outputs": [],
   "source": [
    "genpars = pd.read_csv('/Users/erezcohen/Desktop/DataMining/Analysis_DATA/ppSRCcm/simulation/GeneratedParameters.csv')"
   ]
  },
  {
   "cell_type": "code",
   "execution_count": 3,
   "metadata": {
    "collapsed": true
   },
   "outputs": [],
   "source": [
    "nom_vals=dict({'SigmaT':0.167,'SigmaT_err':0.006,\n",
    "              'a1':0.143,'a1_err':0.075,'a2':0.158,'a2_err':0.009,              \n",
    "              'b1':0.562,'b1_err':0.078,'b2':0.159,'b2_err':0.009})"
   ]
  },
  {
   "cell_type": "code",
   "execution_count": 4,
   "metadata": {
    "collapsed": false
   },
   "outputs": [],
   "source": [
    "genpars = genpars[genpars.run>1400000]"
   ]
  },
  {
   "cell_type": "code",
   "execution_count": 10,
   "metadata": {
    "collapsed": false
   },
   "outputs": [
    {
     "data": {
      "text/html": [
       "<div>\n",
       "<table border=\"1\" class=\"dataframe\">\n",
       "  <thead>\n",
       "    <tr style=\"text-align: right;\">\n",
       "      <th></th>\n",
       "      <th>genMeanX</th>\n",
       "      <th>genMeanY</th>\n",
       "      <th>genMeanZa1</th>\n",
       "      <th>genMeanZa2</th>\n",
       "      <th>genSigmaX</th>\n",
       "      <th>genSigmaY</th>\n",
       "      <th>genSigmaZa1</th>\n",
       "      <th>genSigmaZa2</th>\n",
       "      <th>run</th>\n",
       "    </tr>\n",
       "  </thead>\n",
       "  <tbody>\n",
       "    <tr>\n",
       "      <th>1006961</th>\n",
       "      <td>0</td>\n",
       "      <td>0</td>\n",
       "      <td>0.563636</td>\n",
       "      <td>0.163636</td>\n",
       "      <td>0.14</td>\n",
       "      <td>0.14</td>\n",
       "      <td>0.136364</td>\n",
       "      <td>0.136364</td>\n",
       "      <td>1444456</td>\n",
       "    </tr>\n",
       "  </tbody>\n",
       "</table>\n",
       "</div>"
      ],
      "text/plain": [
       "         genMeanX  genMeanY  genMeanZa1  genMeanZa2  genSigmaX  genSigmaY  \\\n",
       "1006961         0         0    0.563636    0.163636       0.14       0.14   \n",
       "\n",
       "         genSigmaZa1  genSigmaZa2      run  \n",
       "1006961     0.136364     0.136364  1444456  "
      ]
     },
     "execution_count": 10,
     "metadata": {},
     "output_type": "execute_result"
    }
   ],
   "source": [
    "gen = genpars[(np.abs(genpars.genSigmaX-nom_vals['SigmaT']+0.02)<0.01) \n",
    "        & (np.abs(genpars.genSigmaZa1-nom_vals['a1'])<0.01)\n",
    "        & (np.abs(genpars.genSigmaZa2-nom_vals['a2']+0.02)<0.01)\n",
    "        & (np.abs(genpars.genMeanZa1-nom_vals['b1'])<0.01)\n",
    "        & (np.abs(genpars.genMeanZa2-nom_vals['b2'])<0.01)\n",
    "       ]\n",
    "gen"
   ]
  },
  {
   "cell_type": "code",
   "execution_count": null,
   "metadata": {
    "collapsed": true
   },
   "outputs": [],
   "source": []
  }
 ],
 "metadata": {
  "kernelspec": {
   "display_name": "Python 2",
   "language": "python",
   "name": "python2"
  },
  "language_info": {
   "codemirror_mode": {
    "name": "ipython",
    "version": 2
   },
   "file_extension": ".py",
   "mimetype": "text/x-python",
   "name": "python",
   "nbconvert_exporter": "python",
   "pygments_lexer": "ipython2",
   "version": "2.7.11"
  }
 },
 "nbformat": 4,
 "nbformat_minor": 0
}
