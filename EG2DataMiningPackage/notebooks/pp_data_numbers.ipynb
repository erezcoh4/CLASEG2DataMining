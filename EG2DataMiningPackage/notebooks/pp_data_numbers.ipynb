{
 "cells": [
  {
   "cell_type": "code",
   "execution_count": 1,
   "metadata": {
    "collapsed": false
   },
   "outputs": [
    {
     "data": {
      "application/javascript": [
       "require(['codemirror/mode/clike/clike'], function(Clike) { console.log('ROOTaaS - C++ CodeMirror module loaded'); });"
      ]
     },
     "metadata": {},
     "output_type": "display_data"
    },
    {
     "data": {
      "application/javascript": [
       "IPython.CodeCell.config_defaults.highlight_modes['magic_text/x-c++src'] = {'reg':[/^%%cpp/]};"
      ]
     },
     "metadata": {},
     "output_type": "display_data"
    },
    {
     "name": "stdout",
     "output_type": "stream",
     "text": [
      "Welcome to ROOTaaS 6.06/02\n",
      "\n",
      "\u001b[1mRooFit v3.60 -- Developed by Wouter Verkerke and David Kirkby\u001b[0m \n",
      "                Copyright (C) 2000-2013 NIKHEF, University of California & Stanford University\n",
      "                All rights reserved, please read http://roofit.sourceforge.net/license.txt\n",
      "\n"
     ]
    },
    {
     "name": "stderr",
     "output_type": "stream",
     "text": [
      "/usr/local/lib/python2.7/site-packages/IPython/html.py:14: ShimWarning: The `IPython.html` package has been deprecated. You should import from `notebook` instead. `IPython.html.widgets` has moved to `ipywidgets`.\n",
      "  \"`IPython.html.widgets` has moved to `ipywidgets`.\", ShimWarning)\n",
      "Error in <TProtoClass::FindDataMember>: data member with index 0 is not found in class locale\r\n",
      "Error in <CreateRealData>: Cannot find data member # 0 of class locale for parent GenerateEvents!\r\n",
      "Error in <TProtoClass::FindDataMember>: data member with index 0 is not found in class locale\r\n",
      "Error in <CreateRealData>: Cannot find data member # 0 of class locale for parent GenerateEvents!\r\n",
      "Error in <TProtoClass::FindDataMember>: data member with index 0 is not found in class locale\r\n",
      "Error in <CreateRealData>: Cannot find data member # 0 of class locale for parent GenerateEvents!\r\n"
     ]
    }
   ],
   "source": [
    "from notebook_tools import *\n",
    "%matplotlib inline"
   ]
  },
  {
   "cell_type": "markdown",
   "metadata": {},
   "source": [
    "# pp-SRC analysis"
   ]
  },
  {
   "cell_type": "code",
   "execution_count": 2,
   "metadata": {
    "collapsed": false
   },
   "outputs": [],
   "source": [
    "columns = ['Q2' , 'Xb' , 'p/q' ,'theta (pq)' , 'Mmiss' ,\n",
    "           'Pmiss3Mag','pcmX','pcmY','pcmZ' , 'rooWeight' , \n",
    "           'prelX','prelY','prelZ',\n",
    "          'theta (rec-q)' , 'OpeningAngle']\n",
    "targets = ['C12']#,'Al27','Fe56','Pb208']\n",
    "colors = ['red','blue','purple','black']\n",
    "target_names = ['$^{12}$C','$^{27}$Al','$^{56}$Fe','$^{208}$Pb'] \n",
    "ana_eep = dict()\n",
    "ana_eepp_no_fid = dict()\n",
    "for target in targets:\n",
    "    ana_eep[target] = read_root( \"/Users/erezcohen/Desktop/DataMining/AnaFiles/Ana_eep_in_ppSRCCut_DATA_%s.root\"%target , key='anaTree' , columns=columns  )\n",
    "    ana_eepp_no_fid[target] = read_root( \"/Users/erezcohen/Desktop/DataMining/AnaFiles/Ana_ppSRCCut_noFVcuts_DATA_%s.root\"%target , key='anaTree' , columns=columns  )"
   ]
  },
  {
   "cell_type": "code",
   "execution_count": 4,
   "metadata": {
    "collapsed": false
   },
   "outputs": [
    {
     "data": {
      "text/html": [
       "<div>\n",
       "<table border=\"1\" class=\"dataframe\">\n",
       "  <thead>\n",
       "    <tr style=\"text-align: right;\">\n",
       "      <th></th>\n",
       "      <th>$^{12}$C$(e,e'p)$</th>\n",
       "      <th>$^{12}$C$(e,e'pp)$</th>\n",
       "    </tr>\n",
       "  </thead>\n",
       "  <tbody>\n",
       "    <tr>\n",
       "      <th>300-400</th>\n",
       "      <td>3554</td>\n",
       "      <td>28</td>\n",
       "    </tr>\n",
       "    <tr>\n",
       "      <th>400-500</th>\n",
       "      <td>2643</td>\n",
       "      <td>108</td>\n",
       "    </tr>\n",
       "    <tr>\n",
       "      <th>500-600</th>\n",
       "      <td>2166</td>\n",
       "      <td>158</td>\n",
       "    </tr>\n",
       "    <tr>\n",
       "      <th>600-700</th>\n",
       "      <td>1082</td>\n",
       "      <td>134</td>\n",
       "    </tr>\n",
       "    <tr>\n",
       "      <th>700-800</th>\n",
       "      <td>425</td>\n",
       "      <td>83</td>\n",
       "    </tr>\n",
       "    <tr>\n",
       "      <th>800-900</th>\n",
       "      <td>157</td>\n",
       "      <td>37</td>\n",
       "    </tr>\n",
       "    <tr>\n",
       "      <th>900-1000</th>\n",
       "      <td>51</td>\n",
       "      <td>10</td>\n",
       "    </tr>\n",
       "    <tr>\n",
       "      <th>total</th>\n",
       "      <td>10078</td>\n",
       "      <td>558</td>\n",
       "    </tr>\n",
       "  </tbody>\n",
       "</table>\n",
       "</div>"
      ],
      "text/plain": [
       "          $^{12}$C$(e,e'p)$  $^{12}$C$(e,e'pp)$\n",
       "300-400                3554                  28\n",
       "400-500                2643                 108\n",
       "500-600                2166                 158\n",
       "600-700                1082                 134\n",
       "700-800                 425                  83\n",
       "800-900                 157                  37\n",
       "900-1000                 51                  10\n",
       "total                 10078                 558"
      ]
     },
     "execution_count": 4,
     "metadata": {},
     "output_type": "execute_result"
    }
   ],
   "source": [
    "PmissBins = pd.DataFrame()\n",
    "Neep_tot, Neepp_tot = 0 , 0 \n",
    "for PmMin,PmMax in zip(np.linspace(0.3,0.9,7),np.linspace(0.4,1.0,7)):\n",
    "    PmissBins_bin = pd.DataFrame(index=['%d-%d'%(1000*PmMin,1000*PmMax+0.001)])\n",
    "    for target,target_name in zip(targets,target_names):\n",
    "\n",
    "        Neepp = len(ana_eepp_no_fid[target][(ana_eepp_no_fid[target]['Pmiss3Mag']>=PmMin)                                                                                                                                     \n",
    "                                            &(ana_eepp_no_fid[target]['Pmiss3Mag']<PmMax)\n",
    "                                           ])\n",
    "        \n",
    "        Neep = len(ana_eep[target][(ana_eep[target]['Pmiss3Mag']>=PmMin)\n",
    "                                   &(ana_eep[target]['Pmiss3Mag']<PmMax)\n",
    "                                  ])\n",
    "        \n",
    "        PmissBins_bin[target_name+\"$(e,e'p)$\"] = Neep - Neepp\n",
    "        PmissBins_bin[target_name+\"$(e,e'pp)$\"]= Neepp\n",
    "        \n",
    "        Neep_tot += Neep - Neepp\n",
    "        Neepp_tot += Neepp\n",
    "        \n",
    "    PmissBins = PmissBins.append(PmissBins_bin)\n",
    "\n",
    "PmissBins_bin = pd.DataFrame(index=['total'])\n",
    "for target,target_name in zip(targets,target_names):\n",
    "    PmissBins_bin[target_name+\"$(e,e'p)$\"] = Neep_tot\n",
    "    PmissBins_bin[target_name+\"$(e,e'pp)$\"] = Neepp_tot\n",
    "PmissBins = PmissBins.append(PmissBins_bin)\n",
    "    \n",
    "PmissBins"
   ]
  },
  {
   "cell_type": "code",
   "execution_count": 96,
   "metadata": {
    "collapsed": false
   },
   "outputs": [
    {
     "data": {
      "image/png": "[encoded data removed]",
      "text/plain": [
       "<matplotlib.figure.Figure at 0x120c13990>"
      ]
     },
     "metadata": {},
     "output_type": "display_data"
    }
   ],
   "source": [
    "plt.hist(ana_eep['C12'].Xb,bins=35);\n",
    "# plt.hist(ana_eep['C12'].Pmiss3Mag,bins=35);\n",
    "# plt.hist(ana_eep['C12'].Mmiss,bins=35);\n",
    "# plot_2d_hist(ana_eep['C12']['p/q'],ana_eep['C12']['theta (pq)'],bins=35);"
   ]
  },
  {
   "cell_type": "code",
   "execution_count": null,
   "metadata": {
    "collapsed": true
   },
   "outputs": [],
   "source": []
  }
 ],
 "metadata": {
  "kernelspec": {
   "display_name": "Python 2",
   "language": "python",
   "name": "python2"
  },
  "language_info": {
   "codemirror_mode": {
    "name": "ipython",
    "version": 2
   },
   "file_extension": ".py",
   "mimetype": "text/x-python",
   "name": "python",
   "nbconvert_exporter": "python",
   "pygments_lexer": "ipython2",
   "version": "2.7.11"
  }
 },
 "nbformat": 4,
 "nbformat_minor": 0
}
