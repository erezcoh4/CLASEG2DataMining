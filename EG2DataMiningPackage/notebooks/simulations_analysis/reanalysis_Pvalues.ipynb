{
 "cells": [
  {
   "cell_type": "code",
   "execution_count": 1,
   "metadata": {
    "collapsed": true
   },
   "outputs": [],
   "source": [
    "import sys; sys.path.insert(0,'../')\n",
    "from notebook_tools import *\n",
    "%matplotlib inline"
   ]
  },
  {
   "cell_type": "code",
   "execution_count": 2,
   "metadata": {
    "collapsed": false
   },
   "outputs": [],
   "source": [
    "measured=dict({\n",
    "               'SigmaX_12C':0.165,'SigmaX_err_12C':0.007,'SigmaY_12C':0.170,'SigmaY_err_12C':0.012,               \n",
    "               'SigmaZa1_12C':0.143,'SigmaZa1_err_12C':0.075,'SigmaZa2_12C':0.158,'SigmaZa2_err_12C':0.009,               \n",
    "               'MeanZa1_12C':0.562,'MeanZa1_err_12C':0.078,'MeanZa2_12C':0.159,'MeanZa2_err_12C':0.009,\n",
    "              \n",
    "               'SigmaX_27Al':0.155,'SigmaX_err_27Al':0.021,'SigmaY_27Al':0.179,'SigmaY_err_27Al':0.012,\n",
    "               'SigmaZa1_27Al':0.078,'SigmaZa1_err_27Al':0.042,'SigmaZa2_27Al':0.162,'SigmaZa2_err_27Al':0.006,               \n",
    "               'MeanZa1_27Al':0.637,'MeanZa1_err_27Al':0.180,'MeanZa2_27Al':0.164,'MeanZa2_err_27Al':0.024,\n",
    "                                                                                         \n",
    "               'SigmaX_56Fe':0.176,'SigmaX_err_56Fe':0.010,'SigmaY_56Fe':0.197,'SigmaY_err_56Fe':0.011,\n",
    "               'SigmaZa1_56Fe':0.207,'SigmaZa1_err_56Fe':0.016,'SigmaZa2_56Fe':0.176,'SigmaZa2_err_56Fe':0.002,               \n",
    "               'MeanZa1_56Fe':0.573,'MeanZa1_err_56Fe':0.029,'MeanZa2_56Fe':0.202,'MeanZa2_err_56Fe':0.004,\n",
    "                             \n",
    "               'SigmaX_208Pb':0.202,'SigmaX_err_208Pb':0.015,'SigmaY_208Pb':0.177,'SigmaY_err_208Pb':0.015,\n",
    "               'SigmaZa1_208Pb':0.076,'SigmaZa1_err_208Pb':0.088,'SigmaZa2_208Pb':0.192,'SigmaZa2_err_208Pb':0.011,               \n",
    "               'MeanZa1_208Pb':0.579,'MeanZa1_err_208Pb':0.081,'MeanZa2_208Pb':0.201,'MeanZa2_err_208Pb':0.010              \n",
    "              })"
   ]
  },
  {
   "cell_type": "code",
   "execution_count": 3,
   "metadata": {
    "collapsed": true
   },
   "outputs": [],
   "source": [
    "targets = ['12C','27Al','56Fe','208Pb']\n",
    "variables = ['SigmaX','SigmaY','SigmaZa1','SigmaZa2','MeanZa1','MeanZa2']"
   ]
  },
  {
   "cell_type": "markdown",
   "metadata": {},
   "source": [
    "# re-analysis of runs\n",
    "compute the reconstructed paramters to the measured values and calculate Pvalue again"
   ]
  },
  {
   "cell_type": "code",
   "execution_count": 4,
   "metadata": {
    "collapsed": true
   },
   "outputs": [],
   "source": [
    "sims500 = pd.read_csv('/Users/erezcohen/Desktop/DataMining/Analysis_DATA/ppSRCcm/results/runs500000_results.csv')"
   ]
  },
  {
   "cell_type": "markdown",
   "metadata": {},
   "source": [
    "# reconstructed vs. measures"
   ]
  },
  {
   "cell_type": "code",
   "execution_count": null,
   "metadata": {
    "collapsed": false,
    "scrolled": false
   },
   "outputs": [
    {
     "name": "stdout",
     "output_type": "stream",
     "text": [
      "0.0 %\n"
     ]
    }
   ],
   "source": [
    "debug = 1\n",
    "Nmax = 1000000\n",
    "\n",
    "# define new columns for local and global Pval\n",
    "# for target in targets:\n",
    "#     for var in variables:\n",
    "#         sims500['local_Pval_'+var+'_'+target] = -100\n",
    "#     sims500['global_Pval_'+target] = -100\n",
    "    \n",
    "# calculate new Pvalues\n",
    "for i,row in sims500[0:Nmax].iterrows():\n",
    "    \n",
    "    if i%(Nmax/20)==0:\n",
    "        print 100*float(i)/Nmax,'%'        \n",
    "\n",
    "    for target in targets:\n",
    "        \n",
    "        z = 0        \n",
    "        for var in variables:\n",
    "            meas = measured[var+'_'+target]\n",
    "            meas_err = measured[var+'_err_'+target]\n",
    "            gen = row['gen'+var]\n",
    "            rec = row['rec'+var+'_unweighted']\n",
    "            rec_err = 0.001\n",
    "            local_Pval = Pval2varsAssumeGausDist( meas , meas_err , rec , rec_err )\n",
    "            sims500.loc[i, 'local_Pval_'+var+'_'+target] = local_Pval\n",
    "            \n",
    "            if debug>2 and np.abs(local_Pval - row['Pval'+var+'_unweighted_'+target])>1e-50:\n",
    "                print 'local Pval different than in df:\\n',target, var,'meas:',meas,'gen:',gen,'rec:',rec,'local Pval:',local_Pval,'while in df:',row['Pval'+var+'_unweighted_'+target]\n",
    "                \n",
    "            z -= 2*np.log( local_Pval )\n",
    "\n",
    "        \n",
    "        global_Pval = chisqprob( z , 2*len(variables) )\n",
    "        sims500.loc[i, 'global_Pval_'+target ] = global_Pval\n",
    "        if debug and np.abs(global_Pval - row['PvalTotal_unweighted_'+target])>0.001:\n",
    "            print 'different global Pval:',target, global_Pval,'while in df:', row['PvalTotal_unweighted_'+target]\n",
    "        \n",
    "print 'done.'"
   ]
  },
  {
   "cell_type": "code",
   "execution_count": 19,
   "metadata": {
    "collapsed": false
   },
   "outputs": [
    {
     "data": {
      "image/png": "[encoded data removed]",
      "text/plain": [
       "<matplotlib.figure.Figure at 0x12aebdf50>"
      ]
     },
     "metadata": {},
     "output_type": "display_data"
    }
   ],
   "source": [
    "x = sims500[0:Nmax].genSigmaX\n",
    "plt.hist(sims500[0:Nmax].genSigmaX,weights=sims500[0:Nmax].global_Pval_12C,bins=np.linspace(0,0.5,20));\n",
    "# sims500[0:Nmax].local_Pval_SigmaX_12C\n",
    "# sims500[0:Nmax].local_Pval_SigmaZa1_12C"
   ]
  },
  {
   "cell_type": "code",
   "execution_count": 28,
   "metadata": {
    "collapsed": false
   },
   "outputs": [
    {
     "name": "stdout",
     "output_type": "stream",
     "text": [
      "weighted average: 0.462699110489\n"
     ]
    },
    {
     "data": {
      "image/png": "[encoded data removed]",
      "text/plain": [
       "<matplotlib.figure.Figure at 0x12b9dddd0>"
      ]
     },
     "metadata": {},
     "output_type": "display_data"
    }
   ],
   "source": [
    "x , w = sims500[0:Nmax].genMeanZa2 , sims500[0:Nmax].global_Pval_208Pb\n",
    "print 'weighted average:',np.average(x,weights=w)\n",
    "plt.hist(x,bins=15,weights=w);\n",
    "# print len(sims500[sims500.PvalTotal_allPvals_56Fe>0])"
   ]
  },
  {
   "cell_type": "code",
   "execution_count": null,
   "metadata": {
    "collapsed": true
   },
   "outputs": [],
   "source": []
  }
 ],
 "metadata": {
  "kernelspec": {
   "display_name": "Python 2",
   "language": "python",
   "name": "python2"
  },
  "language_info": {
   "codemirror_mode": {
    "name": "ipython",
    "version": 2
   },
   "file_extension": ".py",
   "mimetype": "text/x-python",
   "name": "python",
   "nbconvert_exporter": "python",
   "pygments_lexer": "ipython2",
   "version": "2.7.11"
  }
 },
 "nbformat": 4,
 "nbformat_minor": 0
}
