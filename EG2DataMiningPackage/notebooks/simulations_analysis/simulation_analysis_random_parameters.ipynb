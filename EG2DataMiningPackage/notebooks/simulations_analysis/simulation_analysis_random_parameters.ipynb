{
 "cells": [
  {
   "cell_type": "code",
   "execution_count": 1,
   "metadata": {
    "collapsed": false
   },
   "outputs": [],
   "source": [
    "import sys; sys.path.insert(0,'../')\n",
    "from notebook_tools import *\n",
    "%matplotlib inline"
   ]
  },
  {
   "cell_type": "markdown",
   "metadata": {},
   "source": [
    "# load data"
   ]
  },
  {
   "cell_type": "code",
   "execution_count": 93,
   "metadata": {
    "collapsed": false
   },
   "outputs": [
    {
     "name": "stdout",
     "output_type": "stream",
     "text": [
      "34292 runs in the sample\n"
     ]
    }
   ],
   "source": [
    "# sims = pd.read_csv('/Users/erezcohen/Desktop/DataMining/Analysis_DATA/ppSRCcm/random_parameters_results/runs_0_51000_results.csv')\n",
    "sims = pd.read_csv('/Users/erezcohen/Desktop/DataMining/Analysis_DATA/ppSRCcm/random_parameters_results/runs37474.csv')\n",
    "print len(sims),'runs in the sample'"
   ]
  },
  {
   "cell_type": "code",
   "execution_count": 94,
   "metadata": {
    "collapsed": false
   },
   "outputs": [
    {
     "name": "stdout",
     "output_type": "stream",
     "text": [
      "34027 runs in the sample\n"
     ]
    }
   ],
   "source": [
    "sims=sims[sims.parameters_reconstructed_well]\n",
    "print len(sims),'runs in the sample'"
   ]
  },
  {
   "cell_type": "markdown",
   "metadata": {},
   "source": [
    "## sigma_t"
   ]
  },
  {
   "cell_type": "code",
   "execution_count": 122,
   "metadata": {
    "collapsed": false
   },
   "outputs": [
    {
     "data": {
      "image/png": "[encoded data removed]",
      "text/plain": [
       "<matplotlib.figure.Figure at 0x1292cded0>"
      ]
     },
     "metadata": {},
     "output_type": "display_data"
    }
   ],
   "source": [
    "var,w = 'SigmaX', 'ks_PvalTotal_Fe56' #ks_PvalTot_allPvals_C12'\n",
    "weights = sims[w]\n",
    "x = sims['gen_'+var]\n",
    "fig = plt.figure(figsize=(16,4))\n",
    "ax = fig.add_subplot(1,2,1)\n",
    "h,bins,_=plt.hist(x,bins=50,normed=1);\n",
    "h,bins,_=plt.hist(x,weights=weights,bins=bins,normed=1);\n",
    "set_axes(ax,x_label=var,fontsize=15)\n",
    "mu = np.average(sims['gen_'+var] , weights=weights)\n",
    "sigma = np.sqrt(np.average((sims['gen_'+var]-mu)**2, weights=weights))                                                                           \n",
    "plt.text(np.min(bins)+0.6*(np.max(bins)-np.min(bins)),0.7*np.max(h),'$%.3f\\\\pm%.3f$'%(mu,sigma),fontsize=20)\n",
    "ax = fig.add_subplot(1,2,2)\n",
    "plt.scatter(x,weights);\n",
    "set_axes(ax,x_label=var,y_label=w,fontsize=15)\n",
    "ax.set_ylim(np.min(weights)-0.00001,1.1*np.max(weights)+0.00001)\n",
    "plt.tight_layout()"
   ]
  },
  {
   "cell_type": "code",
   "execution_count": 65,
   "metadata": {
    "collapsed": false
   },
   "outputs": [
    {
     "data": {
      "image/png": "[encoded data removed]",
      "text/plain": [
       "<matplotlib.figure.Figure at 0x11de45e50>"
      ]
     },
     "metadata": {},
     "output_type": "display_data"
    }
   ],
   "source": [
    "# plt.hist( sims.ks_local_Pval_pcmX_bin0_C12*sims.ks_local_Pval_pcmX_bin1_C12*sims.ks_local_Pval_pcmX_bin2_C12*sims.ks_local_Pval_pcmX_bin3_C12*sims.ks_local_Pval_pcmX_bin4_C12 );\n",
    "# plt.hist( sims.ks_local_Pval_pcmY_bin0_C12*sims.ks_local_Pval_pcmY_bin1_C12*sims.ks_local_Pval_pcmY_bin2_C12*sims.ks_local_Pval_pcmY_bin3_C12*sims.ks_local_Pval_pcmY_bin4_C12 );\n",
    "plt.hist( sims.ks_local_Pval_pcmZ_bin0_C12*sims.ks_local_Pval_pcmZ_bin1_C12*sims.ks_local_Pval_pcmZ_bin2_C12*sims.ks_local_Pval_pcmZ_bin3_C12*sims.ks_local_Pval_pcmZ_bin4_C12 );"
   ]
  },
  {
   "cell_type": "code",
   "execution_count": 8,
   "metadata": {
    "collapsed": false
   },
   "outputs": [
    {
     "name": "stdout",
     "output_type": "stream",
     "text": [
      "[0.0, 0.73698399999999997]\n"
     ]
    }
   ],
   "source": [
    "# x = sims.ks_local_Pval_pcmZ_bin0_C12*sims.ks_local_Pval_pcmZ_bin1_C12*sims.ks_local_Pval_pcmZ_bin2_C12#*sims.ks_local_Pval_pcmZ_bin3_C12#*sims.ks_local_Pval_pcmZ_bin4_C12\n",
    "x = sims.ks_local_Pval_pcmZ_bin3_C12\n",
    "print [np.min(x), np.max(x)]"
   ]
  },
  {
   "cell_type": "code",
   "execution_count": 70,
   "metadata": {
    "collapsed": false
   },
   "outputs": [
    {
     "name": "stdout",
     "output_type": "stream",
     "text": [
      "NLostEvents\n",
      "NentriesSimRun\n",
      "fracLostEvents\n",
      "gen_MeanX\n",
      "gen_MeanY\n",
      "gen_SigmaX\n",
      "gen_SigmaY\n",
      "gen_a1\n",
      "gen_a2\n",
      "gen_b1\n",
      "gen_b2\n",
      "recMeanX\n",
      "recMeanY\n",
      "recSigmaX\n",
      "recSigmaY\n",
      "rec_a1\n",
      "rec_a1err\n",
      "rec_a2\n",
      "rec_a2err\n",
      "rec_b1\n",
      "rec_b1err\n",
      "rec_b2\n",
      "rec_b2err\n",
      "run\n",
      "time\n",
      "parameters_reconstructed_well\n",
      "recmean_x_bin0\n",
      "recmean_xErr_bin0\n",
      "recmean_y_bin0\n",
      "recmean_yErr_bin0\n",
      "recmean_z_bin0\n",
      "recmean_zErr_bin0\n",
      "recsigma_x_bin0\n",
      "recsigma_xErr_bin0\n",
      "recsigma_y_bin0\n",
      "recsigma_yErr_bin0\n",
      "recsigma_z_bin0\n",
      "recsigma_zErr_bin0\n",
      "recmean_x_bin1\n",
      "recmean_xErr_bin1\n",
      "recmean_y_bin1\n",
      "recmean_yErr_bin1\n",
      "recmean_z_bin1\n",
      "recmean_zErr_bin1\n",
      "recsigma_x_bin1\n",
      "recsigma_xErr_bin1\n",
      "recsigma_y_bin1\n",
      "recsigma_yErr_bin1\n",
      "recsigma_z_bin1\n",
      "recsigma_zErr_bin1\n",
      "recmean_x_bin2\n",
      "recmean_xErr_bin2\n",
      "recmean_y_bin2\n",
      "recmean_yErr_bin2\n",
      "recmean_z_bin2\n",
      "recmean_zErr_bin2\n",
      "recsigma_x_bin2\n",
      "recsigma_xErr_bin2\n",
      "recsigma_y_bin2\n",
      "recsigma_yErr_bin2\n",
      "recsigma_z_bin2\n",
      "recsigma_zErr_bin2\n",
      "recmean_x_bin3\n",
      "recmean_xErr_bin3\n",
      "recmean_y_bin3\n",
      "recmean_yErr_bin3\n",
      "recmean_z_bin3\n",
      "recmean_zErr_bin3\n",
      "recsigma_x_bin3\n",
      "recsigma_xErr_bin3\n",
      "recsigma_y_bin3\n",
      "recsigma_yErr_bin3\n",
      "recsigma_z_bin3\n",
      "recsigma_zErr_bin3\n",
      "recmean_x_bin4\n",
      "recmean_xErr_bin4\n",
      "recmean_y_bin4\n",
      "recmean_yErr_bin4\n",
      "recmean_z_bin4\n",
      "recmean_zErr_bin4\n",
      "recsigma_x_bin4\n",
      "recsigma_xErr_bin4\n",
      "recsigma_y_bin4\n",
      "recsigma_yErr_bin4\n",
      "recsigma_z_bin4\n",
      "recsigma_zErr_bin4\n",
      "ks_local_Pval_pcmX_bin0_C12\n",
      "ks_local_Pval_pcmY_bin0_C12\n",
      "ks_local_Pval_pcmZ_bin0_C12\n",
      "ks_local_Pval_pcmX_bin1_C12\n",
      "ks_local_Pval_pcmY_bin1_C12\n",
      "ks_local_Pval_pcmZ_bin1_C12\n",
      "ks_local_Pval_pcmX_bin2_C12\n",
      "ks_local_Pval_pcmY_bin2_C12\n",
      "ks_local_Pval_pcmZ_bin2_C12\n",
      "ks_local_Pval_pcmX_bin3_C12\n",
      "ks_local_Pval_pcmY_bin3_C12\n",
      "ks_local_Pval_pcmZ_bin3_C12\n",
      "ks_local_Pval_pcmX_bin4_C12\n",
      "ks_local_Pval_pcmY_bin4_C12\n",
      "ks_local_Pval_pcmZ_bin4_C12\n",
      "ks_PvalTot_allPvals_C12\n",
      "ks_PvalTotal_C12\n",
      "ks_PvalTotalTransverse_C12\n",
      "ks_PvalTotalLongitudinal_C12\n",
      "ks_local_Pval_pcmX_bin0_Al27\n",
      "ks_local_Pval_pcmY_bin0_Al27\n",
      "ks_local_Pval_pcmZ_bin0_Al27\n",
      "ks_local_Pval_pcmX_bin1_Al27\n",
      "ks_local_Pval_pcmY_bin1_Al27\n",
      "ks_local_Pval_pcmZ_bin1_Al27\n",
      "ks_local_Pval_pcmX_bin2_Al27\n",
      "ks_local_Pval_pcmY_bin2_Al27\n",
      "ks_local_Pval_pcmZ_bin2_Al27\n",
      "ks_local_Pval_pcmX_bin3_Al27\n",
      "ks_local_Pval_pcmY_bin3_Al27\n",
      "ks_local_Pval_pcmZ_bin3_Al27\n",
      "ks_local_Pval_pcmX_bin4_Al27\n",
      "ks_local_Pval_pcmY_bin4_Al27\n",
      "ks_local_Pval_pcmZ_bin4_Al27\n",
      "ks_PvalTot_allPvals_Al27\n",
      "ks_PvalTotal_Al27\n",
      "ks_PvalTotalTransverse_Al27\n",
      "ks_PvalTotalLongitudinal_Al27\n",
      "ks_local_Pval_pcmX_bin0_Fe56\n",
      "ks_local_Pval_pcmY_bin0_Fe56\n",
      "ks_local_Pval_pcmZ_bin0_Fe56\n",
      "ks_local_Pval_pcmX_bin1_Fe56\n",
      "ks_local_Pval_pcmY_bin1_Fe56\n",
      "ks_local_Pval_pcmZ_bin1_Fe56\n",
      "ks_local_Pval_pcmX_bin2_Fe56\n",
      "ks_local_Pval_pcmY_bin2_Fe56\n",
      "ks_local_Pval_pcmZ_bin2_Fe56\n",
      "ks_local_Pval_pcmX_bin3_Fe56\n",
      "ks_local_Pval_pcmY_bin3_Fe56\n",
      "ks_local_Pval_pcmZ_bin3_Fe56\n",
      "ks_local_Pval_pcmX_bin4_Fe56\n",
      "ks_local_Pval_pcmY_bin4_Fe56\n",
      "ks_local_Pval_pcmZ_bin4_Fe56\n",
      "ks_PvalTot_allPvals_Fe56\n",
      "ks_PvalTotal_Fe56\n",
      "ks_PvalTotalTransverse_Fe56\n",
      "ks_PvalTotalLongitudinal_Fe56\n",
      "ks_local_Pval_pcmX_bin0_Pb208\n",
      "ks_local_Pval_pcmY_bin0_Pb208\n",
      "ks_local_Pval_pcmZ_bin0_Pb208\n",
      "ks_local_Pval_pcmX_bin1_Pb208\n",
      "ks_local_Pval_pcmY_bin1_Pb208\n",
      "ks_local_Pval_pcmZ_bin1_Pb208\n",
      "ks_local_Pval_pcmX_bin2_Pb208\n",
      "ks_local_Pval_pcmY_bin2_Pb208\n",
      "ks_local_Pval_pcmZ_bin2_Pb208\n",
      "ks_local_Pval_pcmX_bin3_Pb208\n",
      "ks_local_Pval_pcmY_bin3_Pb208\n",
      "ks_local_Pval_pcmZ_bin3_Pb208\n",
      "ks_local_Pval_pcmX_bin4_Pb208\n",
      "ks_local_Pval_pcmY_bin4_Pb208\n",
      "ks_local_Pval_pcmZ_bin4_Pb208\n",
      "ks_PvalTot_allPvals_Pb208\n",
      "ks_PvalTotal_Pb208\n",
      "ks_PvalTotalTransverse_Pb208\n",
      "ks_PvalTotalLongitudinal_Pb208\n",
      "fracLoss_pmiss_0.300_0.338\n",
      "fracLoss_pmiss_0.300_0.338_Q2bin_0.0_1.5\n",
      "fracLoss_pmiss_0.300_0.338_Q2bin_1.5_2.0\n",
      "fracLoss_pmiss_0.300_0.338_Q2bin_2.0_2.5\n",
      "fracLoss_pmiss_0.300_0.338_Q2bin_2.5_6.0\n",
      "fracLoss_pmiss_0.300_0.338_thetapmq_100.0_135.0\n",
      "fracLoss_pmiss_0.300_0.338_thetapmq_135.0_145.0\n",
      "fracLoss_pmiss_0.300_0.338_thetapmq_145.0_155.0\n",
      "fracLoss_pmiss_0.300_0.338_thetapmq_155.0_180.0\n",
      "fracLoss_pmiss_0.338_0.375\n",
      "fracLoss_pmiss_0.338_0.375_Q2bin_0.0_1.5\n",
      "fracLoss_pmiss_0.338_0.375_Q2bin_1.5_2.0\n",
      "fracLoss_pmiss_0.338_0.375_Q2bin_2.0_2.5\n",
      "fracLoss_pmiss_0.338_0.375_Q2bin_2.5_6.0\n",
      "fracLoss_pmiss_0.338_0.375_thetapmq_100.0_135.0\n",
      "fracLoss_pmiss_0.338_0.375_thetapmq_135.0_145.0\n",
      "fracLoss_pmiss_0.338_0.375_thetapmq_145.0_155.0\n",
      "fracLoss_pmiss_0.338_0.375_thetapmq_155.0_180.0\n",
      "fracLoss_pmiss_0.375_0.412\n",
      "fracLoss_pmiss_0.375_0.412_Q2bin_0.0_1.5\n",
      "fracLoss_pmiss_0.375_0.412_Q2bin_1.5_2.0\n",
      "fracLoss_pmiss_0.375_0.412_Q2bin_2.0_2.5\n",
      "fracLoss_pmiss_0.375_0.412_Q2bin_2.5_6.0\n",
      "fracLoss_pmiss_0.375_0.412_thetapmq_100.0_135.0\n",
      "fracLoss_pmiss_0.375_0.412_thetapmq_135.0_145.0\n",
      "fracLoss_pmiss_0.375_0.412_thetapmq_145.0_155.0\n",
      "fracLoss_pmiss_0.375_0.412_thetapmq_155.0_180.0\n",
      "fracLoss_pmiss_0.412_0.450\n",
      "fracLoss_pmiss_0.412_0.450_Q2bin_0.0_1.5\n",
      "fracLoss_pmiss_0.412_0.450_Q2bin_1.5_2.0\n",
      "fracLoss_pmiss_0.412_0.450_Q2bin_2.0_2.5\n",
      "fracLoss_pmiss_0.412_0.450_Q2bin_2.5_6.0\n",
      "fracLoss_pmiss_0.412_0.450_thetapmq_100.0_135.0\n",
      "fracLoss_pmiss_0.412_0.450_thetapmq_135.0_145.0\n",
      "fracLoss_pmiss_0.412_0.450_thetapmq_145.0_155.0\n",
      "fracLoss_pmiss_0.412_0.450_thetapmq_155.0_180.0\n",
      "fracLoss_pmiss_0.450_0.475\n",
      "fracLoss_pmiss_0.450_0.475_Q2bin_0.0_1.5\n",
      "fracLoss_pmiss_0.450_0.475_Q2bin_1.5_2.0\n",
      "fracLoss_pmiss_0.450_0.475_Q2bin_2.0_2.5\n",
      "fracLoss_pmiss_0.450_0.475_Q2bin_2.5_6.0\n",
      "fracLoss_pmiss_0.450_0.475_thetapmq_100.0_135.0\n",
      "fracLoss_pmiss_0.450_0.475_thetapmq_135.0_145.0\n",
      "fracLoss_pmiss_0.450_0.475_thetapmq_145.0_155.0\n",
      "fracLoss_pmiss_0.450_0.475_thetapmq_155.0_180.0\n",
      "fracLoss_pmiss_0.475_0.500\n",
      "fracLoss_pmiss_0.475_0.500_Q2bin_0.0_1.5\n",
      "fracLoss_pmiss_0.475_0.500_Q2bin_1.5_2.0\n",
      "fracLoss_pmiss_0.475_0.500_Q2bin_2.0_2.5\n",
      "fracLoss_pmiss_0.475_0.500_Q2bin_2.5_6.0\n",
      "fracLoss_pmiss_0.475_0.500_thetapmq_100.0_135.0\n",
      "fracLoss_pmiss_0.475_0.500_thetapmq_135.0_145.0\n",
      "fracLoss_pmiss_0.475_0.500_thetapmq_145.0_155.0\n",
      "fracLoss_pmiss_0.475_0.500_thetapmq_155.0_180.0\n",
      "fracLoss_pmiss_0.500_0.525\n",
      "fracLoss_pmiss_0.500_0.525_Q2bin_0.0_1.5\n",
      "fracLoss_pmiss_0.500_0.525_Q2bin_1.5_2.0\n",
      "fracLoss_pmiss_0.500_0.525_Q2bin_2.0_2.5\n",
      "fracLoss_pmiss_0.500_0.525_Q2bin_2.5_6.0\n",
      "fracLoss_pmiss_0.500_0.525_thetapmq_100.0_135.0\n",
      "fracLoss_pmiss_0.500_0.525_thetapmq_135.0_145.0\n",
      "fracLoss_pmiss_0.500_0.525_thetapmq_145.0_155.0\n",
      "fracLoss_pmiss_0.500_0.525_thetapmq_155.0_180.0\n",
      "fracLoss_pmiss_0.525_0.550\n",
      "fracLoss_pmiss_0.525_0.550_Q2bin_0.0_1.5\n",
      "fracLoss_pmiss_0.525_0.550_Q2bin_1.5_2.0\n",
      "fracLoss_pmiss_0.525_0.550_Q2bin_2.0_2.5\n",
      "fracLoss_pmiss_0.525_0.550_Q2bin_2.5_6.0\n",
      "fracLoss_pmiss_0.525_0.550_thetapmq_100.0_135.0\n",
      "fracLoss_pmiss_0.525_0.550_thetapmq_135.0_145.0\n",
      "fracLoss_pmiss_0.525_0.550_thetapmq_145.0_155.0\n",
      "fracLoss_pmiss_0.525_0.550_thetapmq_155.0_180.0\n",
      "fracLoss_pmiss_0.550_0.575\n",
      "fracLoss_pmiss_0.550_0.575_Q2bin_0.0_1.5\n",
      "fracLoss_pmiss_0.550_0.575_Q2bin_1.5_2.0\n",
      "fracLoss_pmiss_0.550_0.575_Q2bin_2.0_2.5\n",
      "fracLoss_pmiss_0.550_0.575_Q2bin_2.5_6.0\n",
      "fracLoss_pmiss_0.550_0.575_thetapmq_100.0_135.0\n",
      "fracLoss_pmiss_0.550_0.575_thetapmq_135.0_145.0\n",
      "fracLoss_pmiss_0.550_0.575_thetapmq_145.0_155.0\n",
      "fracLoss_pmiss_0.550_0.575_thetapmq_155.0_180.0\n",
      "fracLoss_pmiss_0.575_0.600\n",
      "fracLoss_pmiss_0.575_0.600_Q2bin_0.0_1.5\n",
      "fracLoss_pmiss_0.575_0.600_Q2bin_1.5_2.0\n",
      "fracLoss_pmiss_0.575_0.600_Q2bin_2.0_2.5\n",
      "fracLoss_pmiss_0.575_0.600_Q2bin_2.5_6.0\n",
      "fracLoss_pmiss_0.575_0.600_thetapmq_100.0_135.0\n",
      "fracLoss_pmiss_0.575_0.600_thetapmq_135.0_145.0\n",
      "fracLoss_pmiss_0.575_0.600_thetapmq_145.0_155.0\n",
      "fracLoss_pmiss_0.575_0.600_thetapmq_155.0_180.0\n",
      "fracLoss_pmiss_0.600_0.625\n",
      "fracLoss_pmiss_0.600_0.625_Q2bin_0.0_1.5\n",
      "fracLoss_pmiss_0.600_0.625_Q2bin_1.5_2.0\n",
      "fracLoss_pmiss_0.600_0.625_Q2bin_2.0_2.5\n",
      "fracLoss_pmiss_0.600_0.625_Q2bin_2.5_6.0\n",
      "fracLoss_pmiss_0.600_0.625_thetapmq_100.0_135.0\n",
      "fracLoss_pmiss_0.600_0.625_thetapmq_135.0_145.0\n",
      "fracLoss_pmiss_0.600_0.625_thetapmq_145.0_155.0\n",
      "fracLoss_pmiss_0.600_0.625_thetapmq_155.0_180.0\n",
      "fracLoss_pmiss_0.625_0.650\n",
      "fracLoss_pmiss_0.625_0.650_Q2bin_0.0_1.5\n",
      "fracLoss_pmiss_0.625_0.650_Q2bin_1.5_2.0\n",
      "fracLoss_pmiss_0.625_0.650_Q2bin_2.0_2.5\n",
      "fracLoss_pmiss_0.625_0.650_Q2bin_2.5_6.0\n",
      "fracLoss_pmiss_0.625_0.650_thetapmq_100.0_135.0\n",
      "fracLoss_pmiss_0.625_0.650_thetapmq_135.0_145.0\n",
      "fracLoss_pmiss_0.625_0.650_thetapmq_145.0_155.0\n",
      "fracLoss_pmiss_0.625_0.650_thetapmq_155.0_180.0\n",
      "fracLoss_pmiss_0.650_0.675\n",
      "fracLoss_pmiss_0.650_0.675_Q2bin_0.0_1.5\n",
      "fracLoss_pmiss_0.650_0.675_Q2bin_1.5_2.0\n",
      "fracLoss_pmiss_0.650_0.675_Q2bin_2.0_2.5\n",
      "fracLoss_pmiss_0.650_0.675_Q2bin_2.5_6.0\n",
      "fracLoss_pmiss_0.650_0.675_thetapmq_100.0_135.0\n",
      "fracLoss_pmiss_0.650_0.675_thetapmq_135.0_145.0\n",
      "fracLoss_pmiss_0.650_0.675_thetapmq_145.0_155.0\n",
      "fracLoss_pmiss_0.650_0.675_thetapmq_155.0_180.0\n",
      "fracLoss_pmiss_0.675_0.700\n",
      "fracLoss_pmiss_0.675_0.700_Q2bin_0.0_1.5\n",
      "fracLoss_pmiss_0.675_0.700_Q2bin_1.5_2.0\n",
      "fracLoss_pmiss_0.675_0.700_Q2bin_2.0_2.5\n",
      "fracLoss_pmiss_0.675_0.700_Q2bin_2.5_6.0\n",
      "fracLoss_pmiss_0.675_0.700_thetapmq_100.0_135.0\n",
      "fracLoss_pmiss_0.675_0.700_thetapmq_135.0_145.0\n",
      "fracLoss_pmiss_0.675_0.700_thetapmq_145.0_155.0\n",
      "fracLoss_pmiss_0.675_0.700_thetapmq_155.0_180.0\n",
      "fracLoss_pmiss_0.700_0.725\n",
      "fracLoss_pmiss_0.700_0.725_Q2bin_0.0_1.5\n",
      "fracLoss_pmiss_0.700_0.725_Q2bin_1.5_2.0\n",
      "fracLoss_pmiss_0.700_0.725_Q2bin_2.0_2.5\n",
      "fracLoss_pmiss_0.700_0.725_Q2bin_2.5_6.0\n",
      "fracLoss_pmiss_0.700_0.725_thetapmq_100.0_135.0\n",
      "fracLoss_pmiss_0.700_0.725_thetapmq_135.0_145.0\n",
      "fracLoss_pmiss_0.700_0.725_thetapmq_145.0_155.0\n",
      "fracLoss_pmiss_0.700_0.725_thetapmq_155.0_180.0\n",
      "fracLoss_pmiss_0.725_0.750\n",
      "fracLoss_pmiss_0.725_0.750_Q2bin_0.0_1.5\n",
      "fracLoss_pmiss_0.725_0.750_Q2bin_1.5_2.0\n",
      "fracLoss_pmiss_0.725_0.750_Q2bin_2.0_2.5\n",
      "fracLoss_pmiss_0.725_0.750_Q2bin_2.5_6.0\n",
      "fracLoss_pmiss_0.725_0.750_thetapmq_100.0_135.0\n",
      "fracLoss_pmiss_0.725_0.750_thetapmq_135.0_145.0\n",
      "fracLoss_pmiss_0.725_0.750_thetapmq_145.0_155.0\n",
      "fracLoss_pmiss_0.725_0.750_thetapmq_155.0_180.0\n",
      "fracLoss_pmiss_0.750_0.812\n",
      "fracLoss_pmiss_0.750_0.812_Q2bin_0.0_1.5\n",
      "fracLoss_pmiss_0.750_0.812_Q2bin_1.5_2.0\n",
      "fracLoss_pmiss_0.750_0.812_Q2bin_2.0_2.5\n",
      "fracLoss_pmiss_0.750_0.812_Q2bin_2.5_6.0\n",
      "fracLoss_pmiss_0.750_0.812_thetapmq_100.0_135.0\n",
      "fracLoss_pmiss_0.750_0.812_thetapmq_135.0_145.0\n",
      "fracLoss_pmiss_0.750_0.812_thetapmq_145.0_155.0\n",
      "fracLoss_pmiss_0.750_0.812_thetapmq_155.0_180.0\n",
      "fracLoss_pmiss_0.812_0.875\n",
      "fracLoss_pmiss_0.812_0.875_Q2bin_0.0_1.5\n",
      "fracLoss_pmiss_0.812_0.875_Q2bin_1.5_2.0\n",
      "fracLoss_pmiss_0.812_0.875_Q2bin_2.0_2.5\n",
      "fracLoss_pmiss_0.812_0.875_Q2bin_2.5_6.0\n",
      "fracLoss_pmiss_0.812_0.875_thetapmq_100.0_135.0\n",
      "fracLoss_pmiss_0.812_0.875_thetapmq_135.0_145.0\n",
      "fracLoss_pmiss_0.812_0.875_thetapmq_145.0_155.0\n",
      "fracLoss_pmiss_0.812_0.875_thetapmq_155.0_180.0\n",
      "fracLoss_pmiss_0.875_0.938\n",
      "fracLoss_pmiss_0.875_0.938_Q2bin_0.0_1.5\n",
      "fracLoss_pmiss_0.875_0.938_Q2bin_1.5_2.0\n",
      "fracLoss_pmiss_0.875_0.938_Q2bin_2.0_2.5\n",
      "fracLoss_pmiss_0.875_0.938_Q2bin_2.5_6.0\n",
      "fracLoss_pmiss_0.875_0.938_thetapmq_100.0_135.0\n",
      "fracLoss_pmiss_0.875_0.938_thetapmq_135.0_145.0\n",
      "fracLoss_pmiss_0.875_0.938_thetapmq_145.0_155.0\n",
      "fracLoss_pmiss_0.875_0.938_thetapmq_155.0_180.0\n",
      "fracLoss_pmiss_0.938_1.000\n",
      "fracLoss_pmiss_0.938_1.000_Q2bin_0.0_1.5\n",
      "fracLoss_pmiss_0.938_1.000_Q2bin_1.5_2.0\n",
      "fracLoss_pmiss_0.938_1.000_Q2bin_2.0_2.5\n",
      "fracLoss_pmiss_0.938_1.000_Q2bin_2.5_6.0\n",
      "fracLoss_pmiss_0.938_1.000_thetapmq_100.0_135.0\n",
      "fracLoss_pmiss_0.938_1.000_thetapmq_135.0_145.0\n",
      "fracLoss_pmiss_0.938_1.000_thetapmq_145.0_155.0\n",
      "fracLoss_pmiss_0.938_1.000_thetapmq_155.0_180.0\n"
     ]
    }
   ],
   "source": [
    "for i in range(len(sims.columns)):\n",
    "    print sims.columns[i]"
   ]
  },
  {
   "cell_type": "code",
   "execution_count": 81,
   "metadata": {
    "collapsed": false,
    "scrolled": true
   },
   "outputs": [
    {
     "name": "stdout",
     "output_type": "stream",
     "text": [
      "[0.0, 0.97020300000000004]\n"
     ]
    },
    {
     "data": {
      "image/png": "[encoded data removed]",
      "text/plain": [
       "<matplotlib.figure.Figure at 0x12a574c90>"
      ]
     },
     "metadata": {},
     "output_type": "display_data"
    }
   ],
   "source": [
    "target,i_bin = 'Al27',4\n",
    "# h,_,_=plt.hist(sims['recmean_z_pmiss_0.750_1.000'])\n",
    "h,bins,_=plt.hist(sims['recmean_z_bin%d'%i_bin],normed=1)\n",
    "plt.hist(sims['recmean_z_bin%d'%i_bin],weights=sims['ks_PvalTot_allPvals_'+target],bins=bins,normed=1)\n",
    "# 12C mean of the distribution in this bin:\n",
    "dataCMparameters = pd.read_csv('/Users/erezcohen/Desktop/DataMining/Analysis_DATA/ppSRCcm/DATA/'+target+'_dataCMparameters.csv')\n",
    "par, parErr = dataCMparameters.get_value(i_bin,'mean_z_unweighted'), dataCMparameters.get_value(i_bin,'mean_zErr_unweighted')\n",
    "x = sims['ks_local_Pval_pcmZ_bin%d_%s'%(i_bin,target)]\n",
    "print [np.min(x), np.max(x)]\n",
    "plt.plot([par,par],[0,np.max(h)],color='black');\n",
    "plt.plot([par+parErr,par+parErr],[0,np.max(h)],'--',color='black');\n",
    "plt.plot([par-parErr,par-parErr],[0,np.max(h)],'--',color='black');"
   ]
  },
  {
   "cell_type": "code",
   "execution_count": 60,
   "metadata": {
    "collapsed": false
   },
   "outputs": [
    {
     "data": {
      "text/plain": [
       "(array([ 64.,  18.,   9.,   3.,   2.,   1.,   1.,   0.,   0.,   2.]),\n",
       " array([  1.40000000e-05,   2.25220000e-03,   4.49040000e-03,\n",
       "          6.72860000e-03,   8.96680000e-03,   1.12050000e-02,\n",
       "          1.34432000e-02,   1.56814000e-02,   1.79196000e-02,\n",
       "          2.01578000e-02,   2.23960000e-02]),\n",
       " <a list of 10 Patch objects>)"
      ]
     },
     "execution_count": 60,
     "metadata": {},
     "output_type": "execute_result"
    },
    {
     "data": {
      "image/png": "[encoded data removed]",
      "text/plain": [
       "<matplotlib.figure.Figure at 0x125956910>"
      ]
     },
     "metadata": {},
     "output_type": "display_data"
    }
   ],
   "source": [
    "plt.hist(weights)"
   ]
  },
  {
   "cell_type": "code",
   "execution_count": null,
   "metadata": {
    "collapsed": true
   },
   "outputs": [],
   "source": []
  }
 ],
 "metadata": {
  "kernelspec": {
   "display_name": "Python 2",
   "language": "python",
   "name": "python2"
  },
  "language_info": {
   "codemirror_mode": {
    "name": "ipython",
    "version": 2
   },
   "file_extension": ".py",
   "mimetype": "text/x-python",
   "name": "python",
   "nbconvert_exporter": "python",
   "pygments_lexer": "ipython2",
   "version": "2.7.11"
  }
 },
 "nbformat": 4,
 "nbformat_minor": 0
}
