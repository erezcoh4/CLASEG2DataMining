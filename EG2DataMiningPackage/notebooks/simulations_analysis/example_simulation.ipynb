{
 "cells": [
  {
   "cell_type": "code",
   "execution_count": 1,
   "metadata": {
    "collapsed": false
   },
   "outputs": [
    {
     "data": {
      "application/javascript": [
       "require(['codemirror/mode/clike/clike'], function(Clike) { console.log('ROOTaaS - C++ CodeMirror module loaded'); });"
      ]
     },
     "metadata": {},
     "output_type": "display_data"
    },
    {
     "data": {
      "application/javascript": [
       "IPython.CodeCell.config_defaults.highlight_modes['magic_text/x-c++src'] = {'reg':[/^%%cpp/]};"
      ]
     },
     "metadata": {},
     "output_type": "display_data"
    },
    {
     "name": "stdout",
     "output_type": "stream",
     "text": [
      "Welcome to ROOTaaS 6.06/02\n",
      "\n",
      "\u001b[1mRooFit v3.60 -- Developed by Wouter Verkerke and David Kirkby\u001b[0m \n",
      "                Copyright (C) 2000-2013 NIKHEF, University of California & Stanford University\n",
      "                All rights reserved, please read http://roofit.sourceforge.net/license.txt\n",
      "\n"
     ]
    },
    {
     "name": "stderr",
     "output_type": "stream",
     "text": [
      "/usr/local/lib/python2.7/site-packages/IPython/html.py:14: ShimWarning: The `IPython.html` package has been deprecated. You should import from `notebook` instead. `IPython.html.widgets` has moved to `ipywidgets`.\n",
      "  \"`IPython.html.widgets` has moved to `ipywidgets`.\", ShimWarning)\n",
      "Error in <TProtoClass::FindDataMember>: data member with index 0 is not found in class locale\r\n",
      "Error in <CreateRealData>: Cannot find data member # 0 of class locale for parent GenerateEvents!\r\n",
      "Error in <TProtoClass::FindDataMember>: data member with index 0 is not found in class locale\r\n",
      "Error in <CreateRealData>: Cannot find data member # 0 of class locale for parent GenerateEvents!\r\n",
      "Error in <TProtoClass::FindDataMember>: data member with index 0 is not found in class locale\r\n",
      "Error in <CreateRealData>: Cannot find data member # 0 of class locale for parent GenerateEvents!\r\n"
     ]
    }
   ],
   "source": [
    "import sys; sys.path.insert(0,'../'); sys.path.insert(0,'../../mac/')\n",
    "from notebook_tools import *\n",
    "%matplotlib inline"
   ]
  },
  {
   "cell_type": "code",
   "execution_count": 2,
   "metadata": {
    "collapsed": false
   },
   "outputs": [],
   "source": [
    "def calc_pval_ks_scores(ana_sim=None, ana_data=dict()):\n",
    "    ks_pval_scores = dict()\n",
    "    # April-2017, change to Pval using ks-test\n",
    "    df_sim = tree2array( ana_sim.GetTree() , branches=['pcmX','pcmY','pcmZ','Pmiss3Mag'] )\n",
    "    for target in targets: #{\n",
    "        ks_pval_scores_target_array , ks_pval_scores_transverse_target_array , ks_pval_scores_longitudinal_target_array = [] , [] , []\n",
    "        ks_pval_scores_target = dict()\n",
    "        df_data = tree2array( ana_data[target].GetTree() , branches=['pcmX','pcmY','pcmZ','Pmiss3Mag'] )\n",
    "        for bin in range(len(PmissBins)):#{\n",
    "            pmin , pmax = PmissBins[bin][0] , PmissBins[bin][1]\n",
    "            df_sim_reduced = df_sim[ (pmin < df_sim['Pmiss3Mag']) & (df_sim['Pmiss3Mag'] < pmax) ]\n",
    "            df_data_reduced = df_data[ (pmin < df_data['Pmiss3Mag']) & (df_data['Pmiss3Mag'] < pmax) ]\n",
    "            for direction in ['X','Y','Z']: #{\n",
    "                D_KS , Pval_KS = ks_2samp( df_sim_reduced['pcm'+direction] , df_data_reduced['pcm'+direction] )\n",
    "                ks_pval_scores_target['pcm'+direction+'_bin%d'%bin] = Pval_KS\n",
    "                ks_pval_scores_target_array.append( Pval_KS )\n",
    "                # local longitudinal and transverse p-values\n",
    "                if direction is 'X' or direction is 'Y': ks_pval_scores_transverse_target_array.append( Pval_KS )\n",
    "                else: ks_pval_scores_longitudinal_target_array.append( Pval_KS )\n",
    "            #}\n",
    "        #}\n",
    "        ks_pval_scores_target['PvalTotal'] = Fisher_combination_Pvals( ks_pval_scores_target_array ) # with a cutoff on 1e-20\n",
    "        ks_pval_scores_target['PvalTotal_allPvals'] = FisherMethodPvals( ks_pval_scores_target_array )\n",
    "        ks_pval_scores_target['PvalTotalTransverse'] = Fisher_combination_Pvals( ks_pval_scores_transverse_target_array ) # with a cutoff on 1e-20\n",
    "        ks_pval_scores_target['PvalTotalLongitudinal'] = Fisher_combination_Pvals( ks_pval_scores_longitudinal_target_array ) # with a cutoff on 1e-20\n",
    "        ks_pval_scores[target] = ks_pval_scores_target\n",
    "    #}\n",
    "    if debug>2: print 'ks_pval_scores:',ks_pval_scores\n",
    "    return ks_pval_scores\n"
   ]
  },
  {
   "cell_type": "code",
   "execution_count": 3,
   "metadata": {
    "collapsed": true
   },
   "outputs": [],
   "source": [
    "def a1a2_create_negative_sigma_z( a1 , a2 ):\n",
    "    '''\n",
    "    check if a1 and a2 give \\sigma_z < 0,\n",
    "    since we do not want to use those (unreasonable) values.\n",
    "    we check for the minimal Pmiss (0.3) and the maximal Pmiss (1.0)\n",
    "    '''\n",
    "    if a1*(0.3 - 0.6) + a2 < 0: return True\n",
    "    if a1*(1.0 - 0.6) + a2 < 0: return True\n",
    "    return False\n"
   ]
  },
  {
   "cell_type": "code",
   "execution_count": 4,
   "metadata": {
    "collapsed": true
   },
   "outputs": [],
   "source": [
    "def calc_cm_parameters( fana  , PmissBins , unweightedRoofitsFName = '' , weightedRoofitsFName = '' , DoSaveCanvas = False ):\n",
    "    '''\n",
    "        Return: df_pMissBin , do_fits (continue or not)\n",
    "        '''\n",
    "    do_fits = True\n",
    "    df_pMissBins = pd.DataFrame()\n",
    "    \n",
    "    if DoSaveCanvas:\n",
    "        canvas_unweighted , canvas_weighted = fana.CreateCanvas( \"RooFit plots - unweighted\" , \"Divide\" , 4 , len(PmissBins) ) , fana.CreateCanvas( \"RooFit plots - weighted\" , \"Divide\" , 4 , len(PmissBins) )\n",
    "\n",
    "    # Jan 2017, changing to a (weighted) average and variance using numpy\n",
    "    if fana.GetEntries()==0:\n",
    "        print 'no entries in anaTree of',fana.GetFileName()\n",
    "        print 'leaving calc_cm_parameters'\n",
    "        return pd.DataFrame() , False\n",
    "\n",
    "    ana = read_root( str(fana.GetFileName()) , key='anaTree' , columns=['pcmX','pcmY','pcmZ','Pmiss3Mag','rooWeight']  )\n",
    "\n",
    "    for i in range(len(PmissBins)):\n",
    "        pMiss_min , pMiss_max = PmissBins[i][0] , PmissBins[i][1]\n",
    "        ana_reduced = ana[ (pMiss_min < ana.Pmiss3Mag) & (ana.Pmiss3Mag < pMiss_max) ]\n",
    "        good_bin = True if len(ana_reduced)>0 else False\n",
    "        \n",
    "        if DoSaveCanvas:\n",
    "            unweighted = fana.RooFitCM( pMiss_min , pMiss_max , False , True, flags.verbose, canvas_unweighted, 4*i + 1 )\n",
    "            weighted = fana.RooFitCM( pMiss_min , pMiss_max , True , True, flags.verbose, canvas_weighted, 4*i + 1 )\n",
    "        \n",
    "            df_pMissBin = pd.DataFrame({'pMiss_min':pMiss_min,'pMiss_max':pMiss_max\n",
    "                                       ,'EvtsInBin':len(ana_reduced)            ,'good_bin':good_bin\n",
    "                                       ,'mean_x_unweighted':unweighted[0],'mean_xErr_unweighted':unweighted[1],'sigma_x_unweighted':unweighted[2],'sigma_xErr_unweighted':unweighted[3]\n",
    "                                       ,'mean_y_unweighted':unweighted[4],'mean_yErr_unweighted':unweighted[5],'sigma_y_unweighted':unweighted[6],'sigma_yErr_unweighted':unweighted[7]\n",
    "                                       ,'mean_t_unweighted':unweighted[8],'mean_tErr_unweighted':unweighted[9],'sigma_t_unweighted':unweighted[10],'sigma_tErr_unweighted':unweighted[11]\n",
    "                                       ,'mean_z_unweighted':unweighted[12],'mean_zErr_unweighted':unweighted[13],'sigma_z_unweighted':unweighted[14],'sigma_zErr_unweighted':unweighted[15]\n",
    "                                       ,'mean_x_weighted':weighted[0],'mean_xErr_weighted':weighted[1],'sigma_x_weighted':weighted[2],'sigma_xErr_weighted':weighted[3]\n",
    "                                       ,'mean_y_weighted':weighted[4],'mean_yErr_weighted':weighted[5],'sigma_y_weighted':weighted[6],'sigma_yErr_weighted':weighted[7]\n",
    "                                       ,'mean_t_weighted':weighted[8],'mean_tErr_weighted':weighted[9],'sigma_t_weighted':weighted[10],'sigma_tErr_weighted':weighted[11]\n",
    "                                       ,'mean_z_weighted':weighted[12],'mean_zErr_weighted':weighted[13],'sigma_z_weighted':weighted[14],'sigma_zErr_weighted':weighted[15]}\n",
    "                                       , index=[i])\n",
    "\n",
    "        else:\n",
    "            #            unweighted = fana.RooFitCM( pMiss_min , pMiss_max , False )\n",
    "            #            weighted = fana.RooFitCM( pMiss_min , pMiss_max , True )\n",
    "\n",
    "            # Jan 2017, changing to a (weighted) average and variance using numpy\n",
    "            ana_reduced = ana[ (pMiss_min < ana.Pmiss3Mag) & (ana.Pmiss3Mag < pMiss_max) ]\n",
    "            if flags.verbose>1: print 'running p(miss) bin ',i,',',pMiss_min,' to ',pMiss_max,' GeV/c, ',len(ana_reduced),'events in this bin'\n",
    "\n",
    "            if len(ana_reduced)>0 and sum(ana_reduced.rooWeight)>0:\n",
    "                good_bin , sqrtN = 1 , sqrt(len(ana_reduced))\n",
    "                mean_x_unweighted , mean_x_weighted     = np.average( ana_reduced.pcmX ) , np.average( ana_reduced.pcmX , weights=ana_reduced.rooWeight )\n",
    "                sigma_x_unweighted, sigma_x_weighted    = np.sqrt(np.average( np.square(ana_reduced.pcmX-mean_x_unweighted) )) , np.sqrt(np.average( np.square(ana_reduced.pcmX-mean_x_weighted) , weights=ana_reduced.rooWeight  ))\n",
    "                mean_y_unweighted , mean_y_weighted     = np.average( ana_reduced.pcmY ) , np.average( ana_reduced.pcmY , weights=ana_reduced.rooWeight )\n",
    "                sigma_y_unweighted, sigma_y_weighted    = np.sqrt(np.average( np.square(ana_reduced.pcmY-mean_y_unweighted) )) , np.sqrt(np.average( np.square(ana_reduced.pcmY-mean_y_weighted) , weights=ana_reduced.rooWeight  ))\n",
    "                mean_z_unweighted , mean_z_weighted     = np.average( ana_reduced.pcmZ ) , np.average( ana_reduced.pcmZ , weights=ana_reduced.rooWeight )\n",
    "                sigma_z_unweighted, sigma_z_weighted    = np.sqrt(np.average( np.square(ana_reduced.pcmZ-mean_z_unweighted) )) , np.sqrt(np.average( np.square(ana_reduced.pcmZ-mean_z_weighted) , weights=ana_reduced.rooWeight  ))\n",
    "            else:\n",
    "                good_bin , sqrtN , do_fits  = 0 , 1 , False\n",
    "                mean_x_unweighted , mean_x_weighted     = -100,-100\n",
    "                sigma_x_unweighted, sigma_x_weighted    = -100,-100\n",
    "                mean_y_unweighted , mean_y_weighted     = -100,-100\n",
    "                sigma_y_unweighted, sigma_y_weighted    = -100,-100\n",
    "                mean_z_unweighted , mean_z_weighted     = -100,-100\n",
    "                sigma_z_unweighted, sigma_z_weighted    = -100,-100\n",
    "\n",
    "\n",
    "            df_pMissBin = pd.DataFrame({'pMiss_min':pMiss_min                   ,'pMiss_max':pMiss_max\n",
    "                                       ,'EvtsInBin':len(ana_reduced)            ,'good_bin':good_bin\n",
    "                                       ,'mean_x_unweighted':mean_x_unweighted   ,'mean_xErr_unweighted':sigma_x_unweighted/sqrtN ,'sigma_x_unweighted':sigma_x_unweighted,'sigma_xErr_unweighted':0.02 # resolution uncertainty\n",
    "                                       ,'mean_y_unweighted':mean_y_unweighted   ,'mean_yErr_unweighted':sigma_y_unweighted/sqrtN ,'sigma_y_unweighted':sigma_y_unweighted,'sigma_yErr_unweighted':0.02 # resolution uncertainty0\n",
    "                                       ,'mean_z_unweighted':mean_z_unweighted   ,'mean_zErr_unweighted':sigma_z_unweighted/sqrtN ,'sigma_z_unweighted':sigma_z_unweighted,'sigma_zErr_unweighted':0.02 # resolution uncertainty\n",
    "                                       ,'mean_x_weighted':mean_x_weighted       ,'mean_xErr_weighted':sigma_x_weighted/sqrtN     ,'sigma_x_weighted':sigma_x_weighted    ,'sigma_xErr_weighted':0.02 # resolution uncertainty\n",
    "                                       ,'mean_y_weighted':mean_y_weighted       ,'mean_yErr_weighted':sigma_y_weighted/sqrtN     ,'sigma_y_weighted':sigma_y_weighted    ,'sigma_yErr_weighted':0.02 # resolution uncertainty\n",
    "                                       ,'mean_z_weighted':mean_z_weighted       ,'mean_zErr_weighted':sigma_z_weighted/sqrtN     ,'sigma_z_weighted':sigma_z_weighted    ,'sigma_zErr_weighted':0.02 # resolution uncertainty\n",
    "                                       }\n",
    "                                       , index=[i])\n",
    "\n",
    "        df_pMissBins = df_pMissBins.append(df_pMissBin)\n",
    "\n",
    "    if DoSaveCanvas:\n",
    "        canvas_unweighted.SaveAs(unweightedRoofitsFName)\n",
    "        print_filename(unweightedRoofitsFName,\"unweighted rooFits at\")\n",
    "        canvas_weighted.SaveAs(weightedRoofitsFName)\n",
    "        print_filename(weightedRoofitsFName,\"weighted rooFits at\")\n",
    "        print_line()\n",
    "    print \"computed cm parameters for \"+fana.InFileName\n",
    "    if debug>1:\n",
    "        print \"reconstructed cm parameters\"\n",
    "        if debug>5:\n",
    "            print 'df_pMissBins:',df_pMissBins\n",
    "\n",
    "    garbage_list = [ ana ]\n",
    "    del garbage_list\n",
    "\n",
    "    return df_pMissBins , do_fits\n"
   ]
  },
  {
   "cell_type": "markdown",
   "metadata": {},
   "source": [
    "# load data"
   ]
  },
  {
   "cell_type": "code",
   "execution_count": 5,
   "metadata": {
    "collapsed": false
   },
   "outputs": [],
   "source": [
    "hyperparameters = dict({'start_run':1,\n",
    "                           'Nruns':1,\n",
    "                           'range_sigma_t':(0.05 , 0.3),    # 0.160\n",
    "                           'range_a1':(-0.2 , 1.0),         # 0.143\n",
    "                           'range_a2':(0.0  , 0.5),         # 0.158\n",
    "                           'range_b1':(-0.2 , 0.8),         # 0.569\n",
    "                           'range_b2':(-0.3 , 0.6),         # 0.159\n",
    "                           'NRand':20}\n",
    "                           )"
   ]
  },
  {
   "cell_type": "code",
   "execution_count": 6,
   "metadata": {
    "collapsed": false
   },
   "outputs": [],
   "source": [
    "start_run , Nruns = hyperparameters['start_run'], hyperparameters['Nruns']\n",
    "NRand = hyperparameters['NRand']\n",
    "pAcceptacneFile = ROOT.TFile( \"/Users/erezcohen/Desktop/DataMining/GSIM_DATA/PrecoilAcceptance.root\" )\n",
    "path = path + \"/Analysis_DATA/ppSRCcm\""
   ]
  },
  {
   "cell_type": "code",
   "execution_count": 7,
   "metadata": {
    "collapsed": false
   },
   "outputs": [],
   "source": [
    "h = pAcceptacneFile.Get(\"hRescaled\")\n",
    "gen_events = GenerateEvents( path , 0 , 0 )\n",
    "gen_events.SetNRand( NRand )\n",
    "gen_events.Use_protonAcceptacne( True )\n",
    "gen_events.Set_protonAcceptacne( h )\n",
    "gen_events.SetInputChain_eep()"
   ]
  },
  {
   "cell_type": "code",
   "execution_count": 10,
   "metadata": {
    "collapsed": false
   },
   "outputs": [
    {
     "name": "stdout",
     "output_type": "stream",
     "text": [
      "run: 1 ,parameters: 0.24148764809 0.337595007092 0.164006715771 -0.176432422271 0.516285230318\n"
     ]
    },
    {
     "name": "stderr",
     "output_type": "stream",
     "text": [
      "TTree::Bronch:0: RuntimeWarning: Using split mode on a class: TVector3 with a custom Streamer\n"
     ]
    },
    {
     "ename": "NameError",
     "evalue": "name 'scheme' is not defined",
     "output_type": "error",
     "traceback": [
      "\u001b[0;31m\u001b[0m",
      "\u001b[0;31mNameError\u001b[0mTraceback (most recent call last)",
      "\u001b[0;32m<ipython-input-10-2749b4d62b4b>\u001b[0m in \u001b[0;36m<module>\u001b[0;34m()\u001b[0m\n\u001b[1;32m     15\u001b[0m     \u001b[0;31m# and now scheme them to our desired pp-SRC cuts\u001b[0m\u001b[0;34m\u001b[0m\u001b[0;34m\u001b[0m\u001b[0m\n\u001b[1;32m     16\u001b[0m     \u001b[0mana_sim\u001b[0m \u001b[0;34m=\u001b[0m \u001b[0mTAnalysisEG2\u001b[0m\u001b[0;34m(\u001b[0m \u001b[0mpath\u001b[0m \u001b[0;34m+\u001b[0m \u001b[0;34m'/eg_rootfiles'\u001b[0m\u001b[0;34m,\u001b[0m \u001b[0;34m'run%d'\u001b[0m\u001b[0;34m%\u001b[0m\u001b[0mrun\u001b[0m \u001b[0;34m,\u001b[0m \u001b[0mROOT\u001b[0m\u001b[0;34m.\u001b[0m\u001b[0mTCut\u001b[0m\u001b[0;34m(\u001b[0m\u001b[0;34m''\u001b[0m\u001b[0;34m)\u001b[0m \u001b[0;34m)\u001b[0m\u001b[0;34m\u001b[0m\u001b[0m\n\u001b[0;32m---> 17\u001b[0;31m     \u001b[0mscheme\u001b[0m\u001b[0;34m.\u001b[0m\u001b[0mSchemeOnTCut\u001b[0m\u001b[0;34m(\u001b[0m \u001b[0mpath\u001b[0m\u001b[0;34m+\u001b[0m\u001b[0;34m'/eg_rootfiles'\u001b[0m\u001b[0;34m,\u001b[0m \u001b[0;34m'run%d.root'\u001b[0m\u001b[0;34m%\u001b[0m\u001b[0mrun\u001b[0m \u001b[0;34m,\u001b[0m\u001b[0;34m\"anaTree\"\u001b[0m\u001b[0;34m,\u001b[0m \u001b[0;34m'run%d.root'\u001b[0m\u001b[0;34m%\u001b[0m\u001b[0mrun\u001b[0m \u001b[0;34m,\u001b[0m \u001b[0mana_sim\u001b[0m\u001b[0;34m.\u001b[0m\u001b[0mEGppSRCCut\u001b[0m \u001b[0;34m+\u001b[0m \u001b[0mana_sim\u001b[0m\u001b[0;34m.\u001b[0m\u001b[0mPrecFiducial\u001b[0m \u001b[0;34m)\u001b[0m\u001b[0;34m\u001b[0m\u001b[0m\n\u001b[0m\u001b[1;32m     18\u001b[0m     \u001b[0mana_sim\u001b[0m\u001b[0;34m.\u001b[0m\u001b[0mCloseFile\u001b[0m\u001b[0;34m(\u001b[0m\u001b[0;34m)\u001b[0m\u001b[0;34m\u001b[0m\u001b[0m\n\u001b[1;32m     19\u001b[0m \u001b[0;32melse\u001b[0m\u001b[0;34m:\u001b[0m \u001b[0;32mprint\u001b[0m \u001b[0;34m'a1 (%.2f) and a2(%.2f) create together a negative sigma_z, killing run %d'\u001b[0m\u001b[0;34m%\u001b[0m\u001b[0;34m(\u001b[0m \u001b[0mgen_a1\u001b[0m \u001b[0;34m,\u001b[0m \u001b[0mgen_a2\u001b[0m \u001b[0;34m,\u001b[0m \u001b[0mrun\u001b[0m \u001b[0;34m)\u001b[0m\u001b[0;34m\u001b[0m\u001b[0m\n",
      "\u001b[0;31mNameError\u001b[0m: name 'scheme' is not defined"
     ]
    },
    {
     "name": "stdout",
     "output_type": "stream",
     "text": [
      "Generating /Users/erezcohen/Desktop/DataMining/Analysis_DATA/ppSRCcm/eg_rootfiles/run1.root\r\n",
      "done generating 49045 (e,e'pp) events to /Users/erezcohen/Desktop/DataMining/Analysis_DATA/ppSRCcm/eg_rootfiles/run1.root\r\n"
     ]
    }
   ],
   "source": [
    "run = start_run\n",
    "gen_MeanX  = gen_MeanY = 0\n",
    "gen_SigmaX = gen_SigmaY = np.random.uniform( np.min(hyperparameters['range_sigma_t']),np.max(hyperparameters['range_sigma_t']) )\n",
    "gen_a1  = np.random.uniform( np.min(hyperparameters['range_a1']),np.max(hyperparameters['range_a1']) )\n",
    "gen_a2  = np.random.uniform( np.min(hyperparameters['range_a2']),np.max(hyperparameters['range_a2']) )\n",
    "gen_b1  = np.random.uniform( np.min(hyperparameters['range_b1']),np.max(hyperparameters['range_b1']) )\n",
    "gen_b2  = np.random.uniform( np.min(hyperparameters['range_b2']),np.max(hyperparameters['range_b2']) )\n",
    "            \n",
    "print 'run:',run,',parameters:', gen_SigmaX , gen_a1 , gen_a2 , gen_b1 , gen_b2\n",
    "if a1a2_create_negative_sigma_z( gen_a1 , gen_a2 ) is False:\n",
    "                \n",
    "    gen_events.Set_eep_Parameters( gen_MeanX , gen_SigmaX , gen_MeanY , gen_SigmaY , gen_b1 , gen_b2 , gen_a1 , gen_a2 )\n",
    "    gen_events.DoGenerateRun_eepp( run )\n",
    "            \n",
    "    # and now scheme them to our desired pp-SRC cuts\n",
    "    ana_sim = TAnalysisEG2( path + '/eg_rootfiles', 'run%d'%run , ROOT.TCut('') )\n",
    "    scheme.SchemeOnTCut( path+'/eg_rootfiles', 'run%d.root'%run ,\"anaTree\", 'run%d.root'%run , ana_sim.EGppSRCCut + ana_sim.PrecFiducial )\n",
    "    ana_sim.CloseFile()\n",
    "else: print 'a1 (%.2f) and a2(%.2f) create together a negative sigma_z, killing run %d'%( gen_a1 , gen_a2 , run )"
   ]
  },
  {
   "cell_type": "code",
   "execution_count": null,
   "metadata": {
    "collapsed": true
   },
   "outputs": [],
   "source": []
  }
 ],
 "metadata": {
  "kernelspec": {
   "display_name": "Python 2",
   "language": "python",
   "name": "python2"
  },
  "language_info": {
   "codemirror_mode": {
    "name": "ipython",
    "version": 2
   },
   "file_extension": ".py",
   "mimetype": "text/x-python",
   "name": "python",
   "nbconvert_exporter": "python",
   "pygments_lexer": "ipython2",
   "version": "2.7.11"
  }
 },
 "nbformat": 4,
 "nbformat_minor": 0
}
