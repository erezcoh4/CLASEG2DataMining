{
 "cells": [
  {
   "cell_type": "code",
   "execution_count": 1,
   "metadata": {
    "collapsed": false
   },
   "outputs": [
    {
     "data": {
      "application/javascript": [
       "require(['codemirror/mode/clike/clike'], function(Clike) { console.log('ROOTaaS - C++ CodeMirror module loaded'); });"
      ]
     },
     "metadata": {},
     "output_type": "display_data"
    },
    {
     "data": {
      "application/javascript": [
       "IPython.CodeCell.config_defaults.highlight_modes['magic_text/x-c++src'] = {'reg':[/^%%cpp/]};"
      ]
     },
     "metadata": {},
     "output_type": "display_data"
    },
    {
     "name": "stdout",
     "output_type": "stream",
     "text": [
      "Welcome to ROOTaaS 6.06/02\n",
      "\n",
      "\u001b[1mRooFit v3.60 -- Developed by Wouter Verkerke and David Kirkby\u001b[0m \n",
      "                Copyright (C) 2000-2013 NIKHEF, University of California & Stanford University\n",
      "                All rights reserved, please read http://roofit.sourceforge.net/license.txt\n",
      "\n"
     ]
    },
    {
     "name": "stderr",
     "output_type": "stream",
     "text": [
      "/usr/local/lib/python2.7/site-packages/IPython/html.py:14: ShimWarning: The `IPython.html` package has been deprecated. You should import from `notebook` instead. `IPython.html.widgets` has moved to `ipywidgets`.\n",
      "  \"`IPython.html.widgets` has moved to `ipywidgets`.\", ShimWarning)\n",
      "Error in <TProtoClass::FindDataMember>: data member with index 0 is not found in class locale\r\n",
      "Error in <CreateRealData>: Cannot find data member # 0 of class locale for parent GenerateEvents!\r\n",
      "Error in <TProtoClass::FindDataMember>: data member with index 0 is not found in class locale\r\n",
      "Error in <CreateRealData>: Cannot find data member # 0 of class locale for parent GenerateEvents!\r\n",
      "Error in <TProtoClass::FindDataMember>: data member with index 0 is not found in class locale\r\n",
      "Error in <CreateRealData>: Cannot find data member # 0 of class locale for parent GenerateEvents!\r\n"
     ]
    }
   ],
   "source": [
    "import sys; sys.path.insert(0,'../'); sys.path.insert(0,'../../mac/');sys.path.insert(0,'../../../../ndtest/');\n",
    "from notebook_tools import *\n",
    "from scipy.stats import ks_2samp\n",
    "from scipy.stats import norm\n",
    "from scipy.stats import kurtosis\n",
    "#import ndtest\n",
    "%matplotlib inline\n",
    "# redirect output to the systems standard output \n",
    "# sys.stdout = open('/dev/stdout', 'w')"
   ]
  },
  {
   "cell_type": "code",
   "execution_count": 2,
   "metadata": {
    "collapsed": true
   },
   "outputs": [],
   "source": [
    "scheme = TSchemeDATA()\n",
    "targets = ['C12','Al27','Fe56','Pb208']\n",
    "PmissBins   = [[0.3,0.45]  , [0.45,0.55] , [0.55,0.65]  , [0.65,0.75] , [0.75,1.0]]\n",
    "Pmiss3Bins  = [[0.3,0.52]  , [0.52,0.68]  , [0.68,1.0]]\n",
    "path = \"/Users/erezcohen/Desktop/DataMining\"\n",
    "ppPath = path + \"/Analysis_DATA/ppSRCcm\""
   ]
  },
  {
   "cell_type": "code",
   "execution_count": 3,
   "metadata": {
    "collapsed": false
   },
   "outputs": [],
   "source": [
    "cm_pars , cm_fits = dict() , dict()\n",
    "ana_data = dict()\n",
    "\n",
    "for target in targets:\n",
    "    cm_pars[target] = pd.read_csv( ppPath+'/DATA/%s_dataCMparameters.csv'%target ) \n",
    "    ana_data[target] = TAnalysisEG2( path+\"/AnaFiles\" ,  \"Ana_ppSRCCut_DATA_%s\"%target )"
   ]
  },
  {
   "cell_type": "code",
   "execution_count": 4,
   "metadata": {
    "collapsed": true
   },
   "outputs": [],
   "source": [
    "def a1a2_create_negative_sigma_z( a1 , a2 ):\n",
    "    '''\n",
    "    check if a1 and a2 give \\sigma_z < 0,\n",
    "    since we do not want to use those (unreasonable) values.\n",
    "    we check for the minimal Pmiss (0.3) and the maximal Pmiss (1.0)\n",
    "    '''\n",
    "    if a1*(0.3 - 0.6) + a2 < 0: return True\n",
    "    if a1*(1.0 - 0.6) + a2 < 0: return True\n",
    "    return False\n"
   ]
  },
  {
   "cell_type": "code",
   "execution_count": 5,
   "metadata": {
    "collapsed": true
   },
   "outputs": [],
   "source": [
    "def calc_cm_parameters( fana  , PmissBins , unweightedRoofitsFName = '' , weightedRoofitsFName = '' , DoSaveCanvas = False ):\n",
    "    '''\n",
    "        Return: df_pMissBin , do_fits (continue or not)\n",
    "        '''\n",
    "    do_fits = True\n",
    "    df_pMissBins = pd.DataFrame()\n",
    "    \n",
    "    if fana.GetEntries()==0:\n",
    "        print 'no entries in anaTree of',fana.GetFileName()\n",
    "        print 'leaving calc_cm_parameters'\n",
    "        return pd.DataFrame() , False\n",
    "\n",
    "    ana = read_root( str(fana.GetFileName()) , key='anaTree' , columns=['pcmX','pcmY','pcmZ','Pmiss3Mag','rooWeight']  )\n",
    "\n",
    "    for i in range(len(PmissBins)):\n",
    "        pMiss_min , pMiss_max = PmissBins[i][0] , PmissBins[i][1]\n",
    "        ana_reduced = ana[ (pMiss_min < ana.Pmiss3Mag) & (ana.Pmiss3Mag < pMiss_max) ]\n",
    "        good_bin = True if len(ana_reduced)>0 else False\n",
    "        print 'calculating parameters for p(miss) bin ',i,',',pMiss_min,' to ',pMiss_max,' GeV/c, ',len(ana_reduced),'events in this bin'\n",
    "\n",
    "        if len(ana_reduced)>0 and sum(ana_reduced.rooWeight)>0:\n",
    "            good_bin , sqrtN = 1 , sqrt(len(ana_reduced))\n",
    "            mean_x_unweighted , mean_x_weighted     = np.average( ana_reduced.pcmX ) , np.average( ana_reduced.pcmX , weights=ana_reduced.rooWeight )\n",
    "            sigma_x_unweighted, sigma_x_weighted    = np.sqrt(np.average( np.square(ana_reduced.pcmX-mean_x_unweighted) )) , np.sqrt(np.average( np.square(ana_reduced.pcmX-mean_x_weighted) , weights=ana_reduced.rooWeight  ))\n",
    "            mean_y_unweighted , mean_y_weighted     = np.average( ana_reduced.pcmY ) , np.average( ana_reduced.pcmY , weights=ana_reduced.rooWeight )\n",
    "            sigma_y_unweighted, sigma_y_weighted    = np.sqrt(np.average( np.square(ana_reduced.pcmY-mean_y_unweighted) )) , np.sqrt(np.average( np.square(ana_reduced.pcmY-mean_y_weighted) , weights=ana_reduced.rooWeight  ))\n",
    "            mean_z_unweighted , mean_z_weighted     = np.average( ana_reduced.pcmZ ) , np.average( ana_reduced.pcmZ , weights=ana_reduced.rooWeight )\n",
    "            sigma_z_unweighted, sigma_z_weighted    = np.sqrt(np.average( np.square(ana_reduced.pcmZ-mean_z_unweighted) )) , np.sqrt(np.average( np.square(ana_reduced.pcmZ-mean_z_weighted) , weights=ana_reduced.rooWeight  ))\n",
    "        else:\n",
    "            good_bin , sqrtN , do_fits  = 0 , 1 , False\n",
    "            mean_x_unweighted , mean_x_weighted     = -100,-100\n",
    "            sigma_x_unweighted, sigma_x_weighted    = -100,-100\n",
    "            mean_y_unweighted , mean_y_weighted     = -100,-100\n",
    "            sigma_y_unweighted, sigma_y_weighted    = -100,-100\n",
    "            mean_z_unweighted , mean_z_weighted     = -100,-100\n",
    "            sigma_z_unweighted, sigma_z_weighted    = -100,-100\n",
    "\n",
    "\n",
    "        df_pMissBin = pd.DataFrame({'pMiss_min':pMiss_min                   ,'pMiss_max':pMiss_max\n",
    "                                   ,'EvtsInBin':len(ana_reduced)            ,'good_bin':good_bin\n",
    "                                   ,'mean_x_unweighted':mean_x_unweighted   ,'mean_xErr_unweighted':sigma_x_unweighted/sqrtN ,'sigma_x_unweighted':sigma_x_unweighted,'sigma_xErr_unweighted':0.02 # resolution uncertainty\n",
    "                                    ,'mean_y_unweighted':mean_y_unweighted   ,'mean_yErr_unweighted':sigma_y_unweighted/sqrtN ,'sigma_y_unweighted':sigma_y_unweighted,'sigma_yErr_unweighted':0.02 # resolution uncertainty0\n",
    "                                   ,'mean_z_unweighted':mean_z_unweighted   ,'mean_zErr_unweighted':sigma_z_unweighted/sqrtN ,'sigma_z_unweighted':sigma_z_unweighted,'sigma_zErr_unweighted':0.02 # resolution uncertainty\n",
    "                                   ,'mean_x_weighted':mean_x_weighted       ,'mean_xErr_weighted':sigma_x_weighted/sqrtN     ,'sigma_x_weighted':sigma_x_weighted    ,'sigma_xErr_weighted':0.02 # resolution uncertainty\n",
    "                                   ,'mean_y_weighted':mean_y_weighted       ,'mean_yErr_weighted':sigma_y_weighted/sqrtN     ,'sigma_y_weighted':sigma_y_weighted    ,'sigma_yErr_weighted':0.02 # resolution uncertainty\n",
    "                                    ,'mean_z_weighted':mean_z_weighted       ,'mean_zErr_weighted':sigma_z_weighted/sqrtN     ,'sigma_z_weighted':sigma_z_weighted    ,'sigma_zErr_weighted':0.02 # resolution uncertainty\n",
    "                                   }, index=[i])\n",
    "        df_pMissBins = df_pMissBins.append(df_pMissBin)\n",
    "\n",
    "    print \"computed cm parameters for \"+fana.InFileName\n",
    "    print \"reconstructed cm parameters\"\n",
    "    garbage_list = [ ana ]\n",
    "    del garbage_list\n",
    "    return df_pMissBins , do_fits"
   ]
  },
  {
   "cell_type": "code",
   "execution_count": 6,
   "metadata": {
    "collapsed": true
   },
   "outputs": [],
   "source": [
    "def linear_06(x, slope, intercept):\n",
    "    return slope * ( x - 0.6 ) + intercept\n",
    "\n",
    "def fit_as_a_function_of_pmiss( x , y , yerr=None, fit_type='const' , title='', x_offset=0.6): # the main fitting routine\n",
    "    \n",
    "    if fit_type=='const':\n",
    "        if len(x)<3:return -100 , 0\n",
    "        p1,v1 = np.polyfit( x , y , 0 , cov=True)\n",
    "        chi2red = -100\n",
    "        if not p1 or not v1 or len(p1)==0 or len(v1)==0:return -100 , 0\n",
    "        else:\n",
    "            return p1[0] , sqrt(v1[0,0]) , chi2red\n",
    "    elif fit_type=='linear':\n",
    "        if len(x)<4:return -100 , 0 , -100 , 0\n",
    "        f = linear_06\n",
    "        p2, v2 = curve_fit(f, xdata=x, ydata=y,sigma=yerr)# fit data using SciPy's Levenberg-Marquart method\n",
    "        chi2red = (np.sum( np.square( (np.polyval(p2, x) - y) / yerr ) ))/(len(x) - 2)\n",
    "        if p2 is None or v2 is None or p2 is np.inf or v2 is np.inf: return -100 , 0 , -100 , 0 , 0\n",
    "        if p2[0] is np.inf or p2[1] is np.inf or v2[0,0] is np.inf or v2[1,1] is np.inf: return -100 , 0 , -100 , 0 , 0\n",
    "        else:\n",
    "            return p2[0] , sqrt(float(v2[0,0])) , p2[1] , sqrt(float(v2[1,1])) , chi2red\n",
    "\n",
    "def fit_par_noplot( data , var , weight , title ): # a sub-routine to fit a single parameter; same as fit_par_plot without a plot\n",
    "    # remove empty bins\n",
    "    data = data[data['good_bin']==1]\n",
    "    # fit x/y/z as a function of p(miss)\n",
    "    Pmiss = (data.pMiss_max + data.pMiss_min)/2.\n",
    "    pMissUpErr , pMissLowErr = data.pMiss_max - Pmiss , Pmiss - data.pMiss_min\n",
    "    Xfit,XfitErr,Xchi2red = fit_as_a_function_of_pmiss( Pmiss, data[ var + '_x_' + weight] ,'const')\n",
    "    Yfit,YfitErr,Ychi2red = fit_as_a_function_of_pmiss( Pmiss, data[ var + '_y_' + weight] ,'const')\n",
    "    Za1,Za1err,Za2,Za2err,Zchi2red = fit_as_a_function_of_pmiss( Pmiss, data[ var + '_z_' + weight], data[ var + '_zErr_' + weight ],'linear')\n",
    "    return [Xfit , XfitErr , Yfit , YfitErr, Za1 , Za1err , Za2 , Za2err , Zchi2red , None ]\n",
    "\n",
    "def fit_cm_parameters( run , data , do_fits=True , FigureFName = '' , DoPlot = False ): # all parameters\n",
    "    if do_fits==False:\n",
    "        print 'nothing in cm-paramteres input as data to fit_cm_parameters()'\n",
    "        print 'leaving fit_cm_parameters by appending -100 to all'\n",
    "        return pd.DataFrame({ 'run':run,'Nevents':-100\n",
    "                            ,'SigmaX':-100,'SigmaXerr':0,'MeanX':-100, 'MeanXerr':0\n",
    "                            ,'SigmaY':-100,'SigmaYerr':0,'MeanY':-100,'MeanYerr':0\n",
    "                            ,'a1':-100,'a1err':0,'a2':-100,'a2err':0,'a_chi2red':-100\n",
    "                            ,'b1':-100,'b1err':0,'b2':-100,'b2err':0,'b_chi2red':-100\n",
    "                            }, index=[0] )\n",
    "\n",
    "    [SigmaX, SigmaXerr, SigmaY, SigmaYerr, a1, a1err, a2, a2err, a_chi2red, ax ] = fit_par_noplot ( data,'sigma','unweighted','\\sigma' )\n",
    "    [MeanX, MeanXerr, MeanY, MeanYerr, b1, b1err, b2, b2err, b_chi2red, ax ] = fit_par_noplot( data, 'mean','unweighted','mean')\n",
    "    df_fit_parameters = pd.DataFrame({ 'run':run,'Nevents':(np.sum(data['EvtsInBin']))\n",
    "                                     ,'SigmaX':SigmaX,'SigmaXerr':SigmaXerr,'MeanX':MeanX, 'MeanXerr':MeanXerr\n",
    "                                     ,'SigmaY':SigmaY,'SigmaYerr':SigmaYerr,'MeanY':MeanY,'MeanYerr':MeanYerr\n",
    "                                     ,'a1':a1,'a1err':a1err,'a2':a2,'a2err':a2err,'a_chi2red':a_chi2red\n",
    "                                     ,'b1':b1,'b1err':b1err,'b2':b2,'b2err':b2err,'b_chi2red':b_chi2red\n",
    "                                     }, index=[0] )\n",
    "    print \"computed fit parameters for run \",run\n",
    "    print df_fit_parameters\n",
    "    return df_fit_parameters"
   ]
  },
  {
   "cell_type": "code",
   "execution_count": 7,
   "metadata": {
    "collapsed": false
   },
   "outputs": [],
   "source": [
    "#         # compare x & y directions in 1 p(miss) bin - since there is no p(miss) dependence\n",
    "#         Pval_KS = ndtest.ks2d2s(df_data['pcmX'] , df_data['pcmY'] , df_sim['pcmX'] , df_sim['pcmY'])\n",
    "#         ks_pval_scores_target_array.append( Pval_KS )\n",
    "#         ks_pval_scores_target['PvalTotalTransverse'] = Pval_KS\n",
    "        \n",
    "#         ax_t = fig_t.add_subplot(1 , 2 , 1 )\n",
    "#         plot_2d_hist( df_data['pcmX'] , df_data['pcmY'] , xlabel='$p_{c.m.}^x$', ylabel='$p_{c.m.}^y$',cmap='jet',ax=ax_t , bins=(np.linspace(-0.5,0.5,50),np.linspace(-0.5,0.5,50)))\n",
    "#         ax_t.set_title(target+' data, $\\\\sigma=%.3f,%.3f$ '%(np.std(df_data['pcmX']) , np.std(df_data['pcmY'])),y=1.01,fontsize=15)\n",
    "\n",
    "#         ax_t = fig_t.add_subplot(1 , 2 , 2 )\n",
    "#         plot_2d_hist( df_sim['pcmX'] , df_sim['pcmY'] , xlabel='$p_{c.m.}^x$', ylabel='$p_{c.m.}^y$',ax=ax_t, bins=(np.linspace(-0.5,0.5,50),np.linspace(-0.5,0.5,50)))\n",
    "#         ax_t.set_title('simulation, $\\\\sigma=%.3f,%.3f$ (Pval=%f)'%(np.std(df_sim['pcmX']) , np.std(df_sim['pcmY']),Pval_KS),y=1.01,fontsize=15)        \n",
    "        \n",
    "\n",
    "def gauss(x,mu_0,sigma_0,A_0):\n",
    "    return A_0*np.exp(-np.square(x-mu_0)/(2.*np.square(sigma_0)))\n",
    "\n",
    "def bimodal(x,mu1,sigma1,A1,mu2,sigma2,A2):\n",
    "    return gauss(x,mu1,sigma1,A1)+gauss(x,mu2,sigma2,A2)\n",
    "\n",
    "def calc_pval_ks_scores(ana_sim=None, ana_data=dict(),do_plots=True):\n",
    "        \n",
    "    ks_pval_scores = dict()\n",
    "    # April-2017, change to Pval using ks-test\n",
    "    gen_info = tree2array( ana_sim.GetTree() , branches=['gen_SigmaX','gen_a1','gen_a2','gen_b1','gen_b2'] )\n",
    "    print 'gen: SigmaX ',gen_info[0]['gen_SigmaX'],'a1',gen_info[0]['gen_a1'],'a2',gen_info[0]['gen_a2'],'b1',gen_info[0]['gen_b1'],'b2',gen_info[0]['gen_b2']\n",
    "    df_sim = tree2array( ana_sim.GetTree() , branches=['pcmX','pcmY','pcmZ','Pmiss3Mag'] )\n",
    "    \n",
    "    for i_target,target in enumerate([targets[0]]): #{\n",
    "        if do_plots:  # and target == 'C12'\n",
    "            fig_t = plt.figure(figsize=(20,12))\n",
    "            fig_l = plt.figure(figsize=(30,6))\n",
    "        \n",
    "        ks_pval_scores_target_array , ks_pval_scores_transverse_target_array , ks_pval_scores_longitudinal_target_array = [] , [] , []\n",
    "        ks_pval_scores_target = dict()\n",
    "        df_data = tree2array( ana_data[target].GetTree() , branches=['pcmX','pcmY','pcmZ','Pmiss3Mag'] )\n",
    "        \n",
    "        for i_dir,direction in enumerate(['X','Y']): #{\n",
    "            x_data = df_data['pcm'+direction] # - np.mean(df_data['pcm'+direction])\n",
    "            x_sim = df_sim['pcm'+direction]\n",
    "            D_KS , Pval_KS = ks_2samp( x_data , x_sim )\n",
    "            ks_pval_scores_target['pcm'+direction] = Pval_KS\n",
    "            ks_pval_scores_target_array.append( Pval_KS )\n",
    "            ks_pval_scores_transverse_target_array.append( Pval_KS )\n",
    "            if do_plots:#{  and target == 'C12'\n",
    "                ax_t = fig_t.add_subplot( 1 , 2 , i_dir+1 )\n",
    "                h,bins,_=ax_t.hist(x_sim , bins=25,label='sim. $\\\\mu=%.3f, \\\\sigma=%.3f$'%(np.mean(x_sim),np.std(x_sim)),histtype='step',linewidth=3,normed=1)\n",
    "                h,bins,_=ax_t.hist(x_data , bins=bins,label=target+' data $\\\\mu=%.3f, \\\\sigma=%.3f$'%(np.mean(x_data),np.std(x_data)),histtype='step',linewidth=3,normed=1) \n",
    "                ax_t.legend(loc='best',fontsize=10)\n",
    "                ax_t.set_title('$p_{c.m.}^{%s}$, Pval=%f'%(direction,Pval_KS),y=1.01,fontsize=15)\n",
    "            #}                        \n",
    "        #}\n",
    "        ks_pval_scores_target['Pval_pcmX_pcmY'] = Fisher_combination_Pvals( [ks_pval_scores_target['pcmX'],ks_pval_scores_target['pcmY']] ) # with a cutoff on 1e-20\n",
    "\n",
    "        # in z direction - compare in 5 bins of p(miss)\n",
    "        for bin in range(len(PmissBins)):#{                \n",
    "            pmin , pmax = PmissBins[bin][0] , PmissBins[bin][1]\n",
    "            df_sim_reduced = df_sim[ (pmin < df_sim['Pmiss3Mag']) & (df_sim['Pmiss3Mag'] < pmax) ]\n",
    "            df_data_reduced = df_data[ (pmin < df_data['Pmiss3Mag']) & (df_data['Pmiss3Mag'] < pmax) ]\n",
    "            D_KS , Pval_KS = ks_2samp( df_sim_reduced['pcmZ'] , df_data_reduced['pcmZ'] )\n",
    "            if do_plots:#{  and target == 'C12'\n",
    "                ax_l = fig_l.add_subplot(1 , 5, bin+1 )\n",
    "                bins=np.linspace(-0.5,2,50)\n",
    "                hist , bin_edges = np.histogram (df_sim_reduced['pcmZ'] , bins=bins , normed=1)\n",
    "                x_bins=(bin_edges[1:]+bin_edges[:-1])/2 # for len(x)==len(y)\n",
    "                params,cov=curve_fit(gauss,x_bins,hist,(np.mean(df_sim_reduced['pcmZ']),np.std(df_sim_reduced['pcmZ']),len(df_sim_reduced)))\n",
    "                uncertaintes=np.sqrt(np.diag(cov))\n",
    "                h,bins,_=ax_l.hist(df_sim_reduced['pcmZ'] , bins=np.linspace(-0.5,2,50),histtype='step',linewidth=3,normed=1\n",
    "                                   ,label='sim. (%d)\\n m=%f,\\n s=%f'%(len(df_sim_reduced),np.mean(df_sim_reduced['pcmZ']),np.std(df_sim_reduced['pcmZ'])))\n",
    "\n",
    "                fit_sigma_std_ratio = params[1]/np.std(df_sim_reduced['pcmZ'])                \n",
    "                # print 'fit_sigma_std_ratio:' , fit_sigma_std_ratio\n",
    "                if fit_sigma_std_ratio<0.75: Pval_KS=0                    \n",
    "                plt.plot(x_bins,gauss(x_bins,*params),color='red',lw=3\n",
    "                         ,label='fit m=%g\\n+/-%g,\\n s=%g\\n+/-%g'%(params[0],uncertaintes[0],params[1],uncertaintes[1]))\n",
    "                ax_l.hist(df_data_reduced['pcmZ'] , bins=bins,label=target+' data',histtype='step',linewidth=3,normed=1) \n",
    "                ax_l.set_title('%.2f<$p_{miss}$<%.2f GeV/c, $p_{c.m.}^{z}$ Pval=%f'%(pmin , pmax,Pval_KS),y=1.01,fontsize=15)\n",
    "                ax_l.legend(fontsize=15)\n",
    "            #}\n",
    "            ks_pval_scores_target['pcmZ_bin%d'%bin] = Pval_KS\n",
    "            ks_pval_scores_target_array.append( Pval_KS )\n",
    "            # local longitudinal and transverse p-values\n",
    "            ks_pval_scores_longitudinal_target_array.append( Pval_KS )\n",
    "        #}        \n",
    "        ks_pval_scores_target['pcmZ'] = Fisher_combination_Pvals( ks_pval_scores_longitudinal_target_array ) # with a cutoff on 1e-20    \n",
    "        ks_pval_scores_target['Pval_pcmX_pcmY_pcmZ'] = FisherMethodPvals( [ks_pval_scores_target['pcmX'],ks_pval_scores_target['pcmY'],ks_pval_scores_target['pcmZ']] )\n",
    "\n",
    "        if do_plots and target == 'C12': plt.tight_layout()\n",
    "        ks_pval_scores_target['PvalTotal'] = Fisher_combination_Pvals( ks_pval_scores_target_array ) # with a cutoff on 1e-20\n",
    "        ks_pval_scores_target['PvalTotal_allPvals'] = FisherMethodPvals( ks_pval_scores_target_array )\n",
    "        ks_pval_scores[target] = ks_pval_scores_target\n",
    "    #}\n",
    "    print 'ks_pval_scores:'\n",
    "    for i in ks_pval_scores: \n",
    "        print i\n",
    "        for j in ks_pval_scores[i]:\n",
    "#             if 'pcmX_pcmY' in j or j=='pcmZ':\n",
    "            print j,ks_pval_scores[i][j]\n",
    "    return ks_pval_scores"
   ]
  },
  {
   "cell_type": "code",
   "execution_count": null,
   "metadata": {
    "collapsed": false,
    "scrolled": false
   },
   "outputs": [],
   "source": [
    "ana_sim = TAnalysisEG2( '/Users/erezcohen/Desktop/DataMining/Analysis_DATA/ppSRCcm/eg_rootfiles', 'run%d'%100006 )\n",
    "ks_pval_scores = calc_pval_ks_scores( ana_sim , ana_data )\n",
    "ana_sim.CloseFile()"
   ]
  },
  {
   "cell_type": "code",
   "execution_count": null,
   "metadata": {
    "collapsed": false,
    "scrolled": false
   },
   "outputs": [],
   "source": [
    "ana_sim = TAnalysisEG2( '/Users/erezcohen/Desktop/DataMining/Analysis_DATA/ppSRCcm/eg_rootfiles', 'run%d'%0 )\n",
    "ks_pval_scores = calc_pval_ks_scores( ana_sim , ana_data )\n",
    "ana_sim.CloseFile()"
   ]
  },
  {
   "cell_type": "code",
   "execution_count": null,
   "metadata": {
    "collapsed": false
   },
   "outputs": [],
   "source": [
    "# gen_SigmaX = 0.150412, gen_b1  = 0.570352, gen_b2  = 0.15\n",
    "ana_sim = TAnalysisEG2( '/Users/erezcohen/Desktop/DataMining/Analysis_DATA/ppSRCcm/eg_rootfiles', 'run%d'%100001 )\n",
    "ks_pval_scores = calc_pval_ks_scores( ana_sim , ana_data )\n",
    "ana_sim.CloseFile()"
   ]
  },
  {
   "cell_type": "code",
   "execution_count": null,
   "metadata": {
    "collapsed": false
   },
   "outputs": [],
   "source": [
    "# gen_SigmaX = 0.195473, a1=0.21, a2=0.41, b1=-0.13, b2=-0.03 \n",
    "ana_sim = TAnalysisEG2( '/Users/erezcohen/Desktop/DataMining/Analysis_DATA/ppSRCcm/eg_rootfiles', 'run%d'%100005 )\n",
    "ks_pval_scores = calc_pval_ks_scores( ana_sim , ana_data )\n",
    "ana_sim.CloseFile()"
   ]
  },
  {
   "cell_type": "code",
   "execution_count": null,
   "metadata": {
    "collapsed": false
   },
   "outputs": [],
   "source": [
    "# gen_SigmaX = 0.150412, gen_b1  = 0.570352, gen_b2  = 0.15\n",
    "ana_sim = TAnalysisEG2( '/Users/erezcohen/Desktop/DataMining/Analysis_DATA/ppSRCcm/eg_rootfiles', 'run%d'%100001 )\n",
    "ks_pval_scores = calc_pval_ks_scores( ana_sim , ana_data )\n",
    "ana_sim.CloseFile()"
   ]
  },
  {
   "cell_type": "code",
   "execution_count": null,
   "metadata": {
    "collapsed": false
   },
   "outputs": [],
   "source": [
    "# gen_b1  = -0.170352, gen_b2  = 0.172703\n",
    "ana_sim = TAnalysisEG2( '/Users/erezcohen/Desktop/DataMining/Analysis_DATA/ppSRCcm/eg_rootfiles', 'run%d'%100002 )\n",
    "ks_pval_scores = calc_pval_ks_scores( ana_sim , ana_data )\n",
    "ana_sim.CloseFile()"
   ]
  },
  {
   "cell_type": "code",
   "execution_count": null,
   "metadata": {
    "collapsed": false
   },
   "outputs": [],
   "source": [
    "# gen_SigmaX = 0.155, gen_b1  = 0.570352, gen_b2  = 0.2\n",
    "ana_sim = TAnalysisEG2( '/Users/erezcohen/Desktop/DataMining/Analysis_DATA/ppSRCcm/eg_rootfiles', 'run%d'%100003 )\n",
    "ks_pval_scores = calc_pval_ks_scores( ana_sim , ana_data )\n",
    "ana_sim.CloseFile()"
   ]
  },
  {
   "cell_type": "code",
   "execution_count": null,
   "metadata": {
    "collapsed": false
   },
   "outputs": [],
   "source": [
    "# gen_SigmaX = 0.169497, gen_a1=-0.019627 , gen_a2 = 0.251557, gen_b1 = -0.167962, gen_b2  = 0.035001\n",
    "ana_sim = TAnalysisEG2( '/Users/erezcohen/Desktop/DataMining/Analysis_DATA/ppSRCcm/eg_rootfiles', 'run%d'%100004 )\n",
    "ks_pval_scores = calc_pval_ks_scores( ana_sim , ana_data )\n",
    "ana_sim.CloseFile()"
   ]
  },
  {
   "cell_type": "code",
   "execution_count": null,
   "metadata": {
    "collapsed": false,
    "scrolled": false
   },
   "outputs": [],
   "source": [
    "# gen_b1  = 1.270352, gen_b2  = 0.372703\n",
    "ana_sim = TAnalysisEG2( path + '/eg_rootfiles', 'run%d'%100000 )\n",
    "ks_pval_scores = calc_pval_ks_scores( ana_sim , ana_data )\n",
    "ana_sim.CloseFile()"
   ]
  },
  {
   "cell_type": "code",
   "execution_count": null,
   "metadata": {
    "collapsed": false,
    "scrolled": false
   },
   "outputs": [],
   "source": [
    "# gen_b1  = 0.5270352, gen_b2  = 0.1372703\n",
    "ana_sim = TAnalysisEG2( path + '/eg_rootfiles', 'run%d'%100001 )\n",
    "ks_pval_scores = calc_pval_ks_scores( ana_sim , ana_data )\n",
    "ana_sim.CloseFile()"
   ]
  },
  {
   "cell_type": "markdown",
   "metadata": {},
   "source": [
    "# load data"
   ]
  },
  {
   "cell_type": "code",
   "execution_count": null,
   "metadata": {
    "collapsed": false
   },
   "outputs": [],
   "source": [
    "hyperparameters = dict({'start_run':2,\n",
    "                           'Nruns':1,\n",
    "                           'range_sigma_t':(0.1  , 0.3),    # 0.160\n",
    "                           'range_a1':(-0.4 , 1.0),         # 0.143\n",
    "                           'range_a2':(0.0  , 0.5),         # 0.158\n",
    "                           'range_b1':(-0.2 , 1.4),         # 0.569\n",
    "                           'range_b2':(-0.1 , 0.6),         # 0.159\n",
    "                           'NRand':20,\n",
    "                           'Ntimes':1,                     # wanted number of events in each Pmiss bin\n",
    "                           'NgenMax':5000                 # maximal number of attempts\n",
    "                        })"
   ]
  },
  {
   "cell_type": "code",
   "execution_count": null,
   "metadata": {
    "collapsed": false
   },
   "outputs": [],
   "source": [
    "start_run , Nruns = hyperparameters['start_run'], hyperparameters['Nruns']\n",
    "NRand = hyperparameters['NRand']\n",
    "path = \"/Users/erezcohen/Desktop/DataMining//Analysis_DATA/ppSRCcm\""
   ]
  },
  {
   "cell_type": "code",
   "execution_count": null,
   "metadata": {
    "collapsed": false
   },
   "outputs": [],
   "source": [
    "pAcceptacneFile = ROOT.TFile( \"/Users/erezcohen/Desktop/DataMining/GSIM_DATA/PrecoilAcceptance.root\" )\n",
    "h = pAcceptacneFile.Get(\"hRescaled\")\n",
    "gen_events = GenerateEvents( path , 0 , 0 )\n",
    "gen_events.Set_protonAcceptacne( h )"
   ]
  },
  {
   "cell_type": "code",
   "execution_count": null,
   "metadata": {
    "collapsed": false
   },
   "outputs": [],
   "source": [
    "gen_events.SetInputChain_eep()"
   ]
  },
  {
   "cell_type": "code",
   "execution_count": null,
   "metadata": {
    "collapsed": false
   },
   "outputs": [],
   "source": [
    "gen_events.SetNRand( NRand )\n",
    "gen_events.Use_protonAcceptacne( True )\n",
    "gen_events.SetDo_PrecFiducial ( True )\n",
    "gen_events.SetDo_PrecMinCut ( True )"
   ]
  },
  {
   "cell_type": "code",
   "execution_count": null,
   "metadata": {
    "collapsed": false
   },
   "outputs": [],
   "source": [
    "Ntimes = hyperparameters['Ntimes']\n",
    "gen_events.SetNeventsPerPmissBin( 71*Ntimes , 143*Ntimes , 132*Ntimes , 96*Ntimes , 56*Ntimes )\n",
    "gen_events.SetNgenMax( hyperparameters['NgenMax'] )\n",
    "gen_events.MapInputEntriesInPmissBins()"
   ]
  },
  {
   "cell_type": "code",
   "execution_count": null,
   "metadata": {
    "collapsed": false
   },
   "outputs": [],
   "source": [
    "run = 100000\n",
    "gen_MeanX  = gen_MeanY = 0\n",
    "# gen_SigmaX = gen_SigmaY = np.random.uniform( np.min(hyperparameters['range_sigma_t']),np.max(hyperparameters['range_sigma_t']) )\n",
    "gen_SigmaX = gen_SigmaY = 0.16\n",
    "gen_a1  = np.random.uniform( np.min(hyperparameters['range_a1']),np.max(hyperparameters['range_a1']) ) # 0.143#\n",
    "gen_a2  = np.random.uniform( np.min(hyperparameters['range_a2']),np.max(hyperparameters['range_a2']) ) # 0.158#\n",
    "gen_b1  = np.random.uniform( np.min(hyperparameters['range_b1']),np.max(hyperparameters['range_b1']) ) # 0.569#\n",
    "gen_b2  = 0.15#np.random.uniform( np.min(hyperparameters['range_b2']),np.max(hyperparameters['range_b2']) ) # 0.159#\n",
    "print 'run',run,'gen_SigmaX',gen_SigmaX,'gen_a1',gen_a1,'gen_a2',gen_a2,'gen_b1',gen_b1,'gen_b2',gen_b2"
   ]
  },
  {
   "cell_type": "code",
   "execution_count": null,
   "metadata": {
    "collapsed": false
   },
   "outputs": [],
   "source": [
    "if a1a2_create_negative_sigma_z( gen_a1 , gen_a2 ) is False:\n",
    "                \n",
    "    gen_events.Set_eep_Parameters( gen_MeanX, gen_SigmaX, gen_MeanY, gen_SigmaY, gen_b1, gen_b2, gen_a1, gen_a2 )\n",
    "    gen_events.InitRun()\n",
    "    gen_events.DoGenerate_eepp_from_eep( run )\n",
    "    \n",
    "else: print 'a1 (%.2f) and a2(%.2f) create together a negative sigma_z, killing run %d'%( gen_a1 , gen_a2 , run )"
   ]
  },
  {
   "cell_type": "code",
   "execution_count": null,
   "metadata": {
    "collapsed": false,
    "scrolled": false
   },
   "outputs": [],
   "source": [
    "ana_sim = TAnalysisEG2( path + '/eg_rootfiles', 'run%d'%run )\n",
    "ks_pval_scores = calc_pval_ks_scores( ana_sim , ana_data )\n",
    "ana_sim.CloseFile()"
   ]
  },
  {
   "cell_type": "code",
   "execution_count": null,
   "metadata": {
    "collapsed": false,
    "scrolled": false
   },
   "outputs": [],
   "source": [
    "ana_sim = TAnalysisEG2( path + '/eg_rootfiles', 'run%d'%run )\n",
    "ks_pval_scores = calc_pval_ks_scores( ana_sim , ana_data )\n",
    "ana_sim.CloseFile()"
   ]
  },
  {
   "cell_type": "code",
   "execution_count": null,
   "metadata": {
    "collapsed": true
   },
   "outputs": [],
   "source": []
  },
  {
   "cell_type": "code",
   "execution_count": null,
   "metadata": {
    "collapsed": true
   },
   "outputs": [],
   "source": []
  },
  {
   "cell_type": "code",
   "execution_count": null,
   "metadata": {
    "collapsed": true
   },
   "outputs": [],
   "source": []
  },
  {
   "cell_type": "code",
   "execution_count": null,
   "metadata": {
    "collapsed": true
   },
   "outputs": [],
   "source": []
  },
  {
   "cell_type": "code",
   "execution_count": null,
   "metadata": {
    "collapsed": false
   },
   "outputs": [],
   "source": [
    "ana_sim = TAnalysisEG2( path + '/eg_rootfiles', 'run%d'%run )\n",
    "ks_pval_scores = calc_pval_ks_scores( ana_sim , ana_data )\n",
    "ana_sim.CloseFile()"
   ]
  },
  {
   "cell_type": "code",
   "execution_count": null,
   "metadata": {
    "collapsed": false
   },
   "outputs": [],
   "source": [
    "ana_sim = TAnalysisEG2( path + '/eg_rootfiles', 'run%d'%run )\n",
    "ks_pval_scores = calc_pval_ks_scores( ana_sim , ana_data )\n",
    "ana_sim.CloseFile()"
   ]
  },
  {
   "cell_type": "code",
   "execution_count": null,
   "metadata": {
    "collapsed": true
   },
   "outputs": [],
   "source": []
  },
  {
   "cell_type": "code",
   "execution_count": null,
   "metadata": {
    "collapsed": true
   },
   "outputs": [],
   "source": []
  }
 ],
 "metadata": {
  "kernelspec": {
   "display_name": "Python 2",
   "language": "python",
   "name": "python2"
  },
  "language_info": {
   "codemirror_mode": {
    "name": "ipython",
    "version": 2
   },
   "file_extension": ".py",
   "mimetype": "text/x-python",
   "name": "python",
   "nbconvert_exporter": "python",
   "pygments_lexer": "ipython2",
   "version": "2.7.11"
  }
 },
 "nbformat": 4,
 "nbformat_minor": 0
}
